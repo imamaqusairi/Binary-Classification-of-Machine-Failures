{
 "cells": [
  {
   "cell_type": "code",
   "execution_count": 1,
   "id": "a0ed8ea5",
   "metadata": {
    "_kg_hide-input": true,
    "_kg_hide-output": true,
    "execution": {
     "iopub.execute_input": "2023-06-26T18:07:25.624079Z",
     "iopub.status.busy": "2023-06-26T18:07:25.623194Z",
     "iopub.status.idle": "2023-06-26T18:07:30.835895Z",
     "shell.execute_reply": "2023-06-26T18:07:30.834301Z"
    },
    "papermill": {
     "duration": 5.233976,
     "end_time": "2023-06-26T18:07:30.838972",
     "exception": false,
     "start_time": "2023-06-26T18:07:25.604996",
     "status": "completed"
    },
    "tags": []
   },
   "outputs": [
    {
     "name": "stdout",
     "output_type": "stream",
     "text": [
      "../input/machine-failure-predictions:\r\n",
      "'machine failure.csv'\r\n",
      "\r\n",
      "../input/playground-series-s3e17:\r\n",
      "sample_submission.csv  test.csv  train.csv\r\n",
      "\r\n",
      "../input/ps321a:\r\n",
      "'submission (3).csv'\r\n",
      "\r\n",
      "../input/ps3e17s97778:\r\n",
      "submission.csv\r\n",
      "\r\n",
      "../input/ps3e17s97788:\r\n",
      "submission.csv\r\n"
     ]
    }
   ],
   "source": [
    "import warnings \n",
    "warnings.filterwarnings('ignore')\n",
    "\n",
    "import os\n",
    "import gc\n",
    "import glob\n",
    "import random\n",
    "import numpy as np \n",
    "import pandas as pd\n",
    "import seaborn as sns\n",
    "from tqdm import tqdm\n",
    "from scipy import stats\n",
    "from pathlib import Path\n",
    "from catboost import Pool,CatBoostClassifier\n",
    "from sklearn.metrics import roc_auc_score as AUC\n",
    "\n",
    "import matplotlib.pyplot as plt\n",
    "import plotly.figure_factory as ff\n",
    "import plotly.express as px\n",
    "%matplotlib inline\n",
    "!ls ../input/*\n",
    "\n",
    "pd.set_option('display.max_columns', 500)"
   ]
  },
  {
   "cell_type": "code",
   "execution_count": 2,
   "id": "d562f561",
   "metadata": {
    "execution": {
     "iopub.execute_input": "2023-06-26T18:07:30.874525Z",
     "iopub.status.busy": "2023-06-26T18:07:30.874046Z",
     "iopub.status.idle": "2023-06-26T18:07:31.464862Z",
     "shell.execute_reply": "2023-06-26T18:07:31.463754Z"
    },
    "papermill": {
     "duration": 0.611846,
     "end_time": "2023-06-26T18:07:31.467482",
     "exception": false,
     "start_time": "2023-06-26T18:07:30.855636",
     "status": "completed"
    },
    "tags": []
   },
   "outputs": [
    {
     "data": {
      "text/plain": [
       "(136429, 13)"
      ]
     },
     "metadata": {},
     "output_type": "display_data"
    },
    {
     "data": {
      "text/plain": [
       "(90954, 12)"
      ]
     },
     "metadata": {},
     "output_type": "display_data"
    },
    {
     "data": {
      "text/plain": [
       "(90954, 2)"
      ]
     },
     "metadata": {},
     "output_type": "display_data"
    }
   ],
   "source": [
    "df_train  = pd.read_csv('/kaggle/input/playground-series-s3e17/train.csv', index_col='id')\n",
    "df_test   = pd.read_csv('/kaggle/input/playground-series-s3e17/test.csv', index_col='id')\n",
    "df_sample = pd.read_csv('/kaggle/input/playground-series-s3e17/sample_submission.csv')\n",
    "\n",
    "# display(df_train , df_test, df_sample)\n",
    "display(df_train.shape , df_test.shape, df_sample.shape)"
   ]
  },
  {
   "cell_type": "markdown",
   "id": "80b59540",
   "metadata": {
    "papermill": {
     "duration": 0.016135,
     "end_time": "2023-06-26T18:07:31.499846",
     "exception": false,
     "start_time": "2023-06-26T18:07:31.483711",
     "status": "completed"
    },
    "tags": []
   },
   "source": [
    "### <span style=\"color:green;\">Feature Engineering</span>"
   ]
  },
  {
   "cell_type": "code",
   "execution_count": 3,
   "id": "2048103a",
   "metadata": {
    "execution": {
     "iopub.execute_input": "2023-06-26T18:07:31.534158Z",
     "iopub.status.busy": "2023-06-26T18:07:31.533763Z",
     "iopub.status.idle": "2023-06-26T18:07:31.575905Z",
     "shell.execute_reply": "2023-06-26T18:07:31.574880Z"
    },
    "papermill": {
     "duration": 0.062242,
     "end_time": "2023-06-26T18:07:31.578555",
     "exception": false,
     "start_time": "2023-06-26T18:07:31.516313",
     "status": "completed"
    },
    "tags": []
   },
   "outputs": [],
   "source": [
    "df_train.columns = df_train.columns.str.replace('[\\[\\]]', '', regex=True)\n",
    "df_train[\"Power\"] = df_train[\"Torque Nm\"] * df_train[\"Rotational speed rpm\"]\n",
    "df_train[\"temp_ratio\"] = df_train[\"Process temperature K\"] / df_train[\"Air temperature K\"]\n",
    "df_train[\"Process temperature C\"] = df_train[\"Process temperature K\"] - 273.15\n",
    "df_train[\"Air temperature C\"] = df_train[\"Air temperature K\"] - 273.15\n",
    "df_train[\"temp_C_ratio\"] = df_train[\"Process temperature C\"] / df_train[\"Air temperature C\"]\n",
    "df_train[\"Failure Sum\"] = (df_train[\"TWF\"] +\n",
    "                            df_train[\"HDF\"] +\n",
    "                            df_train[\"PWF\"] +\n",
    "                            df_train[\"OSF\"] +\n",
    "                            df_train[\"RNF\"])\n",
    "df_train[\"tool_wear_speed\"] = df_train[\"Tool wear min\"] * df_train[\"Rotational speed rpm\"]\n",
    "df_train[\"torque wear ratio\"] = df_train[\"Torque Nm\"] / (df_train[\"Tool wear min\"] + 0.0001)\n",
    "df_train[\"torque times wear\"] = df_train[\"Torque Nm\"] * df_train[\"Tool wear min\"]\n",
    "\n",
    "\n",
    "df_test.columns = df_test.columns.str.replace('[\\[\\]]', '', regex=True)\n",
    "df_test[\"Power\"] = df_test[\"Torque Nm\"] * df_test[\"Rotational speed rpm\"]\n",
    "df_test[\"temp_ratio\"] = df_test[\"Process temperature K\"] / df_test[\"Air temperature K\"]\n",
    "df_test[\"Process temperature C\"] = df_test[\"Process temperature K\"] - 273.15\n",
    "df_test[\"Air temperature C\"] = df_test[\"Air temperature K\"] - 273.15\n",
    "df_test[\"temp_C_ratio\"] = df_test[\"Process temperature C\"] / df_test[\"Air temperature C\"]\n",
    "df_test[\"Failure Sum\"] = (df_test[\"TWF\"] +\n",
    "                            df_test[\"HDF\"] +\n",
    "                            df_test[\"PWF\"] +\n",
    "                            df_test[\"OSF\"] +\n",
    "                            df_test[\"RNF\"])\n",
    "df_test[\"tool_wear_speed\"] = df_test[\"Tool wear min\"] * df_test[\"Rotational speed rpm\"]\n",
    "df_test[\"torque wear ratio\"] = df_test[\"Torque Nm\"] / (df_test[\"Tool wear min\"] + 0.0001)\n",
    "df_test[\"torque times wear\"] = df_test[\"Torque Nm\"] * df_test[\"Tool wear min\"]\n"
   ]
  },
  {
   "cell_type": "code",
   "execution_count": 4,
   "id": "68ef11e3",
   "metadata": {
    "execution": {
     "iopub.execute_input": "2023-06-26T18:07:31.612713Z",
     "iopub.status.busy": "2023-06-26T18:07:31.612196Z",
     "iopub.status.idle": "2023-06-26T18:07:31.621065Z",
     "shell.execute_reply": "2023-06-26T18:07:31.619932Z"
    },
    "papermill": {
     "duration": 0.028668,
     "end_time": "2023-06-26T18:07:31.623254",
     "exception": false,
     "start_time": "2023-06-26T18:07:31.594586",
     "status": "completed"
    },
    "tags": []
   },
   "outputs": [
    {
     "data": {
      "text/plain": [
       "['Product ID',\n",
       " 'Type',\n",
       " 'Air temperature K',\n",
       " 'Process temperature K',\n",
       " 'Rotational speed rpm',\n",
       " 'Torque Nm',\n",
       " 'Tool wear min',\n",
       " 'Machine failure',\n",
       " 'TWF',\n",
       " 'HDF',\n",
       " 'PWF',\n",
       " 'OSF',\n",
       " 'RNF',\n",
       " 'Power',\n",
       " 'temp_ratio',\n",
       " 'Process temperature C',\n",
       " 'Air temperature C',\n",
       " 'temp_C_ratio',\n",
       " 'Failure Sum',\n",
       " 'tool_wear_speed',\n",
       " 'torque wear ratio',\n",
       " 'torque times wear']"
      ]
     },
     "metadata": {},
     "output_type": "display_data"
    }
   ],
   "source": [
    "display(df_train.columns.tolist())"
   ]
  },
  {
   "cell_type": "code",
   "execution_count": 5,
   "id": "3eada963",
   "metadata": {
    "execution": {
     "iopub.execute_input": "2023-06-26T18:07:31.657479Z",
     "iopub.status.busy": "2023-06-26T18:07:31.657070Z",
     "iopub.status.idle": "2023-06-26T18:07:31.718314Z",
     "shell.execute_reply": "2023-06-26T18:07:31.716911Z"
    },
    "papermill": {
     "duration": 0.081749,
     "end_time": "2023-06-26T18:07:31.721131",
     "exception": false,
     "start_time": "2023-06-26T18:07:31.639382",
     "status": "completed"
    },
    "tags": []
   },
   "outputs": [
    {
     "data": {
      "text/html": [
       "<div>\n",
       "<style scoped>\n",
       "    .dataframe tbody tr th:only-of-type {\n",
       "        vertical-align: middle;\n",
       "    }\n",
       "\n",
       "    .dataframe tbody tr th {\n",
       "        vertical-align: top;\n",
       "    }\n",
       "\n",
       "    .dataframe thead th {\n",
       "        text-align: right;\n",
       "    }\n",
       "</style>\n",
       "<table border=\"1\" class=\"dataframe\">\n",
       "  <thead>\n",
       "    <tr style=\"text-align: right;\">\n",
       "      <th></th>\n",
       "      <th>Number</th>\n",
       "      <th>Percent</th>\n",
       "    </tr>\n",
       "  </thead>\n",
       "  <tbody>\n",
       "    <tr>\n",
       "      <th>0</th>\n",
       "      <td>9661</td>\n",
       "      <td>0.9661</td>\n",
       "    </tr>\n",
       "    <tr>\n",
       "      <th>1</th>\n",
       "      <td>339</td>\n",
       "      <td>0.0339</td>\n",
       "    </tr>\n",
       "  </tbody>\n",
       "</table>\n",
       "</div>"
      ],
      "text/plain": [
       "   Number  Percent\n",
       "0    9661   0.9661\n",
       "1     339   0.0339"
      ]
     },
     "execution_count": 5,
     "metadata": {},
     "output_type": "execute_result"
    }
   ],
   "source": [
    "# Original data\n",
    "df_org = pd.read_csv('/kaggle/input/machine-failure-predictions/machine failure.csv')\n",
    "\n",
    "pd.DataFrame(data= {'Number': df_org['Machine failure'].value_counts(), \n",
    "                    'Percent': df_org['Machine failure'].value_counts(normalize=True)})"
   ]
  },
  {
   "cell_type": "code",
   "execution_count": 6,
   "id": "75c77f49",
   "metadata": {
    "execution": {
     "iopub.execute_input": "2023-06-26T18:07:31.756899Z",
     "iopub.status.busy": "2023-06-26T18:07:31.756473Z",
     "iopub.status.idle": "2023-06-26T18:07:31.869756Z",
     "shell.execute_reply": "2023-06-26T18:07:31.868520Z"
    },
    "papermill": {
     "duration": 0.134526,
     "end_time": "2023-06-26T18:07:31.872550",
     "exception": false,
     "start_time": "2023-06-26T18:07:31.738024",
     "status": "completed"
    },
    "tags": []
   },
   "outputs": [
    {
     "name": "stdout",
     "output_type": "stream",
     "text": [
      "<class 'pandas.core.frame.DataFrame'>\n",
      "Int64Index: 136429 entries, 0 to 136428\n",
      "Data columns (total 22 columns):\n",
      " #   Column                 Non-Null Count   Dtype  \n",
      "---  ------                 --------------   -----  \n",
      " 0   Product ID             136429 non-null  object \n",
      " 1   Type                   136429 non-null  object \n",
      " 2   Air temperature K      136429 non-null  float64\n",
      " 3   Process temperature K  136429 non-null  float64\n",
      " 4   Rotational speed rpm   136429 non-null  int64  \n",
      " 5   Torque Nm              136429 non-null  float64\n",
      " 6   Tool wear min          136429 non-null  int64  \n",
      " 7   Machine failure        136429 non-null  int64  \n",
      " 8   TWF                    136429 non-null  int64  \n",
      " 9   HDF                    136429 non-null  int64  \n",
      " 10  PWF                    136429 non-null  int64  \n",
      " 11  OSF                    136429 non-null  int64  \n",
      " 12  RNF                    136429 non-null  int64  \n",
      " 13  Power                  136429 non-null  float64\n",
      " 14  temp_ratio             136429 non-null  float64\n",
      " 15  Process temperature C  136429 non-null  float64\n",
      " 16  Air temperature C      136429 non-null  float64\n",
      " 17  temp_C_ratio           136429 non-null  float64\n",
      " 18  Failure Sum            136429 non-null  int64  \n",
      " 19  tool_wear_speed        136429 non-null  int64  \n",
      " 20  torque wear ratio      136429 non-null  float64\n",
      " 21  torque times wear      136429 non-null  float64\n",
      "dtypes: float64(10), int64(10), object(2)\n",
      "memory usage: 23.9+ MB\n"
     ]
    },
    {
     "data": {
      "text/plain": [
       "None"
      ]
     },
     "metadata": {},
     "output_type": "display_data"
    }
   ],
   "source": [
    "display(df_train.info())\n",
    "# df_train.describe().transpose()"
   ]
  },
  {
   "cell_type": "code",
   "execution_count": 7,
   "id": "6687b6ed",
   "metadata": {
    "execution": {
     "iopub.execute_input": "2023-06-26T18:07:31.909073Z",
     "iopub.status.busy": "2023-06-26T18:07:31.908266Z",
     "iopub.status.idle": "2023-06-26T18:07:31.984359Z",
     "shell.execute_reply": "2023-06-26T18:07:31.983151Z"
    },
    "papermill": {
     "duration": 0.097603,
     "end_time": "2023-06-26T18:07:31.987352",
     "exception": false,
     "start_time": "2023-06-26T18:07:31.889749",
     "status": "completed"
    },
    "tags": []
   },
   "outputs": [
    {
     "data": {
      "text/plain": [
       "Product ID                9976\n",
       "Type                         3\n",
       "Air temperature K           95\n",
       "Process temperature K       81\n",
       "Rotational speed rpm       952\n",
       "Torque Nm                  611\n",
       "Tool wear min              246\n",
       "Machine failure              2\n",
       "TWF                          2\n",
       "HDF                          2\n",
       "PWF                          2\n",
       "OSF                          2\n",
       "RNF                          2\n",
       "Power                    48528\n",
       "temp_ratio                2165\n",
       "Process temperature C       81\n",
       "Air temperature C           95\n",
       "temp_C_ratio              2170\n",
       "Failure Sum                  4\n",
       "tool_wear_speed          52844\n",
       "torque wear ratio        55448\n",
       "torque times wear        37859\n",
       "dtype: int64"
      ]
     },
     "metadata": {},
     "output_type": "display_data"
    }
   ],
   "source": [
    "display(df_train.nunique())"
   ]
  },
  {
   "cell_type": "markdown",
   "id": "447f54be",
   "metadata": {
    "papermill": {
     "duration": 0.017307,
     "end_time": "2023-06-26T18:07:32.022821",
     "exception": false,
     "start_time": "2023-06-26T18:07:32.005514",
     "status": "completed"
    },
    "tags": []
   },
   "source": [
    "### <span style=\"color:green;\">Check Null Values</span>"
   ]
  },
  {
   "cell_type": "code",
   "execution_count": 8,
   "id": "2a3cfed0",
   "metadata": {
    "execution": {
     "iopub.execute_input": "2023-06-26T18:07:32.058397Z",
     "iopub.status.busy": "2023-06-26T18:07:32.057500Z",
     "iopub.status.idle": "2023-06-26T18:07:32.221073Z",
     "shell.execute_reply": "2023-06-26T18:07:32.219434Z"
    },
    "papermill": {
     "duration": 0.184084,
     "end_time": "2023-06-26T18:07:32.223590",
     "exception": false,
     "start_time": "2023-06-26T18:07:32.039506",
     "status": "completed"
    },
    "tags": []
   },
   "outputs": [
    {
     "name": "stdout",
     "output_type": "stream",
     "text": [
      ":::::::::::::::::::::::::\n",
      "Missing Value df_train:\n",
      "Series([], dtype: int64)\n",
      ":::::::::::::::::::::::::\n",
      "Missing Value df_test:\n",
      "Series([], dtype: int64)\n",
      ":::::::::::::::::::::::::\n"
     ]
    }
   ],
   "source": [
    "MV1 = df_train.isnull().sum()\n",
    "MV2 = df_test.isnull().sum()\n",
    "\n",
    "print(':' * 25)\n",
    "print(f'Missing Value df_train:\\n{MV1[MV1 > 0]}')\n",
    "print(':' * 25)\n",
    "print(f'Missing Value df_test:\\n{MV2[MV2 > 0]}')\n",
    "print(':' * 25)"
   ]
  },
  {
   "cell_type": "markdown",
   "id": "7a8a96f6",
   "metadata": {
    "papermill": {
     "duration": 0.016621,
     "end_time": "2023-06-26T18:07:32.257146",
     "exception": false,
     "start_time": "2023-06-26T18:07:32.240525",
     "status": "completed"
    },
    "tags": []
   },
   "source": [
    "## <span style=\"color:green;\">Train | Test | Target</span>\n",
    "#### Let's see how unbalanced the dataset is:"
   ]
  },
  {
   "cell_type": "code",
   "execution_count": 9,
   "id": "3ffe76d8",
   "metadata": {
    "execution": {
     "iopub.execute_input": "2023-06-26T18:07:32.293487Z",
     "iopub.status.busy": "2023-06-26T18:07:32.292418Z",
     "iopub.status.idle": "2023-06-26T18:07:32.899915Z",
     "shell.execute_reply": "2023-06-26T18:07:32.898726Z"
    },
    "papermill": {
     "duration": 0.628397,
     "end_time": "2023-06-26T18:07:32.902440",
     "exception": false,
     "start_time": "2023-06-26T18:07:32.274043",
     "status": "completed"
    },
    "tags": []
   },
   "outputs": [
    {
     "data": {
      "text/html": [
       "<div>\n",
       "<style scoped>\n",
       "    .dataframe tbody tr th:only-of-type {\n",
       "        vertical-align: middle;\n",
       "    }\n",
       "\n",
       "    .dataframe tbody tr th {\n",
       "        vertical-align: top;\n",
       "    }\n",
       "\n",
       "    .dataframe thead th {\n",
       "        text-align: right;\n",
       "    }\n",
       "</style>\n",
       "<table border=\"1\" class=\"dataframe\">\n",
       "  <thead>\n",
       "    <tr style=\"text-align: right;\">\n",
       "      <th></th>\n",
       "      <th>Number</th>\n",
       "      <th>Percent</th>\n",
       "    </tr>\n",
       "  </thead>\n",
       "  <tbody>\n",
       "    <tr>\n",
       "      <th>0</th>\n",
       "      <td>134281</td>\n",
       "      <td>0.984256</td>\n",
       "    </tr>\n",
       "    <tr>\n",
       "      <th>1</th>\n",
       "      <td>2148</td>\n",
       "      <td>0.015744</td>\n",
       "    </tr>\n",
       "  </tbody>\n",
       "</table>\n",
       "</div>"
      ],
      "text/plain": [
       "   Number   Percent\n",
       "0  134281  0.984256\n",
       "1    2148  0.015744"
      ]
     },
     "execution_count": 9,
     "metadata": {},
     "output_type": "execute_result"
    },
    {
     "data": {
      "image/png": "[encoded data removed]",
      "text/plain": [
       "<Figure size 1200x100 with 1 Axes>"
      ]
     },
     "metadata": {},
     "output_type": "display_data"
    }
   ],
   "source": [
    "train  = df_train.copy()\n",
    "test   = df_test.copy()\n",
    "target = train.pop('Machine failure')\n",
    "\n",
    "target.value_counts().plot(kind='barh', figsize=(12,1), title='Target Count', color=['darkcyan','red'])\n",
    "plt.gca().set_facecolor('lightgray')\n",
    "\n",
    "pd.DataFrame(data= {'Number': target.value_counts(), 'Percent': target.value_counts(normalize=True)})"
   ]
  },
  {
   "cell_type": "markdown",
   "id": "24994dcd",
   "metadata": {
    "papermill": {
     "duration": 0.017569,
     "end_time": "2023-06-26T18:07:32.937308",
     "exception": false,
     "start_time": "2023-06-26T18:07:32.919739",
     "status": "completed"
    },
    "tags": []
   },
   "source": [
    "## <span style=\"color:darkred;\">Features</span>"
   ]
  },
  {
   "cell_type": "code",
   "execution_count": 10,
   "id": "b3658415",
   "metadata": {
    "execution": {
     "iopub.execute_input": "2023-06-26T18:07:32.974449Z",
     "iopub.status.busy": "2023-06-26T18:07:32.973302Z",
     "iopub.status.idle": "2023-06-26T18:07:32.982910Z",
     "shell.execute_reply": "2023-06-26T18:07:32.981313Z"
    },
    "papermill": {
     "duration": 0.031249,
     "end_time": "2023-06-26T18:07:32.985783",
     "exception": false,
     "start_time": "2023-06-26T18:07:32.954534",
     "status": "completed"
    },
    "tags": []
   },
   "outputs": [
    {
     "name": "stdout",
     "output_type": "stream",
     "text": [
      "::::::::::::::::::::::::::::::::::::::::\n",
      "The number of Categorical_features: 2\n",
      "The number of Binary_features: 5\n",
      "The number of Numerical_features: 14\n",
      "::::::::::::::::::::::::::::::::::::::::\n",
      "The total number of features: 21\n",
      "::::::::::::::::::::::::::::::::::::::::\n"
     ]
    }
   ],
   "source": [
    "features = train.columns.tolist()\n",
    "\n",
    "# Categorical features\n",
    "cat_features = ['Product ID', 'Type']\n",
    "\n",
    "# Binary features\n",
    "bin_features = ['TWF', 'HDF', 'PWF', 'OSF', 'RNF']\n",
    "\n",
    "# Numerical features\n",
    "num_features = [f for f in features if f not in (cat_features + bin_features)]\n",
    "              \n",
    "print(':' * 40)\n",
    "print('The number of Categorical_features:', len(cat_features)) \n",
    "print('The number of Binary_features:', len(bin_features))  \n",
    "print('The number of Numerical_features:', len(num_features)) \n",
    "print(':' * 40)\n",
    "print('The total number of features:', len(features))\n",
    "print(':' * 40)"
   ]
  },
  {
   "cell_type": "markdown",
   "id": "b42c522b",
   "metadata": {
    "papermill": {
     "duration": 0.017284,
     "end_time": "2023-06-26T18:07:33.020484",
     "exception": false,
     "start_time": "2023-06-26T18:07:33.003200",
     "status": "completed"
    },
    "tags": []
   },
   "source": [
    "## <span style=\"color:green;\">Categorical features</span>"
   ]
  },
  {
   "cell_type": "code",
   "execution_count": 11,
   "id": "560aa969",
   "metadata": {
    "execution": {
     "iopub.execute_input": "2023-06-26T18:07:33.058218Z",
     "iopub.status.busy": "2023-06-26T18:07:33.057172Z",
     "iopub.status.idle": "2023-06-26T18:07:33.175065Z",
     "shell.execute_reply": "2023-06-26T18:07:33.173776Z"
    },
    "papermill": {
     "duration": 0.139627,
     "end_time": "2023-06-26T18:07:33.177608",
     "exception": false,
     "start_time": "2023-06-26T18:07:33.037981",
     "status": "completed"
    },
    "tags": []
   },
   "outputs": [
    {
     "name": "stdout",
     "output_type": "stream",
     "text": [
      "\t Product ID\n"
     ]
    },
    {
     "data": {
      "text/html": [
       "<div>\n",
       "<style scoped>\n",
       "    .dataframe tbody tr th:only-of-type {\n",
       "        vertical-align: middle;\n",
       "    }\n",
       "\n",
       "    .dataframe tbody tr th {\n",
       "        vertical-align: top;\n",
       "    }\n",
       "\n",
       "    .dataframe thead th {\n",
       "        text-align: right;\n",
       "    }\n",
       "</style>\n",
       "<table border=\"1\" class=\"dataframe\">\n",
       "  <thead>\n",
       "    <tr style=\"text-align: right;\">\n",
       "      <th></th>\n",
       "      <th>Number</th>\n",
       "      <th>Percent</th>\n",
       "    </tr>\n",
       "  </thead>\n",
       "  <tbody>\n",
       "    <tr>\n",
       "      <th>L53257</th>\n",
       "      <td>139</td>\n",
       "      <td>0.001019</td>\n",
       "    </tr>\n",
       "    <tr>\n",
       "      <th>L49056</th>\n",
       "      <td>131</td>\n",
       "      <td>0.000960</td>\n",
       "    </tr>\n",
       "    <tr>\n",
       "      <th>L53271</th>\n",
       "      <td>131</td>\n",
       "      <td>0.000960</td>\n",
       "    </tr>\n",
       "    <tr>\n",
       "      <th>L54275</th>\n",
       "      <td>120</td>\n",
       "      <td>0.000880</td>\n",
       "    </tr>\n",
       "    <tr>\n",
       "      <th>L48892</th>\n",
       "      <td>120</td>\n",
       "      <td>0.000880</td>\n",
       "    </tr>\n",
       "    <tr>\n",
       "      <th>...</th>\n",
       "      <td>...</td>\n",
       "      <td>...</td>\n",
       "    </tr>\n",
       "    <tr>\n",
       "      <th>M24614</th>\n",
       "      <td>1</td>\n",
       "      <td>0.000007</td>\n",
       "    </tr>\n",
       "    <tr>\n",
       "      <th>H39399</th>\n",
       "      <td>1</td>\n",
       "      <td>0.000007</td>\n",
       "    </tr>\n",
       "    <tr>\n",
       "      <th>M15853</th>\n",
       "      <td>1</td>\n",
       "      <td>0.000007</td>\n",
       "    </tr>\n",
       "    <tr>\n",
       "      <th>H32637</th>\n",
       "      <td>1</td>\n",
       "      <td>0.000007</td>\n",
       "    </tr>\n",
       "    <tr>\n",
       "      <th>L48036</th>\n",
       "      <td>1</td>\n",
       "      <td>0.000007</td>\n",
       "    </tr>\n",
       "  </tbody>\n",
       "</table>\n",
       "<p>9976 rows × 2 columns</p>\n",
       "</div>"
      ],
      "text/plain": [
       "        Number   Percent\n",
       "L53257     139  0.001019\n",
       "L49056     131  0.000960\n",
       "L53271     131  0.000960\n",
       "L54275     120  0.000880\n",
       "L48892     120  0.000880\n",
       "...        ...       ...\n",
       "M24614       1  0.000007\n",
       "H39399       1  0.000007\n",
       "M15853       1  0.000007\n",
       "H32637       1  0.000007\n",
       "L48036       1  0.000007\n",
       "\n",
       "[9976 rows x 2 columns]"
      ]
     },
     "metadata": {},
     "output_type": "display_data"
    },
    {
     "name": "stdout",
     "output_type": "stream",
     "text": [
      "\t Type\n"
     ]
    },
    {
     "data": {
      "text/html": [
       "<div>\n",
       "<style scoped>\n",
       "    .dataframe tbody tr th:only-of-type {\n",
       "        vertical-align: middle;\n",
       "    }\n",
       "\n",
       "    .dataframe tbody tr th {\n",
       "        vertical-align: top;\n",
       "    }\n",
       "\n",
       "    .dataframe thead th {\n",
       "        text-align: right;\n",
       "    }\n",
       "</style>\n",
       "<table border=\"1\" class=\"dataframe\">\n",
       "  <thead>\n",
       "    <tr style=\"text-align: right;\">\n",
       "      <th></th>\n",
       "      <th>Number</th>\n",
       "      <th>Percent</th>\n",
       "    </tr>\n",
       "  </thead>\n",
       "  <tbody>\n",
       "    <tr>\n",
       "      <th>L</th>\n",
       "      <td>95354</td>\n",
       "      <td>0.698928</td>\n",
       "    </tr>\n",
       "    <tr>\n",
       "      <th>M</th>\n",
       "      <td>32152</td>\n",
       "      <td>0.235668</td>\n",
       "    </tr>\n",
       "    <tr>\n",
       "      <th>H</th>\n",
       "      <td>8923</td>\n",
       "      <td>0.065404</td>\n",
       "    </tr>\n",
       "  </tbody>\n",
       "</table>\n",
       "</div>"
      ],
      "text/plain": [
       "   Number   Percent\n",
       "L   95354  0.698928\n",
       "M   32152  0.235668\n",
       "H    8923  0.065404"
      ]
     },
     "metadata": {},
     "output_type": "display_data"
    }
   ],
   "source": [
    "for f in cat_features:\n",
    "    \n",
    "    print('\\t' , f)\n",
    "    n_f = train[f].value_counts()\n",
    "    p_f = train[f].value_counts(normalize=True)\n",
    "    display(pd.DataFrame(data= {'Number': n_f, 'Percent': p_f}))"
   ]
  },
  {
   "cell_type": "markdown",
   "id": "3b070349",
   "metadata": {
    "papermill": {
     "duration": 0.018074,
     "end_time": "2023-06-26T18:07:33.214011",
     "exception": false,
     "start_time": "2023-06-26T18:07:33.195937",
     "status": "completed"
    },
    "tags": []
   },
   "source": [
    "## <span style=\"color:green;\">Binary features</span>"
   ]
  },
  {
   "cell_type": "code",
   "execution_count": 12,
   "id": "3be51c16",
   "metadata": {
    "execution": {
     "iopub.execute_input": "2023-06-26T18:07:33.253844Z",
     "iopub.status.busy": "2023-06-26T18:07:33.253411Z",
     "iopub.status.idle": "2023-06-26T18:07:33.290777Z",
     "shell.execute_reply": "2023-06-26T18:07:33.289624Z"
    },
    "papermill": {
     "duration": 0.061127,
     "end_time": "2023-06-26T18:07:33.293459",
     "exception": false,
     "start_time": "2023-06-26T18:07:33.232332",
     "status": "completed"
    },
    "tags": []
   },
   "outputs": [
    {
     "data": {
      "text/html": [
       "<div>\n",
       "<style scoped>\n",
       "    .dataframe tbody tr th:only-of-type {\n",
       "        vertical-align: middle;\n",
       "    }\n",
       "\n",
       "    .dataframe tbody tr th {\n",
       "        vertical-align: top;\n",
       "    }\n",
       "\n",
       "    .dataframe thead th {\n",
       "        text-align: right;\n",
       "    }\n",
       "</style>\n",
       "<table border=\"1\" class=\"dataframe\">\n",
       "  <thead>\n",
       "    <tr style=\"text-align: right;\">\n",
       "      <th></th>\n",
       "      <th>TWF</th>\n",
       "      <th>HDF</th>\n",
       "      <th>PWF</th>\n",
       "      <th>OSF</th>\n",
       "      <th>RNF</th>\n",
       "    </tr>\n",
       "    <tr>\n",
       "      <th>Value</th>\n",
       "      <th></th>\n",
       "      <th></th>\n",
       "      <th></th>\n",
       "      <th></th>\n",
       "      <th></th>\n",
       "    </tr>\n",
       "  </thead>\n",
       "  <tbody>\n",
       "    <tr>\n",
       "      <th>Number 0</th>\n",
       "      <td>136217</td>\n",
       "      <td>135725</td>\n",
       "      <td>136102</td>\n",
       "      <td>135889</td>\n",
       "      <td>136121</td>\n",
       "    </tr>\n",
       "    <tr>\n",
       "      <th>Percent 0</th>\n",
       "      <td>0.998446</td>\n",
       "      <td>0.99484</td>\n",
       "      <td>0.997603</td>\n",
       "      <td>0.996042</td>\n",
       "      <td>0.997742</td>\n",
       "    </tr>\n",
       "    <tr>\n",
       "      <th></th>\n",
       "      <td></td>\n",
       "      <td></td>\n",
       "      <td></td>\n",
       "      <td></td>\n",
       "      <td></td>\n",
       "    </tr>\n",
       "    <tr>\n",
       "      <th>Number 1</th>\n",
       "      <td>212</td>\n",
       "      <td>704</td>\n",
       "      <td>327</td>\n",
       "      <td>540</td>\n",
       "      <td>308</td>\n",
       "    </tr>\n",
       "    <tr>\n",
       "      <th>Percent 1</th>\n",
       "      <td>0.001554</td>\n",
       "      <td>0.00516</td>\n",
       "      <td>0.002397</td>\n",
       "      <td>0.003958</td>\n",
       "      <td>0.002258</td>\n",
       "    </tr>\n",
       "  </tbody>\n",
       "</table>\n",
       "</div>"
      ],
      "text/plain": [
       "                TWF      HDF       PWF       OSF       RNF\n",
       "Value                                                     \n",
       "Number 0     136217   135725    136102    135889    136121\n",
       "Percent 0  0.998446  0.99484  0.997603  0.996042  0.997742\n",
       "                                                          \n",
       "Number 1        212      704       327       540       308\n",
       "Percent 1  0.001554  0.00516  0.002397  0.003958  0.002258"
      ]
     },
     "execution_count": 12,
     "metadata": {},
     "output_type": "execute_result"
    }
   ],
   "source": [
    "dfv = pd.DataFrame(data= {'Value': ['Number 0', 'Percent 0', '', 'Number 1', 'Percent 1']})\n",
    "\n",
    "for f in bin_features: \n",
    "    n_f = train[f].value_counts()\n",
    "    p_f = train[f].value_counts(normalize=True)\n",
    "    dfv[f] = [n_f[0], p_f[0], '', n_f[1], p_f[1]]\n",
    "    \n",
    "dfv.set_index('Value')"
   ]
  },
  {
   "cell_type": "markdown",
   "id": "ab5c59bd",
   "metadata": {
    "papermill": {
     "duration": 0.018469,
     "end_time": "2023-06-26T18:07:33.330510",
     "exception": false,
     "start_time": "2023-06-26T18:07:33.312041",
     "status": "completed"
    },
    "tags": []
   },
   "source": [
    "## <span style=\"color:green;\">Histograms of the Numerical features</span>"
   ]
  },
  {
   "cell_type": "code",
   "execution_count": 13,
   "id": "02c3ad4d",
   "metadata": {
    "execution": {
     "iopub.execute_input": "2023-06-26T18:07:33.370265Z",
     "iopub.status.busy": "2023-06-26T18:07:33.369385Z",
     "iopub.status.idle": "2023-06-26T18:07:36.044558Z",
     "shell.execute_reply": "2023-06-26T18:07:36.043653Z"
    },
    "papermill": {
     "duration": 2.69761,
     "end_time": "2023-06-26T18:07:36.046845",
     "exception": false,
     "start_time": "2023-06-26T18:07:33.349235",
     "status": "completed"
    },
    "tags": []
   },
   "outputs": [
    {
     "data": {
      "image/png": "[encoded data removed]",
      "text/plain": [
       "<Figure size 1500x1000 with 6 Axes>"
      ]
     },
     "metadata": {},
     "output_type": "display_data"
    }
   ],
   "source": [
    "sns.set()\n",
    "plt.style.use('seaborn-whitegrid') \n",
    "_, axs = plt.subplots(2, 3, figsize=(15,10), facecolor='lightgray')\n",
    "\n",
    "for f, ax in zip(num_features, axs.ravel()):\n",
    "    ax.set_facecolor('lightyellow')\n",
    "    ax.hist(train[f], bins=100, color='red')\n",
    "    ax.set_title(f'Feature: {f}', fontsize=10)\n",
    "\n",
    "plt.suptitle('Histograms of the Numerical Features (5 Columns)', y=0.94, fontsize=16)\n",
    "plt.show()"
   ]
  },
  {
   "cell_type": "markdown",
   "id": "2af4ea4c",
   "metadata": {
    "papermill": {
     "duration": 0.020115,
     "end_time": "2023-06-26T18:07:36.086740",
     "exception": false,
     "start_time": "2023-06-26T18:07:36.066625",
     "status": "completed"
    },
    "tags": []
   },
   "source": [
    "## <span style=\"color:darkred;\">Correlation Matrix</span>"
   ]
  },
  {
   "cell_type": "code",
   "execution_count": 14,
   "id": "ebb74d78",
   "metadata": {
    "execution": {
     "iopub.execute_input": "2023-06-26T18:07:36.128563Z",
     "iopub.status.busy": "2023-06-26T18:07:36.127505Z",
     "iopub.status.idle": "2023-06-26T18:07:37.165661Z",
     "shell.execute_reply": "2023-06-26T18:07:37.164516Z"
    },
    "papermill": {
     "duration": 1.061965,
     "end_time": "2023-06-26T18:07:37.168355",
     "exception": false,
     "start_time": "2023-06-26T18:07:36.106390",
     "status": "completed"
    },
    "tags": []
   },
   "outputs": [
    {
     "data": {
      "image/png": "[encoded data removed]",
      "text/plain": [
       "<Figure size 800x800 with 2 Axes>"
      ]
     },
     "metadata": {},
     "output_type": "display_data"
    }
   ],
   "source": [
    "cor_matrix = df_train[num_features + bin_features  + ['Machine failure']].corr().round(2)\n",
    "fig = plt.figure(figsize=(8,8));\n",
    "\n",
    "plt.gca().set_facecolor('lightyellow')\n",
    "\n",
    "cmap=sns.diverging_palette(240, 10, s=75, l=50, sep=1, n=6, center='light', as_cmap=False);\n",
    "sns.heatmap(cor_matrix, center=0, annot=False, cmap=cmap, mask=False, linewidths=2);\n",
    "plt.show()"
   ]
  },
  {
   "cell_type": "code",
   "execution_count": 15,
   "id": "edfaeafb",
   "metadata": {
    "execution": {
     "iopub.execute_input": "2023-06-26T18:07:37.213244Z",
     "iopub.status.busy": "2023-06-26T18:07:37.211213Z",
     "iopub.status.idle": "2023-06-26T18:07:37.550624Z",
     "shell.execute_reply": "2023-06-26T18:07:37.549652Z"
    },
    "papermill": {
     "duration": 0.364278,
     "end_time": "2023-06-26T18:07:37.553276",
     "exception": false,
     "start_time": "2023-06-26T18:07:37.188998",
     "status": "completed"
    },
    "tags": []
   },
   "outputs": [
    {
     "data": {
      "text/html": [
       "<style type=\"text/css\">\n",
       "#T_e4974_row0_col0, #T_e4974_row0_col8, #T_e4974_row1_col1, #T_e4974_row1_col7, #T_e4974_row2_col2, #T_e4974_row3_col3, #T_e4974_row4_col4, #T_e4974_row5_col5, #T_e4974_row6_col6, #T_e4974_row7_col1, #T_e4974_row7_col7, #T_e4974_row8_col0, #T_e4974_row8_col8, #T_e4974_row9_col9, #T_e4974_row10_col10, #T_e4974_row11_col11, #T_e4974_row12_col12, #T_e4974_row13_col13, #T_e4974_row14_col14, #T_e4974_row15_col15, #T_e4974_row16_col16, #T_e4974_row17_col17, #T_e4974_row18_col18, #T_e4974_row19_col19 {\n",
       "  background-color: #08306b;\n",
       "  color: #f1f1f1;\n",
       "}\n",
       "#T_e4974_row0_col1, #T_e4974_row0_col7, #T_e4974_row8_col1, #T_e4974_row8_col7 {\n",
       "  background-color: #084990;\n",
       "  color: #f1f1f1;\n",
       "}\n",
       "#T_e4974_row0_col2, #T_e4974_row8_col2 {\n",
       "  background-color: #81badb;\n",
       "  color: #000000;\n",
       "}\n",
       "#T_e4974_row0_col3, #T_e4974_row1_col3, #T_e4974_row4_col3, #T_e4974_row7_col3, #T_e4974_row8_col3, #T_e4974_row14_col2, #T_e4974_row18_col2 {\n",
       "  background-color: #85bcdc;\n",
       "  color: #000000;\n",
       "}\n",
       "#T_e4974_row0_col4, #T_e4974_row0_col11, #T_e4974_row1_col4, #T_e4974_row7_col4, #T_e4974_row8_col4, #T_e4974_row8_col11, #T_e4974_row16_col11 {\n",
       "  background-color: #cbdef1;\n",
       "  color: #000000;\n",
       "}\n",
       "#T_e4974_row0_col5, #T_e4974_row1_col5, #T_e4974_row4_col5, #T_e4974_row7_col5, #T_e4974_row8_col5, #T_e4974_row10_col1, #T_e4974_row10_col7, #T_e4974_row10_col18, #T_e4974_row14_col19, #T_e4974_row19_col1, #T_e4974_row19_col7 {\n",
       "  background-color: #a1cbe2;\n",
       "  color: #000000;\n",
       "}\n",
       "#T_e4974_row0_col6, #T_e4974_row0_col9, #T_e4974_row2_col3, #T_e4974_row2_col5, #T_e4974_row2_col13, #T_e4974_row2_col14, #T_e4974_row2_col17, #T_e4974_row2_col18, #T_e4974_row3_col2, #T_e4974_row4_col12, #T_e4974_row4_col18, #T_e4974_row6_col10, #T_e4974_row6_col15, #T_e4974_row6_col16, #T_e4974_row6_col18, #T_e4974_row6_col19, #T_e4974_row8_col6, #T_e4974_row8_col9, #T_e4974_row9_col0, #T_e4974_row9_col1, #T_e4974_row9_col7, #T_e4974_row9_col8, #T_e4974_row9_col14, #T_e4974_row9_col16, #T_e4974_row9_col18, #T_e4974_row11_col12, #T_e4974_row11_col18, #T_e4974_row12_col4, #T_e4974_row12_col11, #T_e4974_row12_col13, #T_e4974_row12_col14, #T_e4974_row12_col18, #T_e4974_row17_col18 {\n",
       "  background-color: #f7fbff;\n",
       "  color: #000000;\n",
       "}\n",
       "#T_e4974_row0_col10, #T_e4974_row8_col10 {\n",
       "  background-color: #dceaf6;\n",
       "  color: #000000;\n",
       "}\n",
       "#T_e4974_row0_col12, #T_e4974_row0_col13, #T_e4974_row3_col19, #T_e4974_row8_col12, #T_e4974_row8_col13, #T_e4974_row9_col12, #T_e4974_row14_col12, #T_e4974_row15_col12, #T_e4974_row18_col4 {\n",
       "  background-color: #cde0f1;\n",
       "  color: #000000;\n",
       "}\n",
       "#T_e4974_row0_col14, #T_e4974_row0_col18, #T_e4974_row1_col14, #T_e4974_row1_col18, #T_e4974_row5_col18, #T_e4974_row7_col14, #T_e4974_row7_col18, #T_e4974_row8_col14, #T_e4974_row8_col18, #T_e4974_row9_col15, #T_e4974_row18_col16 {\n",
       "  background-color: #f5fafe;\n",
       "  color: #000000;\n",
       "}\n",
       "#T_e4974_row0_col15, #T_e4974_row3_col15, #T_e4974_row8_col15 {\n",
       "  background-color: #cfe1f2;\n",
       "  color: #000000;\n",
       "}\n",
       "#T_e4974_row0_col16, #T_e4974_row3_col14, #T_e4974_row4_col16, #T_e4974_row5_col14, #T_e4974_row8_col16, #T_e4974_row15_col14 {\n",
       "  background-color: #f4f9fe;\n",
       "  color: #000000;\n",
       "}\n",
       "#T_e4974_row0_col17, #T_e4974_row1_col17, #T_e4974_row2_col16, #T_e4974_row7_col17, #T_e4974_row8_col17 {\n",
       "  background-color: #eaf3fb;\n",
       "  color: #000000;\n",
       "}\n",
       "#T_e4974_row0_col19, #T_e4974_row5_col11, #T_e4974_row8_col19 {\n",
       "  background-color: #dce9f6;\n",
       "  color: #000000;\n",
       "}\n",
       "#T_e4974_row1_col0, #T_e4974_row1_col8, #T_e4974_row7_col0, #T_e4974_row7_col8 {\n",
       "  background-color: #084488;\n",
       "  color: #f1f1f1;\n",
       "}\n",
       "#T_e4974_row1_col2, #T_e4974_row5_col13, #T_e4974_row7_col2, #T_e4974_row10_col5, #T_e4974_row14_col3, #T_e4974_row18_col3 {\n",
       "  background-color: #82bbdb;\n",
       "  color: #000000;\n",
       "}\n",
       "#T_e4974_row1_col6, #T_e4974_row7_col6 {\n",
       "  background-color: #c1d9ed;\n",
       "  color: #000000;\n",
       "}\n",
       "#T_e4974_row1_col9, #T_e4974_row2_col12, #T_e4974_row7_col9 {\n",
       "  background-color: #d1e2f3;\n",
       "  color: #000000;\n",
       "}\n",
       "#T_e4974_row1_col10, #T_e4974_row7_col10, #T_e4974_row11_col17 {\n",
       "  background-color: #e3eef8;\n",
       "  color: #000000;\n",
       "}\n",
       "#T_e4974_row1_col11, #T_e4974_row7_col11, #T_e4974_row15_col4, #T_e4974_row16_col4, #T_e4974_row16_col13 {\n",
       "  background-color: #ccdff1;\n",
       "  color: #000000;\n",
       "}\n",
       "#T_e4974_row1_col12, #T_e4974_row1_col13, #T_e4974_row3_col4, #T_e4974_row5_col4, #T_e4974_row6_col12, #T_e4974_row7_col12, #T_e4974_row7_col13, #T_e4974_row10_col12, #T_e4974_row15_col11, #T_e4974_row16_col12, #T_e4974_row17_col12, #T_e4974_row18_col11, #T_e4974_row18_col12, #T_e4974_row19_col12 {\n",
       "  background-color: #cee0f2;\n",
       "  color: #000000;\n",
       "}\n",
       "#T_e4974_row1_col15, #T_e4974_row7_col15 {\n",
       "  background-color: #d9e7f5;\n",
       "  color: #000000;\n",
       "}\n",
       "#T_e4974_row1_col16, #T_e4974_row3_col18, #T_e4974_row7_col16, #T_e4974_row13_col12 {\n",
       "  background-color: #f5f9fe;\n",
       "  color: #000000;\n",
       "}\n",
       "#T_e4974_row1_col19, #T_e4974_row7_col19 {\n",
       "  background-color: #e2edf8;\n",
       "  color: #000000;\n",
       "}\n",
       "#T_e4974_row2_col0, #T_e4974_row2_col8, #T_e4974_row4_col0, #T_e4974_row4_col8, #T_e4974_row11_col0, #T_e4974_row11_col8, #T_e4974_row13_col0, #T_e4974_row13_col8 {\n",
       "  background-color: #74b3d8;\n",
       "  color: #000000;\n",
       "}\n",
       "#T_e4974_row2_col1, #T_e4974_row2_col7, #T_e4974_row4_col1, #T_e4974_row4_col7, #T_e4974_row11_col1, #T_e4974_row11_col7 {\n",
       "  background-color: #a5cde3;\n",
       "  color: #000000;\n",
       "}\n",
       "#T_e4974_row2_col4 {\n",
       "  background-color: #cddff1;\n",
       "  color: #000000;\n",
       "}\n",
       "#T_e4974_row2_col6, #T_e4974_row4_col6, #T_e4974_row11_col6 {\n",
       "  background-color: #91c3de;\n",
       "  color: #000000;\n",
       "}\n",
       "#T_e4974_row2_col9, #T_e4974_row4_col9, #T_e4974_row11_col9, #T_e4974_row13_col9 {\n",
       "  background-color: #7ab6d9;\n",
       "  color: #000000;\n",
       "}\n",
       "#T_e4974_row2_col10, #T_e4974_row2_col19 {\n",
       "  background-color: #f3f8fe;\n",
       "  color: #000000;\n",
       "}\n",
       "#T_e4974_row2_col11 {\n",
       "  background-color: #add0e6;\n",
       "  color: #000000;\n",
       "}\n",
       "#T_e4974_row2_col15, #T_e4974_row9_col17, #T_e4974_row11_col14, #T_e4974_row14_col16, #T_e4974_row16_col14 {\n",
       "  background-color: #eef5fc;\n",
       "  color: #000000;\n",
       "}\n",
       "#T_e4974_row3_col0, #T_e4974_row3_col8, #T_e4974_row5_col0, #T_e4974_row5_col8, #T_e4974_row16_col2, #T_e4974_row16_col3, #T_e4974_row16_col9, #T_e4974_row17_col9, #T_e4974_row18_col9 {\n",
       "  background-color: #79b5d9;\n",
       "  color: #000000;\n",
       "}\n",
       "#T_e4974_row3_col1, #T_e4974_row3_col7, #T_e4974_row5_col1, #T_e4974_row5_col7, #T_e4974_row10_col14, #T_e4974_row12_col1, #T_e4974_row12_col7, #T_e4974_row15_col6 {\n",
       "  background-color: #a9cfe5;\n",
       "  color: #000000;\n",
       "}\n",
       "#T_e4974_row3_col5 {\n",
       "  background-color: #083776;\n",
       "  color: #f1f1f1;\n",
       "}\n",
       "#T_e4974_row3_col6, #T_e4974_row5_col6 {\n",
       "  background-color: #8cc0dd;\n",
       "  color: #000000;\n",
       "}\n",
       "#T_e4974_row3_col9, #T_e4974_row16_col0, #T_e4974_row16_col8, #T_e4974_row17_col0, #T_e4974_row17_col8, #T_e4974_row18_col0, #T_e4974_row18_col8 {\n",
       "  background-color: #75b4d8;\n",
       "  color: #000000;\n",
       "}\n",
       "#T_e4974_row3_col10, #T_e4974_row5_col19, #T_e4974_row6_col11, #T_e4974_row9_col11 {\n",
       "  background-color: #d0e2f2;\n",
       "  color: #000000;\n",
       "}\n",
       "#T_e4974_row3_col11, #T_e4974_row11_col15, #T_e4974_row12_col15, #T_e4974_row18_col15 {\n",
       "  background-color: #e0ecf8;\n",
       "  color: #000000;\n",
       "}\n",
       "#T_e4974_row3_col12, #T_e4974_row15_col13 {\n",
       "  background-color: #c9ddf0;\n",
       "  color: #000000;\n",
       "}\n",
       "#T_e4974_row3_col13, #T_e4974_row12_col3 {\n",
       "  background-color: #7db8da;\n",
       "  color: #000000;\n",
       "}\n",
       "#T_e4974_row3_col16, #T_e4974_row5_col16 {\n",
       "  background-color: #ebf3fb;\n",
       "  color: #000000;\n",
       "}\n",
       "#T_e4974_row3_col17 {\n",
       "  background-color: #d7e6f5;\n",
       "  color: #000000;\n",
       "}\n",
       "#T_e4974_row4_col2, #T_e4974_row6_col3, #T_e4974_row9_col3 {\n",
       "  background-color: #84bcdb;\n",
       "  color: #000000;\n",
       "}\n",
       "#T_e4974_row4_col10 {\n",
       "  background-color: #dfebf7;\n",
       "  color: #000000;\n",
       "}\n",
       "#T_e4974_row4_col11, #T_e4974_row11_col4 {\n",
       "  background-color: #083370;\n",
       "  color: #f1f1f1;\n",
       "}\n",
       "#T_e4974_row4_col13 {\n",
       "  background-color: #084082;\n",
       "  color: #f1f1f1;\n",
       "}\n",
       "#T_e4974_row4_col14, #T_e4974_row6_col17 {\n",
       "  background-color: #edf4fc;\n",
       "  color: #000000;\n",
       "}\n",
       "#T_e4974_row4_col15, #T_e4974_row14_col15 {\n",
       "  background-color: #deebf7;\n",
       "  color: #000000;\n",
       "}\n",
       "#T_e4974_row4_col17, #T_e4974_row11_col19, #T_e4974_row15_col17 {\n",
       "  background-color: #dfecf7;\n",
       "  color: #000000;\n",
       "}\n",
       "#T_e4974_row4_col19 {\n",
       "  background-color: #ddeaf7;\n",
       "  color: #000000;\n",
       "}\n",
       "#T_e4974_row5_col2, #T_e4974_row11_col10 {\n",
       "  background-color: #e1edf8;\n",
       "  color: #000000;\n",
       "}\n",
       "#T_e4974_row5_col3, #T_e4974_row6_col9, #T_e4974_row9_col6 {\n",
       "  background-color: #083674;\n",
       "  color: #f1f1f1;\n",
       "}\n",
       "#T_e4974_row5_col9, #T_e4974_row12_col0, #T_e4974_row12_col8, #T_e4974_row12_col9, #T_e4974_row14_col0, #T_e4974_row14_col8, #T_e4974_row14_col9 {\n",
       "  background-color: #77b5d9;\n",
       "  color: #000000;\n",
       "}\n",
       "#T_e4974_row5_col10, #T_e4974_row13_col19 {\n",
       "  background-color: #d3e4f3;\n",
       "  color: #000000;\n",
       "}\n",
       "#T_e4974_row5_col12 {\n",
       "  background-color: #caddf0;\n",
       "  color: #000000;\n",
       "}\n",
       "#T_e4974_row5_col15 {\n",
       "  background-color: #d3e3f3;\n",
       "  color: #000000;\n",
       "}\n",
       "#T_e4974_row5_col17 {\n",
       "  background-color: #d9e8f5;\n",
       "  color: #000000;\n",
       "}\n",
       "#T_e4974_row6_col0, #T_e4974_row6_col8, #T_e4974_row14_col17 {\n",
       "  background-color: #e5eff9;\n",
       "  color: #000000;\n",
       "}\n",
       "#T_e4974_row6_col1, #T_e4974_row6_col7 {\n",
       "  background-color: #d4e4f4;\n",
       "  color: #000000;\n",
       "}\n",
       "#T_e4974_row6_col2, #T_e4974_row9_col2, #T_e4974_row19_col9 {\n",
       "  background-color: #89bedc;\n",
       "  color: #000000;\n",
       "}\n",
       "#T_e4974_row6_col4, #T_e4974_row9_col4, #T_e4974_row18_col13 {\n",
       "  background-color: #d0e1f2;\n",
       "  color: #000000;\n",
       "}\n",
       "#T_e4974_row6_col5, #T_e4974_row9_col5, #T_e4974_row10_col6, #T_e4974_row19_col6 {\n",
       "  background-color: #a0cbe2;\n",
       "  color: #000000;\n",
       "}\n",
       "#T_e4974_row6_col13, #T_e4974_row9_col13 {\n",
       "  background-color: #d2e3f3;\n",
       "  color: #000000;\n",
       "}\n",
       "#T_e4974_row6_col14, #T_e4974_row9_col10, #T_e4974_row9_col19, #T_e4974_row12_col16, #T_e4974_row13_col18, #T_e4974_row14_col18, #T_e4974_row15_col18, #T_e4974_row16_col18, #T_e4974_row18_col14, #T_e4974_row19_col18 {\n",
       "  background-color: #f6faff;\n",
       "  color: #000000;\n",
       "}\n",
       "#T_e4974_row10_col0, #T_e4974_row10_col8, #T_e4974_row19_col0, #T_e4974_row19_col8 {\n",
       "  background-color: #69add5;\n",
       "  color: #f1f1f1;\n",
       "}\n",
       "#T_e4974_row10_col2, #T_e4974_row15_col9, #T_e4974_row17_col2, #T_e4974_row19_col2 {\n",
       "  background-color: #92c4de;\n",
       "  color: #000000;\n",
       "}\n",
       "#T_e4974_row10_col3 {\n",
       "  background-color: #66abd4;\n",
       "  color: #f1f1f1;\n",
       "}\n",
       "#T_e4974_row10_col4, #T_e4974_row19_col4 {\n",
       "  background-color: #c4daee;\n",
       "  color: #000000;\n",
       "}\n",
       "#T_e4974_row10_col9, #T_e4974_row16_col19, #T_e4974_row17_col5 {\n",
       "  background-color: #87bddc;\n",
       "  color: #000000;\n",
       "}\n",
       "#T_e4974_row10_col11, #T_e4974_row14_col13 {\n",
       "  background-color: #c8dcf0;\n",
       "  color: #000000;\n",
       "}\n",
       "#T_e4974_row10_col13 {\n",
       "  background-color: #bcd7eb;\n",
       "  color: #000000;\n",
       "}\n",
       "#T_e4974_row10_col15 {\n",
       "  background-color: #3c8cc3;\n",
       "  color: #f1f1f1;\n",
       "}\n",
       "#T_e4974_row10_col16 {\n",
       "  background-color: #7cb7da;\n",
       "  color: #000000;\n",
       "}\n",
       "#T_e4974_row10_col17 {\n",
       "  background-color: #4f9bcb;\n",
       "  color: #f1f1f1;\n",
       "}\n",
       "#T_e4974_row10_col19, #T_e4974_row19_col10 {\n",
       "  background-color: #1764ab;\n",
       "  color: #f1f1f1;\n",
       "}\n",
       "#T_e4974_row11_col2, #T_e4974_row19_col3 {\n",
       "  background-color: #64a9d3;\n",
       "  color: #f1f1f1;\n",
       "}\n",
       "#T_e4974_row11_col3, #T_e4974_row15_col1, #T_e4974_row15_col7, #T_e4974_row18_col5 {\n",
       "  background-color: #9fcae1;\n",
       "  color: #000000;\n",
       "}\n",
       "#T_e4974_row11_col5 {\n",
       "  background-color: #b3d3e8;\n",
       "  color: #000000;\n",
       "}\n",
       "#T_e4974_row11_col13, #T_e4974_row13_col11 {\n",
       "  background-color: #084d96;\n",
       "  color: #f1f1f1;\n",
       "}\n",
       "#T_e4974_row11_col16 {\n",
       "  background-color: #f2f8fd;\n",
       "  color: #000000;\n",
       "}\n",
       "#T_e4974_row12_col2 {\n",
       "  background-color: #8abfdd;\n",
       "  color: #000000;\n",
       "}\n",
       "#T_e4974_row12_col5 {\n",
       "  background-color: #9ac8e0;\n",
       "  color: #000000;\n",
       "}\n",
       "#T_e4974_row12_col6, #T_e4974_row14_col6, #T_e4974_row15_col5, #T_e4974_row18_col6 {\n",
       "  background-color: #8dc1dd;\n",
       "  color: #000000;\n",
       "}\n",
       "#T_e4974_row12_col10 {\n",
       "  background-color: #eaf2fb;\n",
       "  color: #000000;\n",
       "}\n",
       "#T_e4974_row12_col17, #T_e4974_row13_col14, #T_e4974_row15_col16, #T_e4974_row18_col17 {\n",
       "  background-color: #ecf4fb;\n",
       "  color: #000000;\n",
       "}\n",
       "#T_e4974_row12_col19 {\n",
       "  background-color: #e8f1fa;\n",
       "  color: #000000;\n",
       "}\n",
       "#T_e4974_row13_col1, #T_e4974_row13_col7, #T_e4974_row17_col1, #T_e4974_row17_col7 {\n",
       "  background-color: #a6cee4;\n",
       "  color: #000000;\n",
       "}\n",
       "#T_e4974_row13_col2 {\n",
       "  background-color: #b7d4ea;\n",
       "  color: #000000;\n",
       "}\n",
       "#T_e4974_row13_col3, #T_e4974_row19_col15 {\n",
       "  background-color: #4594c7;\n",
       "  color: #f1f1f1;\n",
       "}\n",
       "#T_e4974_row13_col4 {\n",
       "  background-color: #083e81;\n",
       "  color: #f1f1f1;\n",
       "}\n",
       "#T_e4974_row13_col5 {\n",
       "  background-color: #57a0ce;\n",
       "  color: #f1f1f1;\n",
       "}\n",
       "#T_e4974_row13_col6, #T_e4974_row16_col6, #T_e4974_row17_col6, #T_e4974_row18_col10 {\n",
       "  background-color: #8fc2de;\n",
       "  color: #000000;\n",
       "}\n",
       "#T_e4974_row13_col10, #T_e4974_row17_col15 {\n",
       "  background-color: #d5e5f4;\n",
       "  color: #000000;\n",
       "}\n",
       "#T_e4974_row13_col15, #T_e4974_row16_col15 {\n",
       "  background-color: #d8e7f5;\n",
       "  color: #000000;\n",
       "}\n",
       "#T_e4974_row13_col16 {\n",
       "  background-color: #f1f7fd;\n",
       "  color: #000000;\n",
       "}\n",
       "#T_e4974_row13_col17 {\n",
       "  background-color: #d6e6f4;\n",
       "  color: #000000;\n",
       "}\n",
       "#T_e4974_row14_col1, #T_e4974_row14_col7, #T_e4974_row16_col1, #T_e4974_row16_col7, #T_e4974_row18_col1, #T_e4974_row18_col7 {\n",
       "  background-color: #a8cee4;\n",
       "  color: #000000;\n",
       "}\n",
       "#T_e4974_row14_col4, #T_e4974_row17_col11 {\n",
       "  background-color: #c7dbef;\n",
       "  color: #000000;\n",
       "}\n",
       "#T_e4974_row14_col5 {\n",
       "  background-color: #9dcae1;\n",
       "  color: #000000;\n",
       "}\n",
       "#T_e4974_row14_col10, #T_e4974_row19_col16 {\n",
       "  background-color: #99c7e0;\n",
       "  color: #000000;\n",
       "}\n",
       "#T_e4974_row14_col11, #T_e4974_row19_col11 {\n",
       "  background-color: #c7dcef;\n",
       "  color: #000000;\n",
       "}\n",
       "#T_e4974_row15_col0, #T_e4974_row15_col8, #T_e4974_row19_col17 {\n",
       "  background-color: #63a8d3;\n",
       "  color: #f1f1f1;\n",
       "}\n",
       "#T_e4974_row15_col2 {\n",
       "  background-color: #97c6df;\n",
       "  color: #000000;\n",
       "}\n",
       "#T_e4974_row15_col3, #T_e4974_row16_col10 {\n",
       "  background-color: #6dafd7;\n",
       "  color: #f1f1f1;\n",
       "}\n",
       "#T_e4974_row15_col10 {\n",
       "  background-color: #4090c5;\n",
       "  color: #f1f1f1;\n",
       "}\n",
       "#T_e4974_row15_col19 {\n",
       "  background-color: #4a98c9;\n",
       "  color: #f1f1f1;\n",
       "}\n",
       "#T_e4974_row16_col5 {\n",
       "  background-color: #94c4df;\n",
       "  color: #000000;\n",
       "}\n",
       "#T_e4974_row16_col17 {\n",
       "  background-color: #dbe9f6;\n",
       "  color: #000000;\n",
       "}\n",
       "#T_e4974_row17_col3 {\n",
       "  background-color: #6caed6;\n",
       "  color: #f1f1f1;\n",
       "}\n",
       "#T_e4974_row17_col4 {\n",
       "  background-color: #c2d9ee;\n",
       "  color: #000000;\n",
       "}\n",
       "#T_e4974_row17_col10 {\n",
       "  background-color: #4d99ca;\n",
       "  color: #f1f1f1;\n",
       "}\n",
       "#T_e4974_row17_col13, #T_e4974_row19_col13 {\n",
       "  background-color: #b9d6ea;\n",
       "  color: #000000;\n",
       "}\n",
       "#T_e4974_row17_col14 {\n",
       "  background-color: #eff6fc;\n",
       "  color: #000000;\n",
       "}\n",
       "#T_e4974_row17_col16 {\n",
       "  background-color: #e3eef9;\n",
       "  color: #000000;\n",
       "}\n",
       "#T_e4974_row17_col19 {\n",
       "  background-color: #60a7d2;\n",
       "  color: #f1f1f1;\n",
       "}\n",
       "#T_e4974_row18_col19 {\n",
       "  background-color: #e7f1fa;\n",
       "  color: #000000;\n",
       "}\n",
       "#T_e4974_row19_col5 {\n",
       "  background-color: #7fb9da;\n",
       "  color: #000000;\n",
       "}\n",
       "#T_e4974_row19_col14 {\n",
       "  background-color: #b2d2e8;\n",
       "  color: #000000;\n",
       "}\n",
       "</style>\n",
       "<table id=\"T_e4974\">\n",
       "  <thead>\n",
       "    <tr>\n",
       "      <th class=\"blank level0\" >&nbsp;</th>\n",
       "      <th id=\"T_e4974_level0_col0\" class=\"col_heading level0 col0\" >Air temperature K</th>\n",
       "      <th id=\"T_e4974_level0_col1\" class=\"col_heading level0 col1\" >Process temperature K</th>\n",
       "      <th id=\"T_e4974_level0_col2\" class=\"col_heading level0 col2\" >Rotational speed rpm</th>\n",
       "      <th id=\"T_e4974_level0_col3\" class=\"col_heading level0 col3\" >Torque Nm</th>\n",
       "      <th id=\"T_e4974_level0_col4\" class=\"col_heading level0 col4\" >Tool wear min</th>\n",
       "      <th id=\"T_e4974_level0_col5\" class=\"col_heading level0 col5\" >Power</th>\n",
       "      <th id=\"T_e4974_level0_col6\" class=\"col_heading level0 col6\" >temp_ratio</th>\n",
       "      <th id=\"T_e4974_level0_col7\" class=\"col_heading level0 col7\" >Process temperature C</th>\n",
       "      <th id=\"T_e4974_level0_col8\" class=\"col_heading level0 col8\" >Air temperature C</th>\n",
       "      <th id=\"T_e4974_level0_col9\" class=\"col_heading level0 col9\" >temp_C_ratio</th>\n",
       "      <th id=\"T_e4974_level0_col10\" class=\"col_heading level0 col10\" >Failure Sum</th>\n",
       "      <th id=\"T_e4974_level0_col11\" class=\"col_heading level0 col11\" >tool_wear_speed</th>\n",
       "      <th id=\"T_e4974_level0_col12\" class=\"col_heading level0 col12\" >torque wear ratio</th>\n",
       "      <th id=\"T_e4974_level0_col13\" class=\"col_heading level0 col13\" >torque times wear</th>\n",
       "      <th id=\"T_e4974_level0_col14\" class=\"col_heading level0 col14\" >TWF</th>\n",
       "      <th id=\"T_e4974_level0_col15\" class=\"col_heading level0 col15\" >HDF</th>\n",
       "      <th id=\"T_e4974_level0_col16\" class=\"col_heading level0 col16\" >PWF</th>\n",
       "      <th id=\"T_e4974_level0_col17\" class=\"col_heading level0 col17\" >OSF</th>\n",
       "      <th id=\"T_e4974_level0_col18\" class=\"col_heading level0 col18\" >RNF</th>\n",
       "      <th id=\"T_e4974_level0_col19\" class=\"col_heading level0 col19\" >Machine failure</th>\n",
       "    </tr>\n",
       "  </thead>\n",
       "  <tbody>\n",
       "    <tr>\n",
       "      <th id=\"T_e4974_level0_row0\" class=\"row_heading level0 row0\" >Air temperature K</th>\n",
       "      <td id=\"T_e4974_row0_col0\" class=\"data row0 col0\" >1.000000</td>\n",
       "      <td id=\"T_e4974_row0_col1\" class=\"data row0 col1\" >0.856080</td>\n",
       "      <td id=\"T_e4974_row0_col2\" class=\"data row0 col2\" >0.016545</td>\n",
       "      <td id=\"T_e4974_row0_col3\" class=\"data row0 col3\" >-0.006773</td>\n",
       "      <td id=\"T_e4974_row0_col4\" class=\"data row0 col4\" >0.016994</td>\n",
       "      <td id=\"T_e4974_row0_col5\" class=\"data row0 col5\" >-0.004496</td>\n",
       "      <td id=\"T_e4974_row0_col6\" class=\"data row0 col6\" >-0.718065</td>\n",
       "      <td id=\"T_e4974_row0_col7\" class=\"data row0 col7\" >0.856080</td>\n",
       "      <td id=\"T_e4974_row0_col8\" class=\"data row0 col8\" >1.000000</td>\n",
       "      <td id=\"T_e4974_row0_col9\" class=\"data row0 col9\" >-0.887916</td>\n",
       "      <td id=\"T_e4974_row0_col10\" class=\"data row0 col10\" >0.064574</td>\n",
       "      <td id=\"T_e4974_row0_col11\" class=\"data row0 col11\" >0.018597</td>\n",
       "      <td id=\"T_e4974_row0_col12\" class=\"data row0 col12\" >-0.000948</td>\n",
       "      <td id=\"T_e4974_row0_col13\" class=\"data row0 col13\" >0.014314</td>\n",
       "      <td id=\"T_e4974_row0_col14\" class=\"data row0 col14\" >0.003826</td>\n",
       "      <td id=\"T_e4974_row0_col15\" class=\"data row0 col15\" >0.100454</td>\n",
       "      <td id=\"T_e4974_row0_col16\" class=\"data row0 col16\" >0.007967</td>\n",
       "      <td id=\"T_e4974_row0_col17\" class=\"data row0 col17\" >0.007842</td>\n",
       "      <td id=\"T_e4974_row0_col18\" class=\"data row0 col18\" >0.004815</td>\n",
       "      <td id=\"T_e4974_row0_col19\" class=\"data row0 col19\" >0.067744</td>\n",
       "    </tr>\n",
       "    <tr>\n",
       "      <th id=\"T_e4974_level0_row1\" class=\"row_heading level0 row1\" >Process temperature K</th>\n",
       "      <td id=\"T_e4974_row1_col0\" class=\"data row1 col0\" >0.856080</td>\n",
       "      <td id=\"T_e4974_row1_col1\" class=\"data row1 col1\" >1.000000</td>\n",
       "      <td id=\"T_e4974_row1_col2\" class=\"data row1 col2\" >0.011263</td>\n",
       "      <td id=\"T_e4974_row1_col3\" class=\"data row1 col3\" >-0.006298</td>\n",
       "      <td id=\"T_e4974_row1_col4\" class=\"data row1 col4\" >0.012777</td>\n",
       "      <td id=\"T_e4974_row1_col5\" class=\"data row1 col5\" >-0.004679</td>\n",
       "      <td id=\"T_e4974_row1_col6\" class=\"data row1 col6\" >-0.255021</td>\n",
       "      <td id=\"T_e4974_row1_col7\" class=\"data row1 col7\" >1.000000</td>\n",
       "      <td id=\"T_e4974_row1_col8\" class=\"data row1 col8\" >0.856080</td>\n",
       "      <td id=\"T_e4974_row1_col9\" class=\"data row1 col9\" >-0.524935</td>\n",
       "      <td id=\"T_e4974_row1_col10\" class=\"data row1 col10\" >0.029612</td>\n",
       "      <td id=\"T_e4974_row1_col11\" class=\"data row1 col11\" >0.013733</td>\n",
       "      <td id=\"T_e4974_row1_col12\" class=\"data row1 col12\" >-0.004559</td>\n",
       "      <td id=\"T_e4974_row1_col13\" class=\"data row1 col13\" >0.010579</td>\n",
       "      <td id=\"T_e4974_row1_col14\" class=\"data row1 col14\" >0.004459</td>\n",
       "      <td id=\"T_e4974_row1_col15\" class=\"data row1 col15\" >0.041454</td>\n",
       "      <td id=\"T_e4974_row1_col16\" class=\"data row1 col16\" >0.003871</td>\n",
       "      <td id=\"T_e4974_row1_col17\" class=\"data row1 col17\" >0.005337</td>\n",
       "      <td id=\"T_e4974_row1_col18\" class=\"data row1 col18\" >0.004399</td>\n",
       "      <td id=\"T_e4974_row1_col19\" class=\"data row1 col19\" >0.030966</td>\n",
       "    </tr>\n",
       "    <tr>\n",
       "      <th id=\"T_e4974_level0_row2\" class=\"row_heading level0 row2\" >Rotational speed rpm</th>\n",
       "      <td id=\"T_e4974_row2_col0\" class=\"data row2 col0\" >0.016545</td>\n",
       "      <td id=\"T_e4974_row2_col1\" class=\"data row2 col1\" >0.011263</td>\n",
       "      <td id=\"T_e4974_row2_col2\" class=\"data row2 col2\" >1.000000</td>\n",
       "      <td id=\"T_e4974_row2_col3\" class=\"data row2 col3\" >-0.779394</td>\n",
       "      <td id=\"T_e4974_row2_col4\" class=\"data row2 col4\" >0.003983</td>\n",
       "      <td id=\"T_e4974_row2_col5\" class=\"data row2 col5\" >-0.584267</td>\n",
       "      <td id=\"T_e4974_row2_col6\" class=\"data row2 col6\" >-0.015718</td>\n",
       "      <td id=\"T_e4974_row2_col7\" class=\"data row2 col7\" >0.011263</td>\n",
       "      <td id=\"T_e4974_row2_col8\" class=\"data row2 col8\" >0.016545</td>\n",
       "      <td id=\"T_e4974_row2_col9\" class=\"data row2 col9\" >-0.016258</td>\n",
       "      <td id=\"T_e4974_row2_col10\" class=\"data row2 col10\" >-0.057100</td>\n",
       "      <td id=\"T_e4974_row2_col11\" class=\"data row2 col11\" >0.151086</td>\n",
       "      <td id=\"T_e4974_row2_col12\" class=\"data row2 col12\" >-0.025582</td>\n",
       "      <td id=\"T_e4974_row2_col13\" class=\"data row2 col13\" >-0.247731</td>\n",
       "      <td id=\"T_e4974_row2_col14\" class=\"data row2 col14\" >-0.005765</td>\n",
       "      <td id=\"T_e4974_row2_col15\" class=\"data row2 col15\" >-0.081996</td>\n",
       "      <td id=\"T_e4974_row2_col16\" class=\"data row2 col16\" >0.053948</td>\n",
       "      <td id=\"T_e4974_row2_col17\" class=\"data row2 col17\" >-0.061376</td>\n",
       "      <td id=\"T_e4974_row2_col18\" class=\"data row2 col18\" >-0.003410</td>\n",
       "      <td id=\"T_e4974_row2_col19\" class=\"data row2 col19\" >-0.060868</td>\n",
       "    </tr>\n",
       "    <tr>\n",
       "      <th id=\"T_e4974_level0_row3\" class=\"row_heading level0 row3\" >Torque Nm</th>\n",
       "      <td id=\"T_e4974_row3_col0\" class=\"data row3 col0\" >-0.006773</td>\n",
       "      <td id=\"T_e4974_row3_col1\" class=\"data row3 col1\" >-0.006298</td>\n",
       "      <td id=\"T_e4974_row3_col2\" class=\"data row3 col2\" >-0.779394</td>\n",
       "      <td id=\"T_e4974_row3_col3\" class=\"data row3 col3\" >1.000000</td>\n",
       "      <td id=\"T_e4974_row3_col4\" class=\"data row3 col4\" >-0.003148</td>\n",
       "      <td id=\"T_e4974_row3_col5\" class=\"data row3 col5\" >0.952142</td>\n",
       "      <td id=\"T_e4974_row3_col6\" class=\"data row3 col6\" >0.004150</td>\n",
       "      <td id=\"T_e4974_row3_col7\" class=\"data row3 col7\" >-0.006298</td>\n",
       "      <td id=\"T_e4974_row3_col8\" class=\"data row3 col8\" >-0.006773</td>\n",
       "      <td id=\"T_e4974_row3_col9\" class=\"data row3 col9\" >0.005034</td>\n",
       "      <td id=\"T_e4974_row3_col10\" class=\"data row3 col10\" >0.132825</td>\n",
       "      <td id=\"T_e4974_row3_col11\" class=\"data row3 col11\" >-0.118359</td>\n",
       "      <td id=\"T_e4974_row3_col12\" class=\"data row3 col12\" >0.027348</td>\n",
       "      <td id=\"T_e4974_row3_col13\" class=\"data row3 col13\" >0.318195</td>\n",
       "      <td id=\"T_e4974_row3_col14\" class=\"data row3 col14\" >0.012983</td>\n",
       "      <td id=\"T_e4974_row3_col15\" class=\"data row3 col15\" >0.100773</td>\n",
       "      <td id=\"T_e4974_row3_col16\" class=\"data row3 col16\" >0.050289</td>\n",
       "      <td id=\"T_e4974_row3_col17\" class=\"data row3 col17\" >0.108765</td>\n",
       "      <td id=\"T_e4974_row3_col18\" class=\"data row3 col18\" >0.007986</td>\n",
       "      <td id=\"T_e4974_row3_col19\" class=\"data row3 col19\" >0.145793</td>\n",
       "    </tr>\n",
       "    <tr>\n",
       "      <th id=\"T_e4974_level0_row4\" class=\"row_heading level0 row4\" >Tool wear min</th>\n",
       "      <td id=\"T_e4974_row4_col0\" class=\"data row4 col0\" >0.016994</td>\n",
       "      <td id=\"T_e4974_row4_col1\" class=\"data row4 col1\" >0.012777</td>\n",
       "      <td id=\"T_e4974_row4_col2\" class=\"data row4 col2\" >0.003983</td>\n",
       "      <td id=\"T_e4974_row4_col3\" class=\"data row4 col3\" >-0.003148</td>\n",
       "      <td id=\"T_e4974_row4_col4\" class=\"data row4 col4\" >1.000000</td>\n",
       "      <td id=\"T_e4974_row4_col5\" class=\"data row4 col5\" >-0.003431</td>\n",
       "      <td id=\"T_e4974_row4_col6\" class=\"data row4 col6\" >-0.014503</td>\n",
       "      <td id=\"T_e4974_row4_col7\" class=\"data row4 col7\" >0.012777</td>\n",
       "      <td id=\"T_e4974_row4_col8\" class=\"data row4 col8\" >0.016994</td>\n",
       "      <td id=\"T_e4974_row4_col9\" class=\"data row4 col9\" >-0.015328</td>\n",
       "      <td id=\"T_e4974_row4_col10\" class=\"data row4 col10\" >0.052961</td>\n",
       "      <td id=\"T_e4974_row4_col11\" class=\"data row4 col11\" >0.984923</td>\n",
       "      <td id=\"T_e4974_row4_col12\" class=\"data row4 col12\" >-0.270463</td>\n",
       "      <td id=\"T_e4974_row4_col13\" class=\"data row4 col13\" >0.926409</td>\n",
       "      <td id=\"T_e4974_row4_col14\" class=\"data row4 col14\" >0.046470</td>\n",
       "      <td id=\"T_e4974_row4_col15\" class=\"data row4 col15\" >0.011709</td>\n",
       "      <td id=\"T_e4974_row4_col16\" class=\"data row4 col16\" >0.007624</td>\n",
       "      <td id=\"T_e4974_row4_col17\" class=\"data row4 col17\" >0.063604</td>\n",
       "      <td id=\"T_e4974_row4_col18\" class=\"data row4 col18\" >-0.002071</td>\n",
       "      <td id=\"T_e4974_row4_col19\" class=\"data row4 col19\" >0.056448</td>\n",
       "    </tr>\n",
       "    <tr>\n",
       "      <th id=\"T_e4974_level0_row5\" class=\"row_heading level0 row5\" >Power</th>\n",
       "      <td id=\"T_e4974_row5_col0\" class=\"data row5 col0\" >-0.004496</td>\n",
       "      <td id=\"T_e4974_row5_col1\" class=\"data row5 col1\" >-0.004679</td>\n",
       "      <td id=\"T_e4974_row5_col2\" class=\"data row5 col2\" >-0.584267</td>\n",
       "      <td id=\"T_e4974_row5_col3\" class=\"data row5 col3\" >0.952142</td>\n",
       "      <td id=\"T_e4974_row5_col4\" class=\"data row5 col4\" >-0.003431</td>\n",
       "      <td id=\"T_e4974_row5_col5\" class=\"data row5 col5\" >1.000000</td>\n",
       "      <td id=\"T_e4974_row5_col6\" class=\"data row5 col6\" >0.002083</td>\n",
       "      <td id=\"T_e4974_row5_col7\" class=\"data row5 col7\" >-0.004679</td>\n",
       "      <td id=\"T_e4974_row5_col8\" class=\"data row5 col8\" >-0.004496</td>\n",
       "      <td id=\"T_e4974_row5_col9\" class=\"data row5 col9\" >0.002917</td>\n",
       "      <td id=\"T_e4974_row5_col10\" class=\"data row5 col10\" >0.115396</td>\n",
       "      <td id=\"T_e4974_row5_col11\" class=\"data row5 col11\" >-0.090245</td>\n",
       "      <td id=\"T_e4974_row5_col12\" class=\"data row5 col12\" >0.025498</td>\n",
       "      <td id=\"T_e4974_row5_col13\" class=\"data row5 col13\" >0.301894</td>\n",
       "      <td id=\"T_e4974_row5_col14\" class=\"data row5 col14\" >0.012258</td>\n",
       "      <td id=\"T_e4974_row5_col15\" class=\"data row5 col15\" >0.076992</td>\n",
       "      <td id=\"T_e4974_row5_col16\" class=\"data row5 col16\" >0.052033</td>\n",
       "      <td id=\"T_e4974_row5_col17\" class=\"data row5 col17\" >0.099108</td>\n",
       "      <td id=\"T_e4974_row5_col18\" class=\"data row5 col18\" >0.007361</td>\n",
       "      <td id=\"T_e4974_row5_col19\" class=\"data row5 col19\" >0.128222</td>\n",
       "    </tr>\n",
       "    <tr>\n",
       "      <th id=\"T_e4974_level0_row6\" class=\"row_heading level0 row6\" >temp_ratio</th>\n",
       "      <td id=\"T_e4974_row6_col0\" class=\"data row6 col0\" >-0.718065</td>\n",
       "      <td id=\"T_e4974_row6_col1\" class=\"data row6 col1\" >-0.255021</td>\n",
       "      <td id=\"T_e4974_row6_col2\" class=\"data row6 col2\" >-0.015718</td>\n",
       "      <td id=\"T_e4974_row6_col3\" class=\"data row6 col3\" >0.004150</td>\n",
       "      <td id=\"T_e4974_row6_col4\" class=\"data row6 col4\" >-0.014503</td>\n",
       "      <td id=\"T_e4974_row6_col5\" class=\"data row6 col5\" >0.002083</td>\n",
       "      <td id=\"T_e4974_row6_col6\" class=\"data row6 col6\" >1.000000</td>\n",
       "      <td id=\"T_e4974_row6_col7\" class=\"data row6 col7\" >-0.255021</td>\n",
       "      <td id=\"T_e4974_row6_col8\" class=\"data row6 col8\" >-0.718065</td>\n",
       "      <td id=\"T_e4974_row6_col9\" class=\"data row6 col9\" >0.954630</td>\n",
       "      <td id=\"T_e4974_row6_col10\" class=\"data row6 col10\" >-0.080509</td>\n",
       "      <td id=\"T_e4974_row6_col11\" class=\"data row6 col11\" >-0.016207</td>\n",
       "      <td id=\"T_e4974_row6_col12\" class=\"data row6 col12\" >-0.004360</td>\n",
       "      <td id=\"T_e4974_row6_col13\" class=\"data row6 col13\" >-0.012464</td>\n",
       "      <td id=\"T_e4974_row6_col14\" class=\"data row6 col14\" >-0.001132</td>\n",
       "      <td id=\"T_e4974_row6_col15\" class=\"data row6 col15\" >-0.131452</td>\n",
       "      <td id=\"T_e4974_row6_col16\" class=\"data row6 col16\" >-0.009629</td>\n",
       "      <td id=\"T_e4974_row6_col17\" class=\"data row6 col17\" >-0.007421</td>\n",
       "      <td id=\"T_e4974_row6_col18\" class=\"data row6 col18\" >-0.003082</td>\n",
       "      <td id=\"T_e4974_row6_col19\" class=\"data row6 col19\" >-0.084591</td>\n",
       "    </tr>\n",
       "    <tr>\n",
       "      <th id=\"T_e4974_level0_row7\" class=\"row_heading level0 row7\" >Process temperature C</th>\n",
       "      <td id=\"T_e4974_row7_col0\" class=\"data row7 col0\" >0.856080</td>\n",
       "      <td id=\"T_e4974_row7_col1\" class=\"data row7 col1\" >1.000000</td>\n",
       "      <td id=\"T_e4974_row7_col2\" class=\"data row7 col2\" >0.011263</td>\n",
       "      <td id=\"T_e4974_row7_col3\" class=\"data row7 col3\" >-0.006298</td>\n",
       "      <td id=\"T_e4974_row7_col4\" class=\"data row7 col4\" >0.012777</td>\n",
       "      <td id=\"T_e4974_row7_col5\" class=\"data row7 col5\" >-0.004679</td>\n",
       "      <td id=\"T_e4974_row7_col6\" class=\"data row7 col6\" >-0.255021</td>\n",
       "      <td id=\"T_e4974_row7_col7\" class=\"data row7 col7\" >1.000000</td>\n",
       "      <td id=\"T_e4974_row7_col8\" class=\"data row7 col8\" >0.856080</td>\n",
       "      <td id=\"T_e4974_row7_col9\" class=\"data row7 col9\" >-0.524935</td>\n",
       "      <td id=\"T_e4974_row7_col10\" class=\"data row7 col10\" >0.029612</td>\n",
       "      <td id=\"T_e4974_row7_col11\" class=\"data row7 col11\" >0.013733</td>\n",
       "      <td id=\"T_e4974_row7_col12\" class=\"data row7 col12\" >-0.004559</td>\n",
       "      <td id=\"T_e4974_row7_col13\" class=\"data row7 col13\" >0.010579</td>\n",
       "      <td id=\"T_e4974_row7_col14\" class=\"data row7 col14\" >0.004459</td>\n",
       "      <td id=\"T_e4974_row7_col15\" class=\"data row7 col15\" >0.041454</td>\n",
       "      <td id=\"T_e4974_row7_col16\" class=\"data row7 col16\" >0.003871</td>\n",
       "      <td id=\"T_e4974_row7_col17\" class=\"data row7 col17\" >0.005337</td>\n",
       "      <td id=\"T_e4974_row7_col18\" class=\"data row7 col18\" >0.004399</td>\n",
       "      <td id=\"T_e4974_row7_col19\" class=\"data row7 col19\" >0.030966</td>\n",
       "    </tr>\n",
       "    <tr>\n",
       "      <th id=\"T_e4974_level0_row8\" class=\"row_heading level0 row8\" >Air temperature C</th>\n",
       "      <td id=\"T_e4974_row8_col0\" class=\"data row8 col0\" >1.000000</td>\n",
       "      <td id=\"T_e4974_row8_col1\" class=\"data row8 col1\" >0.856080</td>\n",
       "      <td id=\"T_e4974_row8_col2\" class=\"data row8 col2\" >0.016545</td>\n",
       "      <td id=\"T_e4974_row8_col3\" class=\"data row8 col3\" >-0.006773</td>\n",
       "      <td id=\"T_e4974_row8_col4\" class=\"data row8 col4\" >0.016994</td>\n",
       "      <td id=\"T_e4974_row8_col5\" class=\"data row8 col5\" >-0.004496</td>\n",
       "      <td id=\"T_e4974_row8_col6\" class=\"data row8 col6\" >-0.718065</td>\n",
       "      <td id=\"T_e4974_row8_col7\" class=\"data row8 col7\" >0.856080</td>\n",
       "      <td id=\"T_e4974_row8_col8\" class=\"data row8 col8\" >1.000000</td>\n",
       "      <td id=\"T_e4974_row8_col9\" class=\"data row8 col9\" >-0.887916</td>\n",
       "      <td id=\"T_e4974_row8_col10\" class=\"data row8 col10\" >0.064574</td>\n",
       "      <td id=\"T_e4974_row8_col11\" class=\"data row8 col11\" >0.018597</td>\n",
       "      <td id=\"T_e4974_row8_col12\" class=\"data row8 col12\" >-0.000948</td>\n",
       "      <td id=\"T_e4974_row8_col13\" class=\"data row8 col13\" >0.014314</td>\n",
       "      <td id=\"T_e4974_row8_col14\" class=\"data row8 col14\" >0.003826</td>\n",
       "      <td id=\"T_e4974_row8_col15\" class=\"data row8 col15\" >0.100454</td>\n",
       "      <td id=\"T_e4974_row8_col16\" class=\"data row8 col16\" >0.007967</td>\n",
       "      <td id=\"T_e4974_row8_col17\" class=\"data row8 col17\" >0.007842</td>\n",
       "      <td id=\"T_e4974_row8_col18\" class=\"data row8 col18\" >0.004815</td>\n",
       "      <td id=\"T_e4974_row8_col19\" class=\"data row8 col19\" >0.067744</td>\n",
       "    </tr>\n",
       "    <tr>\n",
       "      <th id=\"T_e4974_level0_row9\" class=\"row_heading level0 row9\" >temp_C_ratio</th>\n",
       "      <td id=\"T_e4974_row9_col0\" class=\"data row9 col0\" >-0.887916</td>\n",
       "      <td id=\"T_e4974_row9_col1\" class=\"data row9 col1\" >-0.524935</td>\n",
       "      <td id=\"T_e4974_row9_col2\" class=\"data row9 col2\" >-0.016258</td>\n",
       "      <td id=\"T_e4974_row9_col3\" class=\"data row9 col3\" >0.005034</td>\n",
       "      <td id=\"T_e4974_row9_col4\" class=\"data row9 col4\" >-0.015328</td>\n",
       "      <td id=\"T_e4974_row9_col5\" class=\"data row9 col5\" >0.002917</td>\n",
       "      <td id=\"T_e4974_row9_col6\" class=\"data row9 col6\" >0.954630</td>\n",
       "      <td id=\"T_e4974_row9_col7\" class=\"data row9 col7\" >-0.524935</td>\n",
       "      <td id=\"T_e4974_row9_col8\" class=\"data row9 col8\" >-0.887916</td>\n",
       "      <td id=\"T_e4974_row9_col9\" class=\"data row9 col9\" >1.000000</td>\n",
       "      <td id=\"T_e4974_row9_col10\" class=\"data row9 col10\" >-0.075853</td>\n",
       "      <td id=\"T_e4974_row9_col11\" class=\"data row9 col11\" >-0.016995</td>\n",
       "      <td id=\"T_e4974_row9_col12\" class=\"data row9 col12\" >-0.002422</td>\n",
       "      <td id=\"T_e4974_row9_col13\" class=\"data row9 col13\" >-0.013093</td>\n",
       "      <td id=\"T_e4974_row9_col14\" class=\"data row9 col14\" >-0.002140</td>\n",
       "      <td id=\"T_e4974_row9_col15\" class=\"data row9 col15\" >-0.122192</td>\n",
       "      <td id=\"T_e4974_row9_col16\" class=\"data row9 col16\" >-0.008951</td>\n",
       "      <td id=\"T_e4974_row9_col17\" class=\"data row9 col17\" >-0.007518</td>\n",
       "      <td id=\"T_e4974_row9_col18\" class=\"data row9 col18\" >-0.003944</td>\n",
       "      <td id=\"T_e4974_row9_col19\" class=\"data row9 col19\" >-0.079588</td>\n",
       "    </tr>\n",
       "    <tr>\n",
       "      <th id=\"T_e4974_level0_row10\" class=\"row_heading level0 row10\" >Failure Sum</th>\n",
       "      <td id=\"T_e4974_row10_col0\" class=\"data row10 col0\" >0.064574</td>\n",
       "      <td id=\"T_e4974_row10_col1\" class=\"data row10 col1\" >0.029612</td>\n",
       "      <td id=\"T_e4974_row10_col2\" class=\"data row10 col2\" >-0.057100</td>\n",
       "      <td id=\"T_e4974_row10_col3\" class=\"data row10 col3\" >0.132825</td>\n",
       "      <td id=\"T_e4974_row10_col4\" class=\"data row10 col4\" >0.052961</td>\n",
       "      <td id=\"T_e4974_row10_col5\" class=\"data row10 col5\" >0.115396</td>\n",
       "      <td id=\"T_e4974_row10_col6\" class=\"data row10 col6\" >-0.080509</td>\n",
       "      <td id=\"T_e4974_row10_col7\" class=\"data row10 col7\" >0.029612</td>\n",
       "      <td id=\"T_e4974_row10_col8\" class=\"data row10 col8\" >0.064574</td>\n",
       "      <td id=\"T_e4974_row10_col9\" class=\"data row10 col9\" >-0.075853</td>\n",
       "      <td id=\"T_e4974_row10_col10\" class=\"data row10 col10\" >1.000000</td>\n",
       "      <td id=\"T_e4974_row10_col11\" class=\"data row10 col11\" >0.040355</td>\n",
       "      <td id=\"T_e4974_row10_col12\" class=\"data row10 col12\" >-0.005022</td>\n",
       "      <td id=\"T_e4974_row10_col13\" class=\"data row10 col13\" >0.105471</td>\n",
       "      <td id=\"T_e4974_row10_col14\" class=\"data row10 col14\" >0.339171</td>\n",
       "      <td id=\"T_e4974_row10_col15\" class=\"data row10 col15\" >0.599958</td>\n",
       "      <td id=\"T_e4974_row10_col16\" class=\"data row10 col16\" >0.454285</td>\n",
       "      <td id=\"T_e4974_row10_col17\" class=\"data row10 col17\" >0.560309</td>\n",
       "      <td id=\"T_e4974_row10_col18\" class=\"data row10 col18\" >0.363466</td>\n",
       "      <td id=\"T_e4974_row10_col19\" class=\"data row10 col19\" >0.783519</td>\n",
       "    </tr>\n",
       "    <tr>\n",
       "      <th id=\"T_e4974_level0_row11\" class=\"row_heading level0 row11\" >tool_wear_speed</th>\n",
       "      <td id=\"T_e4974_row11_col0\" class=\"data row11 col0\" >0.018597</td>\n",
       "      <td id=\"T_e4974_row11_col1\" class=\"data row11 col1\" >0.013733</td>\n",
       "      <td id=\"T_e4974_row11_col2\" class=\"data row11 col2\" >0.151086</td>\n",
       "      <td id=\"T_e4974_row11_col3\" class=\"data row11 col3\" >-0.118359</td>\n",
       "      <td id=\"T_e4974_row11_col4\" class=\"data row11 col4\" >0.984923</td>\n",
       "      <td id=\"T_e4974_row11_col5\" class=\"data row11 col5\" >-0.090245</td>\n",
       "      <td id=\"T_e4974_row11_col6\" class=\"data row11 col6\" >-0.016207</td>\n",
       "      <td id=\"T_e4974_row11_col7\" class=\"data row11 col7\" >0.013733</td>\n",
       "      <td id=\"T_e4974_row11_col8\" class=\"data row11 col8\" >0.018597</td>\n",
       "      <td id=\"T_e4974_row11_col9\" class=\"data row11 col9\" >-0.016995</td>\n",
       "      <td id=\"T_e4974_row11_col10\" class=\"data row11 col10\" >0.040355</td>\n",
       "      <td id=\"T_e4974_row11_col11\" class=\"data row11 col11\" >1.000000</td>\n",
       "      <td id=\"T_e4974_row11_col12\" class=\"data row11 col12\" >-0.266053</td>\n",
       "      <td id=\"T_e4974_row11_col13\" class=\"data row11 col13\" >0.861404</td>\n",
       "      <td id=\"T_e4974_row11_col14\" class=\"data row11 col14\" >0.044151</td>\n",
       "      <td id=\"T_e4974_row11_col15\" class=\"data row11 col15\" >-0.001724</td>\n",
       "      <td id=\"T_e4974_row11_col16\" class=\"data row11 col16\" >0.015975</td>\n",
       "      <td id=\"T_e4974_row11_col17\" class=\"data row11 col17\" >0.048271</td>\n",
       "      <td id=\"T_e4974_row11_col18\" class=\"data row11 col18\" >-0.002980</td>\n",
       "      <td id=\"T_e4974_row11_col19\" class=\"data row11 col19\" >0.043777</td>\n",
       "    </tr>\n",
       "    <tr>\n",
       "      <th id=\"T_e4974_level0_row12\" class=\"row_heading level0 row12\" >torque wear ratio</th>\n",
       "      <td id=\"T_e4974_row12_col0\" class=\"data row12 col0\" >-0.000948</td>\n",
       "      <td id=\"T_e4974_row12_col1\" class=\"data row12 col1\" >-0.004559</td>\n",
       "      <td id=\"T_e4974_row12_col2\" class=\"data row12 col2\" >-0.025582</td>\n",
       "      <td id=\"T_e4974_row12_col3\" class=\"data row12 col3\" >0.027348</td>\n",
       "      <td id=\"T_e4974_row12_col4\" class=\"data row12 col4\" >-0.270463</td>\n",
       "      <td id=\"T_e4974_row12_col5\" class=\"data row12 col5\" >0.025498</td>\n",
       "      <td id=\"T_e4974_row12_col6\" class=\"data row12 col6\" >-0.004360</td>\n",
       "      <td id=\"T_e4974_row12_col7\" class=\"data row12 col7\" >-0.004559</td>\n",
       "      <td id=\"T_e4974_row12_col8\" class=\"data row12 col8\" >-0.000948</td>\n",
       "      <td id=\"T_e4974_row12_col9\" class=\"data row12 col9\" >-0.002422</td>\n",
       "      <td id=\"T_e4974_row12_col10\" class=\"data row12 col10\" >-0.005022</td>\n",
       "      <td id=\"T_e4974_row12_col11\" class=\"data row12 col11\" >-0.266053</td>\n",
       "      <td id=\"T_e4974_row12_col12\" class=\"data row12 col12\" >1.000000</td>\n",
       "      <td id=\"T_e4974_row12_col13\" class=\"data row12 col13\" >-0.251174</td>\n",
       "      <td id=\"T_e4974_row12_col14\" class=\"data row12 col14\" >-0.002139</td>\n",
       "      <td id=\"T_e4974_row12_col15\" class=\"data row12 col15\" >-0.001486</td>\n",
       "      <td id=\"T_e4974_row12_col16\" class=\"data row12 col16\" >-0.002588</td>\n",
       "      <td id=\"T_e4974_row12_col17\" class=\"data row12 col17\" >-0.002729</td>\n",
       "      <td id=\"T_e4974_row12_col18\" class=\"data row12 col18\" >-0.003564</td>\n",
       "      <td id=\"T_e4974_row12_col19\" class=\"data row12 col19\" >-0.004044</td>\n",
       "    </tr>\n",
       "    <tr>\n",
       "      <th id=\"T_e4974_level0_row13\" class=\"row_heading level0 row13\" >torque times wear</th>\n",
       "      <td id=\"T_e4974_row13_col0\" class=\"data row13 col0\" >0.014314</td>\n",
       "      <td id=\"T_e4974_row13_col1\" class=\"data row13 col1\" >0.010579</td>\n",
       "      <td id=\"T_e4974_row13_col2\" class=\"data row13 col2\" >-0.247731</td>\n",
       "      <td id=\"T_e4974_row13_col3\" class=\"data row13 col3\" >0.318195</td>\n",
       "      <td id=\"T_e4974_row13_col4\" class=\"data row13 col4\" >0.926409</td>\n",
       "      <td id=\"T_e4974_row13_col5\" class=\"data row13 col5\" >0.301894</td>\n",
       "      <td id=\"T_e4974_row13_col6\" class=\"data row13 col6\" >-0.012464</td>\n",
       "      <td id=\"T_e4974_row13_col7\" class=\"data row13 col7\" >0.010579</td>\n",
       "      <td id=\"T_e4974_row13_col8\" class=\"data row13 col8\" >0.014314</td>\n",
       "      <td id=\"T_e4974_row13_col9\" class=\"data row13 col9\" >-0.013093</td>\n",
       "      <td id=\"T_e4974_row13_col10\" class=\"data row13 col10\" >0.105471</td>\n",
       "      <td id=\"T_e4974_row13_col11\" class=\"data row13 col11\" >0.861404</td>\n",
       "      <td id=\"T_e4974_row13_col12\" class=\"data row13 col12\" >-0.251174</td>\n",
       "      <td id=\"T_e4974_row13_col13\" class=\"data row13 col13\" >1.000000</td>\n",
       "      <td id=\"T_e4974_row13_col14\" class=\"data row13 col14\" >0.049676</td>\n",
       "      <td id=\"T_e4974_row13_col15\" class=\"data row13 col15\" >0.046765</td>\n",
       "      <td id=\"T_e4974_row13_col16\" class=\"data row13 col16\" >0.025560</td>\n",
       "      <td id=\"T_e4974_row13_col17\" class=\"data row13 col17\" >0.114310</td>\n",
       "      <td id=\"T_e4974_row13_col18\" class=\"data row13 col18\" >0.001712</td>\n",
       "      <td id=\"T_e4974_row13_col19\" class=\"data row13 col19\" >0.111041</td>\n",
       "    </tr>\n",
       "    <tr>\n",
       "      <th id=\"T_e4974_level0_row14\" class=\"row_heading level0 row14\" >TWF</th>\n",
       "      <td id=\"T_e4974_row14_col0\" class=\"data row14 col0\" >0.003826</td>\n",
       "      <td id=\"T_e4974_row14_col1\" class=\"data row14 col1\" >0.004459</td>\n",
       "      <td id=\"T_e4974_row14_col2\" class=\"data row14 col2\" >-0.005765</td>\n",
       "      <td id=\"T_e4974_row14_col3\" class=\"data row14 col3\" >0.012983</td>\n",
       "      <td id=\"T_e4974_row14_col4\" class=\"data row14 col4\" >0.046470</td>\n",
       "      <td id=\"T_e4974_row14_col5\" class=\"data row14 col5\" >0.012258</td>\n",
       "      <td id=\"T_e4974_row14_col6\" class=\"data row14 col6\" >-0.001132</td>\n",
       "      <td id=\"T_e4974_row14_col7\" class=\"data row14 col7\" >0.004459</td>\n",
       "      <td id=\"T_e4974_row14_col8\" class=\"data row14 col8\" >0.003826</td>\n",
       "      <td id=\"T_e4974_row14_col9\" class=\"data row14 col9\" >-0.002140</td>\n",
       "      <td id=\"T_e4974_row14_col10\" class=\"data row14 col10\" >0.339171</td>\n",
       "      <td id=\"T_e4974_row14_col11\" class=\"data row14 col11\" >0.044151</td>\n",
       "      <td id=\"T_e4974_row14_col12\" class=\"data row14 col12\" >-0.002139</td>\n",
       "      <td id=\"T_e4974_row14_col13\" class=\"data row14 col13\" >0.049676</td>\n",
       "      <td id=\"T_e4974_row14_col14\" class=\"data row14 col14\" >1.000000</td>\n",
       "      <td id=\"T_e4974_row14_col15\" class=\"data row14 col15\" >0.010145</td>\n",
       "      <td id=\"T_e4974_row14_col16\" class=\"data row14 col16\" >0.039927</td>\n",
       "      <td id=\"T_e4974_row14_col17\" class=\"data row14 col17\" >0.036041</td>\n",
       "      <td id=\"T_e4974_row14_col18\" class=\"data row14 col18\" >0.002044</td>\n",
       "      <td id=\"T_e4974_row14_col19\" class=\"data row14 col19\" >0.311919</td>\n",
       "    </tr>\n",
       "    <tr>\n",
       "      <th id=\"T_e4974_level0_row15\" class=\"row_heading level0 row15\" >HDF</th>\n",
       "      <td id=\"T_e4974_row15_col0\" class=\"data row15 col0\" >0.100454</td>\n",
       "      <td id=\"T_e4974_row15_col1\" class=\"data row15 col1\" >0.041454</td>\n",
       "      <td id=\"T_e4974_row15_col2\" class=\"data row15 col2\" >-0.081996</td>\n",
       "      <td id=\"T_e4974_row15_col3\" class=\"data row15 col3\" >0.100773</td>\n",
       "      <td id=\"T_e4974_row15_col4\" class=\"data row15 col4\" >0.011709</td>\n",
       "      <td id=\"T_e4974_row15_col5\" class=\"data row15 col5\" >0.076992</td>\n",
       "      <td id=\"T_e4974_row15_col6\" class=\"data row15 col6\" >-0.131452</td>\n",
       "      <td id=\"T_e4974_row15_col7\" class=\"data row15 col7\" >0.041454</td>\n",
       "      <td id=\"T_e4974_row15_col8\" class=\"data row15 col8\" >0.100454</td>\n",
       "      <td id=\"T_e4974_row15_col9\" class=\"data row15 col9\" >-0.122192</td>\n",
       "      <td id=\"T_e4974_row15_col10\" class=\"data row15 col10\" >0.599958</td>\n",
       "      <td id=\"T_e4974_row15_col11\" class=\"data row15 col11\" >-0.001724</td>\n",
       "      <td id=\"T_e4974_row15_col12\" class=\"data row15 col12\" >-0.001486</td>\n",
       "      <td id=\"T_e4974_row15_col13\" class=\"data row15 col13\" >0.046765</td>\n",
       "      <td id=\"T_e4974_row15_col14\" class=\"data row15 col14\" >0.010145</td>\n",
       "      <td id=\"T_e4974_row15_col15\" class=\"data row15 col15\" >1.000000</td>\n",
       "      <td id=\"T_e4974_row15_col16\" class=\"data row15 col16\" >0.046680</td>\n",
       "      <td id=\"T_e4974_row15_col17\" class=\"data row15 col17\" >0.067149</td>\n",
       "      <td id=\"T_e4974_row15_col18\" class=\"data row15 col18\" >0.000885</td>\n",
       "      <td id=\"T_e4974_row15_col19\" class=\"data row15 col19\" >0.564507</td>\n",
       "    </tr>\n",
       "    <tr>\n",
       "      <th id=\"T_e4974_level0_row16\" class=\"row_heading level0 row16\" >PWF</th>\n",
       "      <td id=\"T_e4974_row16_col0\" class=\"data row16 col0\" >0.007967</td>\n",
       "      <td id=\"T_e4974_row16_col1\" class=\"data row16 col1\" >0.003871</td>\n",
       "      <td id=\"T_e4974_row16_col2\" class=\"data row16 col2\" >0.053948</td>\n",
       "      <td id=\"T_e4974_row16_col3\" class=\"data row16 col3\" >0.050289</td>\n",
       "      <td id=\"T_e4974_row16_col4\" class=\"data row16 col4\" >0.007624</td>\n",
       "      <td id=\"T_e4974_row16_col5\" class=\"data row16 col5\" >0.052033</td>\n",
       "      <td id=\"T_e4974_row16_col6\" class=\"data row16 col6\" >-0.009629</td>\n",
       "      <td id=\"T_e4974_row16_col7\" class=\"data row16 col7\" >0.003871</td>\n",
       "      <td id=\"T_e4974_row16_col8\" class=\"data row16 col8\" >0.007967</td>\n",
       "      <td id=\"T_e4974_row16_col9\" class=\"data row16 col9\" >-0.008951</td>\n",
       "      <td id=\"T_e4974_row16_col10\" class=\"data row16 col10\" >0.454285</td>\n",
       "      <td id=\"T_e4974_row16_col11\" class=\"data row16 col11\" >0.015975</td>\n",
       "      <td id=\"T_e4974_row16_col12\" class=\"data row16 col12\" >-0.002588</td>\n",
       "      <td id=\"T_e4974_row16_col13\" class=\"data row16 col13\" >0.025560</td>\n",
       "      <td id=\"T_e4974_row16_col14\" class=\"data row16 col14\" >0.039927</td>\n",
       "      <td id=\"T_e4974_row16_col15\" class=\"data row16 col15\" >0.046680</td>\n",
       "      <td id=\"T_e4974_row16_col16\" class=\"data row16 col16\" >1.000000</td>\n",
       "      <td id=\"T_e4974_row16_col17\" class=\"data row16 col17\" >0.090016</td>\n",
       "      <td id=\"T_e4974_row16_col18\" class=\"data row16 col18\" >0.000827</td>\n",
       "      <td id=\"T_e4974_row16_col19\" class=\"data row16 col19\" >0.383941</td>\n",
       "    </tr>\n",
       "    <tr>\n",
       "      <th id=\"T_e4974_level0_row17\" class=\"row_heading level0 row17\" >OSF</th>\n",
       "      <td id=\"T_e4974_row17_col0\" class=\"data row17 col0\" >0.007842</td>\n",
       "      <td id=\"T_e4974_row17_col1\" class=\"data row17 col1\" >0.005337</td>\n",
       "      <td id=\"T_e4974_row17_col2\" class=\"data row17 col2\" >-0.061376</td>\n",
       "      <td id=\"T_e4974_row17_col3\" class=\"data row17 col3\" >0.108765</td>\n",
       "      <td id=\"T_e4974_row17_col4\" class=\"data row17 col4\" >0.063604</td>\n",
       "      <td id=\"T_e4974_row17_col5\" class=\"data row17 col5\" >0.099108</td>\n",
       "      <td id=\"T_e4974_row17_col6\" class=\"data row17 col6\" >-0.007421</td>\n",
       "      <td id=\"T_e4974_row17_col7\" class=\"data row17 col7\" >0.005337</td>\n",
       "      <td id=\"T_e4974_row17_col8\" class=\"data row17 col8\" >0.007842</td>\n",
       "      <td id=\"T_e4974_row17_col9\" class=\"data row17 col9\" >-0.007518</td>\n",
       "      <td id=\"T_e4974_row17_col10\" class=\"data row17 col10\" >0.560309</td>\n",
       "      <td id=\"T_e4974_row17_col11\" class=\"data row17 col11\" >0.048271</td>\n",
       "      <td id=\"T_e4974_row17_col12\" class=\"data row17 col12\" >-0.002729</td>\n",
       "      <td id=\"T_e4974_row17_col13\" class=\"data row17 col13\" >0.114310</td>\n",
       "      <td id=\"T_e4974_row17_col14\" class=\"data row17 col14\" >0.036041</td>\n",
       "      <td id=\"T_e4974_row17_col15\" class=\"data row17 col15\" >0.067149</td>\n",
       "      <td id=\"T_e4974_row17_col16\" class=\"data row17 col16\" >0.090016</td>\n",
       "      <td id=\"T_e4974_row17_col17\" class=\"data row17 col17\" >1.000000</td>\n",
       "      <td id=\"T_e4974_row17_col18\" class=\"data row17 col18\" >-0.000539</td>\n",
       "      <td id=\"T_e4974_row17_col19\" class=\"data row17 col19\" >0.494668</td>\n",
       "    </tr>\n",
       "    <tr>\n",
       "      <th id=\"T_e4974_level0_row18\" class=\"row_heading level0 row18\" >RNF</th>\n",
       "      <td id=\"T_e4974_row18_col0\" class=\"data row18 col0\" >0.004815</td>\n",
       "      <td id=\"T_e4974_row18_col1\" class=\"data row18 col1\" >0.004399</td>\n",
       "      <td id=\"T_e4974_row18_col2\" class=\"data row18 col2\" >-0.003410</td>\n",
       "      <td id=\"T_e4974_row18_col3\" class=\"data row18 col3\" >0.007986</td>\n",
       "      <td id=\"T_e4974_row18_col4\" class=\"data row18 col4\" >-0.002071</td>\n",
       "      <td id=\"T_e4974_row18_col5\" class=\"data row18 col5\" >0.007361</td>\n",
       "      <td id=\"T_e4974_row18_col6\" class=\"data row18 col6\" >-0.003082</td>\n",
       "      <td id=\"T_e4974_row18_col7\" class=\"data row18 col7\" >0.004399</td>\n",
       "      <td id=\"T_e4974_row18_col8\" class=\"data row18 col8\" >0.004815</td>\n",
       "      <td id=\"T_e4974_row18_col9\" class=\"data row18 col9\" >-0.003944</td>\n",
       "      <td id=\"T_e4974_row18_col10\" class=\"data row18 col10\" >0.363466</td>\n",
       "      <td id=\"T_e4974_row18_col11\" class=\"data row18 col11\" >-0.002980</td>\n",
       "      <td id=\"T_e4974_row18_col12\" class=\"data row18 col12\" >-0.003564</td>\n",
       "      <td id=\"T_e4974_row18_col13\" class=\"data row18 col13\" >0.001712</td>\n",
       "      <td id=\"T_e4974_row18_col14\" class=\"data row18 col14\" >0.002044</td>\n",
       "      <td id=\"T_e4974_row18_col15\" class=\"data row18 col15\" >0.000885</td>\n",
       "      <td id=\"T_e4974_row18_col16\" class=\"data row18 col16\" >0.000827</td>\n",
       "      <td id=\"T_e4974_row18_col17\" class=\"data row18 col17\" >-0.000539</td>\n",
       "      <td id=\"T_e4974_row18_col18\" class=\"data row18 col18\" >1.000000</td>\n",
       "      <td id=\"T_e4974_row18_col19\" class=\"data row18 col19\" >0.001428</td>\n",
       "    </tr>\n",
       "    <tr>\n",
       "      <th id=\"T_e4974_level0_row19\" class=\"row_heading level0 row19\" >Machine failure</th>\n",
       "      <td id=\"T_e4974_row19_col0\" class=\"data row19 col0\" >0.067744</td>\n",
       "      <td id=\"T_e4974_row19_col1\" class=\"data row19 col1\" >0.030966</td>\n",
       "      <td id=\"T_e4974_row19_col2\" class=\"data row19 col2\" >-0.060868</td>\n",
       "      <td id=\"T_e4974_row19_col3\" class=\"data row19 col3\" >0.145793</td>\n",
       "      <td id=\"T_e4974_row19_col4\" class=\"data row19 col4\" >0.056448</td>\n",
       "      <td id=\"T_e4974_row19_col5\" class=\"data row19 col5\" >0.128222</td>\n",
       "      <td id=\"T_e4974_row19_col6\" class=\"data row19 col6\" >-0.084591</td>\n",
       "      <td id=\"T_e4974_row19_col7\" class=\"data row19 col7\" >0.030966</td>\n",
       "      <td id=\"T_e4974_row19_col8\" class=\"data row19 col8\" >0.067744</td>\n",
       "      <td id=\"T_e4974_row19_col9\" class=\"data row19 col9\" >-0.079588</td>\n",
       "      <td id=\"T_e4974_row19_col10\" class=\"data row19 col10\" >0.783519</td>\n",
       "      <td id=\"T_e4974_row19_col11\" class=\"data row19 col11\" >0.043777</td>\n",
       "      <td id=\"T_e4974_row19_col12\" class=\"data row19 col12\" >-0.004044</td>\n",
       "      <td id=\"T_e4974_row19_col13\" class=\"data row19 col13\" >0.111041</td>\n",
       "      <td id=\"T_e4974_row19_col14\" class=\"data row19 col14\" >0.311919</td>\n",
       "      <td id=\"T_e4974_row19_col15\" class=\"data row19 col15\" >0.564507</td>\n",
       "      <td id=\"T_e4974_row19_col16\" class=\"data row19 col16\" >0.383941</td>\n",
       "      <td id=\"T_e4974_row19_col17\" class=\"data row19 col17\" >0.494668</td>\n",
       "      <td id=\"T_e4974_row19_col18\" class=\"data row19 col18\" >0.001428</td>\n",
       "      <td id=\"T_e4974_row19_col19\" class=\"data row19 col19\" >1.000000</td>\n",
       "    </tr>\n",
       "  </tbody>\n",
       "</table>\n"
      ],
      "text/plain": [
       "<pandas.io.formats.style.Styler at 0x7859cd36c310>"
      ]
     },
     "execution_count": 15,
     "metadata": {},
     "output_type": "execute_result"
    }
   ],
   "source": [
    "corr = df_train[num_features + bin_features  + ['Machine failure']].corr(numeric_only=True)\n",
    "corr.style.background_gradient(cmap='Blues')"
   ]
  },
  {
   "cell_type": "markdown",
   "id": "8321ddfa",
   "metadata": {
    "papermill": {
     "duration": 0.022255,
     "end_time": "2023-06-26T18:07:37.598150",
     "exception": false,
     "start_time": "2023-06-26T18:07:37.575895",
     "status": "completed"
    },
    "tags": []
   },
   "source": [
    "## <span style=\"color:green;\">Evaluation Metric (AUC)</span>\n"
   ]
  },
  {
   "cell_type": "code",
   "execution_count": 16,
   "id": "7b9dd222",
   "metadata": {
    "execution": {
     "iopub.execute_input": "2023-06-26T18:07:37.645999Z",
     "iopub.status.busy": "2023-06-26T18:07:37.645566Z",
     "iopub.status.idle": "2023-06-26T18:07:37.656315Z",
     "shell.execute_reply": "2023-06-26T18:07:37.655311Z"
    },
    "papermill": {
     "duration": 0.038026,
     "end_time": "2023-06-26T18:07:37.658877",
     "exception": false,
     "start_time": "2023-06-26T18:07:37.620851",
     "status": "completed"
    },
    "tags": []
   },
   "outputs": [],
   "source": [
    "from sklearn.metrics import roc_auc_score, roc_curve, auc\n",
    "\n",
    "def roc_auc(true_list, pred_list, a, b):\n",
    "    \n",
    "    fpr, tpr, _ = roc_curve(true_list, pred_list)    \n",
    "    roc_auc = auc(fpr, tpr)\n",
    "\n",
    "    # print(f'FPR: {fpr}')\n",
    "    # print(f'TPR: {tpr}')\n",
    "    # print(f'{list(zip(fpr,tpr))}') \n",
    "    print(f'\\n>>>>> ROC_AUC: %0.6f <<<<<\\n' %roc_auc)\n",
    "    \n",
    "    sns.set()\n",
    "    plt.style.use('seaborn-whitegrid')\n",
    "    plt.figure(figsize=(a, b), facecolor='lightgray')\n",
    "    plt.gca().set_facecolor('lightyellow')\n",
    "    plt.plot(fpr, tpr, color='darkorange', lw=2, label='ROC curve')\n",
    "    plt.plot([0, 1], [0, 1], color='navy', lw=2, linestyle='--')\n",
    "    plt.xlim([-0.01, 1.0])\n",
    "    plt.ylim([0.0, 1.05])\n",
    "    plt.xlabel('False Positive Rate')\n",
    "    plt.ylabel('True Positive Rate')\n",
    "    plt.title('The area under the ROC curve\\n')\n",
    "    plt.legend(loc=\"lower right\")\n",
    "    plt.show()"
   ]
  },
  {
   "cell_type": "markdown",
   "id": "83d25db4",
   "metadata": {
    "papermill": {
     "duration": 0.022196,
     "end_time": "2023-06-26T18:07:37.703676",
     "exception": false,
     "start_time": "2023-06-26T18:07:37.681480",
     "status": "completed"
    },
    "tags": []
   },
   "source": [
    "\n",
    "## <span style=\"color:darkcyan;\">Data Preprocessing</span>\n",
    "\n"
   ]
  },
  {
   "cell_type": "code",
   "execution_count": 17,
   "id": "2d9a5880",
   "metadata": {
    "execution": {
     "iopub.execute_input": "2023-06-26T18:07:37.751198Z",
     "iopub.status.busy": "2023-06-26T18:07:37.750794Z",
     "iopub.status.idle": "2023-06-26T18:07:37.756019Z",
     "shell.execute_reply": "2023-06-26T18:07:37.754858Z"
    },
    "papermill": {
     "duration": 0.031974,
     "end_time": "2023-06-26T18:07:37.758743",
     "exception": false,
     "start_time": "2023-06-26T18:07:37.726769",
     "status": "completed"
    },
    "tags": []
   },
   "outputs": [],
   "source": [
    "from sklearn.preprocessing import StandardScaler, LabelEncoder"
   ]
  },
  {
   "cell_type": "markdown",
   "id": "9544d110",
   "metadata": {
    "papermill": {
     "duration": 0.022768,
     "end_time": "2023-06-26T18:07:37.803959",
     "exception": false,
     "start_time": "2023-06-26T18:07:37.781191",
     "status": "completed"
    },
    "tags": []
   },
   "source": [
    "### <span style=\"color:green;\">Scale the numerical features</span>"
   ]
  },
  {
   "cell_type": "code",
   "execution_count": 18,
   "id": "d42bb607",
   "metadata": {
    "execution": {
     "iopub.execute_input": "2023-06-26T18:07:37.851098Z",
     "iopub.status.busy": "2023-06-26T18:07:37.850639Z",
     "iopub.status.idle": "2023-06-26T18:07:37.975561Z",
     "shell.execute_reply": "2023-06-26T18:07:37.974032Z"
    },
    "papermill": {
     "duration": 0.152235,
     "end_time": "2023-06-26T18:07:37.978755",
     "exception": false,
     "start_time": "2023-06-26T18:07:37.826520",
     "status": "completed"
    },
    "tags": []
   },
   "outputs": [],
   "source": [
    "scaler = StandardScaler()\n",
    "\n",
    "df_train[num_features] = scaler.fit_transform(df_train[num_features])\n",
    "df_test[num_features] = scaler.fit_transform(df_test[num_features])"
   ]
  },
  {
   "cell_type": "markdown",
   "id": "d403791b",
   "metadata": {
    "papermill": {
     "duration": 0.022177,
     "end_time": "2023-06-26T18:07:38.023471",
     "exception": false,
     "start_time": "2023-06-26T18:07:38.001294",
     "status": "completed"
    },
    "tags": []
   },
   "source": [
    "### <span style=\"color:green;\">Columns Rename</span>\n",
    "\n",
    "XGBoost doesn't work with column names that have \"[\" or \"]\" in them."
   ]
  },
  {
   "cell_type": "code",
   "execution_count": 19,
   "id": "8c9061f3",
   "metadata": {
    "execution": {
     "iopub.execute_input": "2023-06-26T18:07:38.070548Z",
     "iopub.status.busy": "2023-06-26T18:07:38.070119Z",
     "iopub.status.idle": "2023-06-26T18:07:38.077044Z",
     "shell.execute_reply": "2023-06-26T18:07:38.075990Z"
    },
    "papermill": {
     "duration": 0.033338,
     "end_time": "2023-06-26T18:07:38.079350",
     "exception": false,
     "start_time": "2023-06-26T18:07:38.046012",
     "status": "completed"
    },
    "tags": []
   },
   "outputs": [],
   "source": [
    "def fix_names(df):\n",
    "    df.columns = df.columns.str.replace('[\\[\\]]', '', regex=True)\n",
    "    return df\n",
    "\n",
    "df_train = fix_names(df_train)\n",
    "df_test  = fix_names(df_test)"
   ]
  },
  {
   "cell_type": "markdown",
   "id": "e49016e8",
   "metadata": {
    "papermill": {
     "duration": 0.022104,
     "end_time": "2023-06-26T18:07:38.124249",
     "exception": false,
     "start_time": "2023-06-26T18:07:38.102145",
     "status": "completed"
    },
    "tags": []
   },
   "source": [
    "### <span style=\"color:green;\">Dropping the feature: 'Product ID'</span>\n",
    "\n",
    "This feature has 9976 different shapes and does not help in calculations."
   ]
  },
  {
   "cell_type": "code",
   "execution_count": 20,
   "id": "e1c5c761",
   "metadata": {
    "execution": {
     "iopub.execute_input": "2023-06-26T18:07:38.171381Z",
     "iopub.status.busy": "2023-06-26T18:07:38.170933Z",
     "iopub.status.idle": "2023-06-26T18:07:38.246322Z",
     "shell.execute_reply": "2023-06-26T18:07:38.244985Z"
    },
    "papermill": {
     "duration": 0.101886,
     "end_time": "2023-06-26T18:07:38.248989",
     "exception": false,
     "start_time": "2023-06-26T18:07:38.147103",
     "status": "completed"
    },
    "tags": []
   },
   "outputs": [
    {
     "data": {
      "text/html": [
       "<div>\n",
       "<style scoped>\n",
       "    .dataframe tbody tr th:only-of-type {\n",
       "        vertical-align: middle;\n",
       "    }\n",
       "\n",
       "    .dataframe tbody tr th {\n",
       "        vertical-align: top;\n",
       "    }\n",
       "\n",
       "    .dataframe thead th {\n",
       "        text-align: right;\n",
       "    }\n",
       "</style>\n",
       "<table border=\"1\" class=\"dataframe\">\n",
       "  <thead>\n",
       "    <tr style=\"text-align: right;\">\n",
       "      <th></th>\n",
       "      <th>Number</th>\n",
       "      <th>Percent</th>\n",
       "    </tr>\n",
       "  </thead>\n",
       "  <tbody>\n",
       "    <tr>\n",
       "      <th>L53257</th>\n",
       "      <td>139</td>\n",
       "      <td>0.001019</td>\n",
       "    </tr>\n",
       "    <tr>\n",
       "      <th>L49056</th>\n",
       "      <td>131</td>\n",
       "      <td>0.000960</td>\n",
       "    </tr>\n",
       "    <tr>\n",
       "      <th>L53271</th>\n",
       "      <td>131</td>\n",
       "      <td>0.000960</td>\n",
       "    </tr>\n",
       "    <tr>\n",
       "      <th>L54275</th>\n",
       "      <td>120</td>\n",
       "      <td>0.000880</td>\n",
       "    </tr>\n",
       "    <tr>\n",
       "      <th>L48892</th>\n",
       "      <td>120</td>\n",
       "      <td>0.000880</td>\n",
       "    </tr>\n",
       "    <tr>\n",
       "      <th>...</th>\n",
       "      <td>...</td>\n",
       "      <td>...</td>\n",
       "    </tr>\n",
       "    <tr>\n",
       "      <th>M24614</th>\n",
       "      <td>1</td>\n",
       "      <td>0.000007</td>\n",
       "    </tr>\n",
       "    <tr>\n",
       "      <th>H39399</th>\n",
       "      <td>1</td>\n",
       "      <td>0.000007</td>\n",
       "    </tr>\n",
       "    <tr>\n",
       "      <th>M15853</th>\n",
       "      <td>1</td>\n",
       "      <td>0.000007</td>\n",
       "    </tr>\n",
       "    <tr>\n",
       "      <th>H32637</th>\n",
       "      <td>1</td>\n",
       "      <td>0.000007</td>\n",
       "    </tr>\n",
       "    <tr>\n",
       "      <th>L48036</th>\n",
       "      <td>1</td>\n",
       "      <td>0.000007</td>\n",
       "    </tr>\n",
       "  </tbody>\n",
       "</table>\n",
       "<p>9976 rows × 2 columns</p>\n",
       "</div>"
      ],
      "text/plain": [
       "        Number   Percent\n",
       "L53257     139  0.001019\n",
       "L49056     131  0.000960\n",
       "L53271     131  0.000960\n",
       "L54275     120  0.000880\n",
       "L48892     120  0.000880\n",
       "...        ...       ...\n",
       "M24614       1  0.000007\n",
       "H39399       1  0.000007\n",
       "M15853       1  0.000007\n",
       "H32637       1  0.000007\n",
       "L48036       1  0.000007\n",
       "\n",
       "[9976 rows x 2 columns]"
      ]
     },
     "metadata": {},
     "output_type": "display_data"
    }
   ],
   "source": [
    "display(pd.DataFrame(data= {'Number': df_train['Product ID'].value_counts(), 'Percent': df_train['Product ID'].value_counts(normalize=True)}))"
   ]
  },
  {
   "cell_type": "code",
   "execution_count": 21,
   "id": "652ff0f9",
   "metadata": {
    "execution": {
     "iopub.execute_input": "2023-06-26T18:07:38.296614Z",
     "iopub.status.busy": "2023-06-26T18:07:38.296232Z",
     "iopub.status.idle": "2023-06-26T18:07:38.319328Z",
     "shell.execute_reply": "2023-06-26T18:07:38.318313Z"
    },
    "papermill": {
     "duration": 0.049828,
     "end_time": "2023-06-26T18:07:38.321903",
     "exception": false,
     "start_time": "2023-06-26T18:07:38.272075",
     "status": "completed"
    },
    "tags": []
   },
   "outputs": [],
   "source": [
    "df_train = df_train.drop(['Product ID'] , axis=1)\n",
    "df_test = df_test.drop(['Product ID'] , axis=1)"
   ]
  },
  {
   "cell_type": "code",
   "execution_count": 22,
   "id": "4da81e59",
   "metadata": {
    "execution": {
     "iopub.execute_input": "2023-06-26T18:07:38.369852Z",
     "iopub.status.busy": "2023-06-26T18:07:38.369441Z",
     "iopub.status.idle": "2023-06-26T18:07:38.376551Z",
     "shell.execute_reply": "2023-06-26T18:07:38.375379Z"
    },
    "papermill": {
     "duration": 0.034165,
     "end_time": "2023-06-26T18:07:38.379045",
     "exception": false,
     "start_time": "2023-06-26T18:07:38.344880",
     "status": "completed"
    },
    "tags": []
   },
   "outputs": [
    {
     "data": {
      "text/plain": [
       "(136429, 21)"
      ]
     },
     "execution_count": 22,
     "metadata": {},
     "output_type": "execute_result"
    }
   ],
   "source": [
    "df_train.shape"
   ]
  },
  {
   "cell_type": "markdown",
   "id": "ff616264",
   "metadata": {
    "papermill": {
     "duration": 0.023359,
     "end_time": "2023-06-26T18:07:38.425323",
     "exception": false,
     "start_time": "2023-06-26T18:07:38.401964",
     "status": "completed"
    },
    "tags": []
   },
   "source": [
    "### <span style=\"color:green;\">Convert Categorical features</span>\n",
    "\n",
    "The first method: pandas.get_dummies (OneHotEncoder)"
   ]
  },
  {
   "cell_type": "code",
   "execution_count": 23,
   "id": "5ef29fe8",
   "metadata": {
    "execution": {
     "iopub.execute_input": "2023-06-26T18:07:38.473561Z",
     "iopub.status.busy": "2023-06-26T18:07:38.473152Z",
     "iopub.status.idle": "2023-06-26T18:07:38.479527Z",
     "shell.execute_reply": "2023-06-26T18:07:38.478310Z"
    },
    "papermill": {
     "duration": 0.03362,
     "end_time": "2023-06-26T18:07:38.481945",
     "exception": false,
     "start_time": "2023-06-26T18:07:38.448325",
     "status": "completed"
    },
    "tags": []
   },
   "outputs": [],
   "source": [
    "features = df_train.columns.tolist()\n",
    "features.remove('Machine failure')\n",
    "\n",
    "# Categorical features\n",
    "cat_features = ['Type']\n",
    "\n",
    "# Binary features\n",
    "bin_features = ['TWF', 'HDF', 'PWF', 'OSF', 'RNF']\n",
    "\n",
    "# Numerical features\n",
    "num_features = [f for f in features if f not in (cat_features + bin_features)]"
   ]
  },
  {
   "cell_type": "code",
   "execution_count": 24,
   "id": "65ce4961",
   "metadata": {
    "execution": {
     "iopub.execute_input": "2023-06-26T18:07:38.530489Z",
     "iopub.status.busy": "2023-06-26T18:07:38.529744Z",
     "iopub.status.idle": "2023-06-26T18:07:38.610605Z",
     "shell.execute_reply": "2023-06-26T18:07:38.609409Z"
    },
    "papermill": {
     "duration": 0.107922,
     "end_time": "2023-06-26T18:07:38.613224",
     "exception": false,
     "start_time": "2023-06-26T18:07:38.505302",
     "status": "completed"
    },
    "tags": []
   },
   "outputs": [
    {
     "data": {
      "text/plain": [
       "((136429, 22), (90954, 22), (136429,))"
      ]
     },
     "execution_count": 24,
     "metadata": {},
     "output_type": "execute_result"
    }
   ],
   "source": [
    "train_code = pd.get_dummies(df_train, columns=cat_features)\n",
    "test_code = pd.get_dummies(df_test, columns=cat_features)\n",
    "target = train_code.pop('Machine failure')\n",
    "\n",
    "train_code.shape, test_code.shape, target.shape"
   ]
  },
  {
   "cell_type": "code",
   "execution_count": 25,
   "id": "5166f6c4",
   "metadata": {
    "execution": {
     "iopub.execute_input": "2023-06-26T18:07:38.663775Z",
     "iopub.status.busy": "2023-06-26T18:07:38.663333Z",
     "iopub.status.idle": "2023-06-26T18:07:38.668945Z",
     "shell.execute_reply": "2023-06-26T18:07:38.667745Z"
    },
    "papermill": {
     "duration": 0.034438,
     "end_time": "2023-06-26T18:07:38.671353",
     "exception": false,
     "start_time": "2023-06-26T18:07:38.636915",
     "status": "completed"
    },
    "tags": []
   },
   "outputs": [],
   "source": [
    "new_features=train_code.columns.to_list()\n"
   ]
  },
  {
   "cell_type": "code",
   "execution_count": 26,
   "id": "3d642e43",
   "metadata": {
    "execution": {
     "iopub.execute_input": "2023-06-26T18:07:38.719489Z",
     "iopub.status.busy": "2023-06-26T18:07:38.719071Z",
     "iopub.status.idle": "2023-06-26T18:07:38.741802Z",
     "shell.execute_reply": "2023-06-26T18:07:38.740884Z"
    },
    "papermill": {
     "duration": 0.050016,
     "end_time": "2023-06-26T18:07:38.744379",
     "exception": false,
     "start_time": "2023-06-26T18:07:38.694363",
     "status": "completed"
    },
    "tags": []
   },
   "outputs": [],
   "source": [
    "from sklearn.naive_bayes import GaussianNB\n",
    "\n",
    "from sklearn.pipeline import make_pipeline\n",
    "from sklearn.model_selection import cross_val_score\n",
    "from sklearn.preprocessing import QuantileTransformer"
   ]
  },
  {
   "cell_type": "markdown",
   "id": "fa4d08c4",
   "metadata": {
    "papermill": {
     "duration": 0.023074,
     "end_time": "2023-06-26T18:07:38.791678",
     "exception": false,
     "start_time": "2023-06-26T18:07:38.768604",
     "status": "completed"
    },
    "tags": []
   },
   "source": [
    "CatBoost"
   ]
  },
  {
   "cell_type": "code",
   "execution_count": 27,
   "id": "12879d89",
   "metadata": {
    "execution": {
     "iopub.execute_input": "2023-06-26T18:07:38.839885Z",
     "iopub.status.busy": "2023-06-26T18:07:38.839338Z",
     "iopub.status.idle": "2023-06-26T18:08:04.899922Z",
     "shell.execute_reply": "2023-06-26T18:08:04.898783Z"
    },
    "papermill": {
     "duration": 26.087854,
     "end_time": "2023-06-26T18:08:04.902491",
     "exception": false,
     "start_time": "2023-06-26T18:07:38.814637",
     "status": "completed"
    },
    "tags": []
   },
   "outputs": [
    {
     "data": {
      "application/vnd.jupyter.widget-view+json": {
       "model_id": "f0493ac0be774bc4bed78a5a0e18af0c",
       "version_major": 2,
       "version_minor": 0
      },
      "text/plain": [
       "MetricVisualizer(layout=Layout(align_self='stretch', height='500px'))"
      ]
     },
     "metadata": {},
     "output_type": "display_data"
    },
    {
     "data": {
      "text/plain": [
       "<catboost.core.CatBoostClassifier at 0x7859cd3644c0>"
      ]
     },
     "execution_count": 27,
     "metadata": {},
     "output_type": "execute_result"
    }
   ],
   "source": [
    "params ={'loss_function': 'Logloss',\n",
    "         'eval_metric': 'AUC',\n",
    "         'random_seed': 19970507,\n",
    "         'learning_rate': 0.027, \n",
    "          'iterations': 927, \n",
    "          'depth': 5, \n",
    "          'subsample': 0.705}\n",
    "\n",
    "train_pool = Pool(train_code.to_numpy(), target.to_numpy(), \n",
    "                  feature_names=new_features)\n",
    "\n",
    "model = CatBoostClassifier()\n",
    "\n",
    "model.fit(train_pool, eval_set=train_pool, verbose=False, plot=True)\n",
    "\n"
   ]
  },
  {
   "cell_type": "code",
   "execution_count": 28,
   "id": "6280caf3",
   "metadata": {
    "execution": {
     "iopub.execute_input": "2023-06-26T18:08:04.952978Z",
     "iopub.status.busy": "2023-06-26T18:08:04.952438Z",
     "iopub.status.idle": "2023-06-26T18:08:05.125337Z",
     "shell.execute_reply": "2023-06-26T18:08:05.123988Z"
    },
    "papermill": {
     "duration": 0.20149,
     "end_time": "2023-06-26T18:08:05.128122",
     "exception": false,
     "start_time": "2023-06-26T18:08:04.926632",
     "status": "completed"
    },
    "tags": []
   },
   "outputs": [
    {
     "name": "stdout",
     "output_type": "stream",
     "text": [
      "Train Score: 0.927806339209432\n"
     ]
    }
   ],
   "source": [
    "train_auc = AUC(target, model.predict(train_code))\n",
    "print(f\"Train Score: {train_auc}\")"
   ]
  },
  {
   "cell_type": "code",
   "execution_count": 29,
   "id": "09c2c741",
   "metadata": {
    "execution": {
     "iopub.execute_input": "2023-06-26T18:08:05.179167Z",
     "iopub.status.busy": "2023-06-26T18:08:05.178742Z",
     "iopub.status.idle": "2023-06-26T18:08:05.265731Z",
     "shell.execute_reply": "2023-06-26T18:08:05.264513Z"
    },
    "papermill": {
     "duration": 0.115479,
     "end_time": "2023-06-26T18:08:05.268379",
     "exception": false,
     "start_time": "2023-06-26T18:08:05.152900",
     "status": "completed"
    },
    "tags": []
   },
   "outputs": [
    {
     "data": {
      "text/plain": [
       "array([0.00184389, 0.00046861, 0.00312221, ..., 0.00205389, 0.00147637,\n",
       "       0.001676  ])"
      ]
     },
     "execution_count": 29,
     "metadata": {},
     "output_type": "execute_result"
    }
   ],
   "source": [
    "test_pool = Pool(test_code.to_numpy(), \n",
    "                 feature_names=new_features)\n",
    "pred = model.predict_proba(test_pool)[:, 1]\n",
    "pred"
   ]
  },
  {
   "cell_type": "code",
   "execution_count": 30,
   "id": "61c7d4bc",
   "metadata": {
    "execution": {
     "iopub.execute_input": "2023-06-26T18:08:05.318190Z",
     "iopub.status.busy": "2023-06-26T18:08:05.317765Z",
     "iopub.status.idle": "2023-06-26T18:08:06.844803Z",
     "shell.execute_reply": "2023-06-26T18:08:06.842966Z"
    },
    "papermill": {
     "duration": 1.555208,
     "end_time": "2023-06-26T18:08:06.847651",
     "exception": false,
     "start_time": "2023-06-26T18:08:05.292443",
     "status": "completed"
    },
    "tags": []
   },
   "outputs": [
    {
     "name": "stdout",
     "output_type": "stream",
     "text": [
      "__notebook__.ipynb  catboost_info  submission_cat.csv\r\n"
     ]
    }
   ],
   "source": [
    "sub_cat = pd.read_csv('/kaggle/input/playground-series-s3e17/sample_submission.csv')\n",
    "sub_cat['Machine failure'] = pred\n",
    "sub_cat.to_csv('submission_cat.csv',index=False)\n",
    "!ls"
   ]
  },
  {
   "cell_type": "markdown",
   "id": "f6d5e096",
   "metadata": {
    "papermill": {
     "duration": 0.024007,
     "end_time": "2023-06-26T18:08:06.895885",
     "exception": false,
     "start_time": "2023-06-26T18:08:06.871878",
     "status": "completed"
    },
    "tags": []
   },
   "source": [
    "LightGBM"
   ]
  },
  {
   "cell_type": "code",
   "execution_count": 31,
   "id": "d14a070b",
   "metadata": {
    "execution": {
     "iopub.execute_input": "2023-06-26T18:08:06.945902Z",
     "iopub.status.busy": "2023-06-26T18:08:06.945390Z",
     "iopub.status.idle": "2023-06-26T18:08:07.019366Z",
     "shell.execute_reply": "2023-06-26T18:08:07.018335Z"
    },
    "papermill": {
     "duration": 0.102827,
     "end_time": "2023-06-26T18:08:07.022470",
     "exception": false,
     "start_time": "2023-06-26T18:08:06.919643",
     "status": "completed"
    },
    "tags": []
   },
   "outputs": [],
   "source": [
    "from sklearn.model_selection import StratifiedKFold\n",
    "\n",
    "sk = StratifiedKFold(n_splits=10, shuffle=True, random_state=42)\n",
    "df_fold = pd.DataFrame()\n",
    "df_fold[\"fold\"] = np.zeros(len(df_train))\n",
    "for k, (train_idx, val_idx) in enumerate(sk.split(df_train, df_train['Machine failure'])):\n",
    "    df_fold.loc[val_idx, \"fold\"] = k\n",
    "\n",
    "df_fold[\"fold\"] = df_fold[\"fold\"].astype(int)"
   ]
  },
  {
   "cell_type": "code",
   "execution_count": 32,
   "id": "dce9aa11",
   "metadata": {
    "execution": {
     "iopub.execute_input": "2023-06-26T18:08:07.072758Z",
     "iopub.status.busy": "2023-06-26T18:08:07.072304Z",
     "iopub.status.idle": "2023-06-26T18:08:08.062421Z",
     "shell.execute_reply": "2023-06-26T18:08:08.061395Z"
    },
    "papermill": {
     "duration": 1.018696,
     "end_time": "2023-06-26T18:08:08.065041",
     "exception": false,
     "start_time": "2023-06-26T18:08:07.046345",
     "status": "completed"
    },
    "tags": []
   },
   "outputs": [],
   "source": [
    "import lightgbm as lgbm\n",
    "from sklearn.metrics import roc_auc_score\n",
    "class LGBMBuilder:\n",
    "    def __init__(self, opt=False):\n",
    "        self.config = {\n",
    "            'reg_alpha': 9.447560026770628,   # MAGIC NUMBER :) (founded with Optuna HPO)\n",
    "            'reg_lambda': 1.56941300531116,   # MAGIC NUMBER :) (founded with Optuna HPO)\n",
    "            'metric': 'auc',\n",
    "            'objective': 'binary',\n",
    "            'boosting_type': 'gbdt',\n",
    "        }\n",
    "\n",
    "    def set_opt_config(self, trial):\n",
    "        config = {\n",
    "            \"objective\": \"binary\",\n",
    "            \"metric\": \"binary_logloss\",\n",
    "            \"verbosity\": -1,\n",
    "            \"boosting_type\": \"gbdt\",\n",
    "            'metric': 'auc',\n",
    "            \"reg_alpha\": trial.suggest_float(\"reg_alpha\", 1e-8, 10.0, log=True),\n",
    "            \"reg_lambda\": trial.suggest_float(\"reg_lambda\", 1e-8, 10.0, log=True),\n",
    "        }\n",
    "        self.config = config\n",
    "\n",
    "    def new_model(self):\n",
    "        self.model = lgbm.LGBMClassifier(**self.config)\n",
    "        \n",
    "    def fit(self, X, y, X_val=None, y_val=None):\n",
    "        self.model.fit(X, y)\n",
    "\n",
    "    def predict_proba(self, X):\n",
    "        return self.model.predict_proba(X)[:, 1].flatten()\n",
    "    "
   ]
  },
  {
   "cell_type": "code",
   "execution_count": 33,
   "id": "d0aa5258",
   "metadata": {
    "execution": {
     "iopub.execute_input": "2023-06-26T18:08:08.116332Z",
     "iopub.status.busy": "2023-06-26T18:08:08.115572Z",
     "iopub.status.idle": "2023-06-26T18:08:08.128272Z",
     "shell.execute_reply": "2023-06-26T18:08:08.126943Z"
    },
    "papermill": {
     "duration": 0.041918,
     "end_time": "2023-06-26T18:08:08.131449",
     "exception": false,
     "start_time": "2023-06-26T18:08:08.089531",
     "status": "completed"
    },
    "tags": []
   },
   "outputs": [],
   "source": [
    "def train(model_builder, df, df_fold):\n",
    "    scores = []\n",
    "    models = []\n",
    "\n",
    "    for fold in range(10):\n",
    "        val_idx = df_fold[\"fold\"] == fold\n",
    "        train_idx = df_fold[\"fold\"] != fold\n",
    "        df_train = df.loc[train_idx, :]\n",
    "        df_val = df.loc[val_idx, :]\n",
    "\n",
    "        y_train = target[train_idx]\n",
    "        y_val = target[val_idx]\n",
    "\n",
    "        # Training and Eval\n",
    "        model_builder.new_model()\n",
    "        model_builder.fit(df_train, y_train, df_val, y_val)\n",
    "        y_pred = model_builder.predict_proba(df_val)\n",
    "        score = roc_auc_score(y_val, y_pred)\n",
    "        print(f\"fold {fold} - AUC {score:.5f}\")\n",
    "\n",
    "        scores.append(score)\n",
    "        models.append(model_builder)\n",
    "\n",
    "    cv_score = np.mean(scores)\n",
    "\n",
    "    print(\"CV\", cv_score)\n",
    "    \n",
    "    return models, cv_score"
   ]
  },
  {
   "cell_type": "code",
   "execution_count": 34,
   "id": "b65bc1fc",
   "metadata": {
    "execution": {
     "iopub.execute_input": "2023-06-26T18:08:08.181349Z",
     "iopub.status.busy": "2023-06-26T18:08:08.180897Z",
     "iopub.status.idle": "2023-06-26T18:08:26.257766Z",
     "shell.execute_reply": "2023-06-26T18:08:26.256098Z"
    },
    "papermill": {
     "duration": 18.104753,
     "end_time": "2023-06-26T18:08:26.260411",
     "exception": false,
     "start_time": "2023-06-26T18:08:08.155658",
     "status": "completed"
    },
    "tags": []
   },
   "outputs": [
    {
     "name": "stdout",
     "output_type": "stream",
     "text": [
      "fold 0 - AUC 0.95883\n",
      "fold 1 - AUC 0.96962\n",
      "fold 2 - AUC 0.96841\n",
      "fold 3 - AUC 0.96619\n",
      "fold 4 - AUC 0.97467\n",
      "fold 5 - AUC 0.96577\n",
      "fold 6 - AUC 0.96002\n",
      "fold 7 - AUC 0.97058\n",
      "fold 8 - AUC 0.95376\n",
      "fold 9 - AUC 0.95873\n",
      "CV 0.9646579621237115\n"
     ]
    }
   ],
   "source": [
    "model_builder = LGBMBuilder()\n",
    "models, score = train(model_builder, train_code, df_fold)"
   ]
  },
  {
   "cell_type": "code",
   "execution_count": 35,
   "id": "9225c410",
   "metadata": {
    "execution": {
     "iopub.execute_input": "2023-06-26T18:08:26.313082Z",
     "iopub.status.busy": "2023-06-26T18:08:26.312669Z",
     "iopub.status.idle": "2023-06-26T18:08:28.829213Z",
     "shell.execute_reply": "2023-06-26T18:08:28.828177Z"
    },
    "papermill": {
     "duration": 2.54582,
     "end_time": "2023-06-26T18:08:28.831757",
     "exception": false,
     "start_time": "2023-06-26T18:08:26.285937",
     "status": "completed"
    },
    "tags": []
   },
   "outputs": [],
   "source": [
    "y_test = 0\n",
    "for m in models:\n",
    "    y_test = m.predict_proba(test_code)\n",
    "\n",
    "y_test /= len(models)"
   ]
  },
  {
   "cell_type": "code",
   "execution_count": 36,
   "id": "65721b62",
   "metadata": {
    "execution": {
     "iopub.execute_input": "2023-06-26T18:08:28.885398Z",
     "iopub.status.busy": "2023-06-26T18:08:28.884788Z",
     "iopub.status.idle": "2023-06-26T18:08:29.427574Z",
     "shell.execute_reply": "2023-06-26T18:08:29.426639Z"
    },
    "papermill": {
     "duration": 0.572462,
     "end_time": "2023-06-26T18:08:29.430309",
     "exception": false,
     "start_time": "2023-06-26T18:08:28.857847",
     "status": "completed"
    },
    "tags": []
   },
   "outputs": [],
   "source": [
    "df_sub = pd.DataFrame()\n",
    "\n",
    "# read the test another time to get the id\n",
    "df_test = pd.read_csv(\"/kaggle/input/playground-series-s3e17/test.csv\")\n",
    "df_sub[\"id\"] = df_test[\"id\"]\n",
    "df_sub[\"Machine failure\"] = y_test\n",
    "df_sub.to_csv(\"submission_lgb.csv\", index=False)"
   ]
  },
  {
   "cell_type": "markdown",
   "id": "daecb343",
   "metadata": {
    "papermill": {
     "duration": 0.024447,
     "end_time": "2023-06-26T18:08:29.479363",
     "exception": false,
     "start_time": "2023-06-26T18:08:29.454916",
     "status": "completed"
    },
    "tags": []
   },
   "source": [
    "## <span style=\"color:darkred;\">Ensembling & Submission</span>"
   ]
  },
  {
   "cell_type": "markdown",
   "id": "0d0fdeaa",
   "metadata": {
    "papermill": {
     "duration": 0.024209,
     "end_time": "2023-06-26T18:08:29.528290",
     "exception": false,
     "start_time": "2023-06-26T18:08:29.504081",
     "status": "completed"
    },
    "tags": []
   },
   "source": [
    "Thanks to: **@tetsutani**  \n",
    "https://www.kaggle.com/code/tetsutani/ps3e17-eda-ensemble-ml-pipeline-shap\n",
    "\n",
    "Thanks to: **@jimmyyeung**  \n",
    "https://www.kaggle.com/code/jimmyyeung/ps3-17-machine-failure-catboost-top-21"
   ]
  },
  {
   "cell_type": "code",
   "execution_count": 37,
   "id": "bf7b88c8",
   "metadata": {
    "execution": {
     "iopub.execute_input": "2023-06-26T18:08:29.580281Z",
     "iopub.status.busy": "2023-06-26T18:08:29.579630Z",
     "iopub.status.idle": "2023-06-26T18:08:29.807565Z",
     "shell.execute_reply": "2023-06-26T18:08:29.806585Z"
    },
    "papermill": {
     "duration": 0.256816,
     "end_time": "2023-06-26T18:08:29.810290",
     "exception": false,
     "start_time": "2023-06-26T18:08:29.553474",
     "status": "completed"
    },
    "tags": []
   },
   "outputs": [],
   "source": [
    "sub_import1 = pd.read_csv('/kaggle/input/ps3e17s97778/submission.csv')\n",
    "sub_import2 = pd.read_csv('/kaggle/input/ps3e17s97788/submission.csv')\n",
    "sub_import3 = pd.read_csv('/kaggle/input/ps321a/submission (3).csv')"
   ]
  },
  {
   "cell_type": "code",
   "execution_count": 38,
   "id": "b0d45143",
   "metadata": {
    "execution": {
     "iopub.execute_input": "2023-06-26T18:08:29.863191Z",
     "iopub.status.busy": "2023-06-26T18:08:29.862481Z",
     "iopub.status.idle": "2023-06-26T18:08:31.354387Z",
     "shell.execute_reply": "2023-06-26T18:08:31.353078Z"
    },
    "papermill": {
     "duration": 1.520984,
     "end_time": "2023-06-26T18:08:31.357216",
     "exception": false,
     "start_time": "2023-06-26T18:08:29.836232",
     "status": "completed"
    },
    "tags": []
   },
   "outputs": [
    {
     "name": "stdout",
     "output_type": "stream",
     "text": [
      "__notebook__.ipynb  submission.csv\tsubmission_lgb.csv\r\n",
      "catboost_info\t    submission_cat.csv\r\n"
     ]
    }
   ],
   "source": [
    "sub = df_sample.copy()\n",
    "sub['Machine failure'] = ((0.05* sub_cat['Machine failure']) + (0.1 * sub_import1['Machine failure']) + \n",
    "                         (1.7 * sub_import2['Machine failure'])+ (0.1 * sub_import3['Machine failure']) +\n",
    "                         (0.05 * df_sub['Machine failure']))/(2)\n",
    "                         \n",
    "sub.to_csv('submission.csv',index=False)\n",
    "!ls"
   ]
  }
 ],
 "metadata": {
  "kernelspec": {
   "display_name": "Python 3",
   "language": "python",
   "name": "python3"
  },
  "language_info": {
   "codemirror_mode": {
    "name": "ipython",
    "version": 3
   },
   "file_extension": ".py",
   "mimetype": "text/x-python",
   "name": "python",
   "nbconvert_exporter": "python",
   "pygments_lexer": "ipython3",
   "version": "3.10.10"
  },
  "papermill": {
   "default_parameters": {},
   "duration": 80.793169,
   "end_time": "2023-06-26T18:08:33.795976",
   "environment_variables": {},
   "exception": null,
   "input_path": "__notebook__.ipynb",
   "output_path": "__notebook__.ipynb",
   "parameters": {},
   "start_time": "2023-06-26T18:07:13.002807",
   "version": "2.4.0"
  },
  "widgets": {
   "application/vnd.jupyter.widget-state+json": {
    "state": {
     "4baa9448cbbc43a284dddef490f07a6b": {
      "model_module": "@jupyter-widgets/base",
      "model_module_version": "1.2.0",
      "model_name": "LayoutModel",
      "state": {
       "_model_module": "@jupyter-widgets/base",
       "_model_module_version": "1.2.0",
       "_model_name": "LayoutModel",
       "_view_count": null,
       "_view_module": "@jupyter-widgets/base",
       "_view_module_version": "1.2.0",
       "_view_name": "LayoutView",
       "align_content": null,
       "align_items": null,
       "align_self": "stretch",
       "border": null,
       "bottom": null,
       "display": null,
       "flex": null,
       "flex_flow": null,
       "grid_area": null,
       "grid_auto_columns": null,
       "grid_auto_flow": null,
       "grid_auto_rows": null,
       "grid_column": null,
       "grid_gap": null,
       "grid_row": null,
       "grid_template_areas": null,
       "grid_template_columns": null,
       "grid_template_rows": null,
       "height": "500px",
       "justify_content": null,
       "justify_items": null,
       "left": null,
       "margin": null,
       "max_height": null,
       "max_width": null,
       "min_height": null,
       "min_width": null,
       "object_fit": null,
       "object_position": null,
       "order": null,
       "overflow": null,
       "overflow_x": null,
       "overflow_y": null,
       "padding": null,
       "right": null,
       "top": null,
       "visibility": null,
       "width": null
      }
     },
     "f0493ac0be774bc4bed78a5a0e18af0c": {
      "model_module": "catboost-widget",
      "model_module_version": "^1.0.0",
      "model_name": "CatboostWidgetModel",
      "state": {
       "_dom_classes": [],
       "_model_module": "catboost-widget",
       "_model_module_version": "^1.0.0",
       "_model_name": "CatboostWidgetModel",
       "_view_count": null,
       "_view_module": "catboost-widget",
       "_view_module_version": "^1.0.0",
       "_view_name": "CatboostWidgetView",
       "data": {
        "catboost_info": {
         "content": {
          "data": {
           "iterations": [
            {
             "iteration": 0,
             "learn": [
              0.4331975053
             ],
             "passed_time": 0.1090317237,
             "remaining_time": 108.922692,
             "test": [
              0.4332240614
             ]
            },
            {
             "iteration": 1,
             "learn": [
              0.2783658697
             ],
             "passed_time": 0.1490295198,
             "remaining_time": 74.36573039,
             "test": [
              0.2783786917
             ]
            },
            {
             "iteration": 2,
             "learn": [
              0.1850126191
             ],
             "passed_time": 0.1799052126,
             "remaining_time": 59.78849898,
             "test": [
              0.185085326
             ]
            },
            {
             "iteration": 3,
             "learn": [
              0.1256154963
             ],
             "passed_time": 0.2103406264,
             "remaining_time": 52.37481598,
             "test": [
              0.1257100725
             ]
            },
            {
             "iteration": 4,
             "learn": [
              0.0900704281
             ],
             "passed_time": 0.2389434358,
             "remaining_time": 47.54974372,
             "test": [
              0.09016267755
             ]
            },
            {
             "iteration": 5,
             "learn": [
              0.06944113786
             ],
             "passed_time": 0.2603442618,
             "remaining_time": 43.13036605,
             "test": [
              0.06952276948
             ]
            },
            {
             "iteration": 6,
             "learn": [
              0.05482941592
             ],
             "passed_time": 0.3007902742,
             "remaining_time": 42.6692489,
             "test": [
              0.05489892435
             ]
            },
            {
             "iteration": 7,
             "learn": [
              0.04447014926
             ],
             "passed_time": 0.3326399297,
             "remaining_time": 41.24735128,
             "test": [
              0.04452559614
             ]
            },
            {
             "iteration": 8,
             "learn": [
              0.03824928725
             ],
             "passed_time": 0.36568453,
             "remaining_time": 40.26592991,
             "test": [
              0.03829594853
             ]
            },
            {
             "iteration": 9,
             "learn": [
              0.03384687495
             ],
             "passed_time": 0.3994256247,
             "remaining_time": 39.54313684,
             "test": [
              0.03388592545
             ]
            },
            {
             "iteration": 10,
             "learn": [
              0.030677973
             ],
             "passed_time": 0.4313085585,
             "remaining_time": 38.77856039,
             "test": [
              0.03071108921
             ]
            },
            {
             "iteration": 11,
             "learn": [
              0.02847972607
             ],
             "passed_time": 0.4601309456,
             "remaining_time": 37.88411452,
             "test": [
              0.02850842282
             ]
            },
            {
             "iteration": 12,
             "learn": [
              0.02679899033
             ],
             "passed_time": 0.4905905511,
             "remaining_time": 37.24714415,
             "test": [
              0.02682367289
             ]
            },
            {
             "iteration": 13,
             "learn": [
              0.02569640424
             ],
             "passed_time": 0.5215200043,
             "remaining_time": 36.72990888,
             "test": [
              0.02571810165
             ]
            },
            {
             "iteration": 14,
             "learn": [
              0.02455670906
             ],
             "passed_time": 0.5527767466,
             "remaining_time": 36.29900636,
             "test": [
              0.02457632196
             ]
            },
            {
             "iteration": 15,
             "learn": [
              0.02377169319
             ],
             "passed_time": 0.5838445814,
             "remaining_time": 35.90644175,
             "test": [
              0.02378952456
             ]
            },
            {
             "iteration": 16,
             "learn": [
              0.02324808962
             ],
             "passed_time": 0.6145564589,
             "remaining_time": 35.53582347,
             "test": [
              0.02326431955
             ]
            },
            {
             "iteration": 17,
             "learn": [
              0.02284534475
             ],
             "passed_time": 0.6464876901,
             "remaining_time": 35.26949509,
             "test": [
              0.0228604567
             ]
            },
            {
             "iteration": 18,
             "learn": [
              0.02248711682
             ],
             "passed_time": 0.6768963974,
             "remaining_time": 34.94922978,
             "test": [
              0.02250119469
             ]
            },
            {
             "iteration": 19,
             "learn": [
              0.02210960126
             ],
             "passed_time": 0.7084700898,
             "remaining_time": 34.7150344,
             "test": [
              0.02212243787
             ]
            },
            {
             "iteration": 20,
             "learn": [
              0.02192681016
             ],
             "passed_time": 0.7389812769,
             "remaining_time": 34.45060334,
             "test": [
              0.0219394569
             ]
            },
            {
             "iteration": 21,
             "learn": [
              0.0217397608
             ],
             "passed_time": 0.7680663745,
             "remaining_time": 34.14404156,
             "test": [
              0.02175198408
             ]
            },
            {
             "iteration": 22,
             "learn": [
              0.02145842815
             ],
             "passed_time": 0.8006195658,
             "remaining_time": 34.00892677,
             "test": [
              0.02146972236
             ]
            },
            {
             "iteration": 23,
             "learn": [
              0.02127175486
             ],
             "passed_time": 0.8308395956,
             "remaining_time": 33.78747689,
             "test": [
              0.02128268306
             ]
            },
            {
             "iteration": 24,
             "learn": [
              0.02118573419
             ],
             "passed_time": 0.8659285654,
             "remaining_time": 33.77121405,
             "test": [
              0.02119639855
             ]
            },
            {
             "iteration": 25,
             "learn": [
              0.02106849015
             ],
             "passed_time": 0.8985879469,
             "remaining_time": 33.66248693,
             "test": [
              0.02107885366
             ]
            },
            {
             "iteration": 26,
             "learn": [
              0.02094098525
             ],
             "passed_time": 0.9290903674,
             "remaining_time": 33.48166398,
             "test": [
              0.02095108734
             ]
            },
            {
             "iteration": 27,
             "learn": [
              0.02086689969
             ],
             "passed_time": 0.9594304783,
             "remaining_time": 33.30594375,
             "test": [
              0.02087681163
             ]
            },
            {
             "iteration": 28,
             "learn": [
              0.02079741308
             ],
             "passed_time": 0.9903369949,
             "remaining_time": 33.15921455,
             "test": [
              0.0208070372
             ]
            },
            {
             "iteration": 29,
             "learn": [
              0.02072471501
             ],
             "passed_time": 1.023200483,
             "remaining_time": 33.08348229,
             "test": [
              0.02073426346
             ]
            },
            {
             "iteration": 30,
             "learn": [
              0.02064853406
             ],
             "passed_time": 1.054234058,
             "remaining_time": 32.95331621,
             "test": [
              0.02065790337
             ]
            },
            {
             "iteration": 31,
             "learn": [
              0.02055331055
             ],
             "passed_time": 1.086602206,
             "remaining_time": 32.86971673,
             "test": [
              0.02056251782
             ]
            },
            {
             "iteration": 32,
             "learn": [
              0.02044634317
             ],
             "passed_time": 1.118456862,
             "remaining_time": 32.77417533,
             "test": [
              0.0204552653
             ]
            },
            {
             "iteration": 33,
             "learn": [
              0.02039841895
             ],
             "passed_time": 1.149836868,
             "remaining_time": 32.66889455,
             "test": [
              0.02040734276
             ]
            },
            {
             "iteration": 34,
             "learn": [
              0.02030935152
             ],
             "passed_time": 1.1842973,
             "remaining_time": 32.65276842,
             "test": [
              0.02031817198
             ]
            },
            {
             "iteration": 35,
             "learn": [
              0.02024580248
             ],
             "passed_time": 1.206225624,
             "remaining_time": 32.3000417,
             "test": [
              0.02025459883
             ]
            },
            {
             "iteration": 36,
             "learn": [
              0.02020821842
             ],
             "passed_time": 1.228595637,
             "remaining_time": 31.97669186,
             "test": [
              0.02021695748
             ]
            },
            {
             "iteration": 37,
             "learn": [
              0.02017054807
             ],
             "passed_time": 1.251483789,
             "remaining_time": 31.68230014,
             "test": [
              0.02017926575
             ]
            },
            {
             "iteration": 38,
             "learn": [
              0.02011210325
             ],
             "passed_time": 1.273942996,
             "remaining_time": 31.39126202,
             "test": [
              0.02012078544
             ]
            },
            {
             "iteration": 39,
             "learn": [
              0.02006141111
             ],
             "passed_time": 1.296628378,
             "remaining_time": 31.11908108,
             "test": [
              0.02007003141
             ]
            },
            {
             "iteration": 40,
             "learn": [
              0.020014291
             ],
             "passed_time": 1.319190279,
             "remaining_time": 30.85618239,
             "test": [
              0.02002288272
             ]
            },
            {
             "iteration": 41,
             "learn": [
              0.01995190507
             ],
             "passed_time": 1.34275458,
             "remaining_time": 30.62759256,
             "test": [
              0.01996045531
             ]
            },
            {
             "iteration": 42,
             "learn": [
              0.01990992367
             ],
             "passed_time": 1.365887987,
             "remaining_time": 30.39894893,
             "test": [
              0.01991843287
             ]
            },
            {
             "iteration": 43,
             "learn": [
              0.01985710911
             ],
             "passed_time": 1.391856303,
             "remaining_time": 30.24124148,
             "test": [
              0.01986558513
             ]
            },
            {
             "iteration": 44,
             "learn": [
              0.01980978025
             ],
             "passed_time": 1.415451604,
             "remaining_time": 30.03902848,
             "test": [
              0.01981819545
             ]
            },
            {
             "iteration": 45,
             "learn": [
              0.01977895343
             ],
             "passed_time": 1.438754511,
             "remaining_time": 29.83851747,
             "test": [
              0.01978737229
             ]
            },
            {
             "iteration": 46,
             "learn": [
              0.01974195352
             ],
             "passed_time": 1.465002242,
             "remaining_time": 29.70525822,
             "test": [
              0.01975036563
             ]
            },
            {
             "iteration": 47,
             "learn": [
              0.01971868401
             ],
             "passed_time": 1.487398034,
             "remaining_time": 29.500061,
             "test": [
              0.01972704299
             ]
            },
            {
             "iteration": 48,
             "learn": [
              0.01968823952
             ],
             "passed_time": 1.510516463,
             "remaining_time": 29.31635014,
             "test": [
              0.01969652803
             ]
            },
            {
             "iteration": 49,
             "learn": [
              0.01964985856
             ],
             "passed_time": 1.533021504,
             "remaining_time": 29.12740858,
             "test": [
              0.01965816822
             ]
            },
            {
             "iteration": 50,
             "learn": [
              0.01963230876
             ],
             "passed_time": 1.555624945,
             "remaining_time": 28.94682497,
             "test": [
              0.01964061441
             ]
            },
            {
             "iteration": 51,
             "learn": [
              0.01958565386
             ],
             "passed_time": 1.577645696,
             "remaining_time": 28.76169461,
             "test": [
              0.01959392514
             ]
            },
            {
             "iteration": 52,
             "learn": [
              0.01955467686
             ],
             "passed_time": 1.602058152,
             "remaining_time": 28.62545415,
             "test": [
              0.01956292362
             ]
            },
            {
             "iteration": 53,
             "learn": [
              0.01953053161
             ],
             "passed_time": 1.624999412,
             "remaining_time": 28.46758228,
             "test": [
              0.01953873009
             ]
            },
            {
             "iteration": 54,
             "learn": [
              0.01950876415
             ],
             "passed_time": 1.646696684,
             "remaining_time": 28.29324302,
             "test": [
              0.01951698994
             ]
            },
            {
             "iteration": 55,
             "learn": [
              0.01949380558
             ],
             "passed_time": 1.671908933,
             "remaining_time": 28.18360773,
             "test": [
              0.01950201374
             ]
            },
            {
             "iteration": 56,
             "learn": [
              0.01946310928
             ],
             "passed_time": 1.700371061,
             "remaining_time": 28.13070018,
             "test": [
              0.01947129765
             ]
            },
            {
             "iteration": 57,
             "learn": [
              0.01943496726
             ],
             "passed_time": 1.723247943,
             "remaining_time": 27.98792349,
             "test": [
              0.01944315892
             ]
            },
            {
             "iteration": 58,
             "learn": [
              0.01940211892
             ],
             "passed_time": 1.747685531,
             "remaining_time": 27.87410313,
             "test": [
              0.01941027996
             ]
            },
            {
             "iteration": 59,
             "learn": [
              0.01937802755
             ],
             "passed_time": 1.774471777,
             "remaining_time": 27.80005784,
             "test": [
              0.01938615705
             ]
            },
            {
             "iteration": 60,
             "learn": [
              0.01935359769
             ],
             "passed_time": 1.80392259,
             "remaining_time": 27.76857888,
             "test": [
              0.01936172746
             ]
            },
            {
             "iteration": 61,
             "learn": [
              0.01932795704
             ],
             "passed_time": 1.827586467,
             "remaining_time": 27.64961462,
             "test": [
              0.01933608382
             ]
            },
            {
             "iteration": 62,
             "learn": [
              0.01930441104
             ],
             "passed_time": 1.851095749,
             "remaining_time": 27.53137646,
             "test": [
              0.01931254042
             ]
            },
            {
             "iteration": 63,
             "learn": [
              0.01928519461
             ],
             "passed_time": 1.876381605,
             "remaining_time": 27.44208097,
             "test": [
              0.01929329268
             ]
            },
            {
             "iteration": 64,
             "learn": [
              0.01925849849
             ],
             "passed_time": 1.902017968,
             "remaining_time": 27.35979692,
             "test": [
              0.01926657995
             ]
            },
            {
             "iteration": 65,
             "learn": [
              0.0192462394
             ],
             "passed_time": 1.924351084,
             "remaining_time": 27.23248352,
             "test": [
              0.01925432452
             ]
            },
            {
             "iteration": 66,
             "learn": [
              0.01922235201
             ],
             "passed_time": 1.948287613,
             "remaining_time": 27.13063198,
             "test": [
              0.01923043415
             ]
            },
            {
             "iteration": 67,
             "learn": [
              0.01916644467
             ],
             "passed_time": 1.974115531,
             "remaining_time": 27.05699522,
             "test": [
              0.01917449604
             ]
            },
            {
             "iteration": 68,
             "learn": [
              0.01914357629
             ],
             "passed_time": 1.996667328,
             "remaining_time": 26.94054032,
             "test": [
              0.01915159919
             ]
            },
            {
             "iteration": 69,
             "learn": [
              0.01912095838
             ],
             "passed_time": 2.020783769,
             "remaining_time": 26.84755579,
             "test": [
              0.0191289946
             ]
            },
            {
             "iteration": 70,
             "learn": [
              0.01907846011
             ],
             "passed_time": 2.045118382,
             "remaining_time": 26.75936587,
             "test": [
              0.01908648872
             ]
            },
            {
             "iteration": 71,
             "learn": [
              0.01904178294
             ],
             "passed_time": 2.068208426,
             "remaining_time": 26.6569086,
             "test": [
              0.01904979413
             ]
            },
            {
             "iteration": 72,
             "learn": [
              0.01901398009
             ],
             "passed_time": 2.090401445,
             "remaining_time": 26.54523479,
             "test": [
              0.01902197372
             ]
            },
            {
             "iteration": 73,
             "learn": [
              0.0190014622
             ],
             "passed_time": 2.112475412,
             "remaining_time": 26.43448961,
             "test": [
              0.01900946979
             ]
            },
            {
             "iteration": 74,
             "learn": [
              0.01896302455
             ],
             "passed_time": 2.137773747,
             "remaining_time": 26.36587622,
             "test": [
              0.01897101866
             ]
            },
            {
             "iteration": 75,
             "learn": [
              0.01894756545
             ],
             "passed_time": 2.163292847,
             "remaining_time": 26.30108671,
             "test": [
              0.01895556105
             ]
            },
            {
             "iteration": 76,
             "learn": [
              0.01893444713
             ],
             "passed_time": 2.186290996,
             "remaining_time": 26.20709856,
             "test": [
              0.01894242544
             ]
            },
            {
             "iteration": 77,
             "learn": [
              0.01891281175
             ],
             "passed_time": 2.212187661,
             "remaining_time": 26.14919261,
             "test": [
              0.01892077414
             ]
            },
            {
             "iteration": 78,
             "learn": [
              0.01889940823
             ],
             "passed_time": 2.237505482,
             "remaining_time": 26.08534873,
             "test": [
              0.01890737863
             ]
            },
            {
             "iteration": 79,
             "learn": [
              0.01887148582
             ],
             "passed_time": 2.260641859,
             "remaining_time": 25.99738138,
             "test": [
              0.01887945656
             ]
            },
            {
             "iteration": 80,
             "learn": [
              0.0188525505
             ],
             "passed_time": 2.28426745,
             "remaining_time": 25.91656527,
             "test": [
              0.01886049848
             ]
            },
            {
             "iteration": 81,
             "learn": [
              0.01883248677
             ],
             "passed_time": 2.306672467,
             "remaining_time": 25.82347957,
             "test": [
              0.01884043599
             ]
            },
            {
             "iteration": 82,
             "learn": [
              0.01881278246
             ],
             "passed_time": 2.329768076,
             "remaining_time": 25.73972682,
             "test": [
              0.01882072068
             ]
            },
            {
             "iteration": 83,
             "learn": [
              0.01875853255
             ],
             "passed_time": 2.353034213,
             "remaining_time": 25.65927785,
             "test": [
              0.01876646127
             ]
            },
            {
             "iteration": 84,
             "learn": [
              0.01874885435
             ],
             "passed_time": 2.375635608,
             "remaining_time": 25.57301861,
             "test": [
              0.01875678674
             ]
            },
            {
             "iteration": 85,
             "learn": [
              0.01874038336
             ],
             "passed_time": 2.402130489,
             "remaining_time": 25.52961938,
             "test": [
              0.0187483318
             ]
            },
            {
             "iteration": 86,
             "learn": [
              0.01870335816
             ],
             "passed_time": 2.426274892,
             "remaining_time": 25.46194226,
             "test": [
              0.01871126916
             ]
            },
            {
             "iteration": 87,
             "learn": [
              0.01868718889
             ],
             "passed_time": 2.450102752,
             "remaining_time": 25.39197397,
             "test": [
              0.01869507618
             ]
            },
            {
             "iteration": 88,
             "learn": [
              0.01866976223
             ],
             "passed_time": 2.473311481,
             "remaining_time": 25.31670516,
             "test": [
              0.01867764808
             ]
            },
            {
             "iteration": 89,
             "learn": [
              0.01866338713
             ],
             "passed_time": 2.496631676,
             "remaining_time": 25.24372028,
             "test": [
              0.01867127444
             ]
            },
            {
             "iteration": 90,
             "learn": [
              0.01864172071
             ],
             "passed_time": 2.519287463,
             "remaining_time": 25.16519015,
             "test": [
              0.01864960452
             ]
            },
            {
             "iteration": 91,
             "learn": [
              0.01860245313
             ],
             "passed_time": 2.544967666,
             "remaining_time": 25.11772435,
             "test": [
              0.01861033034
             ]
            },
            {
             "iteration": 92,
             "learn": [
              0.01858387274
             ],
             "passed_time": 2.571429516,
             "remaining_time": 25.07835022,
             "test": [
              0.01859175326
             ]
            },
            {
             "iteration": 93,
             "learn": [
              0.01855912526
             ],
             "passed_time": 2.594394508,
             "remaining_time": 25.00554706,
             "test": [
              0.01856698646
             ]
            },
            {
             "iteration": 94,
             "learn": [
              0.01852559661
             ],
             "passed_time": 2.618288799,
             "remaining_time": 24.94264592,
             "test": [
              0.01853347481
             ]
            },
            {
             "iteration": 95,
             "learn": [
              0.01850628817
             ],
             "passed_time": 2.641394457,
             "remaining_time": 24.87313113,
             "test": [
              0.01851418005
             ]
            },
            {
             "iteration": 96,
             "learn": [
              0.01848139751
             ],
             "passed_time": 2.665211114,
             "remaining_time": 24.81119212,
             "test": [
              0.01848925632
             ]
            },
            {
             "iteration": 97,
             "learn": [
              0.01845900245
             ],
             "passed_time": 2.693603031,
             "remaining_time": 24.79214218,
             "test": [
              0.01846684364
             ]
            },
            {
             "iteration": 98,
             "learn": [
              0.01842306472
             ],
             "passed_time": 2.71709326,
             "remaining_time": 24.7282932,
             "test": [
              0.0184308902
             ]
            },
            {
             "iteration": 99,
             "learn": [
              0.01840658682
             ],
             "passed_time": 2.741294345,
             "remaining_time": 24.6716491,
             "test": [
              0.01841440323
             ]
            },
            {
             "iteration": 100,
             "learn": [
              0.01837489136
             ],
             "passed_time": 2.764130898,
             "remaining_time": 24.60350176,
             "test": [
              0.01838269835
             ]
            },
            {
             "iteration": 101,
             "learn": [
              0.01835549086
             ],
             "passed_time": 2.786373228,
             "remaining_time": 24.53101136,
             "test": [
              0.01836329434
             ]
            },
            {
             "iteration": 102,
             "learn": [
              0.0183440242
             ],
             "passed_time": 2.808117572,
             "remaining_time": 24.45515982,
             "test": [
              0.01835183606
             ]
            },
            {
             "iteration": 103,
             "learn": [
              0.01832969349
             ],
             "passed_time": 2.829955553,
             "remaining_time": 24.38115553,
             "test": [
              0.01833749108
             ]
            },
            {
             "iteration": 104,
             "learn": [
              0.01832036334
             ],
             "passed_time": 2.852008968,
             "remaining_time": 24.3099812,
             "test": [
              0.0183281767
             ]
            },
            {
             "iteration": 105,
             "learn": [
              0.01830312223
             ],
             "passed_time": 2.876025008,
             "remaining_time": 24.25628639,
             "test": [
              0.01831091909
             ]
            },
            {
             "iteration": 106,
             "learn": [
              0.01829084893
             ],
             "passed_time": 2.89926231,
             "remaining_time": 24.19664713,
             "test": [
              0.01829864305
             ]
            },
            {
             "iteration": 107,
             "learn": [
              0.01827658488
             ],
             "passed_time": 2.923191327,
             "remaining_time": 24.14339503,
             "test": [
              0.01828433959
             ]
            },
            {
             "iteration": 108,
             "learn": [
              0.01826827183
             ],
             "passed_time": 2.954118095,
             "remaining_time": 24.14788278,
             "test": [
              0.01827604838
             ]
            },
            {
             "iteration": 109,
             "learn": [
              0.0182501511
             ],
             "passed_time": 2.984161831,
             "remaining_time": 24.14458209,
             "test": [
              0.01825792848
             ]
            },
            {
             "iteration": 110,
             "learn": [
              0.01824086033
             ],
             "passed_time": 3.007532501,
             "remaining_time": 24.0873549,
             "test": [
              0.0182486256
             ]
            },
            {
             "iteration": 111,
             "learn": [
              0.01822452627
             ],
             "passed_time": 3.032223427,
             "remaining_time": 24.04120003,
             "test": [
              0.018232284
             ]
            },
            {
             "iteration": 112,
             "learn": [
              0.01820159022
             ],
             "passed_time": 3.058786728,
             "remaining_time": 24.01012237,
             "test": [
              0.01820935218
             ]
            },
            {
             "iteration": 113,
             "learn": [
              0.01819510507
             ],
             "passed_time": 3.080002263,
             "remaining_time": 23.93756145,
             "test": [
              0.0182028515
             ]
            },
            {
             "iteration": 114,
             "learn": [
              0.01819205363
             ],
             "passed_time": 3.103784207,
             "remaining_time": 23.88564368,
             "test": [
              0.01819981168
             ]
            },
            {
             "iteration": 115,
             "learn": [
              0.01816928964
             ],
             "passed_time": 3.128196967,
             "remaining_time": 23.83901826,
             "test": [
              0.01817703733
             ]
            },
            {
             "iteration": 116,
             "learn": [
              0.01816623857
             ],
             "passed_time": 3.15250262,
             "remaining_time": 23.79196422,
             "test": [
              0.01817398533
             ]
            },
            {
             "iteration": 117,
             "learn": [
              0.01815837962
             ],
             "passed_time": 3.17710485,
             "remaining_time": 23.74751253,
             "test": [
              0.01816612981
             ]
            },
            {
             "iteration": 118,
             "learn": [
              0.0181551499
             ],
             "passed_time": 3.201186599,
             "remaining_time": 23.69954112,
             "test": [
              0.01816290566
             ]
            },
            {
             "iteration": 119,
             "learn": [
              0.0181432903
             ],
             "passed_time": 3.224715478,
             "remaining_time": 23.64791351,
             "test": [
              0.0181510266
             ]
            },
            {
             "iteration": 120,
             "learn": [
              0.01812590737
             ],
             "passed_time": 3.254131917,
             "remaining_time": 23.63952029,
             "test": [
              0.0181336548
             ]
            },
            {
             "iteration": 121,
             "learn": [
              0.0181032691
             ],
             "passed_time": 3.281576587,
             "remaining_time": 23.61659216,
             "test": [
              0.01811102451
             ]
            },
            {
             "iteration": 122,
             "learn": [
              0.01807938929
             ],
             "passed_time": 3.303856863,
             "remaining_time": 23.55676804,
             "test": [
              0.01808712573
             ]
            },
            {
             "iteration": 123,
             "learn": [
              0.01806781744
             ],
             "passed_time": 3.328785717,
             "remaining_time": 23.51626038,
             "test": [
              0.01807555246
             ]
            },
            {
             "iteration": 124,
             "learn": [
              0.01806336096
             ],
             "passed_time": 3.358502664,
             "remaining_time": 23.50951865,
             "test": [
              0.0180711091
             ]
            },
            {
             "iteration": 125,
             "learn": [
              0.01804402814
             ],
             "passed_time": 3.396782567,
             "remaining_time": 23.56180924,
             "test": [
              0.01805178525
             ]
            },
            {
             "iteration": 126,
             "learn": [
              0.01803876218
             ],
             "passed_time": 3.432465149,
             "remaining_time": 23.59481949,
             "test": [
              0.01804649413
             ]
            },
            {
             "iteration": 127,
             "learn": [
              0.01801254495
             ],
             "passed_time": 3.46165243,
             "remaining_time": 23.58250718,
             "test": [
              0.01802028609
             ]
            },
            {
             "iteration": 128,
             "learn": [
              0.01799474758
             ],
             "passed_time": 3.494851185,
             "remaining_time": 23.59701847,
             "test": [
              0.01800245314
             ]
            },
            {
             "iteration": 129,
             "learn": [
              0.01797907065
             ],
             "passed_time": 3.517829118,
             "remaining_time": 23.54239486,
             "test": [
              0.01798678584
             ]
            },
            {
             "iteration": 130,
             "learn": [
              0.01797095927
             ],
             "passed_time": 3.544488086,
             "remaining_time": 23.51267288,
             "test": [
              0.01797866939
             ]
            },
            {
             "iteration": 131,
             "learn": [
              0.01796661971
             ],
             "passed_time": 3.56670085,
             "remaining_time": 23.45376013,
             "test": [
              0.01797433068
             ]
            },
            {
             "iteration": 132,
             "learn": [
              0.01795717789
             ],
             "passed_time": 3.593583566,
             "remaining_time": 23.42584174,
             "test": [
              0.01796488128
             ]
            },
            {
             "iteration": 133,
             "learn": [
              0.01795178112
             ],
             "passed_time": 3.619518722,
             "remaining_time": 23.39181502,
             "test": [
              0.01795948302
             ]
            },
            {
             "iteration": 134,
             "learn": [
              0.01794439225
             ],
             "passed_time": 3.646114616,
             "remaining_time": 23.3621418,
             "test": [
              0.01795210907
             ]
            },
            {
             "iteration": 135,
             "learn": [
              0.01793819838
             ],
             "passed_time": 3.671675063,
             "remaining_time": 23.3259357,
             "test": [
              0.01794591801
             ]
            },
            {
             "iteration": 136,
             "learn": [
              0.01793316321
             ],
             "passed_time": 3.703272189,
             "remaining_time": 23.32791167,
             "test": [
              0.01794087576
             ]
            },
            {
             "iteration": 137,
             "learn": [
              0.01789994447
             ],
             "passed_time": 3.727663153,
             "remaining_time": 23.28438868,
             "test": [
              0.01790764867
             ]
            },
            {
             "iteration": 138,
             "learn": [
              0.01789151472
             ],
             "passed_time": 3.750296402,
             "remaining_time": 23.23025325,
             "test": [
              0.0178992117
             ]
            },
            {
             "iteration": 139,
             "learn": [
              0.01787912798
             ],
             "passed_time": 3.773853646,
             "remaining_time": 23.18224383,
             "test": [
              0.0178868286
             ]
            },
            {
             "iteration": 140,
             "learn": [
              0.01787731259
             ],
             "passed_time": 3.798425429,
             "remaining_time": 23.14076201,
             "test": [
              0.01788502423
             ]
            },
            {
             "iteration": 141,
             "learn": [
              0.01787564728
             ],
             "passed_time": 3.822062103,
             "remaining_time": 23.0938682,
             "test": [
              0.01788336287
             ]
            },
            {
             "iteration": 142,
             "learn": [
              0.01784207501
             ],
             "passed_time": 3.847865189,
             "remaining_time": 23.06028298,
             "test": [
              0.01784976928
             ]
            },
            {
             "iteration": 143,
             "learn": [
              0.0178230449
             ],
             "passed_time": 3.869060966,
             "remaining_time": 22.99941797,
             "test": [
              0.0178307365
             ]
            },
            {
             "iteration": 144,
             "learn": [
              0.01779813086
             ],
             "passed_time": 3.892973529,
             "remaining_time": 22.95511977,
             "test": [
              0.01780579406
             ]
            },
            {
             "iteration": 145,
             "learn": [
              0.01777792319
             ],
             "passed_time": 3.916707152,
             "remaining_time": 22.91005416,
             "test": [
              0.01778559555
             ]
            },
            {
             "iteration": 146,
             "learn": [
              0.01776987034
             ],
             "passed_time": 3.942172272,
             "remaining_time": 22.87532617,
             "test": [
              0.01777753548
             ]
            },
            {
             "iteration": 147,
             "learn": [
              0.01775132702
             ],
             "passed_time": 3.964512764,
             "remaining_time": 22.82273564,
             "test": [
              0.01775900027
             ]
            },
            {
             "iteration": 148,
             "learn": [
              0.01772648286
             ],
             "passed_time": 3.986959238,
             "remaining_time": 22.77115645,
             "test": [
              0.01773414086
             ]
            },
            {
             "iteration": 149,
             "learn": [
              0.0177169633
             ],
             "passed_time": 4.010703605,
             "remaining_time": 22.72732043,
             "test": [
              0.01772460489
             ]
            },
            {
             "iteration": 150,
             "learn": [
              0.01771551384
             ],
             "passed_time": 4.035573172,
             "remaining_time": 22.69007697,
             "test": [
              0.01772317021
             ]
            },
            {
             "iteration": 151,
             "learn": [
              0.01770083681
             ],
             "passed_time": 4.058026794,
             "remaining_time": 22.6395179,
             "test": [
              0.01770846747
             ]
            },
            {
             "iteration": 152,
             "learn": [
              0.01767661287
             ],
             "passed_time": 4.082026455,
             "remaining_time": 22.59788502,
             "test": [
              0.01768425905
             ]
            },
            {
             "iteration": 153,
             "learn": [
              0.01765529605
             ],
             "passed_time": 4.105121677,
             "remaining_time": 22.55151259,
             "test": [
              0.01766293348
             ]
            },
            {
             "iteration": 154,
             "learn": [
              0.01764592607
             ],
             "passed_time": 4.13027158,
             "remaining_time": 22.51664184,
             "test": [
              0.01765355139
             ]
            },
            {
             "iteration": 155,
             "learn": [
              0.01764154541
             ],
             "passed_time": 4.155980816,
             "remaining_time": 22.48492185,
             "test": [
              0.01764916869
             ]
            },
            {
             "iteration": 156,
             "learn": [
              0.01761564465
             ],
             "passed_time": 4.178458562,
             "remaining_time": 22.43592718,
             "test": [
              0.0176232536
             ]
            },
            {
             "iteration": 157,
             "learn": [
              0.01760648829
             ],
             "passed_time": 4.201621036,
             "remaining_time": 22.39091717,
             "test": [
              0.01761412273
             ]
            },
            {
             "iteration": 158,
             "learn": [
              0.01758586512
             ],
             "passed_time": 4.223693131,
             "remaining_time": 22.34041461,
             "test": [
              0.01759349434
             ]
            },
            {
             "iteration": 159,
             "learn": [
              0.01758111885
             ],
             "passed_time": 4.246016726,
             "remaining_time": 22.29158781,
             "test": [
              0.01758874014
             ]
            },
            {
             "iteration": 160,
             "learn": [
              0.0175651069
             ],
             "passed_time": 4.268642818,
             "remaining_time": 22.24466661,
             "test": [
              0.01757273551
             ]
            },
            {
             "iteration": 161,
             "learn": [
              0.01754791438
             ],
             "passed_time": 4.293749598,
             "remaining_time": 22.21087755,
             "test": [
              0.01755550784
             ]
            },
            {
             "iteration": 162,
             "learn": [
              0.01752365761
             ],
             "passed_time": 4.318996783,
             "remaining_time": 22.177916,
             "test": [
              0.01753123906
             ]
            },
            {
             "iteration": 163,
             "learn": [
              0.01751737533
             ],
             "passed_time": 4.341717755,
             "remaining_time": 22.132171,
             "test": [
              0.01752496137
             ]
            },
            {
             "iteration": 164,
             "learn": [
              0.01750327776
             ],
             "passed_time": 4.364981937,
             "remaining_time": 22.08945404,
             "test": [
              0.01751087893
             ]
            },
            {
             "iteration": 165,
             "learn": [
              0.01748977201
             ],
             "passed_time": 4.392050937,
             "remaining_time": 22.06608724,
             "test": [
              0.01749738419
             ]
            },
            {
             "iteration": 166,
             "learn": [
              0.01746901228
             ],
             "passed_time": 4.418076325,
             "remaining_time": 22.03747053,
             "test": [
              0.0174765962
             ]
            },
            {
             "iteration": 167,
             "learn": [
              0.01744908523
             ],
             "passed_time": 4.4491433,
             "remaining_time": 22.03385253,
             "test": [
              0.01745665597
             ]
            },
            {
             "iteration": 168,
             "learn": [
              0.01743779785
             ],
             "passed_time": 4.472804544,
             "remaining_time": 21.99349453,
             "test": [
              0.01744537303
             ]
            },
            {
             "iteration": 169,
             "learn": [
              0.01742886001
             ],
             "passed_time": 4.498258895,
             "remaining_time": 21.96208755,
             "test": [
              0.01743642927
             ]
            },
            {
             "iteration": 170,
             "learn": [
              0.01742597453
             ],
             "passed_time": 4.52447891,
             "remaining_time": 21.93446208,
             "test": [
              0.01743353065
             ]
            },
            {
             "iteration": 171,
             "learn": [
              0.01740131597
             ],
             "passed_time": 4.548816872,
             "remaining_time": 21.89779285,
             "test": [
              0.0174088694
             ]
            },
            {
             "iteration": 172,
             "learn": [
              0.01738112861
             ],
             "passed_time": 4.572837634,
             "remaining_time": 21.85974985,
             "test": [
              0.01738869363
             ]
            },
            {
             "iteration": 173,
             "learn": [
              0.01736695967
             ],
             "passed_time": 4.596879451,
             "remaining_time": 21.82196797,
             "test": [
              0.01737452653
             ]
            },
            {
             "iteration": 174,
             "learn": [
              0.01736044139
             ],
             "passed_time": 4.620565592,
             "remaining_time": 21.78266636,
             "test": [
              0.01736799781
             ]
            },
            {
             "iteration": 175,
             "learn": [
              0.01735842804
             ],
             "passed_time": 4.645918174,
             "remaining_time": 21.75134418,
             "test": [
              0.01736599595
             ]
            },
            {
             "iteration": 176,
             "learn": [
              0.01734232235
             ],
             "passed_time": 4.669383581,
             "remaining_time": 21.71131462,
             "test": [
              0.0173498762
             ]
            },
            {
             "iteration": 177,
             "learn": [
              0.01733003667
             ],
             "passed_time": 4.700539376,
             "remaining_time": 21.70698521,
             "test": [
              0.01733759056
             ]
            },
            {
             "iteration": 178,
             "learn": [
              0.01731961826
             ],
             "passed_time": 4.725636979,
             "remaining_time": 21.67456961,
             "test": [
              0.01732717505
             ]
            },
            {
             "iteration": 179,
             "learn": [
              0.01730161549
             ],
             "passed_time": 4.750591446,
             "remaining_time": 21.64158325,
             "test": [
              0.01730915377
             ]
            },
            {
             "iteration": 180,
             "learn": [
              0.01729080262
             ],
             "passed_time": 4.777062551,
             "remaining_time": 21.61554823,
             "test": [
              0.01729833005
             ]
            },
            {
             "iteration": 181,
             "learn": [
              0.01728988023
             ],
             "passed_time": 4.800729976,
             "remaining_time": 21.57690726,
             "test": [
              0.01729741969
             ]
            },
            {
             "iteration": 182,
             "learn": [
              0.01727141689
             ],
             "passed_time": 4.823315803,
             "remaining_time": 21.53360115,
             "test": [
              0.01727894897
             ]
            },
            {
             "iteration": 183,
             "learn": [
              0.01725805176
             ],
             "passed_time": 4.847385554,
             "remaining_time": 21.49710115,
             "test": [
              0.01726558129
             ]
            },
            {
             "iteration": 184,
             "learn": [
              0.01724146679
             ],
             "passed_time": 4.870201862,
             "remaining_time": 21.45521361,
             "test": [
              0.01724900194
             ]
            },
            {
             "iteration": 185,
             "learn": [
              0.01721579727
             ],
             "passed_time": 4.894505758,
             "remaining_time": 21.42004133,
             "test": [
              0.01722332102
             ]
            },
            {
             "iteration": 186,
             "learn": [
              0.01721224013
             ],
             "passed_time": 4.917820133,
             "remaining_time": 21.38068325,
             "test": [
              0.01721976095
             ]
            },
            {
             "iteration": 187,
             "learn": [
              0.01720170748
             ],
             "passed_time": 4.941464077,
             "remaining_time": 21.34291931,
             "test": [
              0.01720922902
             ]
            },
            {
             "iteration": 188,
             "learn": [
              0.01717954679
             ],
             "passed_time": 4.965842391,
             "remaining_time": 21.30845597,
             "test": [
              0.01718704969
             ]
            },
            {
             "iteration": 189,
             "learn": [
              0.01717077954
             ],
             "passed_time": 4.988972552,
             "remaining_time": 21.26877772,
             "test": [
              0.01717828143
             ]
            },
            {
             "iteration": 190,
             "learn": [
              0.01716405189
             ],
             "passed_time": 5.012275732,
             "remaining_time": 21.23000559,
             "test": [
              0.01717154577
             ]
            },
            {
             "iteration": 191,
             "learn": [
              0.01715313289
             ],
             "passed_time": 5.034569604,
             "remaining_time": 21.18714708,
             "test": [
              0.01716063595
             ]
            },
            {
             "iteration": 192,
             "learn": [
              0.01713208157
             ],
             "passed_time": 5.057127792,
             "remaining_time": 21.14560688,
             "test": [
              0.01713958177
             ]
            },
            {
             "iteration": 193,
             "learn": [
              0.01712164741
             ],
             "passed_time": 5.080616514,
             "remaining_time": 21.1081284,
             "test": [
              0.01712912828
             ]
            },
            {
             "iteration": 194,
             "learn": [
              0.01711281597
             ],
             "passed_time": 5.102590396,
             "remaining_time": 21.06453984,
             "test": [
              0.01712030585
             ]
            },
            {
             "iteration": 195,
             "learn": [
              0.01710828085
             ],
             "passed_time": 5.125575564,
             "remaining_time": 21.02532017,
             "test": [
              0.01711578338
             ]
            },
            {
             "iteration": 196,
             "learn": [
              0.01709868501
             ],
             "passed_time": 5.152451372,
             "remaining_time": 21.00212412,
             "test": [
              0.0171061659
             ]
            },
            {
             "iteration": 197,
             "learn": [
              0.0170814911
             ],
             "passed_time": 5.17777403,
             "remaining_time": 20.97259986,
             "test": [
              0.01708897327
             ]
            },
            {
             "iteration": 198,
             "learn": [
              0.01706443306
             ],
             "passed_time": 5.200982331,
             "remaining_time": 20.93460727,
             "test": [
              0.01707189496
             ]
            },
            {
             "iteration": 199,
             "learn": [
              0.01705606724
             ],
             "passed_time": 5.227538329,
             "remaining_time": 20.91015332,
             "test": [
              0.01706353246
             ]
            },
            {
             "iteration": 200,
             "learn": [
              0.01703774313
             ],
             "passed_time": 5.252423702,
             "remaining_time": 20.8790375,
             "test": [
              0.01704521028
             ]
            },
            {
             "iteration": 201,
             "learn": [
              0.01702712699
             ],
             "passed_time": 5.277178891,
             "remaining_time": 20.84746908,
             "test": [
              0.01703458706
             ]
            },
            {
             "iteration": 202,
             "learn": [
              0.01700232321
             ],
             "passed_time": 5.301330561,
             "remaining_time": 20.81359831,
             "test": [
              0.01700976896
             ]
            },
            {
             "iteration": 203,
             "learn": [
              0.01699412183
             ],
             "passed_time": 5.328282924,
             "remaining_time": 20.79075102,
             "test": [
              0.01700156292
             ]
            },
            {
             "iteration": 204,
             "learn": [
              0.01697827026
             ],
             "passed_time": 5.35082284,
             "remaining_time": 20.75075199,
             "test": [
              0.0169857168
             ]
            },
            {
             "iteration": 205,
             "learn": [
              0.01697461973
             ],
             "passed_time": 5.375983436,
             "remaining_time": 20.72102353,
             "test": [
              0.01698205818
             ]
            },
            {
             "iteration": 206,
             "learn": [
              0.01695898151
             ],
             "passed_time": 5.403202604,
             "remaining_time": 20.69922544,
             "test": [
              0.01696643807
             ]
            },
            {
             "iteration": 207,
             "learn": [
              0.01693833882
             ],
             "passed_time": 5.429658691,
             "remaining_time": 20.67446963,
             "test": [
              0.01694575077
             ]
            },
            {
             "iteration": 208,
             "learn": [
              0.01692506252
             ],
             "passed_time": 5.451908132,
             "remaining_time": 20.63377671,
             "test": [
              0.0169324716
             ]
            },
            {
             "iteration": 209,
             "learn": [
              0.01690903168
             ],
             "passed_time": 5.474094116,
             "remaining_time": 20.59302072,
             "test": [
              0.01691643638
             ]
            },
            {
             "iteration": 210,
             "learn": [
              0.01687775266
             ],
             "passed_time": 5.501323036,
             "remaining_time": 20.57129799,
             "test": [
              0.01688513643
             ]
            },
            {
             "iteration": 211,
             "learn": [
              0.0168681222
             ],
             "passed_time": 5.524524521,
             "remaining_time": 20.53455341,
             "test": [
              0.01687549894
             ]
            },
            {
             "iteration": 212,
             "learn": [
              0.01686592067
             ],
             "passed_time": 5.549959681,
             "remaining_time": 20.50618906,
             "test": [
              0.01687330836
             ]
            },
            {
             "iteration": 213,
             "learn": [
              0.01685773302
             ],
             "passed_time": 5.573785889,
             "remaining_time": 20.47194257,
             "test": [
              0.01686512329
             ]
            },
            {
             "iteration": 214,
             "learn": [
              0.01683865331
             ],
             "passed_time": 5.597048869,
             "remaining_time": 20.43573657,
             "test": [
              0.01684604236
             ]
            },
            {
             "iteration": 215,
             "learn": [
              0.0168268156
             ],
             "passed_time": 5.621067507,
             "remaining_time": 20.40239317,
             "test": [
              0.01683420659
             ]
            },
            {
             "iteration": 216,
             "learn": [
              0.01681176367
             ],
             "passed_time": 5.647140641,
             "remaining_time": 20.37654895,
             "test": [
              0.01681915922
             ]
            },
            {
             "iteration": 217,
             "learn": [
              0.01680332788
             ],
             "passed_time": 5.673233352,
             "remaining_time": 20.35077285,
             "test": [
              0.01681071618
             ]
            },
            {
             "iteration": 218,
             "learn": [
              0.01679116667
             ],
             "passed_time": 5.706018331,
             "remaining_time": 20.34885989,
             "test": [
              0.01679855427
             ]
            },
            {
             "iteration": 219,
             "learn": [
              0.01678262915
             ],
             "passed_time": 5.730349604,
             "remaining_time": 20.31669405,
             "test": [
              0.01679001779
             ]
            },
            {
             "iteration": 220,
             "learn": [
              0.01676900105
             ],
             "passed_time": 5.753740239,
             "remaining_time": 20.28128347,
             "test": [
              0.01677638533
             ]
            },
            {
             "iteration": 221,
             "learn": [
              0.01676139078
             ],
             "passed_time": 5.776470823,
             "remaining_time": 20.24366802,
             "test": [
              0.01676876597
             ]
            },
            {
             "iteration": 222,
             "learn": [
              0.01675247114
             ],
             "passed_time": 5.799023841,
             "remaining_time": 20.20556738,
             "test": [
              0.01675984789
             ]
            },
            {
             "iteration": 223,
             "learn": [
              0.01673022495
             ],
             "passed_time": 5.822749983,
             "remaining_time": 20.17166958,
             "test": [
              0.01673761555
             ]
            },
            {
             "iteration": 224,
             "learn": [
              0.01671875852
             ],
             "passed_time": 5.848994104,
             "remaining_time": 20.14653525,
             "test": [
              0.01672613734
             ]
            },
            {
             "iteration": 225,
             "learn": [
              0.01670298044
             ],
             "passed_time": 5.873901097,
             "remaining_time": 20.11681172,
             "test": [
              0.01671034369
             ]
            },
            {
             "iteration": 226,
             "learn": [
              0.01667640877
             ],
             "passed_time": 5.898058135,
             "remaining_time": 20.08457682,
             "test": [
              0.01668376817
             ]
            },
            {
             "iteration": 227,
             "learn": [
              0.01665594689
             ],
             "passed_time": 5.921920102,
             "remaining_time": 20.05141368,
             "test": [
              0.01666330861
             ]
            },
            {
             "iteration": 228,
             "learn": [
              0.01664919748
             ],
             "passed_time": 5.94418388,
             "remaining_time": 20.01295097,
             "test": [
              0.0166565552
             ]
            },
            {
             "iteration": 229,
             "learn": [
              0.01663066519
             ],
             "passed_time": 5.970786873,
             "remaining_time": 19.98915605,
             "test": [
              0.0166380192
             ]
            },
            {
             "iteration": 230,
             "learn": [
              0.016606675
             ],
             "passed_time": 5.995265313,
             "remaining_time": 19.95826418,
             "test": [
              0.01661400572
             ]
            },
            {
             "iteration": 231,
             "learn": [
              0.01660171851
             ],
             "passed_time": 6.016894762,
             "remaining_time": 19.91799645,
             "test": [
              0.01660905345
             ]
            },
            {
             "iteration": 232,
             "learn": [
              0.01659141279
             ],
             "passed_time": 6.040310547,
             "remaining_time": 19.88376905,
             "test": [
              0.01659875655
             ]
            },
            {
             "iteration": 233,
             "learn": [
              0.01658239434
             ],
             "passed_time": 6.063575861,
             "remaining_time": 19.84914149,
             "test": [
              0.01658973855
             ]
            },
            {
             "iteration": 234,
             "learn": [
              0.01657523711
             ],
             "passed_time": 6.085972672,
             "remaining_time": 19.81178338,
             "test": [
              0.01658257788
             ]
            },
            {
             "iteration": 235,
             "learn": [
              0.01656299364
             ],
             "passed_time": 6.109367249,
             "remaining_time": 19.77778211,
             "test": [
              0.01657033253
             ]
            },
            {
             "iteration": 236,
             "learn": [
              0.01655526331
             ],
             "passed_time": 6.135350518,
             "remaining_time": 19.75220441,
             "test": [
              0.01656259975
             ]
            },
            {
             "iteration": 237,
             "learn": [
              0.01655146149
             ],
             "passed_time": 6.159334332,
             "remaining_time": 19.72022168,
             "test": [
              0.01655880761
             ]
            },
            {
             "iteration": 238,
             "learn": [
              0.01654500948
             ],
             "passed_time": 6.182518114,
             "remaining_time": 19.68575851,
             "test": [
              0.01655235294
             ]
            },
            {
             "iteration": 239,
             "learn": [
              0.01653871953
             ],
             "passed_time": 6.20413167,
             "remaining_time": 19.64641696,
             "test": [
              0.01654606732
             ]
            },
            {
             "iteration": 240,
             "learn": [
              0.0165249462
             ],
             "passed_time": 6.227747392,
             "remaining_time": 19.61352809,
             "test": [
              0.01653228074
             ]
            },
            {
             "iteration": 241,
             "learn": [
              0.01651130076
             ],
             "passed_time": 6.24957725,
             "remaining_time": 19.57512213,
             "test": [
              0.01651862772
             ]
            },
            {
             "iteration": 242,
             "learn": [
              0.01647674718
             ],
             "passed_time": 6.273618766,
             "remaining_time": 19.54374241,
             "test": [
              0.01648407073
             ]
            },
            {
             "iteration": 243,
             "learn": [
              0.01646209169
             ],
             "passed_time": 6.298752342,
             "remaining_time": 19.51580644,
             "test": [
              0.01646939869
             ]
            },
            {
             "iteration": 244,
             "learn": [
              0.0164488962
             ],
             "passed_time": 6.321695,
             "remaining_time": 19.48114174,
             "test": [
              0.01645622303
             ]
            },
            {
             "iteration": 245,
             "learn": [
              0.0164414079
             ],
             "passed_time": 6.347409831,
             "remaining_time": 19.45506916,
             "test": [
              0.01644872117
             ]
            },
            {
             "iteration": 246,
             "learn": [
              0.01643378465
             ],
             "passed_time": 6.371273813,
             "remaining_time": 19.42335701,
             "test": [
              0.01644108932
             ]
            },
            {
             "iteration": 247,
             "learn": [
              0.01642096702
             ],
             "passed_time": 6.395677021,
             "remaining_time": 19.39334322,
             "test": [
              0.01642827451
             ]
            },
            {
             "iteration": 248,
             "learn": [
              0.01640303561
             ],
             "passed_time": 6.420570609,
             "remaining_time": 19.36485352,
             "test": [
              0.01641033037
             ]
            },
            {
             "iteration": 249,
             "learn": [
              0.01638963115
             ],
             "passed_time": 6.444491032,
             "remaining_time": 19.3334731,
             "test": [
              0.0163969275
             ]
            },
            {
             "iteration": 250,
             "learn": [
              0.016381116
             ],
             "passed_time": 6.469757095,
             "remaining_time": 19.30616759,
             "test": [
              0.01638840496
             ]
            },
            {
             "iteration": 251,
             "learn": [
              0.01637048874
             ],
             "passed_time": 6.492910363,
             "remaining_time": 19.27260695,
             "test": [
              0.01637777881
             ]
            },
            {
             "iteration": 252,
             "learn": [
              0.01635860114
             ],
             "passed_time": 6.516308753,
             "remaining_time": 19.23985233,
             "test": [
              0.01636588989
             ]
            },
            {
             "iteration": 253,
             "learn": [
              0.01633801416
             ],
             "passed_time": 6.539646809,
             "remaining_time": 19.20699417,
             "test": [
              0.01634529978
             ]
            },
            {
             "iteration": 254,
             "learn": [
              0.01632880277
             ],
             "passed_time": 6.565288653,
             "remaining_time": 19.18094136,
             "test": [
              0.01633607875
             ]
            },
            {
             "iteration": 255,
             "learn": [
              0.01632292359
             ],
             "passed_time": 6.591889474,
             "remaining_time": 19.15767878,
             "test": [
              0.01633020042
             ]
            },
            {
             "iteration": 256,
             "learn": [
              0.01631221254
             ],
             "passed_time": 6.614489114,
             "remaining_time": 19.12282261,
             "test": [
              0.01631948734
             ]
            },
            {
             "iteration": 257,
             "learn": [
              0.01629515591
             ],
             "passed_time": 6.637910698,
             "remaining_time": 19.09042534,
             "test": [
              0.01630242753
             ]
            },
            {
             "iteration": 258,
             "learn": [
              0.01628933683
             ],
             "passed_time": 6.659907663,
             "remaining_time": 19.05402154,
             "test": [
              0.01629660228
             ]
            },
            {
             "iteration": 259,
             "learn": [
              0.01627552077
             ],
             "passed_time": 6.684072258,
             "remaining_time": 19.02389796,
             "test": [
              0.0162827835
             ]
            },
            {
             "iteration": 260,
             "learn": [
              0.01626069505
             ],
             "passed_time": 6.717337423,
             "remaining_time": 19.01958757,
             "test": [
              0.01626796986
             ]
            },
            {
             "iteration": 261,
             "learn": [
              0.01625321145
             ],
             "passed_time": 6.746693375,
             "remaining_time": 19.0040447,
             "test": [
              0.016260479
             ]
            },
            {
             "iteration": 262,
             "learn": [
              0.01624486379
             ],
             "passed_time": 6.773574006,
             "remaining_time": 18.98146024,
             "test": [
              0.01625213091
             ]
            },
            {
             "iteration": 263,
             "learn": [
              0.01621297539
             ],
             "passed_time": 6.800645116,
             "remaining_time": 18.95937426,
             "test": [
              0.01622024356
             ]
            },
            {
             "iteration": 264,
             "learn": [
              0.01620225379
             ],
             "passed_time": 6.825113603,
             "remaining_time": 18.93003207,
             "test": [
              0.01620952792
             ]
            },
            {
             "iteration": 265,
             "learn": [
              0.01618596704
             ],
             "passed_time": 6.848828796,
             "remaining_time": 18.89864788,
             "test": [
              0.01619323519
             ]
            },
            {
             "iteration": 266,
             "learn": [
              0.01617093774
             ],
             "passed_time": 6.873038872,
             "remaining_time": 18.86867975,
             "test": [
              0.01617820619
             ]
            },
            {
             "iteration": 267,
             "learn": [
              0.01615785254
             ],
             "passed_time": 6.894696765,
             "remaining_time": 18.8317837,
             "test": [
              0.01616510393
             ]
            },
            {
             "iteration": 268,
             "learn": [
              0.01613121205
             ],
             "passed_time": 6.918688491,
             "remaining_time": 18.80134308,
             "test": [
              0.01613846584
             ]
            },
            {
             "iteration": 269,
             "learn": [
              0.01611635657
             ],
             "passed_time": 6.942277735,
             "remaining_time": 18.76986202,
             "test": [
              0.01612358636
             ]
            },
            {
             "iteration": 270,
             "learn": [
              0.01610705952
             ],
             "passed_time": 6.965838972,
             "remaining_time": 18.73836388,
             "test": [
              0.01611430597
             ]
            },
            {
             "iteration": 271,
             "learn": [
              0.01606113771
             ],
             "passed_time": 6.990934617,
             "remaining_time": 18.71103089,
             "test": [
              0.01606835584
             ]
            },
            {
             "iteration": 272,
             "learn": [
              0.01604394064
             ],
             "passed_time": 7.015650903,
             "remaining_time": 18.68270405,
             "test": [
              0.01605115486
             ]
            },
            {
             "iteration": 273,
             "learn": [
              0.01603948426
             ],
             "passed_time": 7.038673883,
             "remaining_time": 18.64991693,
             "test": [
              0.01604669313
             ]
            },
            {
             "iteration": 274,
             "learn": [
              0.0160351219
             ],
             "passed_time": 7.061026547,
             "remaining_time": 18.61543362,
             "test": [
              0.01604233876
             ]
            },
            {
             "iteration": 275,
             "learn": [
              0.01603271994
             ],
             "passed_time": 7.085084455,
             "remaining_time": 18.5855114,
             "test": [
              0.01603993292
             ]
            },
            {
             "iteration": 276,
             "learn": [
              0.01602781317
             ],
             "passed_time": 7.109051529,
             "remaining_time": 18.55539442,
             "test": [
              0.01603503187
             ]
            },
            {
             "iteration": 277,
             "learn": [
              0.01601358221
             ],
             "passed_time": 7.133711242,
             "remaining_time": 18.52712056,
             "test": [
              0.01602080618
             ]
            },
            {
             "iteration": 278,
             "learn": [
              0.01600705868
             ],
             "passed_time": 7.155684104,
             "remaining_time": 18.49192917,
             "test": [
              0.01601429124
             ]
            },
            {
             "iteration": 279,
             "learn": [
              0.0159915861
             ],
             "passed_time": 7.17982966,
             "remaining_time": 18.46241913,
             "test": [
              0.01599882864
             ]
            },
            {
             "iteration": 280,
             "learn": [
              0.0159819486
             ],
             "passed_time": 7.203246927,
             "remaining_time": 18.43108377,
             "test": [
              0.0159891841
             ]
            },
            {
             "iteration": 281,
             "learn": [
              0.01597208623
             ],
             "passed_time": 7.225220308,
             "remaining_time": 18.3961283,
             "test": [
              0.0159793179
             ]
            },
            {
             "iteration": 282,
             "learn": [
              0.01594397694
             ],
             "passed_time": 7.248834595,
             "remaining_time": 18.36542192,
             "test": [
              0.01595120211
             ]
            },
            {
             "iteration": 283,
             "learn": [
              0.01592177408
             ],
             "passed_time": 7.27399687,
             "remaining_time": 18.33866816,
             "test": [
              0.01592898651
             ]
            },
            {
             "iteration": 284,
             "learn": [
              0.0159107784
             ],
             "passed_time": 7.298735525,
             "remaining_time": 18.31086281,
             "test": [
              0.0159179834
             ]
            },
            {
             "iteration": 285,
             "learn": [
              0.01588869448
             ],
             "passed_time": 7.324472517,
             "remaining_time": 18.28557125,
             "test": [
              0.01589590835
             ]
            },
            {
             "iteration": 286,
             "learn": [
              0.01587768968
             ],
             "passed_time": 7.351062541,
             "remaining_time": 18.26239579,
             "test": [
              0.01588488511
             ]
            },
            {
             "iteration": 287,
             "learn": [
              0.01585242566
             ],
             "passed_time": 7.374303359,
             "remaining_time": 18.23091664,
             "test": [
              0.01585962306
             ]
            },
            {
             "iteration": 288,
             "learn": [
              0.01582917097
             ],
             "passed_time": 7.402715535,
             "remaining_time": 18.21221711,
             "test": [
              0.01583633523
             ]
            },
            {
             "iteration": 289,
             "learn": [
              0.01581726633
             ],
             "passed_time": 7.426202058,
             "remaining_time": 18.18139125,
             "test": [
              0.01582444528
             ]
            },
            {
             "iteration": 290,
             "learn": [
              0.01580400389
             ],
             "passed_time": 7.451055628,
             "remaining_time": 18.15394653,
             "test": [
              0.01581117347
             ]
            },
            {
             "iteration": 291,
             "learn": [
              0.0157971214
             ],
             "passed_time": 7.474800845,
             "remaining_time": 18.12383219,
             "test": [
              0.01580429335
             ]
            },
            {
             "iteration": 292,
             "learn": [
              0.01579321715
             ],
             "passed_time": 7.501015172,
             "remaining_time": 18.0997192,
             "test": [
              0.01580039678
             ]
            },
            {
             "iteration": 293,
             "learn": [
              0.01577880065
             ],
             "passed_time": 7.526622626,
             "remaining_time": 18.07413461,
             "test": [
              0.01578598037
             ]
            },
            {
             "iteration": 294,
             "learn": [
              0.01576122703
             ],
             "passed_time": 7.550597945,
             "remaining_time": 18.04464933,
             "test": [
              0.01576838088
             ]
            },
            {
             "iteration": 295,
             "learn": [
              0.0157521841
             ],
             "passed_time": 7.572839189,
             "remaining_time": 18.01107699,
             "test": [
              0.01575934637
             ]
            },
            {
             "iteration": 296,
             "learn": [
              0.01573909183
             ],
             "passed_time": 7.596013463,
             "remaining_time": 17.97978944,
             "test": [
              0.01574624372
             ]
            },
            {
             "iteration": 297,
             "learn": [
              0.0157169945
             ],
             "passed_time": 7.619485028,
             "remaining_time": 17.94925668,
             "test": [
              0.01572413055
             ]
            },
            {
             "iteration": 298,
             "learn": [
              0.01570954562
             ],
             "passed_time": 7.641365063,
             "remaining_time": 17.91503983,
             "test": [
              0.0157167049
             ]
            },
            {
             "iteration": 299,
             "learn": [
              0.01570611245
             ],
             "passed_time": 7.668065335,
             "remaining_time": 17.89215245,
             "test": [
              0.01571326389
             ]
            },
            {
             "iteration": 300,
             "learn": [
              0.01569914249
             ],
             "passed_time": 7.695950518,
             "remaining_time": 17.8719914,
             "test": [
              0.01570631499
             ]
            },
            {
             "iteration": 301,
             "learn": [
              0.01566879508
             ],
             "passed_time": 7.727727263,
             "remaining_time": 17.86077361,
             "test": [
              0.01567594411
             ]
            },
            {
             "iteration": 302,
             "learn": [
              0.01566263936
             ],
             "passed_time": 7.753566596,
             "remaining_time": 17.8357621,
             "test": [
              0.01566979554
             ]
            },
            {
             "iteration": 303,
             "learn": [
              0.01565879236
             ],
             "passed_time": 7.774373785,
             "remaining_time": 17.79922419,
             "test": [
              0.01566595118
             ]
            },
            {
             "iteration": 304,
             "learn": [
              0.01565199262
             ],
             "passed_time": 7.799805385,
             "remaining_time": 17.77332702,
             "test": [
              0.01565915385
             ]
            },
            {
             "iteration": 305,
             "learn": [
              0.01562707927
             ],
             "passed_time": 7.823662826,
             "remaining_time": 17.74386275,
             "test": [
              0.01563422736
             ]
            },
            {
             "iteration": 306,
             "learn": [
              0.01562202555
             ],
             "passed_time": 7.852890811,
             "remaining_time": 17.72655809,
             "test": [
              0.01562918157
             ]
            },
            {
             "iteration": 307,
             "learn": [
              0.01560058378
             ],
             "passed_time": 7.879939732,
             "remaining_time": 17.70428018,
             "test": [
              0.01560771986
             ]
            },
            {
             "iteration": 308,
             "learn": [
              0.0155798142
             ],
             "passed_time": 7.905829401,
             "remaining_time": 17.67937902,
             "test": [
              0.01558696336
             ]
            },
            {
             "iteration": 309,
             "learn": [
              0.01557122764
             ],
             "passed_time": 7.929086247,
             "remaining_time": 17.64861132,
             "test": [
              0.01557836828
             ]
            },
            {
             "iteration": 310,
             "learn": [
              0.01555066766
             ],
             "passed_time": 7.954755861,
             "remaining_time": 17.62323726,
             "test": [
              0.01555780654
             ]
            },
            {
             "iteration": 311,
             "learn": [
              0.01554396485
             ],
             "passed_time": 7.976135101,
             "remaining_time": 17.58840048,
             "test": [
              0.0155511018
             ]
            },
            {
             "iteration": 312,
             "learn": [
              0.01553048936
             ],
             "passed_time": 7.999578058,
             "remaining_time": 17.55817932,
             "test": [
              0.01553761889
             ]
            },
            {
             "iteration": 313,
             "learn": [
              0.01552241068
             ],
             "passed_time": 8.021368286,
             "remaining_time": 17.52439059,
             "test": [
              0.01552954722
             ]
            },
            {
             "iteration": 314,
             "learn": [
              0.01549861623
             ],
             "passed_time": 8.045434591,
             "remaining_time": 17.4956276,
             "test": [
              0.01550574975
             ]
            },
            {
             "iteration": 315,
             "learn": [
              0.0154917888
             ],
             "passed_time": 8.071087442,
             "remaining_time": 17.47032851,
             "test": [
              0.01549892077
             ]
            },
            {
             "iteration": 316,
             "learn": [
              0.01546771222
             ],
             "passed_time": 8.096669314,
             "remaining_time": 17.44487426,
             "test": [
              0.01547483174
             ]
            },
            {
             "iteration": 317,
             "learn": [
              0.01545837565
             ],
             "passed_time": 8.121492526,
             "remaining_time": 17.41779215,
             "test": [
              0.01546548322
             ]
            },
            {
             "iteration": 318,
             "learn": [
              0.01544568877
             ],
             "passed_time": 8.147047529,
             "remaining_time": 17.39228642,
             "test": [
              0.01545279396
             ]
            },
            {
             "iteration": 319,
             "learn": [
              0.0154334934
             ],
             "passed_time": 8.172791636,
             "remaining_time": 17.36718223,
             "test": [
              0.01544058223
             ]
            },
            {
             "iteration": 320,
             "learn": [
              0.01542865144
             ],
             "passed_time": 8.195288825,
             "remaining_time": 17.33520596,
             "test": [
              0.01543574857
             ]
            },
            {
             "iteration": 321,
             "learn": [
              0.01542690426
             ],
             "passed_time": 8.217788334,
             "remaining_time": 17.30329345,
             "test": [
              0.01543399201
             ]
            },
            {
             "iteration": 322,
             "learn": [
              0.01539844758
             ],
             "passed_time": 8.242931565,
             "remaining_time": 17.2769804,
             "test": [
              0.01540554016
             ]
            },
            {
             "iteration": 323,
             "learn": [
              0.01538912442
             ],
             "passed_time": 8.265611079,
             "remaining_time": 17.24553423,
             "test": [
              0.01539621421
             ]
            },
            {
             "iteration": 324,
             "learn": [
              0.01538734838
             ],
             "passed_time": 8.288602408,
             "remaining_time": 17.21478962,
             "test": [
              0.01539444449
             ]
            },
            {
             "iteration": 325,
             "learn": [
              0.01537595337
             ],
             "passed_time": 8.313051911,
             "remaining_time": 17.18710732,
             "test": [
              0.01538305047
             ]
            },
            {
             "iteration": 326,
             "learn": [
              0.01536723579
             ],
             "passed_time": 8.334972938,
             "remaining_time": 17.15424094,
             "test": [
              0.01537432629
             ]
            },
            {
             "iteration": 327,
             "learn": [
              0.01534848561
             ],
             "passed_time": 8.358354976,
             "remaining_time": 17.12443458,
             "test": [
              0.01535558645
             ]
            },
            {
             "iteration": 328,
             "learn": [
              0.01533152736
             ],
             "passed_time": 8.386689971,
             "remaining_time": 17.10476891,
             "test": [
              0.0153386088
             ]
            },
            {
             "iteration": 329,
             "learn": [
              0.0153246835
             ],
             "passed_time": 8.410386098,
             "remaining_time": 17.07563238,
             "test": [
              0.0153317723
             ]
            },
            {
             "iteration": 330,
             "learn": [
              0.01531978187
             ],
             "passed_time": 8.4330922,
             "remaining_time": 17.04452774,
             "test": [
              0.01532686953
             ]
            },
            {
             "iteration": 331,
             "learn": [
              0.01528983297
             ],
             "passed_time": 8.45930068,
             "remaining_time": 17.02052064,
             "test": [
              0.01529688519
             ]
            },
            {
             "iteration": 332,
             "learn": [
              0.01527516969
             ],
             "passed_time": 8.48528414,
             "remaining_time": 16.99604961,
             "test": [
              0.01528223572
             ]
            },
            {
             "iteration": 333,
             "learn": [
              0.01526656388
             ],
             "passed_time": 8.507631229,
             "remaining_time": 16.96431856,
             "test": [
              0.0152736188
             ]
            },
            {
             "iteration": 334,
             "learn": [
              0.01526188584
             ],
             "passed_time": 8.530933791,
             "remaining_time": 16.93454021,
             "test": [
              0.01526894989
             ]
            },
            {
             "iteration": 335,
             "learn": [
              0.0152528117
             ],
             "passed_time": 8.556005541,
             "remaining_time": 16.90829667,
             "test": [
              0.01525986739
             ]
            },
            {
             "iteration": 336,
             "learn": [
              0.01523288896
             ],
             "passed_time": 8.580567403,
             "remaining_time": 16.88105694,
             "test": [
              0.01523993094
             ]
            },
            {
             "iteration": 337,
             "learn": [
              0.01521894579
             ],
             "passed_time": 8.605845235,
             "remaining_time": 16.85523534,
             "test": [
              0.01522598337
             ]
            },
            {
             "iteration": 338,
             "learn": [
              0.01520321697
             ],
             "passed_time": 8.63006295,
             "remaining_time": 16.82734988,
             "test": [
              0.01521026475
             ]
            },
            {
             "iteration": 339,
             "learn": [
              0.01518103011
             ],
             "passed_time": 8.654265112,
             "remaining_time": 16.79945581,
             "test": [
              0.01518807112
             ]
            },
            {
             "iteration": 340,
             "learn": [
              0.01517559544
             ],
             "passed_time": 8.6808314,
             "remaining_time": 16.77615218,
             "test": [
              0.01518263968
             ]
            },
            {
             "iteration": 341,
             "learn": [
              0.01516820392
             ],
             "passed_time": 8.716137711,
             "remaining_time": 16.76964507,
             "test": [
              0.01517524505
             ]
            },
            {
             "iteration": 342,
             "learn": [
              0.01516395966
             ],
             "passed_time": 8.740838815,
             "remaining_time": 16.74265627,
             "test": [
              0.01517099872
             ]
            },
            {
             "iteration": 343,
             "learn": [
              0.01515379744
             ],
             "passed_time": 8.765754025,
             "remaining_time": 16.71608907,
             "test": [
              0.01516083734
             ]
            },
            {
             "iteration": 344,
             "learn": [
              0.01513466712
             ],
             "passed_time": 8.788551714,
             "remaining_time": 16.68551123,
             "test": [
              0.01514170034
             ]
            },
            {
             "iteration": 345,
             "learn": [
              0.01510946632
             ],
             "passed_time": 8.81255936,
             "remaining_time": 16.65726538,
             "test": [
              0.01511649001
             ]
            },
            {
             "iteration": 346,
             "learn": [
              0.01510476601
             ],
             "passed_time": 8.83992527,
             "remaining_time": 16.63536369,
             "test": [
              0.01511179326
             ]
            },
            {
             "iteration": 347,
             "learn": [
              0.01509406835
             ],
             "passed_time": 8.863494162,
             "remaining_time": 16.60631665,
             "test": [
              0.01510109398
             ]
            },
            {
             "iteration": 348,
             "learn": [
              0.01508542017
             ],
             "passed_time": 8.887266155,
             "remaining_time": 16.57767985,
             "test": [
              0.01509243445
             ]
            },
            {
             "iteration": 349,
             "learn": [
              0.01506679777
             ],
             "passed_time": 8.91248375,
             "remaining_time": 16.55175554,
             "test": [
              0.01507381351
             ]
            },
            {
             "iteration": 350,
             "learn": [
              0.01506195885
             ],
             "passed_time": 8.938216799,
             "remaining_time": 16.52678833,
             "test": [
              0.01506897198
             ]
            },
            {
             "iteration": 351,
             "learn": [
              0.01505403463
             ],
             "passed_time": 8.960662004,
             "remaining_time": 16.49576414,
             "test": [
              0.01506104864
             ]
            },
            {
             "iteration": 352,
             "learn": [
              0.0150292806
             ],
             "passed_time": 8.985105648,
             "remaining_time": 16.46845143,
             "test": [
              0.01503629627
             ]
            },
            {
             "iteration": 353,
             "learn": [
              0.01501293838
             ],
             "passed_time": 9.00954716,
             "remaining_time": 16.44115103,
             "test": [
              0.01501994118
             ]
            },
            {
             "iteration": 354,
             "learn": [
              0.01500318641
             ],
             "passed_time": 9.032123359,
             "remaining_time": 16.41047765,
             "test": [
              0.01501018843
             ]
            },
            {
             "iteration": 355,
             "learn": [
              0.01499825732
             ],
             "passed_time": 9.057267433,
             "remaining_time": 16.38449502,
             "test": [
              0.01500525925
             ]
            },
            {
             "iteration": 356,
             "learn": [
              0.01499472552
             ],
             "passed_time": 9.080148388,
             "remaining_time": 16.35444093,
             "test": [
              0.01500173817
             ]
            },
            {
             "iteration": 357,
             "learn": [
              0.01498003427
             ],
             "passed_time": 9.102870023,
             "remaining_time": 16.32414121,
             "test": [
              0.01498704724
             ]
            },
            {
             "iteration": 358,
             "learn": [
              0.01495893208
             ],
             "passed_time": 9.126916106,
             "remaining_time": 16.29624854,
             "test": [
              0.01496594268
             ]
            },
            {
             "iteration": 359,
             "learn": [
              0.01493952286
             ],
             "passed_time": 9.15041252,
             "remaining_time": 16.26740004,
             "test": [
              0.01494651974
             ]
            },
            {
             "iteration": 360,
             "learn": [
              0.01492432688
             ],
             "passed_time": 9.172932123,
             "remaining_time": 16.23685215,
             "test": [
              0.01493132512
             ]
            },
            {
             "iteration": 361,
             "learn": [
              0.01491148527
             ],
             "passed_time": 9.198289409,
             "remaining_time": 16.21134984,
             "test": [
              0.01491849501
             ]
            },
            {
             "iteration": 362,
             "learn": [
              0.01490445178
             ],
             "passed_time": 9.220614335,
             "remaining_time": 16.18052708,
             "test": [
              0.01491145329
             ]
            },
            {
             "iteration": 363,
             "learn": [
              0.01487916896
             ],
             "passed_time": 9.243239404,
             "remaining_time": 16.15027544,
             "test": [
              0.01488616761
             ]
            },
            {
             "iteration": 364,
             "learn": [
              0.01487106088
             ],
             "passed_time": 9.266422262,
             "remaining_time": 16.12103599,
             "test": [
              0.01487806648
             ]
            },
            {
             "iteration": 365,
             "learn": [
              0.01484704117
             ],
             "passed_time": 9.290492618,
             "remaining_time": 16.09336699,
             "test": [
              0.01485402965
             ]
            },
            {
             "iteration": 366,
             "learn": [
              0.01484569982
             ],
             "passed_time": 9.313938324,
             "remaining_time": 16.06464022,
             "test": [
              0.01485269219
             ]
            },
            {
             "iteration": 367,
             "learn": [
              0.01482402247
             ],
             "passed_time": 9.339727806,
             "remaining_time": 16.03996732,
             "test": [
              0.01483101551
             ]
            },
            {
             "iteration": 368,
             "learn": [
              0.0148199283
             ],
             "passed_time": 9.362181901,
             "remaining_time": 16.00958477,
             "test": [
              0.01482692336
             ]
            },
            {
             "iteration": 369,
             "learn": [
              0.01479873415
             ],
             "passed_time": 9.389515362,
             "remaining_time": 15.98755318,
             "test": [
              0.01480572519
             ]
            },
            {
             "iteration": 370,
             "learn": [
              0.01478625481
             ],
             "passed_time": 9.412890977,
             "remaining_time": 15.95878281,
             "test": [
              0.01479324014
             ]
            },
            {
             "iteration": 371,
             "learn": [
              0.01477978731
             ],
             "passed_time": 9.435452918,
             "remaining_time": 15.92866783,
             "test": [
              0.01478678309
             ]
            },
            {
             "iteration": 372,
             "learn": [
              0.0147733216
             ],
             "passed_time": 9.458095562,
             "remaining_time": 15.898729,
             "test": [
              0.01478031642
             ]
            },
            {
             "iteration": 373,
             "learn": [
              0.01476895396
             ],
             "passed_time": 9.483205607,
             "remaining_time": 15.87295912,
             "test": [
              0.01477593338
             ]
            },
            {
             "iteration": 374,
             "learn": [
              0.01476534499
             ],
             "passed_time": 9.505661087,
             "remaining_time": 15.84276848,
             "test": [
              0.01477233996
             ]
            },
            {
             "iteration": 375,
             "learn": [
              0.01474117972
             ],
             "passed_time": 9.53025039,
             "remaining_time": 15.81616022,
             "test": [
              0.01474815343
             ]
            },
            {
             "iteration": 376,
             "learn": [
              0.01473728361
             ],
             "passed_time": 9.555834883,
             "remaining_time": 15.79120725,
             "test": [
              0.0147442635
             ]
            },
            {
             "iteration": 377,
             "learn": [
              0.01472516525
             ],
             "passed_time": 9.579508637,
             "remaining_time": 15.7631068,
             "test": [
              0.01473213739
             ]
            },
            {
             "iteration": 378,
             "learn": [
              0.01470807461
             ],
             "passed_time": 9.6030723,
             "remaining_time": 15.73484934,
             "test": [
              0.01471503525
             ]
            },
            {
             "iteration": 379,
             "learn": [
              0.01469454102
             ],
             "passed_time": 9.629448701,
             "remaining_time": 15.71120578,
             "test": [
              0.01470149867
             ]
            },
            {
             "iteration": 380,
             "learn": [
              0.01467011739
             ],
             "passed_time": 9.65403145,
             "remaining_time": 15.68463377,
             "test": [
              0.01467704359
             ]
            },
            {
             "iteration": 381,
             "learn": [
              0.01466298754
             ],
             "passed_time": 9.678203292,
             "remaining_time": 15.65740742,
             "test": [
              0.01466991829
             ]
            },
            {
             "iteration": 382,
             "learn": [
              0.01464601737
             ],
             "passed_time": 9.702311197,
             "remaining_time": 15.63009402,
             "test": [
              0.01465294781
             ]
            },
            {
             "iteration": 383,
             "learn": [
              0.01463154736
             ],
             "passed_time": 9.737911272,
             "remaining_time": 15.62123267,
             "test": [
              0.01463848047
             ]
            },
            {
             "iteration": 384,
             "learn": [
              0.01460964308
             ],
             "passed_time": 9.765026277,
             "remaining_time": 15.59867834,
             "test": [
              0.01461655637
             ]
            },
            {
             "iteration": 385,
             "learn": [
              0.01459546481
             ],
             "passed_time": 9.789579419,
             "remaining_time": 15.57202529,
             "test": [
              0.01460237886
             ]
            },
            {
             "iteration": 386,
             "learn": [
              0.01458171396
             ],
             "passed_time": 9.812029019,
             "remaining_time": 15.54205113,
             "test": [
              0.01458862261
             ]
            },
            {
             "iteration": 387,
             "learn": [
              0.01457039746
             ],
             "passed_time": 9.834634312,
             "remaining_time": 15.51236134,
             "test": [
              0.01457731332
             ]
            },
            {
             "iteration": 388,
             "learn": [
              0.01454757734
             ],
             "passed_time": 9.860396907,
             "remaining_time": 15.48766712,
             "test": [
              0.01455447476
             ]
            },
            {
             "iteration": 389,
             "learn": [
              0.01453659436
             ],
             "passed_time": 9.884588552,
             "remaining_time": 15.4605103,
             "test": [
              0.01454349721
             ]
            },
            {
             "iteration": 390,
             "learn": [
              0.0145255766
             ],
             "passed_time": 9.908986647,
             "remaining_time": 15.4336902,
             "test": [
              0.01453247893
             ]
            },
            {
             "iteration": 391,
             "learn": [
              0.01452068659
             ],
             "passed_time": 9.932460024,
             "remaining_time": 15.4054482,
             "test": [
              0.01452758188
             ]
            },
            {
             "iteration": 392,
             "learn": [
              0.01451653248
             ],
             "passed_time": 9.957325006,
             "remaining_time": 15.37937984,
             "test": [
              0.01452344158
             ]
            },
            {
             "iteration": 393,
             "learn": [
              0.01451458572
             ],
             "passed_time": 9.984121014,
             "remaining_time": 15.35628765,
             "test": [
              0.01452149187
             ]
            },
            {
             "iteration": 394,
             "learn": [
              0.01450774176
             ],
             "passed_time": 10.00808888,
             "remaining_time": 15.328845,
             "test": [
              0.01451464866
             ]
            },
            {
             "iteration": 395,
             "learn": [
              0.01450431775
             ],
             "passed_time": 10.0317008,
             "remaining_time": 15.30087699,
             "test": [
              0.0145112395
             ]
            },
            {
             "iteration": 396,
             "learn": [
              0.01449837274
             ],
             "passed_time": 10.05605993,
             "remaining_time": 15.27406583,
             "test": [
              0.01450527964
             ]
            },
            {
             "iteration": 397,
             "learn": [
              0.01448727338
             ],
             "passed_time": 10.08064655,
             "remaining_time": 15.24761111,
             "test": [
              0.01449419428
             ]
            },
            {
             "iteration": 398,
             "learn": [
              0.01447119197
             ],
             "passed_time": 10.10534845,
             "remaining_time": 15.22133939,
             "test": [
              0.01447809856
             ]
            },
            {
             "iteration": 399,
             "learn": [
              0.01444899817
             ],
             "passed_time": 10.12843196,
             "remaining_time": 15.19264795,
             "test": [
              0.01445589867
             ]
            },
            {
             "iteration": 400,
             "learn": [
              0.01444541177
             ],
             "passed_time": 10.15105121,
             "remaining_time": 15.16329097,
             "test": [
              0.01445231803
             ]
            },
            {
             "iteration": 401,
             "learn": [
              0.01441999239
             ],
             "passed_time": 10.17702362,
             "remaining_time": 15.13895553,
             "test": [
              0.01442688321
             ]
            },
            {
             "iteration": 402,
             "learn": [
              0.01441080971
             ],
             "passed_time": 10.20108714,
             "remaining_time": 15.11178417,
             "test": [
              0.0144176867
             ]
            },
            {
             "iteration": 403,
             "learn": [
              0.01440569424
             ],
             "passed_time": 10.22421018,
             "remaining_time": 15.08324076,
             "test": [
              0.01441258027
             ]
            },
            {
             "iteration": 404,
             "learn": [
              0.01440279407
             ],
             "passed_time": 10.25098745,
             "remaining_time": 15.06009267,
             "test": [
              0.01440968281
             ]
            },
            {
             "iteration": 405,
             "learn": [
              0.01438883015
             ],
             "passed_time": 10.27594068,
             "remaining_time": 15.03425804,
             "test": [
              0.01439569973
             ]
            },
            {
             "iteration": 406,
             "learn": [
              0.01438231529
             ],
             "passed_time": 10.29958352,
             "remaining_time": 15.00651849,
             "test": [
              0.0143891964
             ]
            },
            {
             "iteration": 407,
             "learn": [
              0.01437341821
             ],
             "passed_time": 10.32511724,
             "remaining_time": 14.98154267,
             "test": [
              0.01438029914
             ]
            },
            {
             "iteration": 408,
             "learn": [
              0.01436830983
             ],
             "passed_time": 10.34782336,
             "remaining_time": 14.95247826,
             "test": [
              0.01437518318
             ]
            },
            {
             "iteration": 409,
             "learn": [
              0.01435563442
             ],
             "passed_time": 10.37135839,
             "remaining_time": 14.92463769,
             "test": [
              0.01436251229
             ]
            },
            {
             "iteration": 410,
             "learn": [
              0.01434012722
             ],
             "passed_time": 10.39647655,
             "remaining_time": 14.89908683,
             "test": [
              0.01434699822
             ]
            },
            {
             "iteration": 411,
             "learn": [
              0.01433545404
             ],
             "passed_time": 10.4213317,
             "remaining_time": 14.87316271,
             "test": [
              0.01434232117
             ]
            },
            {
             "iteration": 412,
             "learn": [
              0.01432573908
             ],
             "passed_time": 10.44516481,
             "remaining_time": 14.84579114,
             "test": [
              0.01433262182
             ]
            },
            {
             "iteration": 413,
             "learn": [
              0.01431588539
             ],
             "passed_time": 10.46933627,
             "remaining_time": 14.81891559,
             "test": [
              0.01432276124
             ]
            },
            {
             "iteration": 414,
             "learn": [
              0.01431128636
             ],
             "passed_time": 10.49509813,
             "remaining_time": 14.79429495,
             "test": [
              0.01431814981
             ]
            },
            {
             "iteration": 415,
             "learn": [
              0.01430236829
             ],
             "passed_time": 10.52008978,
             "remaining_time": 14.76858758,
             "test": [
              0.0143092366
             ]
            },
            {
             "iteration": 416,
             "learn": [
              0.01429742898
             ],
             "passed_time": 10.54439279,
             "remaining_time": 14.74192086,
             "test": [
              0.01430429486
             ]
            },
            {
             "iteration": 417,
             "learn": [
              0.01428599336
             ],
             "passed_time": 10.56959282,
             "remaining_time": 14.7165144,
             "test": [
              0.01429285422
             ]
            },
            {
             "iteration": 418,
             "learn": [
              0.01425996346
             ],
             "passed_time": 10.59463394,
             "remaining_time": 14.6908886,
             "test": [
              0.01426682417
             ]
            },
            {
             "iteration": 419,
             "learn": [
              0.01425122955
             ],
             "passed_time": 10.61798179,
             "remaining_time": 14.66292723,
             "test": [
              0.01425809212
             ]
            },
            {
             "iteration": 420,
             "learn": [
              0.01422680336
             ],
             "passed_time": 10.64341973,
             "remaining_time": 14.63786229,
             "test": [
              0.01423365176
             ]
            },
            {
             "iteration": 421,
             "learn": [
              0.01420505754
             ],
             "passed_time": 10.6682498,
             "remaining_time": 14.611963,
             "test": [
              0.01421191227
             ]
            },
            {
             "iteration": 422,
             "learn": [
              0.01419909133
             ],
             "passed_time": 10.69209208,
             "remaining_time": 14.58472134,
             "test": [
              0.01420593315
             ]
            },
            {
             "iteration": 423,
             "learn": [
              0.01418970648
             ],
             "passed_time": 10.71655114,
             "remaining_time": 14.55833363,
             "test": [
              0.01419654828
             ]
            },
            {
             "iteration": 424,
             "learn": [
              0.01417640217
             ],
             "passed_time": 10.75325909,
             "remaining_time": 14.548527,
             "test": [
              0.01418323836
             ]
            },
            {
             "iteration": 425,
             "learn": [
              0.01415716918
             ],
             "passed_time": 10.77737632,
             "remaining_time": 14.52162913,
             "test": [
              0.01416400298
             ]
            },
            {
             "iteration": 426,
             "learn": [
              0.01415292464
             ],
             "passed_time": 10.80079602,
             "remaining_time": 14.49380824,
             "test": [
              0.0141597633
             ]
            },
            {
             "iteration": 427,
             "learn": [
              0.01414391441
             ],
             "passed_time": 10.82656731,
             "remaining_time": 14.46915071,
             "test": [
              0.01415074544
             ]
            },
            {
             "iteration": 428,
             "learn": [
              0.01413182589
             ],
             "passed_time": 10.85002388,
             "remaining_time": 14.44140708,
             "test": [
              0.01413866164
             ]
            },
            {
             "iteration": 429,
             "learn": [
              0.01412296589
             ],
             "passed_time": 10.87280555,
             "remaining_time": 14.41278875,
             "test": [
              0.01412980613
             ]
            },
            {
             "iteration": 430,
             "learn": [
              0.01411693502
             ],
             "passed_time": 10.89730859,
             "remaining_time": 14.38647005,
             "test": [
              0.01412378077
             ]
            },
            {
             "iteration": 431,
             "learn": [
              0.01410329942
             ],
             "passed_time": 10.92032862,
             "remaining_time": 14.35820986,
             "test": [
              0.01411014026
             ]
            },
            {
             "iteration": 432,
             "learn": [
              0.01409368055
             ],
             "passed_time": 10.94459231,
             "remaining_time": 14.3316024,
             "test": [
              0.01410051643
             ]
            },
            {
             "iteration": 433,
             "learn": [
              0.01408950545
             ],
             "passed_time": 10.96922775,
             "remaining_time": 14.30549057,
             "test": [
              0.01409635308
             ]
            },
            {
             "iteration": 434,
             "learn": [
              0.01408276208
             ],
             "passed_time": 10.99433205,
             "remaining_time": 14.2799945,
             "test": [
              0.01408960492
             ]
            },
            {
             "iteration": 435,
             "learn": [
              0.01407601721
             ],
             "passed_time": 11.02050871,
             "remaining_time": 14.25588741,
             "test": [
              0.01408285873
             ]
            },
            {
             "iteration": 436,
             "learn": [
              0.01406881513
             ],
             "passed_time": 11.04450278,
             "remaining_time": 14.22895896,
             "test": [
              0.01407565522
             ]
            },
            {
             "iteration": 437,
             "learn": [
              0.01404883651
             ],
             "passed_time": 11.0687855,
             "remaining_time": 14.20241427,
             "test": [
              0.01405566258
             ]
            },
            {
             "iteration": 438,
             "learn": [
              0.01404228429
             ],
             "passed_time": 11.09255644,
             "remaining_time": 14.17522589,
             "test": [
              0.01404911825
             ]
            },
            {
             "iteration": 439,
             "learn": [
              0.01402914003
             ],
             "passed_time": 11.11656214,
             "remaining_time": 14.14835182,
             "test": [
              0.01403596899
             ]
            },
            {
             "iteration": 440,
             "learn": [
              0.01402571854
             ],
             "passed_time": 11.14165833,
             "remaining_time": 14.12287303,
             "test": [
              0.01403253989
             ]
            },
            {
             "iteration": 441,
             "learn": [
              0.01402245649
             ],
             "passed_time": 11.16776384,
             "remaining_time": 14.09867019,
             "test": [
              0.01402928608
             ]
            },
            {
             "iteration": 442,
             "learn": [
              0.01400993469
             ],
             "passed_time": 11.1931975,
             "remaining_time": 14.07361401,
             "test": [
              0.01401673204
             ]
            },
            {
             "iteration": 443,
             "learn": [
              0.0140039347
             ],
             "passed_time": 11.22012695,
             "remaining_time": 14.05042925,
             "test": [
              0.01401075559
             ]
            },
            {
             "iteration": 444,
             "learn": [
              0.01400058005
             ],
             "passed_time": 11.24419367,
             "remaining_time": 14.02365727,
             "test": [
              0.01400739082
             ]
            },
            {
             "iteration": 445,
             "learn": [
              0.01399756428
             ],
             "passed_time": 11.27032554,
             "remaining_time": 13.99946267,
             "test": [
              0.01400438515
             ]
            },
            {
             "iteration": 446,
             "learn": [
              0.01398200218
             ],
             "passed_time": 11.29405403,
             "remaining_time": 13.97228609,
             "test": [
              0.01398882154
             ]
            },
            {
             "iteration": 447,
             "learn": [
              0.01397606174
             ],
             "passed_time": 11.31767553,
             "remaining_time": 13.94499306,
             "test": [
              0.01398287017
             ]
            },
            {
             "iteration": 448,
             "learn": [
              0.01397003384
             ],
             "passed_time": 11.33925478,
             "remaining_time": 13.91521021,
             "test": [
              0.01397684782
             ]
            },
            {
             "iteration": 449,
             "learn": [
              0.01396202418
             ],
             "passed_time": 11.36637481,
             "remaining_time": 13.89223587,
             "test": [
              0.01396883624
             ]
            },
            {
             "iteration": 450,
             "learn": [
              0.01394678855
             ],
             "passed_time": 11.3931684,
             "remaining_time": 13.86884579,
             "test": [
              0.01395357855
             ]
            },
            {
             "iteration": 451,
             "learn": [
              0.01394047918
             ],
             "passed_time": 11.41662497,
             "remaining_time": 13.84139487,
             "test": [
              0.01394727411
             ]
            },
            {
             "iteration": 452,
             "learn": [
              0.0139326091
             ],
             "passed_time": 11.44151732,
             "remaining_time": 13.81569531,
             "test": [
              0.01393939269
             ]
            },
            {
             "iteration": 453,
             "learn": [
              0.01393011229
             ],
             "passed_time": 11.46753393,
             "remaining_time": 13.79135137,
             "test": [
              0.01393690922
             ]
            },
            {
             "iteration": 454,
             "learn": [
              0.01392227409
             ],
             "passed_time": 11.4938022,
             "remaining_time": 13.76730154,
             "test": [
              0.01392906866
             ]
            },
            {
             "iteration": 455,
             "learn": [
              0.01389959197
             ],
             "passed_time": 11.52036024,
             "remaining_time": 13.74358765,
             "test": [
              0.01390637327
             ]
            },
            {
             "iteration": 456,
             "learn": [
              0.01389692673
             ],
             "passed_time": 11.54694218,
             "remaining_time": 13.71988973,
             "test": [
              0.01390370601
             ]
            },
            {
             "iteration": 457,
             "learn": [
              0.01388926764
             ],
             "passed_time": 11.57111544,
             "remaining_time": 13.69332875,
             "test": [
              0.0138960673
             ]
            },
            {
             "iteration": 458,
             "learn": [
              0.01387653552
             ],
             "passed_time": 11.59335704,
             "remaining_time": 13.66450143,
             "test": [
              0.01388332105
             ]
            },
            {
             "iteration": 459,
             "learn": [
              0.01386494046
             ],
             "passed_time": 11.61849928,
             "remaining_time": 13.63910785,
             "test": [
              0.01387171769
             ]
            },
            {
             "iteration": 460,
             "learn": [
              0.01383950464
             ],
             "passed_time": 11.64321224,
             "remaining_time": 13.61321344,
             "test": [
              0.01384627121
             ]
            },
            {
             "iteration": 461,
             "learn": [
              0.01382223104
             ],
             "passed_time": 11.66851387,
             "remaining_time": 13.58800966,
             "test": [
              0.0138289951
             ]
            },
            {
             "iteration": 462,
             "learn": [
              0.01380794937
             ],
             "passed_time": 11.69398783,
             "remaining_time": 13.56300533,
             "test": [
              0.01381471639
             ]
            },
            {
             "iteration": 463,
             "learn": [
              0.01380617552
             ],
             "passed_time": 11.71680873,
             "remaining_time": 13.53493422,
             "test": [
              0.01381293987
             ]
            },
            {
             "iteration": 464,
             "learn": [
              0.01378903714
             ],
             "passed_time": 11.75169056,
             "remaining_time": 13.52076226,
             "test": [
              0.01379579516
             ]
            },
            {
             "iteration": 465,
             "learn": [
              0.01377845551
             ],
             "passed_time": 11.7820749,
             "remaining_time": 13.50134764,
             "test": [
              0.01378521481
             ]
            },
            {
             "iteration": 466,
             "learn": [
              0.01377548196
             ],
             "passed_time": 11.80746666,
             "remaining_time": 13.47618786,
             "test": [
              0.0137822446
             ]
            },
            {
             "iteration": 467,
             "learn": [
              0.013766436
             ],
             "passed_time": 11.8326853,
             "remaining_time": 13.4508303,
             "test": [
              0.01377319588
             ]
            },
            {
             "iteration": 468,
             "learn": [
              0.01375936125
             ],
             "passed_time": 11.85542225,
             "remaining_time": 13.42266357,
             "test": [
              0.01376612955
             ]
            },
            {
             "iteration": 469,
             "learn": [
              0.01374288033
             ],
             "passed_time": 11.88017647,
             "remaining_time": 13.39679475,
             "test": [
              0.01374964696
             ]
            },
            {
             "iteration": 470,
             "learn": [
              0.01372855533
             ],
             "passed_time": 11.90498602,
             "remaining_time": 13.37099279,
             "test": [
              0.01373530891
             ]
            },
            {
             "iteration": 471,
             "learn": [
              0.01371810752
             ],
             "passed_time": 11.92905484,
             "remaining_time": 13.34436644,
             "test": [
              0.01372485797
             ]
            },
            {
             "iteration": 472,
             "learn": [
              0.01370652606
             ],
             "passed_time": 11.95353093,
             "remaining_time": 13.31820465,
             "test": [
              0.01371327277
             ]
            },
            {
             "iteration": 473,
             "learn": [
              0.01369889867
             ],
             "passed_time": 11.9790641,
             "remaining_time": 13.29322303,
             "test": [
              0.01370564475
             ]
            },
            {
             "iteration": 474,
             "learn": [
              0.01368486866
             ],
             "passed_time": 12.00433155,
             "remaining_time": 13.2679454,
             "test": [
              0.01369161596
             ]
            },
            {
             "iteration": 475,
             "learn": [
              0.01367355282
             ],
             "passed_time": 12.02754471,
             "remaining_time": 13.24040636,
             "test": [
              0.01368028776
             ]
            },
            {
             "iteration": 476,
             "learn": [
              0.01366551368
             ],
             "passed_time": 12.05296186,
             "remaining_time": 13.215302,
             "test": [
              0.01367226242
             ]
            },
            {
             "iteration": 477,
             "learn": [
              0.01364589319
             ],
             "passed_time": 12.07686355,
             "remaining_time": 13.18854137,
             "test": [
              0.0136526171
             ]
            },
            {
             "iteration": 478,
             "learn": [
              0.01363111008
             ],
             "passed_time": 12.10085968,
             "remaining_time": 13.16189539,
             "test": [
              0.01363783453
             ]
            },
            {
             "iteration": 479,
             "learn": [
              0.01362497453
             ],
             "passed_time": 12.12442499,
             "remaining_time": 13.13479374,
             "test": [
              0.01363170512
             ]
            },
            {
             "iteration": 480,
             "learn": [
              0.01361513817
             ],
             "passed_time": 12.14779046,
             "remaining_time": 13.10749116,
             "test": [
              0.01362187062
             ]
            },
            {
             "iteration": 481,
             "learn": [
              0.0136041685
             ],
             "passed_time": 12.17230428,
             "remaining_time": 13.08143904,
             "test": [
              0.01361089176
             ]
            },
            {
             "iteration": 482,
             "learn": [
              0.01358852066
             ],
             "passed_time": 12.19650842,
             "remaining_time": 13.05506181,
             "test": [
              0.01359522908
             ]
            },
            {
             "iteration": 483,
             "learn": [
              0.01358472796
             ],
             "passed_time": 12.21731821,
             "remaining_time": 13.02507479,
             "test": [
              0.01359144113
             ]
            },
            {
             "iteration": 484,
             "learn": [
              0.01356995441
             ],
             "passed_time": 12.24176926,
             "remaining_time": 12.9989921,
             "test": [
              0.01357667375
             ]
            },
            {
             "iteration": 485,
             "learn": [
              0.01356357751
             ],
             "passed_time": 12.26422089,
             "remaining_time": 12.97080152,
             "test": [
              0.01357028563
             ]
            },
            {
             "iteration": 486,
             "learn": [
              0.01356038458
             ],
             "passed_time": 12.28671945,
             "remaining_time": 12.94268394,
             "test": [
              0.01356710013
             ]
            },
            {
             "iteration": 487,
             "learn": [
              0.01353836374
             ],
             "passed_time": 12.31267226,
             "remaining_time": 12.91821352,
             "test": [
              0.01354507745
             ]
            },
            {
             "iteration": 488,
             "learn": [
              0.01353547861
             ],
             "passed_time": 12.33776014,
             "remaining_time": 12.8928332,
             "test": [
              0.01354219258
             ]
            },
            {
             "iteration": 489,
             "learn": [
              0.01353255092
             ],
             "passed_time": 12.36170016,
             "remaining_time": 12.86625935,
             "test": [
              0.01353926781
             ]
            },
            {
             "iteration": 490,
             "learn": [
              0.01352297129
             ],
             "passed_time": 12.39044101,
             "remaining_time": 12.84467306,
             "test": [
              0.01352968512
             ]
            },
            {
             "iteration": 491,
             "learn": [
              0.01351711682
             ],
             "passed_time": 12.41533118,
             "remaining_time": 12.81908178,
             "test": [
              0.01352383954
             ]
            },
            {
             "iteration": 492,
             "learn": [
              0.01351128997
             ],
             "passed_time": 12.43709633,
             "remaining_time": 12.7902796,
             "test": [
              0.01351801223
             ]
            },
            {
             "iteration": 493,
             "learn": [
              0.01350397262
             ],
             "passed_time": 12.46150662,
             "remaining_time": 12.76421528,
             "test": [
              0.01351068368
             ]
            },
            {
             "iteration": 494,
             "learn": [
              0.01349561281
             ],
             "passed_time": 12.48744081,
             "remaining_time": 12.73971234,
             "test": [
              0.01350232985
             ]
            },
            {
             "iteration": 495,
             "learn": [
              0.01347132893
             ],
             "passed_time": 12.51094305,
             "remaining_time": 12.71273246,
             "test": [
              0.01347803614
             ]
            },
            {
             "iteration": 496,
             "learn": [
              0.013467626
             ],
             "passed_time": 12.53253618,
             "remaining_time": 12.68383441,
             "test": [
              0.01347433934
             ]
            },
            {
             "iteration": 497,
             "learn": [
              0.01346394945
             ],
             "passed_time": 12.55559301,
             "remaining_time": 12.65644115,
             "test": [
              0.01347065768
             ]
            },
            {
             "iteration": 498,
             "learn": [
              0.01345811543
             ],
             "passed_time": 12.57959824,
             "remaining_time": 12.63001747,
             "test": [
              0.01346481049
             ]
            },
            {
             "iteration": 499,
             "learn": [
              0.01344130704
             ],
             "passed_time": 12.60394838,
             "remaining_time": 12.60394838,
             "test": [
              0.01344800282
             ]
            },
            {
             "iteration": 500,
             "learn": [
              0.0134337602
             ],
             "passed_time": 12.62698759,
             "remaining_time": 12.57658045,
             "test": [
              0.01344044512
             ]
            },
            {
             "iteration": 501,
             "learn": [
              0.01341980675
             ],
             "passed_time": 12.65136516,
             "remaining_time": 12.55055747,
             "test": [
              0.01342648303
             ]
            },
            {
             "iteration": 502,
             "learn": [
              0.01341188667
             ],
             "passed_time": 12.67752725,
             "remaining_time": 12.52630426,
             "test": [
              0.01341857315
             ]
            },
            {
             "iteration": 503,
             "learn": [
              0.01340802071
             ],
             "passed_time": 12.70086558,
             "remaining_time": 12.49926453,
             "test": [
              0.01341470868
             ]
            },
            {
             "iteration": 504,
             "learn": [
              0.01340252335
             ],
             "passed_time": 12.72373491,
             "remaining_time": 12.47177976,
             "test": [
              0.01340920726
             ]
            },
            {
             "iteration": 505,
             "learn": [
              0.0133946914
             ],
             "passed_time": 12.76270942,
             "remaining_time": 12.46003647,
             "test": [
              0.0134013832
             ]
            },
            {
             "iteration": 506,
             "learn": [
              0.01339173128
             ],
             "passed_time": 12.78717592,
             "remaining_time": 12.43407836,
             "test": [
              0.01339840696
             ]
            },
            {
             "iteration": 507,
             "learn": [
              0.01338433877
             ],
             "passed_time": 12.81135317,
             "remaining_time": 12.40784598,
             "test": [
              0.0133910096
             ]
            },
            {
             "iteration": 508,
             "learn": [
              0.01337080998
             ],
             "passed_time": 12.83455945,
             "remaining_time": 12.38068505,
             "test": [
              0.0133774821
             ]
            },
            {
             "iteration": 509,
             "learn": [
              0.01336132398
             ],
             "passed_time": 12.8584622,
             "remaining_time": 12.35420878,
             "test": [
              0.01336799432
             ]
            },
            {
             "iteration": 510,
             "learn": [
              0.01335621903
             ],
             "passed_time": 12.88448582,
             "remaining_time": 12.32977214,
             "test": [
              0.01336289106
             ]
            },
            {
             "iteration": 511,
             "learn": [
              0.01334720063
             ],
             "passed_time": 12.90860067,
             "remaining_time": 12.30351001,
             "test": [
              0.01335386901
             ]
            },
            {
             "iteration": 512,
             "learn": [
              0.01333046998
             ],
             "passed_time": 12.93278476,
             "remaining_time": 12.27732198,
             "test": [
              0.01333711833
             ]
            },
            {
             "iteration": 513,
             "learn": [
              0.0133233257
             ],
             "passed_time": 12.95562207,
             "remaining_time": 12.24986833,
             "test": [
              0.01332997722
             ]
            },
            {
             "iteration": 514,
             "learn": [
              0.01331559185
             ],
             "passed_time": 12.97970408,
             "remaining_time": 12.22360482,
             "test": [
              0.01332224438
             ]
            },
            {
             "iteration": 515,
             "learn": [
              0.01330515836
             ],
             "passed_time": 13.00427745,
             "remaining_time": 12.19781063,
             "test": [
              0.013311811
             ]
            },
            {
             "iteration": 516,
             "learn": [
              0.01329985851
             ],
             "passed_time": 13.02650713,
             "remaining_time": 12.16983162,
             "test": [
              0.01330651164
             ]
            },
            {
             "iteration": 517,
             "learn": [
              0.01329186852
             ],
             "passed_time": 13.0502377,
             "remaining_time": 12.14327138,
             "test": [
              0.01329851263
             ]
            },
            {
             "iteration": 518,
             "learn": [
              0.01327982716
             ],
             "passed_time": 13.07425121,
             "remaining_time": 12.11698427,
             "test": [
              0.01328647905
             ]
            },
            {
             "iteration": 519,
             "learn": [
              0.01326737997
             ],
             "passed_time": 13.09804686,
             "remaining_time": 12.09050479,
             "test": [
              0.0132740287
             ]
            },
            {
             "iteration": 520,
             "learn": [
              0.01326455478
             ],
             "passed_time": 13.12102642,
             "remaining_time": 12.06328533,
             "test": [
              0.01327121396
             ]
            },
            {
             "iteration": 521,
             "learn": [
              0.01325907884
             ],
             "passed_time": 13.14576974,
             "remaining_time": 12.03769719,
             "test": [
              0.01326572933
             ]
            },
            {
             "iteration": 522,
             "learn": [
              0.01324918487
             ],
             "passed_time": 13.16908857,
             "remaining_time": 12.0108131,
             "test": [
              0.01325584175
             ]
            },
            {
             "iteration": 523,
             "learn": [
              0.01323963052
             ],
             "passed_time": 13.19683683,
             "remaining_time": 11.98796628,
             "test": [
              0.01324626316
             ]
            },
            {
             "iteration": 524,
             "learn": [
              0.01323265269
             ],
             "passed_time": 13.22705923,
             "remaining_time": 11.96733931,
             "test": [
              0.01323928729
             ]
            },
            {
             "iteration": 525,
             "learn": [
              0.01322966511
             ],
             "passed_time": 13.25057657,
             "remaining_time": 11.94063364,
             "test": [
              0.01323629644
             ]
            },
            {
             "iteration": 526,
             "learn": [
              0.01322419967
             ],
             "passed_time": 13.27801467,
             "remaining_time": 11.91745909,
             "test": [
              0.01323083788
             ]
            },
            {
             "iteration": 527,
             "learn": [
              0.01321696615
             ],
             "passed_time": 13.31112541,
             "remaining_time": 11.89933938,
             "test": [
              0.01322360126
             ]
            },
            {
             "iteration": 528,
             "learn": [
              0.01321032115
             ],
             "passed_time": 13.34959548,
             "remaining_time": 11.88593473,
             "test": [
              0.01321694917
             ]
            },
            {
             "iteration": 529,
             "learn": [
              0.01320787265
             ],
             "passed_time": 13.38940333,
             "remaining_time": 11.87362182,
             "test": [
              0.01321450951
             ]
            },
            {
             "iteration": 530,
             "learn": [
              0.01320275663
             ],
             "passed_time": 13.42162153,
             "remaining_time": 11.85450188,
             "test": [
              0.0132093956
             ]
            },
            {
             "iteration": 531,
             "learn": [
              0.01319587961
             ],
             "passed_time": 13.44801382,
             "remaining_time": 11.83020765,
             "test": [
              0.01320250573
             ]
            },
            {
             "iteration": 532,
             "learn": [
              0.01319266855
             ],
             "passed_time": 13.47599257,
             "remaining_time": 11.80729555,
             "test": [
              0.01319929095
             ]
            },
            {
             "iteration": 533,
             "learn": [
              0.01318830999
             ],
             "passed_time": 13.4996175,
             "remaining_time": 11.78056509,
             "test": [
              0.01319493484
             ]
            },
            {
             "iteration": 534,
             "learn": [
              0.01317995076
             ],
             "passed_time": 13.52335417,
             "remaining_time": 11.75394334,
             "test": [
              0.01318658089
             ]
            },
            {
             "iteration": 535,
             "learn": [
              0.01317507257
             ],
             "passed_time": 13.54542132,
             "remaining_time": 11.72588711,
             "test": [
              0.01318170669
             ]
            },
            {
             "iteration": 536,
             "learn": [
              0.01317322937
             ],
             "passed_time": 13.5687465,
             "remaining_time": 11.69893786,
             "test": [
              0.01317985697
             ]
            },
            {
             "iteration": 537,
             "learn": [
              0.01317001587
             ],
             "passed_time": 13.59561707,
             "remaining_time": 11.67504663,
             "test": [
              0.01317664912
             ]
            },
            {
             "iteration": 538,
             "learn": [
              0.01316772765
             ],
             "passed_time": 13.62071991,
             "remaining_time": 11.64963243,
             "test": [
              0.01317435558
             ]
            },
            {
             "iteration": 539,
             "learn": [
              0.01315572402
             ],
             "passed_time": 13.64600756,
             "remaining_time": 11.62437681,
             "test": [
              0.01316235659
             ]
            },
            {
             "iteration": 540,
             "learn": [
              0.01315432625
             ],
             "passed_time": 13.66884156,
             "remaining_time": 11.59703932,
             "test": [
              0.01316095222
             ]
            },
            {
             "iteration": 541,
             "learn": [
              0.01314251875
             ],
             "passed_time": 13.69393202,
             "remaining_time": 11.57162521,
             "test": [
              0.01314913617
             ]
            },
            {
             "iteration": 542,
             "learn": [
              0.01313604147
             ],
             "passed_time": 13.71835872,
             "remaining_time": 11.54565365,
             "test": [
              0.0131426573
             ]
            },
            {
             "iteration": 543,
             "learn": [
              0.01313435698
             ],
             "passed_time": 13.7420902,
             "remaining_time": 11.51910502,
             "test": [
              0.01314097195
             ]
            },
            {
             "iteration": 544,
             "learn": [
              0.01312091532
             ],
             "passed_time": 13.78035878,
             "remaining_time": 11.5047032,
             "test": [
              0.01312752439
             ]
            },
            {
             "iteration": 545,
             "learn": [
              0.01311218818
             ],
             "passed_time": 13.80350182,
             "remaining_time": 11.47763705,
             "test": [
              0.01311879475
             ]
            },
            {
             "iteration": 546,
             "learn": [
              0.01310255749
             ],
             "passed_time": 13.8285587,
             "remaining_time": 11.45217018,
             "test": [
              0.01310916144
             ]
            },
            {
             "iteration": 547,
             "learn": [
              0.01309171852
             ],
             "passed_time": 13.85177617,
             "remaining_time": 11.42518764,
             "test": [
              0.01309831875
             ]
            },
            {
             "iteration": 548,
             "learn": [
              0.01308046499
             ],
             "passed_time": 13.87614122,
             "remaining_time": 11.39916155,
             "test": [
              0.01308705927
             ]
            },
            {
             "iteration": 549,
             "learn": [
              0.0130680854
             ],
             "passed_time": 13.90170322,
             "remaining_time": 11.37412082,
             "test": [
              0.01307467763
             ]
            },
            {
             "iteration": 550,
             "learn": [
              0.01305645882
             ],
             "passed_time": 13.92639191,
             "remaining_time": 11.34836654,
             "test": [
              0.01306304023
             ]
            },
            {
             "iteration": 551,
             "learn": [
              0.01305229983
             ],
             "passed_time": 13.94811293,
             "remaining_time": 11.32020759,
             "test": [
              0.01305887338
             ]
            },
            {
             "iteration": 552,
             "learn": [
              0.01303797058
             ],
             "passed_time": 13.97390034,
             "remaining_time": 11.29535886,
             "test": [
              0.01304454881
             ]
            },
            {
             "iteration": 553,
             "learn": [
              0.01302329892
             ],
             "passed_time": 13.99831443,
             "remaining_time": 11.26940115,
             "test": [
              0.01302987702
             ]
            },
            {
             "iteration": 554,
             "learn": [
              0.01300937051
             ],
             "passed_time": 14.02234825,
             "remaining_time": 11.2431441,
             "test": [
              0.01301594258
             ]
            },
            {
             "iteration": 555,
             "learn": [
              0.01300088825
             ],
             "passed_time": 14.04614559,
             "remaining_time": 11.21670619,
             "test": [
              0.01300745562
             ]
            },
            {
             "iteration": 556,
             "learn": [
              0.01299158488
             ],
             "passed_time": 14.0708649,
             "remaining_time": 11.19101104,
             "test": [
              0.01299815126
             ]
            },
            {
             "iteration": 557,
             "learn": [
              0.01298099357
             ],
             "passed_time": 14.09357737,
             "remaining_time": 11.16372975,
             "test": [
              0.01298756563
             ]
            },
            {
             "iteration": 558,
             "learn": [
              0.01296759312
             ],
             "passed_time": 14.11645079,
             "remaining_time": 11.13659177,
             "test": [
              0.01297415597
             ]
            },
            {
             "iteration": 559,
             "learn": [
              0.01295834166
             ],
             "passed_time": 14.14041915,
             "remaining_time": 11.11032933,
             "test": [
              0.01296489679
             ]
            },
            {
             "iteration": 560,
             "learn": [
              0.01294452554
             ],
             "passed_time": 14.16596383,
             "remaining_time": 11.08530859,
             "test": [
              0.01295108692
             ]
            },
            {
             "iteration": 561,
             "learn": [
              0.01293097965
             ],
             "passed_time": 14.19042351,
             "remaining_time": 11.05944038,
             "test": [
              0.01293752781
             ]
            },
            {
             "iteration": 562,
             "learn": [
              0.01292014105
             ],
             "passed_time": 14.21417272,
             "remaining_time": 11.03302572,
             "test": [
              0.01292669222
             ]
            },
            {
             "iteration": 563,
             "learn": [
              0.01291213128
             ],
             "passed_time": 14.23725495,
             "remaining_time": 11.00610489,
             "test": [
              0.01291868512
             ]
            },
            {
             "iteration": 564,
             "learn": [
              0.01290415954
             ],
             "passed_time": 14.2600783,
             "remaining_time": 10.97899834,
             "test": [
              0.01291071609
             ]
            },
            {
             "iteration": 565,
             "learn": [
              0.01288858042
             ],
             "passed_time": 14.28330905,
             "remaining_time": 10.95221931,
             "test": [
              0.01289513133
             ]
            },
            {
             "iteration": 566,
             "learn": [
              0.0128790896
             ],
             "passed_time": 14.30815941,
             "remaining_time": 10.92668964,
             "test": [
              0.01288564158
             ]
            },
            {
             "iteration": 567,
             "learn": [
              0.01287610443
             ],
             "passed_time": 14.33025364,
             "remaining_time": 10.89906615,
             "test": [
              0.01288265632
             ]
            },
            {
             "iteration": 568,
             "learn": [
              0.01287504102
             ],
             "passed_time": 14.352929,
             "remaining_time": 10.87190228,
             "test": [
              0.01288157468
             ]
            },
            {
             "iteration": 569,
             "learn": [
              0.0128683789
             ],
             "passed_time": 14.37856266,
             "remaining_time": 10.84698587,
             "test": [
              0.01287491277
             ]
            },
            {
             "iteration": 570,
             "learn": [
              0.01286161635
             ],
             "passed_time": 14.40377868,
             "remaining_time": 10.82175316,
             "test": [
              0.01286815882
             ]
            },
            {
             "iteration": 571,
             "learn": [
              0.01285136494
             ],
             "passed_time": 14.42739231,
             "remaining_time": 10.79532152,
             "test": [
              0.01285790349
             ]
            },
            {
             "iteration": 572,
             "learn": [
              0.01284490148
             ],
             "passed_time": 14.45227509,
             "remaining_time": 10.76984549,
             "test": [
              0.01285144019
             ]
            },
            {
             "iteration": 573,
             "learn": [
              0.01284063064
             ],
             "passed_time": 14.47450748,
             "remaining_time": 10.7424045,
             "test": [
              0.01284717196
             ]
            },
            {
             "iteration": 574,
             "learn": [
              0.01283134517
             ],
             "passed_time": 14.49801292,
             "remaining_time": 10.71592259,
             "test": [
              0.01283788296
             ]
            },
            {
             "iteration": 575,
             "learn": [
              0.01282480738
             ],
             "passed_time": 14.52435624,
             "remaining_time": 10.69154001,
             "test": [
              0.01283134954
             ]
            },
            {
             "iteration": 576,
             "learn": [
              0.01281938791
             ],
             "passed_time": 14.54916611,
             "remaining_time": 10.66602645,
             "test": [
              0.01282592965
             ]
            },
            {
             "iteration": 577,
             "learn": [
              0.0128121498
             ],
             "passed_time": 14.57278066,
             "remaining_time": 10.63964263,
             "test": [
              0.01281868041
             ]
            },
            {
             "iteration": 578,
             "learn": [
              0.0128086394
             ],
             "passed_time": 14.59511776,
             "remaining_time": 10.61233951,
             "test": [
              0.01281516493
             ]
            },
            {
             "iteration": 579,
             "learn": [
              0.01280236249
             ],
             "passed_time": 14.61818415,
             "remaining_time": 10.58558163,
             "test": [
              0.0128088976
             ]
            },
            {
             "iteration": 580,
             "learn": [
              0.01279823835
             ],
             "passed_time": 14.642896,
             "remaining_time": 10.5600231,
             "test": [
              0.01280477074
             ]
            },
            {
             "iteration": 581,
             "learn": [
              0.01279466346
             ],
             "passed_time": 14.66540272,
             "remaining_time": 10.53288374,
             "test": [
              0.0128011978
             ]
            },
            {
             "iteration": 582,
             "learn": [
              0.01278859183
             ],
             "passed_time": 14.69068038,
             "remaining_time": 10.50774223,
             "test": [
              0.01279511211
             ]
            },
            {
             "iteration": 583,
             "learn": [
              0.01277974558
             ],
             "passed_time": 14.71464961,
             "remaining_time": 10.48166822,
             "test": [
              0.01278625956
             ]
            },
            {
             "iteration": 584,
             "learn": [
              0.01276948303
             ],
             "passed_time": 14.73840661,
             "remaining_time": 10.45545084,
             "test": [
              0.01277601667
             ]
            },
            {
             "iteration": 585,
             "learn": [
              0.01276717691
             ],
             "passed_time": 14.76144532,
             "remaining_time": 10.42873441,
             "test": [
              0.01277370472
             ]
            },
            {
             "iteration": 586,
             "learn": [
              0.01276468559
             ],
             "passed_time": 14.80376566,
             "remaining_time": 10.41559662,
             "test": [
              0.01277120733
             ]
            },
            {
             "iteration": 587,
             "learn": [
              0.01275031021
             ],
             "passed_time": 14.82766726,
             "remaining_time": 10.38945393,
             "test": [
              0.01275684078
             ]
            },
            {
             "iteration": 588,
             "learn": [
              0.01274842429
             ],
             "passed_time": 14.85374867,
             "remaining_time": 10.3648399,
             "test": [
              0.01275495883
             ]
            },
            {
             "iteration": 589,
             "learn": [
              0.01273909698
             ],
             "passed_time": 14.87686776,
             "remaining_time": 10.33816234,
             "test": [
              0.01274562633
             ]
            },
            {
             "iteration": 590,
             "learn": [
              0.01273011423
             ],
             "passed_time": 14.90235464,
             "remaining_time": 10.31313545,
             "test": [
              0.01273663575
             ]
            },
            {
             "iteration": 591,
             "learn": [
              0.0127182376
             ],
             "passed_time": 14.92701536,
             "remaining_time": 10.28753762,
             "test": [
              0.01272477615
             ]
            },
            {
             "iteration": 592,
             "learn": [
              0.01270760011
             ],
             "passed_time": 14.95174774,
             "remaining_time": 10.26199212,
             "test": [
              0.01271412568
             ]
            },
            {
             "iteration": 593,
             "learn": [
              0.01269557155
             ],
             "passed_time": 14.97607601,
             "remaining_time": 10.23617316,
             "test": [
              0.01270208696
             ]
            },
            {
             "iteration": 594,
             "learn": [
              0.01268216199
             ],
             "passed_time": 15.00098792,
             "remaining_time": 10.21075649,
             "test": [
              0.0126886753
             ]
            },
            {
             "iteration": 595,
             "learn": [
              0.01267806056
             ],
             "passed_time": 15.02544584,
             "remaining_time": 10.18503376,
             "test": [
              0.01268456744
             ]
            },
            {
             "iteration": 596,
             "learn": [
              0.01267278961
             ],
             "passed_time": 15.0501749,
             "remaining_time": 10.1594983,
             "test": [
              0.01267929808
             ]
            },
            {
             "iteration": 597,
             "learn": [
              0.01266012147
             ],
             "passed_time": 15.0763166,
             "remaining_time": 10.13491517,
             "test": [
              0.01266662919
             ]
            },
            {
             "iteration": 598,
             "learn": [
              0.01264710661
             ],
             "passed_time": 15.09936343,
             "remaining_time": 10.10825498,
             "test": [
              0.01265361109
             ]
            },
            {
             "iteration": 599,
             "learn": [
              0.01263246514
             ],
             "passed_time": 15.12560492,
             "remaining_time": 10.08373661,
             "test": [
              0.01263895847
             ]
            },
            {
             "iteration": 600,
             "learn": [
              0.01262478072
             ],
             "passed_time": 15.14975862,
             "remaining_time": 10.05782644,
             "test": [
              0.01263127224
             ]
            },
            {
             "iteration": 601,
             "learn": [
              0.01262181305
             ],
             "passed_time": 15.1729332,
             "remaining_time": 10.03127478,
             "test": [
              0.01262830192
             ]
            },
            {
             "iteration": 602,
             "learn": [
              0.01261690527
             ],
             "passed_time": 15.1960971,
             "remaining_time": 10.00472728,
             "test": [
              0.01262339934
             ]
            },
            {
             "iteration": 603,
             "learn": [
              0.01260016208
             ],
             "passed_time": 15.21977085,
             "remaining_time": 9.978525261,
             "test": [
              0.01260664138
             ]
            },
            {
             "iteration": 604,
             "learn": [
              0.01259423853
             ],
             "passed_time": 15.24485078,
             "remaining_time": 9.953249682,
             "test": [
              0.01260071689
             ]
            },
            {
             "iteration": 605,
             "learn": [
              0.01258768246
             ],
             "passed_time": 15.26702797,
             "remaining_time": 9.926087489,
             "test": [
              0.01259417562
             ]
            },
            {
             "iteration": 606,
             "learn": [
              0.01257874819
             ],
             "passed_time": 15.2911697,
             "remaining_time": 9.900213663,
             "test": [
              0.01258523239
             ]
            },
            {
             "iteration": 607,
             "learn": [
              0.01257074825
             ],
             "passed_time": 15.31510633,
             "remaining_time": 9.874213292,
             "test": [
              0.0125772371
             ]
            },
            {
             "iteration": 608,
             "learn": [
              0.01255856036
             ],
             "passed_time": 15.33924735,
             "remaining_time": 9.848350924,
             "test": [
              0.01256504108
             ]
            },
            {
             "iteration": 609,
             "learn": [
              0.01255361523
             ],
             "passed_time": 15.36296122,
             "remaining_time": 9.822221111,
             "test": [
              0.0125600935
             ]
            },
            {
             "iteration": 610,
             "learn": [
              0.0125370737
             ],
             "passed_time": 15.39021223,
             "remaining_time": 9.798351155,
             "test": [
              0.01254354421
             ]
            },
            {
             "iteration": 611,
             "learn": [
              0.01253327346
             ],
             "passed_time": 15.41185643,
             "remaining_time": 9.770915514,
             "test": [
              0.01253974233
             ]
            },
            {
             "iteration": 612,
             "learn": [
              0.01252864226
             ],
             "passed_time": 15.4357396,
             "remaining_time": 9.744912278,
             "test": [
              0.01253511501
             ]
            },
            {
             "iteration": 613,
             "learn": [
              0.01251428706
             ],
             "passed_time": 15.46011611,
             "remaining_time": 9.719226091,
             "test": [
              0.01252076788
             ]
            },
            {
             "iteration": 614,
             "learn": [
              0.01251035149
             ],
             "passed_time": 15.48217638,
             "remaining_time": 9.692094158,
             "test": [
              0.01251683854
             ]
            },
            {
             "iteration": 615,
             "learn": [
              0.01250586878
             ],
             "passed_time": 15.50520849,
             "remaining_time": 9.665584516,
             "test": [
              0.01251233962
             ]
            },
            {
             "iteration": 616,
             "learn": [
              0.01250374278
             ],
             "passed_time": 15.52814347,
             "remaining_time": 9.639025848,
             "test": [
              0.01251021972
             ]
            },
            {
             "iteration": 617,
             "learn": [
              0.01248732249
             ],
             "passed_time": 15.55329461,
             "remaining_time": 9.613848771,
             "test": [
              0.01249379761
             ]
            },
            {
             "iteration": 618,
             "learn": [
              0.01247643066
             ],
             "passed_time": 15.57920212,
             "remaining_time": 9.589137328,
             "test": [
              0.01248289523
             ]
            },
            {
             "iteration": 619,
             "learn": [
              0.01247471005
             ],
             "passed_time": 15.60232066,
             "remaining_time": 9.56271266,
             "test": [
              0.01248118342
             ]
            },
            {
             "iteration": 620,
             "learn": [
              0.01246773841
             ],
             "passed_time": 15.62601288,
             "remaining_time": 9.536648763,
             "test": [
              0.01247420069
             ]
            },
            {
             "iteration": 621,
             "learn": [
              0.01246096044
             ],
             "passed_time": 15.65027516,
             "remaining_time": 9.510938922,
             "test": [
              0.01246742576
             ]
            },
            {
             "iteration": 622,
             "learn": [
              0.01245205243
             ],
             "passed_time": 15.67881315,
             "remaining_time": 9.487821122,
             "test": [
              0.0124585144
             ]
            },
            {
             "iteration": 623,
             "learn": [
              0.01244486863
             ],
             "passed_time": 15.70482174,
             "remaining_time": 9.463161816,
             "test": [
              0.01245133054
             ]
            },
            {
             "iteration": 624,
             "learn": [
              0.0124274125
             ],
             "passed_time": 15.7290775,
             "remaining_time": 9.437446499,
             "test": [
              0.01243386498
             ]
            },
            {
             "iteration": 625,
             "learn": [
              0.01241301452
             ],
             "passed_time": 15.7532327,
             "remaining_time": 9.411675765,
             "test": [
              0.0124194657
             ]
            },
            {
             "iteration": 626,
             "learn": [
              0.01240859913
             ],
             "passed_time": 15.77635829,
             "remaining_time": 9.385297674,
             "test": [
              0.01241505804
             ]
            },
            {
             "iteration": 627,
             "learn": [
              0.01239669762
             ],
             "passed_time": 15.81824942,
             "remaining_time": 9.370045836,
             "test": [
              0.0124031377
             ]
            },
            {
             "iteration": 628,
             "learn": [
              0.01239016364
             ],
             "passed_time": 15.84305625,
             "remaining_time": 9.34463254,
             "test": [
              0.01239662118
             ]
            },
            {
             "iteration": 629,
             "learn": [
              0.01238380216
             ],
             "passed_time": 15.86697254,
             "remaining_time": 9.318698161,
             "test": [
              0.0123902603
             ]
            },
            {
             "iteration": 630,
             "learn": [
              0.01237692877
             ],
             "passed_time": 15.8923568,
             "remaining_time": 9.293628622,
             "test": [
              0.01238337638
             ]
            },
            {
             "iteration": 631,
             "learn": [
              0.01236470707
             ],
             "passed_time": 15.91645931,
             "remaining_time": 9.26781175,
             "test": [
              0.01237115542
             ]
            },
            {
             "iteration": 632,
             "learn": [
              0.01235474851
             ],
             "passed_time": 15.93967261,
             "remaining_time": 9.241484755,
             "test": [
              0.01236119261
             ]
            },
            {
             "iteration": 633,
             "learn": [
              0.01234940839
             ],
             "passed_time": 15.96342534,
             "remaining_time": 9.215478979,
             "test": [
              0.01235585443
             ]
            },
            {
             "iteration": 634,
             "learn": [
              0.01234526659
             ],
             "passed_time": 15.98751315,
             "remaining_time": 9.189672911,
             "test": [
              0.01235171827
             ]
            },
            {
             "iteration": 635,
             "learn": [
              0.01234395175
             ],
             "passed_time": 16.00892835,
             "remaining_time": 9.162342643,
             "test": [
              0.01235039463
             ]
            },
            {
             "iteration": 636,
             "learn": [
              0.01232982359
             ],
             "passed_time": 16.03522131,
             "remaining_time": 9.137810576,
             "test": [
              0.01233626856
             ]
            },
            {
             "iteration": 637,
             "learn": [
              0.01232402268
             ],
             "passed_time": 16.06081726,
             "remaining_time": 9.112877508,
             "test": [
              0.01233047193
             ]
            },
            {
             "iteration": 638,
             "learn": [
              0.01230505648
             ],
             "passed_time": 16.08648616,
             "remaining_time": 9.087983571,
             "test": [
              0.01231149219
             ]
            },
            {
             "iteration": 639,
             "learn": [
              0.01229044297
             ],
             "passed_time": 16.11166425,
             "remaining_time": 9.06281114,
             "test": [
              0.01229687845
             ]
            },
            {
             "iteration": 640,
             "learn": [
              0.01228876213
             ],
             "passed_time": 16.133668,
             "remaining_time": 9.035860864,
             "test": [
              0.0122951964
             ]
            },
            {
             "iteration": 641,
             "learn": [
              0.01228598817
             ],
             "passed_time": 16.15811421,
             "remaining_time": 9.010287986,
             "test": [
              0.01229242496
             ]
            },
            {
             "iteration": 642,
             "learn": [
              0.01228269653
             ],
             "passed_time": 16.18157687,
             "remaining_time": 8.984172541,
             "test": [
              0.01228913034
             ]
            },
            {
             "iteration": 643,
             "learn": [
              0.01226957062
             ],
             "passed_time": 16.20559495,
             "remaining_time": 8.958372364,
             "test": [
              0.01227600738
             ]
            },
            {
             "iteration": 644,
             "learn": [
              0.01226725108
             ],
             "passed_time": 16.22995955,
             "remaining_time": 8.932768437,
             "test": [
              0.01227368977
             ]
            },
            {
             "iteration": 645,
             "learn": [
              0.01226397919
             ],
             "passed_time": 16.25171117,
             "remaining_time": 8.905736464,
             "test": [
              0.0122704218
             ]
            },
            {
             "iteration": 646,
             "learn": [
              0.0122584547
             ],
             "passed_time": 16.27485507,
             "remaining_time": 8.879480432,
             "test": [
              0.01226489486
             ]
            },
            {
             "iteration": 647,
             "learn": [
              0.01224734343
             ],
             "passed_time": 16.2995348,
             "remaining_time": 8.854068285,
             "test": [
              0.01225377713
             ]
            },
            {
             "iteration": 648,
             "learn": [
              0.01223979105
             ],
             "passed_time": 16.3224138,
             "remaining_time": 8.827684507,
             "test": [
              0.01224621999
             ]
            },
            {
             "iteration": 649,
             "learn": [
              0.01223754253
             ],
             "passed_time": 16.34624394,
             "remaining_time": 8.801823657,
             "test": [
              0.01224396226
             ]
            },
            {
             "iteration": 650,
             "learn": [
              0.01222822188
             ],
             "passed_time": 16.37168844,
             "remaining_time": 8.776834507,
             "test": [
              0.01223465624
             ]
            },
            {
             "iteration": 651,
             "learn": [
              0.01222563616
             ],
             "passed_time": 16.40007953,
             "remaining_time": 8.753416679,
             "test": [
              0.0122320691
             ]
            },
            {
             "iteration": 652,
             "learn": [
              0.01221587798
             ],
             "passed_time": 16.42484602,
             "remaining_time": 8.728057531,
             "test": [
              0.01222231137
             ]
            },
            {
             "iteration": 653,
             "learn": [
              0.01221143095
             ],
             "passed_time": 16.44884388,
             "remaining_time": 8.702293549,
             "test": [
              0.01221784997
             ]
            },
            {
             "iteration": 654,
             "learn": [
              0.01220990807
             ],
             "passed_time": 16.47124506,
             "remaining_time": 8.675693965,
             "test": [
              0.01221634159
             ]
            },
            {
             "iteration": 655,
             "learn": [
              0.01220246664
             ],
             "passed_time": 16.4985911,
             "remaining_time": 8.65170021,
             "test": [
              0.01220890145
             ]
            },
            {
             "iteration": 656,
             "learn": [
              0.01219997883
             ],
             "passed_time": 16.52543188,
             "remaining_time": 8.627432472,
             "test": [
              0.01220641543
             ]
            },
            {
             "iteration": 657,
             "learn": [
              0.01219790523
             ],
             "passed_time": 16.55153477,
             "remaining_time": 8.60277339,
             "test": [
              0.01220434684
             ]
            },
            {
             "iteration": 658,
             "learn": [
              0.01219612082
             ],
             "passed_time": 16.57548324,
             "remaining_time": 8.576995123,
             "test": [
              0.01220255029
             ]
            },
            {
             "iteration": 659,
             "learn": [
              0.01218675896
             ],
             "passed_time": 16.59961581,
             "remaining_time": 8.551317237,
             "test": [
              0.01219319041
             ]
            },
            {
             "iteration": 660,
             "learn": [
              0.01217359601
             ],
             "passed_time": 16.622549,
             "remaining_time": 8.525028914,
             "test": [
              0.01218001838
             ]
            },
            {
             "iteration": 661,
             "learn": [
              0.01216629858
             ],
             "passed_time": 16.64674065,
             "remaining_time": 8.499393264,
             "test": [
              0.01217273211
             ]
            },
            {
             "iteration": 662,
             "learn": [
              0.01215852703
             ],
             "passed_time": 16.67247746,
             "remaining_time": 8.474547366,
             "test": [
              0.01216494424
             ]
            },
            {
             "iteration": 663,
             "learn": [
              0.01214867831
             ],
             "passed_time": 16.69613503,
             "remaining_time": 8.448646643,
             "test": [
              0.01215508931
             ]
            },
            {
             "iteration": 664,
             "learn": [
              0.01213927295
             ],
             "passed_time": 16.72026313,
             "remaining_time": 8.422989698,
             "test": [
              0.01214568601
             ]
            },
            {
             "iteration": 665,
             "learn": [
              0.01213253013
             ],
             "passed_time": 16.74518371,
             "remaining_time": 8.397734774,
             "test": [
              0.01213894701
             ]
            },
            {
             "iteration": 666,
             "learn": [
              0.01213142238
             ],
             "passed_time": 16.7674444,
             "remaining_time": 8.371152902,
             "test": [
              0.01213782925
             ]
            },
            {
             "iteration": 667,
             "learn": [
              0.01212038157
             ],
             "passed_time": 16.79146112,
             "remaining_time": 8.345456722,
             "test": [
              0.01212678357
             ]
            },
            {
             "iteration": 668,
             "learn": [
              0.01211541506
             ],
             "passed_time": 16.83233002,
             "remaining_time": 8.328103492,
             "test": [
              0.01212181422
             ]
            },
            {
             "iteration": 669,
             "learn": [
              0.01209978322
             ],
             "passed_time": 16.85593753,
             "remaining_time": 8.302178187,
             "test": [
              0.0121061929
             ]
            },
            {
             "iteration": 670,
             "learn": [
              0.01209477037
             ],
             "passed_time": 16.87813802,
             "remaining_time": 8.275569908,
             "test": [
              0.01210117723
             ]
            },
            {
             "iteration": 671,
             "learn": [
              0.01208913986
             ],
             "passed_time": 16.90223672,
             "remaining_time": 8.249901258,
             "test": [
              0.0120955516
             ]
            },
            {
             "iteration": 672,
             "learn": [
              0.01207449167
             ],
             "passed_time": 16.92668665,
             "remaining_time": 8.224407928,
             "test": [
              0.01208089457
             ]
            },
            {
             "iteration": 673,
             "learn": [
              0.01206676342
             ],
             "passed_time": 16.95070301,
             "remaining_time": 8.198707983,
             "test": [
              0.01207315207
             ]
            },
            {
             "iteration": 674,
             "learn": [
              0.01205311552
             ],
             "passed_time": 16.97718614,
             "remaining_time": 8.174200732,
             "test": [
              0.01205949207
             ]
            },
            {
             "iteration": 675,
             "learn": [
              0.01204339598
             ],
             "passed_time": 17.00122224,
             "remaining_time": 8.148514801,
             "test": [
              0.01204977322
             ]
            },
            {
             "iteration": 676,
             "learn": [
              0.01203880214
             ],
             "passed_time": 17.02636182,
             "remaining_time": 8.12336022,
             "test": [
              0.01204518462
             ]
            },
            {
             "iteration": 677,
             "learn": [
              0.01203501018
             ],
             "passed_time": 17.05075566,
             "remaining_time": 8.097851508,
             "test": [
              0.01204139159
             ]
            },
            {
             "iteration": 678,
             "learn": [
              0.01202759877
             ],
             "passed_time": 17.07443265,
             "remaining_time": 8.072007188,
             "test": [
              0.01203398207
             ]
            },
            {
             "iteration": 679,
             "learn": [
              0.01202038796
             ],
             "passed_time": 17.09813068,
             "remaining_time": 8.046179142,
             "test": [
              0.0120267662
             ]
            },
            {
             "iteration": 680,
             "learn": [
              0.01201120699
             ],
             "passed_time": 17.12309479,
             "remaining_time": 8.020950422,
             "test": [
              0.01201758328
             ]
            },
            {
             "iteration": 681,
             "learn": [
              0.01200537549
             ],
             "passed_time": 17.14839321,
             "remaining_time": 7.995878359,
             "test": [
              0.01201175095
             ]
            },
            {
             "iteration": 682,
             "learn": [
              0.01199745609
             ],
             "passed_time": 17.17241336,
             "remaining_time": 7.970212351,
             "test": [
              0.01200383459
             ]
            },
            {
             "iteration": 683,
             "learn": [
              0.01199063506
             ],
             "passed_time": 17.19641574,
             "remaining_time": 7.944542943,
             "test": [
              0.01199700994
             ]
            },
            {
             "iteration": 684,
             "learn": [
              0.01197943688
             ],
             "passed_time": 17.21890363,
             "remaining_time": 7.918181963,
             "test": [
              0.01198581062
             ]
            },
            {
             "iteration": 685,
             "learn": [
              0.01197774379
             ],
             "passed_time": 17.24136716,
             "remaining_time": 7.891821121,
             "test": [
              0.01198411485
             ]
            },
            {
             "iteration": 686,
             "learn": [
              0.01196876471
             ],
             "passed_time": 17.26388971,
             "remaining_time": 7.865498513,
             "test": [
              0.01197513813
             ]
            },
            {
             "iteration": 687,
             "learn": [
              0.01196022809
             ],
             "passed_time": 17.28658071,
             "remaining_time": 7.839263346,
             "test": [
              0.01196659925
             ]
            },
            {
             "iteration": 688,
             "learn": [
              0.01195344692
             ],
             "passed_time": 17.31017834,
             "remaining_time": 7.813447697,
             "test": [
              0.01195981688
             ]
            },
            {
             "iteration": 689,
             "learn": [
              0.01194531585
             ],
             "passed_time": 17.33461049,
             "remaining_time": 7.78801341,
             "test": [
              0.01195167718
             ]
            },
            {
             "iteration": 690,
             "learn": [
              0.0119380306
             ],
             "passed_time": 17.35921716,
             "remaining_time": 7.762660061,
             "test": [
              0.01194439208
             ]
            },
            {
             "iteration": 691,
             "learn": [
              0.01193222544
             ],
             "passed_time": 17.3868922,
             "remaining_time": 7.738674561,
             "test": [
              0.01193858893
             ]
            },
            {
             "iteration": 692,
             "learn": [
              0.01192566511
             ],
             "passed_time": 17.41007664,
             "remaining_time": 7.712689075,
             "test": [
              0.0119320179
             ]
            },
            {
             "iteration": 693,
             "learn": [
              0.01191447655
             ],
             "passed_time": 17.43450109,
             "remaining_time": 7.687258407,
             "test": [
              0.0119208323
             ]
            },
            {
             "iteration": 694,
             "learn": [
              0.01190855541
             ],
             "passed_time": 17.45788188,
             "remaining_time": 7.661372625,
             "test": [
              0.011914912
             ]
            },
            {
             "iteration": 695,
             "learn": [
              0.01190411733
             ],
             "passed_time": 17.48105381,
             "remaining_time": 7.635402812,
             "test": [
              0.01191047201
             ]
            },
            {
             "iteration": 696,
             "learn": [
              0.01190147221
             ],
             "passed_time": 17.50307626,
             "remaining_time": 7.608941328,
             "test": [
              0.01190782589
             ]
            },
            {
             "iteration": 697,
             "learn": [
              0.01189803748
             ],
             "passed_time": 17.52835314,
             "remaining_time": 7.583900642,
             "test": [
              0.01190440045
             ]
            },
            {
             "iteration": 698,
             "learn": [
              0.01188498682
             ],
             "passed_time": 17.55437319,
             "remaining_time": 7.559179301,
             "test": [
              0.01189133887
             ]
            },
            {
             "iteration": 699,
             "learn": [
              0.01187309684
             ],
             "passed_time": 17.5801746,
             "remaining_time": 7.534360545,
             "test": [
              0.01187944626
             ]
            },
            {
             "iteration": 700,
             "learn": [
              0.0118604296
             ],
             "passed_time": 17.60355456,
             "remaining_time": 7.508506151,
             "test": [
              0.01186678039
             ]
            },
            {
             "iteration": 701,
             "learn": [
              0.01185235646
             ],
             "passed_time": 17.62812445,
             "remaining_time": 7.483163941,
             "test": [
              0.01185870895
             ]
            },
            {
             "iteration": 702,
             "learn": [
              0.01184528661
             ],
             "passed_time": 17.65449124,
             "remaining_time": 7.458583071,
             "test": [
              0.01185163646
             ]
            },
            {
             "iteration": 703,
             "learn": [
              0.01184186782
             ],
             "passed_time": 17.67910714,
             "remaining_time": 7.433260957,
             "test": [
              0.01184821438
             ]
            },
            {
             "iteration": 704,
             "learn": [
              0.01183323591
             ],
             "passed_time": 17.7023724,
             "remaining_time": 7.407375684,
             "test": [
              0.01183957977
             ]
            },
            {
             "iteration": 705,
             "learn": [
              0.01182871472
             ],
             "passed_time": 17.72618666,
             "remaining_time": 7.381726454,
             "test": [
              0.01183505368
             ]
            },
            {
             "iteration": 706,
             "learn": [
              0.01182686437
             ],
             "passed_time": 17.75270169,
             "remaining_time": 7.357201692,
             "test": [
              0.01183320711
             ]
            },
            {
             "iteration": 707,
             "learn": [
              0.01181963521
             ],
             "passed_time": 17.77689389,
             "remaining_time": 7.3317133,
             "test": [
              0.0118259798
             ]
            },
            {
             "iteration": 708,
             "learn": [
              0.01181401481
             ],
             "passed_time": 17.80183105,
             "remaining_time": 7.306534323,
             "test": [
              0.0118203555
             ]
            },
            {
             "iteration": 709,
             "learn": [
              0.01180997164
             ],
             "passed_time": 17.84123226,
             "remaining_time": 7.287263879,
             "test": [
              0.01181630591
             ]
            },
            {
             "iteration": 710,
             "learn": [
              0.01180289879
             ],
             "passed_time": 17.86590631,
             "remaining_time": 7.261950666,
             "test": [
              0.01180923356
             ]
            },
            {
             "iteration": 711,
             "learn": [
              0.01180048766
             ],
             "passed_time": 17.88930076,
             "remaining_time": 7.236121655,
             "test": [
              0.01180682205
             ]
            },
            {
             "iteration": 712,
             "learn": [
              0.01179366718
             ],
             "passed_time": 17.91723036,
             "remaining_time": 7.212124982,
             "test": [
              0.01180000188
             ]
            },
            {
             "iteration": 713,
             "learn": [
              0.01178091073
             ],
             "passed_time": 17.94013237,
             "remaining_time": 7.186103443,
             "test": [
              0.01178723873
             ]
            },
            {
             "iteration": 714,
             "learn": [
              0.01177836091
             ],
             "passed_time": 17.96199968,
             "remaining_time": 7.159678195,
             "test": [
              0.01178469589
             ]
            },
            {
             "iteration": 715,
             "learn": [
              0.01177346258
             ],
             "passed_time": 17.98475445,
             "remaining_time": 7.133617686,
             "test": [
              0.01177978815
             ]
            },
            {
             "iteration": 716,
             "learn": [
              0.01176955832
             ],
             "passed_time": 18.00697791,
             "remaining_time": 7.107356692,
             "test": [
              0.01177587867
             ]
            },
            {
             "iteration": 717,
             "learn": [
              0.01176769253
             ],
             "passed_time": 18.03025662,
             "remaining_time": 7.081521404,
             "test": [
              0.01177402585
             ]
            },
            {
             "iteration": 718,
             "learn": [
              0.0117509445
             ],
             "passed_time": 18.05429152,
             "remaining_time": 7.055988759,
             "test": [
              0.01175725167
             ]
            },
            {
             "iteration": 719,
             "learn": [
              0.01174415135
             ],
             "passed_time": 18.07817978,
             "remaining_time": 7.030403246,
             "test": [
              0.01175045093
             ]
            },
            {
             "iteration": 720,
             "learn": [
              0.01174113492
             ],
             "passed_time": 18.10272571,
             "remaining_time": 7.005076939,
             "test": [
              0.01174743541
             ]
            },
            {
             "iteration": 721,
             "learn": [
              0.01173293964
             ],
             "passed_time": 18.12640927,
             "remaining_time": 6.979420743,
             "test": [
              0.01173924097
             ]
            },
            {
             "iteration": 722,
             "learn": [
              0.01172599927
             ],
             "passed_time": 18.1499457,
             "remaining_time": 6.953713634,
             "test": [
              0.01173230789
             ]
            },
            {
             "iteration": 723,
             "learn": [
              0.01172503383
             ],
             "passed_time": 18.17231759,
             "remaining_time": 6.927568582,
             "test": [
              0.01173135043
             ]
            },
            {
             "iteration": 724,
             "learn": [
              0.01171584829
             ],
             "passed_time": 18.19590858,
             "remaining_time": 6.90189636,
             "test": [
              0.01172214277
             ]
            },
            {
             "iteration": 725,
             "learn": [
              0.0117110321
             ],
             "passed_time": 18.21994187,
             "remaining_time": 6.876396793,
             "test": [
              0.01171732928
             ]
            },
            {
             "iteration": 726,
             "learn": [
              0.01170661013
             ],
             "passed_time": 18.24344257,
             "remaining_time": 6.850701269,
             "test": [
              0.01171291309
             ]
            },
            {
             "iteration": 727,
             "learn": [
              0.0116975007
             ],
             "passed_time": 18.26773374,
             "remaining_time": 6.825307111,
             "test": [
              0.01170379889
             ]
            },
            {
             "iteration": 728,
             "learn": [
              0.01168776824
             ],
             "passed_time": 18.29341527,
             "remaining_time": 6.800432836,
             "test": [
              0.01169405715
             ]
            },
            {
             "iteration": 729,
             "learn": [
              0.01168333089
             ],
             "passed_time": 18.31693306,
             "remaining_time": 6.774756063,
             "test": [
              0.01168962451
             ]
            },
            {
             "iteration": 730,
             "learn": [
              0.01167699357
             ],
             "passed_time": 18.34058913,
             "remaining_time": 6.749136082,
             "test": [
              0.01168328343
             ]
            },
            {
             "iteration": 731,
             "learn": [
              0.01167067353
             ],
             "passed_time": 18.3671471,
             "remaining_time": 6.724583913,
             "test": [
              0.01167696594
             ]
            },
            {
             "iteration": 732,
             "learn": [
              0.01166373494
             ],
             "passed_time": 18.39459639,
             "remaining_time": 6.700350936,
             "test": [
              0.01167001777
             ]
            },
            {
             "iteration": 733,
             "learn": [
              0.01165432075
             ],
             "passed_time": 18.42025283,
             "remaining_time": 6.675459471,
             "test": [
              0.01166062422
             ]
            },
            {
             "iteration": 734,
             "learn": [
              0.01165150137
             ],
             "passed_time": 18.44320172,
             "remaining_time": 6.649589737,
             "test": [
              0.01165780084
             ]
            },
            {
             "iteration": 735,
             "learn": [
              0.01163565954
             ],
             "passed_time": 18.46865293,
             "remaining_time": 6.624625507,
             "test": [
              0.01164193939
             ]
            },
            {
             "iteration": 736,
             "learn": [
              0.01162901616
             ],
             "passed_time": 18.49409894,
             "remaining_time": 6.599658102,
             "test": [
              0.01163529604
             ]
            },
            {
             "iteration": 737,
             "learn": [
              0.01162562281
             ],
             "passed_time": 18.51718888,
             "remaining_time": 6.573852963,
             "test": [
              0.01163189676
             ]
            },
            {
             "iteration": 738,
             "learn": [
              0.01161844442
             ],
             "passed_time": 18.54072275,
             "remaining_time": 6.548211959,
             "test": [
              0.01162471088
             ]
            },
            {
             "iteration": 739,
             "learn": [
              0.01160675649
             ],
             "passed_time": 18.56512235,
             "remaining_time": 6.522880827,
             "test": [
              0.01161303875
             ]
            },
            {
             "iteration": 740,
             "learn": [
              0.01159553869
             ],
             "passed_time": 18.59201687,
             "remaining_time": 6.49842425,
             "test": [
              0.01160180662
             ]
            },
            {
             "iteration": 741,
             "learn": [
              0.01159164002
             ],
             "passed_time": 18.61625083,
             "remaining_time": 6.473036004,
             "test": [
              0.0115979028
             ]
            },
            {
             "iteration": 742,
             "learn": [
              0.01158585191
             ],
             "passed_time": 18.64404738,
             "remaining_time": 6.448883145,
             "test": [
              0.01159212046
             ]
            },
            {
             "iteration": 743,
             "learn": [
              0.01157656036
             ],
             "passed_time": 18.67179478,
             "remaining_time": 6.424703581,
             "test": [
              0.01158281799
             ]
            },
            {
             "iteration": 744,
             "learn": [
              0.01157056484
             ],
             "passed_time": 18.69544223,
             "remaining_time": 6.399111098,
             "test": [
              0.01157682543
             ]
            },
            {
             "iteration": 745,
             "learn": [
              0.01156147436
             ],
             "passed_time": 18.71986449,
             "remaining_time": 6.373787642,
             "test": [
              0.01156772333
             ]
            },
            {
             "iteration": 746,
             "learn": [
              0.01155535414
             ],
             "passed_time": 18.74547596,
             "remaining_time": 6.348869367,
             "test": [
              0.01156160256
             ]
            },
            {
             "iteration": 747,
             "learn": [
              0.01154816955
             ],
             "passed_time": 18.77014117,
             "remaining_time": 6.323630449,
             "test": [
              0.01155443328
             ]
            },
            {
             "iteration": 748,
             "learn": [
              0.01154434314
             ],
             "passed_time": 18.79270602,
             "remaining_time": 6.297689199,
             "test": [
              0.01155060682
             ]
            },
            {
             "iteration": 749,
             "learn": [
              0.01153760207
             ],
             "passed_time": 18.81543199,
             "remaining_time": 6.271810665,
             "test": [
              0.01154385008
             ]
            },
            {
             "iteration": 750,
             "learn": [
              0.01152201882
             ],
             "passed_time": 18.86089486,
             "remaining_time": 6.253479121,
             "test": [
              0.01152827115
             ]
            },
            {
             "iteration": 751,
             "learn": [
              0.01151334172
             ],
             "passed_time": 18.88630526,
             "remaining_time": 6.228462373,
             "test": [
              0.01151959147
             ]
            },
            {
             "iteration": 752,
             "learn": [
              0.01150993673
             ],
             "passed_time": 18.91287436,
             "remaining_time": 6.203824658,
             "test": [
              0.01151620113
             ]
            },
            {
             "iteration": 753,
             "learn": [
              0.01150766697
             ],
             "passed_time": 18.93567414,
             "remaining_time": 6.17795204,
             "test": [
              0.01151392331
             ]
            },
            {
             "iteration": 754,
             "learn": [
              0.01150012442
             ],
             "passed_time": 18.96024991,
             "remaining_time": 6.152663879,
             "test": [
              0.01150638887
             ]
            },
            {
             "iteration": 755,
             "learn": [
              0.01149463449
             ],
             "passed_time": 18.98366411,
             "remaining_time": 6.127002703,
             "test": [
              0.01150089587
             ]
            },
            {
             "iteration": 756,
             "learn": [
              0.01149336439
             ],
             "passed_time": 19.00961026,
             "remaining_time": 6.102160228,
             "test": [
              0.01149961048
             ]
            },
            {
             "iteration": 757,
             "learn": [
              0.01148474993
             ],
             "passed_time": 19.03438214,
             "remaining_time": 6.076939944,
             "test": [
              0.01149100244
             ]
            },
            {
             "iteration": 758,
             "learn": [
              0.01148074971
             ],
             "passed_time": 19.0586893,
             "remaining_time": 6.051573284,
             "test": [
              0.01148700583
             ]
            },
            {
             "iteration": 759,
             "learn": [
              0.01147940243
             ],
             "passed_time": 19.08820328,
             "remaining_time": 6.027853666,
             "test": [
              0.01148566014
             ]
            },
            {
             "iteration": 760,
             "learn": [
              0.01147533824
             ],
             "passed_time": 19.1120501,
             "remaining_time": 6.002338992,
             "test": [
              0.01148160009
             ]
            },
            {
             "iteration": 761,
             "learn": [
              0.01146261216
             ],
             "passed_time": 19.13753458,
             "remaining_time": 5.977340196,
             "test": [
              0.01146886338
             ]
            },
            {
             "iteration": 762,
             "learn": [
              0.01145755049
             ],
             "passed_time": 19.16155057,
             "remaining_time": 5.951883992,
             "test": [
              0.01146380644
             ]
            },
            {
             "iteration": 763,
             "learn": [
              0.01144559726
             ],
             "passed_time": 19.18610051,
             "remaining_time": 5.926596494,
             "test": [
              0.01145184804
             ]
            },
            {
             "iteration": 764,
             "learn": [
              0.01143617506
             ],
             "passed_time": 19.2110694,
             "remaining_time": 5.90143962,
             "test": [
              0.01144240895
             ]
            },
            {
             "iteration": 765,
             "learn": [
              0.01143412675
             ],
             "passed_time": 19.23321366,
             "remaining_time": 5.87542036,
             "test": [
              0.01144036825
             ]
            },
            {
             "iteration": 766,
             "learn": [
              0.01143070208
             ],
             "passed_time": 19.255374,
             "remaining_time": 5.84941609,
             "test": [
              0.01143695075
             ]
            },
            {
             "iteration": 767,
             "learn": [
              0.01142219644
             ],
             "passed_time": 19.27948434,
             "remaining_time": 5.824010895,
             "test": [
              0.01142844936
             ]
            },
            {
             "iteration": 768,
             "learn": [
              0.0114183443
             ],
             "passed_time": 19.30211326,
             "remaining_time": 5.798164062,
             "test": [
              0.01142458268
             ]
            },
            {
             "iteration": 769,
             "learn": [
              0.01141478541
             ],
             "passed_time": 19.32597396,
             "remaining_time": 5.772693521,
             "test": [
              0.01142103343
             ]
            },
            {
             "iteration": 770,
             "learn": [
              0.01140946326
             ],
             "passed_time": 19.35069409,
             "remaining_time": 5.74748242,
             "test": [
              0.0114157032
             ]
            },
            {
             "iteration": 771,
             "learn": [
              0.0114048409
             ],
             "passed_time": 19.37882706,
             "remaining_time": 5.723280529,
             "test": [
              0.01141107758
             ]
            },
            {
             "iteration": 772,
             "learn": [
              0.01139009979
             ],
             "passed_time": 19.40955331,
             "remaining_time": 5.699830016,
             "test": [
              0.01139633453
             ]
            },
            {
             "iteration": 773,
             "learn": [
              0.01138231118
             ],
             "passed_time": 19.43434129,
             "remaining_time": 5.674626786,
             "test": [
              0.01138854398
             ]
            },
            {
             "iteration": 774,
             "learn": [
              0.01137700507
             ],
             "passed_time": 19.45748381,
             "remaining_time": 5.648946912,
             "test": [
              0.01138323049
             ]
            },
            {
             "iteration": 775,
             "learn": [
              0.0113698193
             ],
             "passed_time": 19.48155334,
             "remaining_time": 5.623541171,
             "test": [
              0.01137604787
             ]
            },
            {
             "iteration": 776,
             "learn": [
              0.0113649684
             ],
             "passed_time": 19.50612169,
             "remaining_time": 5.59828203,
             "test": [
              0.01137119151
             ]
            },
            {
             "iteration": 777,
             "learn": [
              0.01136058959
             ],
             "passed_time": 19.53000249,
             "remaining_time": 5.572828475,
             "test": [
              0.0113668145
             ]
            },
            {
             "iteration": 778,
             "learn": [
              0.01134616035
             ],
             "passed_time": 19.55445509,
             "remaining_time": 5.547541176,
             "test": [
              0.011352387
             ]
            },
            {
             "iteration": 779,
             "learn": [
              0.01133627891
             ],
             "passed_time": 19.58107483,
             "remaining_time": 5.52286726,
             "test": [
              0.01134249994
             ]
            },
            {
             "iteration": 780,
             "learn": [
              0.01132917223
             ],
             "passed_time": 19.60543403,
             "remaining_time": 5.497554483,
             "test": [
              0.01133539612
             ]
            },
            {
             "iteration": 781,
             "learn": [
              0.01131900716
             ],
             "passed_time": 19.63092448,
             "remaining_time": 5.472559511,
             "test": [
              0.01132523176
             ]
            },
            {
             "iteration": 782,
             "learn": [
              0.01131556325
             ],
             "passed_time": 19.65349873,
             "remaining_time": 5.446755075,
             "test": [
              0.01132178689
             ]
            },
            {
             "iteration": 783,
             "learn": [
              0.01130843945
             ],
             "passed_time": 19.67886348,
             "remaining_time": 5.421727692,
             "test": [
              0.01131466166
             ]
            },
            {
             "iteration": 784,
             "learn": [
              0.01130447652
             ],
             "passed_time": 19.7042191,
             "remaining_time": 5.39669695,
             "test": [
              0.01131070354
             ]
            },
            {
             "iteration": 785,
             "learn": [
              0.01130016627
             ],
             "passed_time": 19.72654644,
             "remaining_time": 5.370840889,
             "test": [
              0.01130639906
             ]
            },
            {
             "iteration": 786,
             "learn": [
              0.01129643421
             ],
             "passed_time": 19.74937155,
             "remaining_time": 5.345128512,
             "test": [
              0.01130264978
             ]
            },
            {
             "iteration": 787,
             "learn": [
              0.0112900989
             ],
             "passed_time": 19.7723862,
             "remaining_time": 5.31947446,
             "test": [
              0.01129631314
             ]
            },
            {
             "iteration": 788,
             "learn": [
              0.01128443557
             ],
             "passed_time": 19.79615491,
             "remaining_time": 5.294028752,
             "test": [
              0.01129065054
             ]
            },
            {
             "iteration": 789,
             "learn": [
              0.01127654948
             ],
             "passed_time": 19.82268571,
             "remaining_time": 5.269321519,
             "test": [
              0.01128276311
             ]
            },
            {
             "iteration": 790,
             "learn": [
              0.01126758986
             ],
             "passed_time": 19.84584178,
             "remaining_time": 5.243717994,
             "test": [
              0.01127380564
             ]
            },
            {
             "iteration": 791,
             "learn": [
              0.01126031708
             ],
             "passed_time": 19.89780674,
             "remaining_time": 5.225686619,
             "test": [
              0.01126653726
             ]
            },
            {
             "iteration": 792,
             "learn": [
              0.01125510806
             ],
             "passed_time": 19.92432448,
             "remaining_time": 5.200927071,
             "test": [
              0.01126132396
             ]
            },
            {
             "iteration": 793,
             "learn": [
              0.01125349012
             ],
             "passed_time": 19.94802341,
             "remaining_time": 5.175431766,
             "test": [
              0.01125971048
             ]
            },
            {
             "iteration": 794,
             "learn": [
              0.01124408268
             ],
             "passed_time": 19.97153761,
             "remaining_time": 5.149893345,
             "test": [
              0.01125030717
             ]
            },
            {
             "iteration": 795,
             "learn": [
              0.01123719912
             ],
             "passed_time": 19.99863865,
             "remaining_time": 5.125279253,
             "test": [
              0.01124341847
             ]
            },
            {
             "iteration": 796,
             "learn": [
              0.01123128704
             ],
             "passed_time": 20.02320537,
             "remaining_time": 5.100013414,
             "test": [
              0.01123749917
             ]
            },
            {
             "iteration": 797,
             "learn": [
              0.0112242375
             ],
             "passed_time": 20.04747527,
             "remaining_time": 5.074674192,
             "test": [
              0.01123044533
             ]
            },
            {
             "iteration": 798,
             "learn": [
              0.01122109714
             ],
             "passed_time": 20.0710918,
             "remaining_time": 5.049173282,
             "test": [
              0.01122730435
             ]
            },
            {
             "iteration": 799,
             "learn": [
              0.01121090209
             ],
             "passed_time": 20.0958446,
             "remaining_time": 5.023961149,
             "test": [
              0.01121711831
             ]
            },
            {
             "iteration": 800,
             "learn": [
              0.01119929937
             ],
             "passed_time": 20.12093462,
             "remaining_time": 4.998833944,
             "test": [
              0.01120551192
             ]
            },
            {
             "iteration": 801,
             "learn": [
              0.0111948944
             ],
             "passed_time": 20.14429531,
             "remaining_time": 4.973279891,
             "test": [
              0.01120111075
             ]
            },
            {
             "iteration": 802,
             "learn": [
              0.0111896762
             ],
             "passed_time": 20.16857043,
             "remaining_time": 4.947955635,
             "test": [
              0.01119588846
             ]
            },
            {
             "iteration": 803,
             "learn": [
              0.01118382809
             ],
             "passed_time": 20.19181012,
             "remaining_time": 4.922381572,
             "test": [
              0.01119003736
             ]
            },
            {
             "iteration": 804,
             "learn": [
              0.01117459915
             ],
             "passed_time": 20.21494604,
             "remaining_time": 4.896788171,
             "test": [
              0.0111807969
             ]
            },
            {
             "iteration": 805,
             "learn": [
              0.01117047366
             ],
             "passed_time": 20.23978159,
             "remaining_time": 4.87160996,
             "test": [
              0.01117669114
             ]
            },
            {
             "iteration": 806,
             "learn": [
              0.01116775933
             ],
             "passed_time": 20.26524494,
             "remaining_time": 4.846582744,
             "test": [
              0.0111739671
             ]
            },
            {
             "iteration": 807,
             "learn": [
              0.01116527214
             ],
             "passed_time": 20.28784015,
             "remaining_time": 4.820872907,
             "test": [
              0.01117148125
             ]
            },
            {
             "iteration": 808,
             "learn": [
              0.01115058033
             ],
             "passed_time": 20.3152762,
             "remaining_time": 4.796313665,
             "test": [
              0.01115679426
             ]
            },
            {
             "iteration": 809,
             "learn": [
              0.01114111809
             ],
             "passed_time": 20.34131586,
             "remaining_time": 4.771419768,
             "test": [
              0.01114732398
             ]
            },
            {
             "iteration": 810,
             "learn": [
              0.01113853673
             ],
             "passed_time": 20.36529197,
             "remaining_time": 4.746042149,
             "test": [
              0.01114473898
             ]
            },
            {
             "iteration": 811,
             "learn": [
              0.01113407527
             ],
             "passed_time": 20.39334365,
             "remaining_time": 4.721611585,
             "test": [
              0.01114028464
             ]
            },
            {
             "iteration": 812,
             "learn": [
              0.01112266582
             ],
             "passed_time": 20.41807687,
             "remaining_time": 4.696408824,
             "test": [
              0.01112886619
             ]
            },
            {
             "iteration": 813,
             "learn": [
              0.01111553822
             ],
             "passed_time": 20.44108163,
             "remaining_time": 4.670812263,
             "test": [
              0.0111217319
             ]
            },
            {
             "iteration": 814,
             "learn": [
              0.01110082467
             ],
             "passed_time": 20.46605957,
             "remaining_time": 4.645669964,
             "test": [
              0.01110702627
             ]
            },
            {
             "iteration": 815,
             "learn": [
              0.01109271082
             ],
             "passed_time": 20.49240046,
             "remaining_time": 4.620835399,
             "test": [
              0.01109890642
             ]
            },
            {
             "iteration": 816,
             "learn": [
              0.01108272917
             ],
             "passed_time": 20.51749755,
             "remaining_time": 4.595718546,
             "test": [
              0.01108891405
             ]
            },
            {
             "iteration": 817,
             "learn": [
              0.01107632045
             ],
             "passed_time": 20.54237251,
             "remaining_time": 4.570552319,
             "test": [
              0.01108249907
             ]
            },
            {
             "iteration": 818,
             "learn": [
              0.01106777869
             ],
             "passed_time": 20.56511405,
             "remaining_time": 4.544915316,
             "test": [
              0.01107396367
             ]
            },
            {
             "iteration": 819,
             "learn": [
              0.01106555997
             ],
             "passed_time": 20.58862645,
             "remaining_time": 4.519454586,
             "test": [
              0.01107174833
             ]
            },
            {
             "iteration": 820,
             "learn": [
              0.0110605224
             ],
             "passed_time": 20.6119594,
             "remaining_time": 4.493959479,
             "test": [
              0.01106670637
             ]
            },
            {
             "iteration": 821,
             "learn": [
              0.0110489246
             ],
             "passed_time": 20.63750675,
             "remaining_time": 4.468949151,
             "test": [
              0.01105510345
             ]
            },
            {
             "iteration": 822,
             "learn": [
              0.01103983307
             ],
             "passed_time": 20.66249219,
             "remaining_time": 4.443816669,
             "test": [
              0.01104601549
             ]
            },
            {
             "iteration": 823,
             "learn": [
              0.01102748418
             ],
             "passed_time": 20.68755539,
             "remaining_time": 4.418701151,
             "test": [
              0.01103366308
             ]
            },
            {
             "iteration": 824,
             "learn": [
              0.01101899364
             ],
             "passed_time": 20.71220193,
             "remaining_time": 4.393497379,
             "test": [
              0.01102517886
             ]
            },
            {
             "iteration": 825,
             "learn": [
              0.01101770296
             ],
             "passed_time": 20.73728308,
             "remaining_time": 4.368386509,
             "test": [
              0.01102388825
             ]
            },
            {
             "iteration": 826,
             "learn": [
              0.01100604724
             ],
             "passed_time": 20.76216219,
             "remaining_time": 4.343233445,
             "test": [
              0.01101222612
             ]
            },
            {
             "iteration": 827,
             "learn": [
              0.01100195955
             ],
             "passed_time": 20.78459724,
             "remaining_time": 4.317573339,
             "test": [
              0.01100814745
             ]
            },
            {
             "iteration": 828,
             "learn": [
              0.01099771127
             ],
             "passed_time": 20.80876738,
             "remaining_time": 4.292278918,
             "test": [
              0.01100389835
             ]
            },
            {
             "iteration": 829,
             "learn": [
              0.01098217499
             ],
             "passed_time": 20.83362267,
             "remaining_time": 4.267127535,
             "test": [
              0.01098835508
             ]
            },
            {
             "iteration": 830,
             "learn": [
              0.01096078546
             ],
             "passed_time": 20.85997829,
             "remaining_time": 4.242281987,
             "test": [
              0.01096696215
             ]
            },
            {
             "iteration": 831,
             "learn": [
              0.01095579861
             ],
             "passed_time": 20.90398869,
             "remaining_time": 4.220997717,
             "test": [
              0.01096197338
             ]
            },
            {
             "iteration": 832,
             "learn": [
              0.01095226299
             ],
             "passed_time": 20.93071024,
             "remaining_time": 4.19619281,
             "test": [
              0.01095843027
             ]
            },
            {
             "iteration": 833,
             "learn": [
              0.01094327005
             ],
             "passed_time": 20.95592939,
             "remaining_time": 4.171084268,
             "test": [
              0.01094944378
             ]
            },
            {
             "iteration": 834,
             "learn": [
              0.01093808379
             ],
             "passed_time": 20.97874377,
             "remaining_time": 4.145500266,
             "test": [
              0.0109442594
             ]
            },
            {
             "iteration": 835,
             "learn": [
              0.01092978316
             ],
             "passed_time": 21.00324373,
             "remaining_time": 4.120253555,
             "test": [
              0.01093594917
             ]
            },
            {
             "iteration": 836,
             "learn": [
              0.01092412407
             ],
             "passed_time": 21.02607889,
             "remaining_time": 4.09468442,
             "test": [
              0.01093028629
             ]
            },
            {
             "iteration": 837,
             "learn": [
              0.01092026343
             ],
             "passed_time": 21.04852822,
             "remaining_time": 4.069047222,
             "test": [
              0.0109264198
             ]
            },
            {
             "iteration": 838,
             "learn": [
              0.01091773195
             ],
             "passed_time": 21.07300776,
             "remaining_time": 4.043807211,
             "test": [
              0.01092390013
             ]
            },
            {
             "iteration": 839,
             "learn": [
              0.01090630976
             ],
             "passed_time": 21.09708964,
             "remaining_time": 4.018493266,
             "test": [
              0.01091246465
             ]
            },
            {
             "iteration": 840,
             "learn": [
              0.01090287099
             ],
             "passed_time": 21.11984859,
             "remaining_time": 3.992932135,
             "test": [
              0.01090903242
             ]
            },
            {
             "iteration": 841,
             "learn": [
              0.01089523918
             ],
             "passed_time": 21.14562136,
             "remaining_time": 3.967943201,
             "test": [
              0.01090139457
             ]
            },
            {
             "iteration": 842,
             "learn": [
              0.01088097118
             ],
             "passed_time": 21.17292631,
             "remaining_time": 3.943237759,
             "test": [
              0.01088712877
             ]
            },
            {
             "iteration": 843,
             "learn": [
              0.01087519666
             ],
             "passed_time": 21.19486688,
             "remaining_time": 3.917534636,
             "test": [
              0.01088134363
             ]
            },
            {
             "iteration": 844,
             "learn": [
              0.01086600061
             ],
             "passed_time": 21.21895857,
             "remaining_time": 3.892235004,
             "test": [
              0.01087213897
             ]
            },
            {
             "iteration": 845,
             "learn": [
              0.01086531344
             ],
             "passed_time": 21.24517835,
             "remaining_time": 3.86732561,
             "test": [
              0.01087145804
             ]
            },
            {
             "iteration": 846,
             "learn": [
              0.01086151588
             ],
             "passed_time": 21.26974275,
             "remaining_time": 3.842114098,
             "test": [
              0.01086766504
             ]
            },
            {
             "iteration": 847,
             "learn": [
              0.0108579702
             ],
             "passed_time": 21.29498223,
             "remaining_time": 3.817025116,
             "test": [
              0.01086412107
             ]
            },
            {
             "iteration": 848,
             "learn": [
              0.01085022677
             ],
             "passed_time": 21.31923961,
             "remaining_time": 3.791761109,
             "test": [
              0.01085636873
             ]
            },
            {
             "iteration": 849,
             "learn": [
              0.01084335825
             ],
             "passed_time": 21.34644186,
             "remaining_time": 3.767019152,
             "test": [
              0.01084950253
             ]
            },
            {
             "iteration": 850,
             "learn": [
              0.01083611361
             ],
             "passed_time": 21.37042908,
             "remaining_time": 3.7417085,
             "test": [
              0.01084225534
             ]
            },
            {
             "iteration": 851,
             "learn": [
              0.01083103186
             ],
             "passed_time": 21.39668449,
             "remaining_time": 3.716794959,
             "test": [
              0.01083717692
             ]
            },
            {
             "iteration": 852,
             "learn": [
              0.01082725152
             ],
             "passed_time": 21.42203874,
             "remaining_time": 3.691722972,
             "test": [
              0.01083339346
             ]
            },
            {
             "iteration": 853,
             "learn": [
              0.01082359113
             ],
             "passed_time": 21.44489728,
             "remaining_time": 3.666223656,
             "test": [
              0.01082973676
             ]
            },
            {
             "iteration": 854,
             "learn": [
              0.01081454719
             ],
             "passed_time": 21.46899284,
             "remaining_time": 3.640940306,
             "test": [
              0.01082068838
             ]
            },
            {
             "iteration": 855,
             "learn": [
              0.01080697104
             ],
             "passed_time": 21.49311119,
             "remaining_time": 3.615663565,
             "test": [
              0.01081311316
             ]
            },
            {
             "iteration": 856,
             "learn": [
              0.01079983852
             ],
             "passed_time": 21.51780188,
             "remaining_time": 3.590485028,
             "test": [
              0.01080597833
             ]
            },
            {
             "iteration": 857,
             "learn": [
              0.01079401908
             ],
             "passed_time": 21.5461419,
             "remaining_time": 3.565911596,
             "test": [
              0.01080015995
             ]
            },
            {
             "iteration": 858,
             "learn": [
              0.01079057697
             ],
             "passed_time": 21.57100633,
             "remaining_time": 3.540758896,
             "test": [
              0.01079671397
             ]
            },
            {
             "iteration": 859,
             "learn": [
              0.01078753794
             ],
             "passed_time": 21.59408481,
             "remaining_time": 3.515316131,
             "test": [
              0.01079367725
             ]
            },
            {
             "iteration": 860,
             "learn": [
              0.01077997079
             ],
             "passed_time": 21.61884993,
             "remaining_time": 3.49015115,
             "test": [
              0.01078610212
             ]
            },
            {
             "iteration": 861,
             "learn": [
              0.01076892607
             ],
             "passed_time": 21.64272816,
             "remaining_time": 3.464845111,
             "test": [
              0.01077506945
             ]
            },
            {
             "iteration": 862,
             "learn": [
              0.01076399849
             ],
             "passed_time": 21.66576213,
             "remaining_time": 3.439408356,
             "test": [
              0.01077013724
             ]
            },
            {
             "iteration": 863,
             "learn": [
              0.0107616983
             ],
             "passed_time": 21.68821665,
             "remaining_time": 3.413885955,
             "test": [
              0.01076784301
             ]
            },
            {
             "iteration": 864,
             "learn": [
              0.01075558065
             ],
             "passed_time": 21.71110274,
             "remaining_time": 3.388438,
             "test": [
              0.01076171949
             ]
            },
            {
             "iteration": 865,
             "learn": [
              0.0107493856
             ],
             "passed_time": 21.7354527,
             "remaining_time": 3.363222473,
             "test": [
              0.01075552509
             ]
            },
            {
             "iteration": 866,
             "learn": [
              0.01074847676
             ],
             "passed_time": 21.75935338,
             "remaining_time": 3.337940023,
             "test": [
              0.01075461575
             ]
            },
            {
             "iteration": 867,
             "learn": [
              0.01073849136
             ],
             "passed_time": 21.78658234,
             "remaining_time": 3.3131669,
             "test": [
              0.010744625
             ]
            },
            {
             "iteration": 868,
             "learn": [
              0.01073065797
             ],
             "passed_time": 21.81110897,
             "remaining_time": 3.287980753,
             "test": [
              0.01073679806
             ]
            },
            {
             "iteration": 869,
             "learn": [
              0.01072563845
             ],
             "passed_time": 21.83459796,
             "remaining_time": 3.262641075,
             "test": [
              0.01073177524
             ]
            },
            {
             "iteration": 870,
             "learn": [
              0.01071479176
             ],
             "passed_time": 21.86059779,
             "remaining_time": 3.237677515,
             "test": [
              0.01072091758
             ]
            },
            {
             "iteration": 871,
             "learn": [
              0.01071266184
             ],
             "passed_time": 21.88389874,
             "remaining_time": 3.212315412,
             "test": [
              0.01071879486
             ]
            },
            {
             "iteration": 872,
             "learn": [
              0.01070446228
             ],
             "passed_time": 22.11198996,
             "remaining_time": 3.216749971,
             "test": [
              0.0107105868
             ]
            },
            {
             "iteration": 873,
             "learn": [
              0.01069731772
             ],
             "passed_time": 22.1446663,
             "remaining_time": 3.192480496,
             "test": [
              0.01070344104
             ]
            },
            {
             "iteration": 874,
             "learn": [
              0.01068592388
             ],
             "passed_time": 22.17266378,
             "remaining_time": 3.167523397,
             "test": [
              0.01069203591
             ]
            },
            {
             "iteration": 875,
             "learn": [
              0.01067688643
             ],
             "passed_time": 22.19894396,
             "remaining_time": 3.142316269,
             "test": [
              0.01068300021
             ]
            },
            {
             "iteration": 876,
             "learn": [
              0.01066846908
             ],
             "passed_time": 22.22684117,
             "remaining_time": 3.117333482,
             "test": [
              0.01067457849
             ]
            },
            {
             "iteration": 877,
             "learn": [
              0.01066167187
             ],
             "passed_time": 22.25389401,
             "remaining_time": 3.09222673,
             "test": [
              0.01066776075
             ]
            },
            {
             "iteration": 878,
             "learn": [
              0.01065360007
             ],
             "passed_time": 22.27928582,
             "remaining_time": 3.066886899,
             "test": [
              0.01065968797
             ]
            },
            {
             "iteration": 879,
             "learn": [
              0.01064754191
             ],
             "passed_time": 22.30822891,
             "remaining_time": 3.042031215,
             "test": [
              0.01065364609
             ]
            },
            {
             "iteration": 880,
             "learn": [
              0.01064692095
             ],
             "passed_time": 22.33619185,
             "remaining_time": 3.017033859,
             "test": [
              0.01065301464
             ]
            },
            {
             "iteration": 881,
             "learn": [
              0.01063787003
             ],
             "passed_time": 22.36335091,
             "remaining_time": 2.991922231,
             "test": [
              0.01064396801
             ]
            },
            {
             "iteration": 882,
             "learn": [
              0.01063016016
             ],
             "passed_time": 22.39207979,
             "remaining_time": 2.96701397,
             "test": [
              0.01063626825
             ]
            },
            {
             "iteration": 883,
             "learn": [
              0.01062454648
             ],
             "passed_time": 22.41695143,
             "remaining_time": 2.941590912,
             "test": [
              0.01063064926
             ]
            },
            {
             "iteration": 884,
             "learn": [
              0.01062011359
             ],
             "passed_time": 22.44178084,
             "remaining_time": 2.916163612,
             "test": [
              0.01062621604
             ]
            },
            {
             "iteration": 885,
             "learn": [
              0.0106184073
             ],
             "passed_time": 22.46550548,
             "remaining_time": 2.890595513,
             "test": [
              0.01062450463
             ]
            },
            {
             "iteration": 886,
             "learn": [
              0.01061524837
             ],
             "passed_time": 22.49072404,
             "remaining_time": 2.86522189,
             "test": [
              0.01062135379
             ]
            },
            {
             "iteration": 887,
             "learn": [
              0.0106130437
             ],
             "passed_time": 22.51222422,
             "remaining_time": 2.839379632,
             "test": [
              0.01061914733
             ]
            },
            {
             "iteration": 888,
             "learn": [
              0.01060795993
             ],
             "passed_time": 22.53772636,
             "remaining_time": 2.814046823,
             "test": [
              0.01061405806
             ]
            },
            {
             "iteration": 889,
             "learn": [
              0.01059268207
             ],
             "passed_time": 22.56254224,
             "remaining_time": 2.788628816,
             "test": [
              0.01059878483
             ]
            },
            {
             "iteration": 890,
             "learn": [
              0.01058672794
             ],
             "passed_time": 22.58790819,
             "remaining_time": 2.763279453,
             "test": [
              0.01059283013
             ]
            },
            {
             "iteration": 891,
             "learn": [
              0.01058071004
             ],
             "passed_time": 22.6141751,
             "remaining_time": 2.738039138,
             "test": [
              0.01058681273
             ]
            },
            {
             "iteration": 892,
             "learn": [
              0.01057299213
             ],
             "passed_time": 22.64041746,
             "remaining_time": 2.712793582,
             "test": [
              0.01057909059
             ]
            },
            {
             "iteration": 893,
             "learn": [
              0.01055485446
             ],
             "passed_time": 22.66624494,
             "remaining_time": 2.687496604,
             "test": [
              0.01056093692
             ]
            },
            {
             "iteration": 894,
             "learn": [
              0.01055203461
             ],
             "passed_time": 22.6900244,
             "remaining_time": 2.66195817,
             "test": [
              0.01055812481
             ]
            },
            {
             "iteration": 895,
             "learn": [
              0.01054833104
             ],
             "passed_time": 22.71521643,
             "remaining_time": 2.636587622,
             "test": [
              0.01055441903
             ]
            },
            {
             "iteration": 896,
             "learn": [
              0.01054370226
             ],
             "passed_time": 22.73875649,
             "remaining_time": 2.61102778,
             "test": [
              0.01054979428
             ]
            },
            {
             "iteration": 897,
             "learn": [
              0.01053755709
             ],
             "passed_time": 22.76294056,
             "remaining_time": 2.585545587,
             "test": [
              0.01054364924
             ]
            },
            {
             "iteration": 898,
             "learn": [
              0.01053185328
             ],
             "passed_time": 22.79023686,
             "remaining_time": 2.560415932,
             "test": [
              0.01053794383
             ]
            },
            {
             "iteration": 899,
             "learn": [
              0.01052911242
             ],
             "passed_time": 22.81606025,
             "remaining_time": 2.535117806,
             "test": [
              0.01053519289
             ]
            },
            {
             "iteration": 900,
             "learn": [
              0.01051776516
             ],
             "passed_time": 22.84216815,
             "remaining_time": 2.509849774,
             "test": [
              0.01052385692
             ]
            },
            {
             "iteration": 901,
             "learn": [
              0.01050802514
             ],
             "passed_time": 22.8669271,
             "remaining_time": 2.484433321,
             "test": [
              0.01051411241
             ]
            },
            {
             "iteration": 902,
             "learn": [
              0.01049968935
             ],
             "passed_time": 22.88959161,
             "remaining_time": 2.45879334,
             "test": [
              0.01050576484
             ]
            },
            {
             "iteration": 903,
             "learn": [
              0.01049299172
             ],
             "passed_time": 22.91448054,
             "remaining_time": 2.433396164,
             "test": [
              0.01049907858
             ]
            },
            {
             "iteration": 904,
             "learn": [
              0.01048569116
             ],
             "passed_time": 22.93830814,
             "remaining_time": 2.407888699,
             "test": [
              0.01049177385
             ]
            },
            {
             "iteration": 905,
             "learn": [
              0.01047811353
             ],
             "passed_time": 22.96178529,
             "remaining_time": 2.382348584,
             "test": [
              0.01048420103
             ]
            },
            {
             "iteration": 906,
             "learn": [
              0.01047238572
             ],
             "passed_time": 22.98466593,
             "remaining_time": 2.356751854,
             "test": [
              0.01047847793
             ]
            },
            {
             "iteration": 907,
             "learn": [
              0.01046505472
             ],
             "passed_time": 23.00894272,
             "remaining_time": 2.331302567,
             "test": [
              0.0104711468
             ]
            },
            {
             "iteration": 908,
             "learn": [
              0.01045742707
             ],
             "passed_time": 23.03343848,
             "remaining_time": 2.305877779,
             "test": [
              0.0104635059
             ]
            },
            {
             "iteration": 909,
             "learn": [
              0.01045388435
             ],
             "passed_time": 23.05758544,
             "remaining_time": 2.280420538,
             "test": [
              0.01045997173
             ]
            },
            {
             "iteration": 910,
             "learn": [
              0.01045048539
             ],
             "passed_time": 23.08104107,
             "remaining_time": 2.254898633,
             "test": [
              0.01045657368
             ]
            },
            {
             "iteration": 911,
             "learn": [
              0.0104490571
             ],
             "passed_time": 23.10451738,
             "remaining_time": 2.229383256,
             "test": [
              0.01045514198
             ]
            },
            {
             "iteration": 912,
             "learn": [
              0.01043176559
             ],
             "passed_time": 23.16369919,
             "remaining_time": 2.207274731,
             "test": [
              0.01043783431
             ]
            },
            {
             "iteration": 913,
             "learn": [
              0.01042524557
             ],
             "passed_time": 23.19336821,
             "remaining_time": 2.182308168,
             "test": [
              0.01043130756
             ]
            },
            {
             "iteration": 914,
             "learn": [
              0.01041947443
             ],
             "passed_time": 23.21897251,
             "remaining_time": 2.156953731,
             "test": [
              0.01042554128
             ]
            },
            {
             "iteration": 915,
             "learn": [
              0.01041764801
             ],
             "passed_time": 23.2430128,
             "remaining_time": 2.131455322,
             "test": [
              0.01042370968
             ]
            },
            {
             "iteration": 916,
             "learn": [
              0.01040887048
             ],
             "passed_time": 23.28171701,
             "remaining_time": 2.107287363,
             "test": [
              0.01041492756
             ]
            },
            {
             "iteration": 917,
             "learn": [
              0.01040293496
             ],
             "passed_time": 23.32066671,
             "remaining_time": 2.083109663,
             "test": [
              0.01040898934
             ]
            },
            {
             "iteration": 918,
             "learn": [
              0.01039670077
             ],
             "passed_time": 23.35318841,
             "remaining_time": 2.058333255,
             "test": [
              0.01040275217
             ]
            },
            {
             "iteration": 919,
             "learn": [
              0.01039289248
             ],
             "passed_time": 23.38742167,
             "remaining_time": 2.033688841,
             "test": [
              0.01039895028
             ]
            },
            {
             "iteration": 920,
             "learn": [
              0.01038264531
             ],
             "passed_time": 23.41475875,
             "remaining_time": 2.008432076,
             "test": [
              0.01038868574
             ]
            },
            {
             "iteration": 921,
             "learn": [
              0.0103760814
             ],
             "passed_time": 23.44038987,
             "remaining_time": 1.983026475,
             "test": [
              0.01038213011
             ]
            },
            {
             "iteration": 922,
             "learn": [
              0.01036219348
             ],
             "passed_time": 23.46577952,
             "remaining_time": 1.957600242,
             "test": [
              0.01036823195
             ]
            },
            {
             "iteration": 923,
             "learn": [
              0.01035713728
             ],
             "passed_time": 23.48872721,
             "remaining_time": 1.931973234,
             "test": [
              0.01036317943
             ]
            },
            {
             "iteration": 924,
             "learn": [
              0.01035236955
             ],
             "passed_time": 23.51354854,
             "remaining_time": 1.906503936,
             "test": [
              0.01035841354
             ]
            },
            {
             "iteration": 925,
             "learn": [
              0.01034879925
             ],
             "passed_time": 23.53804252,
             "remaining_time": 1.881009877,
             "test": [
              0.01035484827
             ]
            },
            {
             "iteration": 926,
             "learn": [
              0.01034262948
             ],
             "passed_time": 23.56264727,
             "remaining_time": 1.8555267,
             "test": [
              0.0103486773
             ]
            },
            {
             "iteration": 927,
             "learn": [
              0.01033517891
             ],
             "passed_time": 23.58750678,
             "remaining_time": 1.830065181,
             "test": [
              0.01034122174
             ]
            },
            {
             "iteration": 928,
             "learn": [
              0.0103288812
             ],
             "passed_time": 23.61064837,
             "remaining_time": 1.804473664,
             "test": [
              0.01033492323
             ]
            },
            {
             "iteration": 929,
             "learn": [
              0.0103199359
             ],
             "passed_time": 23.63655764,
             "remaining_time": 1.779095736,
             "test": [
              0.01032597826
             ]
            },
            {
             "iteration": 930,
             "learn": [
              0.01031179142
             ],
             "passed_time": 23.66043294,
             "remaining_time": 1.753565921,
             "test": [
              0.0103178218
             ]
            },
            {
             "iteration": 931,
             "learn": [
              0.01030546539
             ],
             "passed_time": 23.68513806,
             "remaining_time": 1.728100201,
             "test": [
              0.01031150823
             ]
            },
            {
             "iteration": 932,
             "learn": [
              0.01030359714
             ],
             "passed_time": 23.70728202,
             "remaining_time": 1.702452192,
             "test": [
              0.0103096396
             ]
            },
            {
             "iteration": 933,
             "learn": [
              0.01029801764
             ],
             "passed_time": 23.73174268,
             "remaining_time": 1.676975392,
             "test": [
              0.01030405504
             ]
            },
            {
             "iteration": 934,
             "learn": [
              0.01029037533
             ],
             "passed_time": 23.75514735,
             "remaining_time": 1.651427356,
             "test": [
              0.0102964083
             ]
            },
            {
             "iteration": 935,
             "learn": [
              0.01028061021
             ],
             "passed_time": 23.77926195,
             "remaining_time": 1.625932441,
             "test": [
              0.01028664719
             ]
            },
            {
             "iteration": 936,
             "learn": [
              0.01027486835
             ],
             "passed_time": 23.80224689,
             "remaining_time": 1.600364519,
             "test": [
              0.01028089303
             ]
            },
            {
             "iteration": 937,
             "learn": [
              0.01026890169
             ],
             "passed_time": 23.83085648,
             "remaining_time": 1.575173882,
             "test": [
              0.01027493273
             ]
            },
            {
             "iteration": 938,
             "learn": [
              0.01026171323
             ],
             "passed_time": 23.85736939,
             "remaining_time": 1.549839758,
             "test": [
              0.01026775325
             ]
            },
            {
             "iteration": 939,
             "learn": [
              0.01025321957
             ],
             "passed_time": 23.88104014,
             "remaining_time": 1.524321711,
             "test": [
              0.01025925929
             ]
            },
            {
             "iteration": 940,
             "learn": [
              0.01024830491
             ],
             "passed_time": 23.90999522,
             "remaining_time": 1.499138914,
             "test": [
              0.01025433723
             ]
            },
            {
             "iteration": 941,
             "learn": [
              0.01024665565
             ],
             "passed_time": 23.93559601,
             "remaining_time": 1.47374158,
             "test": [
              0.01025269961
             ]
            },
            {
             "iteration": 942,
             "learn": [
              0.01024454157
             ],
             "passed_time": 23.96017425,
             "remaining_time": 1.448282007,
             "test": [
              0.01025057478
             ]
            },
            {
             "iteration": 943,
             "learn": [
              0.01024207004
             ],
             "passed_time": 23.98357955,
             "remaining_time": 1.422754719,
             "test": [
              0.01024811282
             ]
            },
            {
             "iteration": 944,
             "learn": [
              0.01023324754
             ],
             "passed_time": 24.00772833,
             "remaining_time": 1.397275194,
             "test": [
              0.0102392791
             ]
            },
            {
             "iteration": 945,
             "learn": [
              0.01022719499
             ],
             "passed_time": 24.03340456,
             "remaining_time": 1.371885673,
             "test": [
              0.01023323422
             ]
            },
            {
             "iteration": 946,
             "learn": [
              0.0102233518
             ],
             "passed_time": 24.05673738,
             "remaining_time": 1.346364394,
             "test": [
              0.0102293896
             ]
            },
            {
             "iteration": 947,
             "learn": [
              0.01021948579
             ],
             "passed_time": 24.08008313,
             "remaining_time": 1.320848442,
             "test": [
              0.01022552172
             ]
            },
            {
             "iteration": 948,
             "learn": [
              0.01021354396
             ],
             "passed_time": 24.10569775,
             "remaining_time": 1.295458994,
             "test": [
              0.01021958034
             ]
            },
            {
             "iteration": 949,
             "learn": [
              0.01021062438
             ],
             "passed_time": 24.12820598,
             "remaining_time": 1.269905578,
             "test": [
              0.01021666164
             ]
            },
            {
             "iteration": 950,
             "learn": [
              0.01019232667
             ],
             "passed_time": 24.18639113,
             "remaining_time": 1.246196809,
             "test": [
              0.01019835874
             ]
            },
            {
             "iteration": 951,
             "learn": [
              0.01018477607
             ],
             "passed_time": 24.21381785,
             "remaining_time": 1.220864765,
             "test": [
              0.01019080633
             ]
            },
            {
             "iteration": 952,
             "learn": [
              0.01018245195
             ],
             "passed_time": 24.2364863,
             "remaining_time": 1.195293658,
             "test": [
              0.01018846854
             ]
            },
            {
             "iteration": 953,
             "learn": [
              0.01017775986
             ],
             "passed_time": 24.26102493,
             "remaining_time": 1.169818812,
             "test": [
              0.01018377837
             ]
            },
            {
             "iteration": 954,
             "learn": [
              0.01016416208
             ],
             "passed_time": 24.28561531,
             "remaining_time": 1.144348365,
             "test": [
              0.01017017765
             ]
            },
            {
             "iteration": 955,
             "learn": [
              0.01015884836
             ],
             "passed_time": 24.3115821,
             "remaining_time": 1.118943109,
             "test": [
              0.01016487311
             ]
            },
            {
             "iteration": 956,
             "learn": [
              0.01015314587
             ],
             "passed_time": 24.33519257,
             "remaining_time": 1.093430805,
             "test": [
              0.01015916088
             ]
            },
            {
             "iteration": 957,
             "learn": [
              0.01014070745
             ],
             "passed_time": 24.35923564,
             "remaining_time": 1.067941437,
             "test": [
              0.01014672585
             ]
            },
            {
             "iteration": 958,
             "learn": [
              0.01013747628
             ],
             "passed_time": 24.38525133,
             "remaining_time": 1.042539421,
             "test": [
              0.01014349753
             ]
            },
            {
             "iteration": 959,
             "learn": [
              0.01013549574
             ],
             "passed_time": 24.41086492,
             "remaining_time": 1.017119371,
             "test": [
              0.01014151896
             ]
            },
            {
             "iteration": 960,
             "learn": [
              0.01013087737
             ],
             "passed_time": 24.43467,
             "remaining_time": 0.9916255257,
             "test": [
              0.01013688641
             ]
            },
            {
             "iteration": 961,
             "learn": [
              0.01012529437
             ],
             "passed_time": 24.45948545,
             "remaining_time": 0.966175101,
             "test": [
              0.01013130784
             ]
            },
            {
             "iteration": 962,
             "learn": [
              0.01012035981
             ],
             "passed_time": 24.48438807,
             "remaining_time": 0.9407293442,
             "test": [
              0.01012637785
             ]
            },
            {
             "iteration": 963,
             "learn": [
              0.01011630725
             ],
             "passed_time": 24.50878676,
             "remaining_time": 0.9152658956,
             "test": [
              0.01012232065
             ]
            },
            {
             "iteration": 964,
             "learn": [
              0.01011156036
             ],
             "passed_time": 24.53235538,
             "remaining_time": 0.8897745475,
             "test": [
              0.01011756788
             ]
            },
            {
             "iteration": 965,
             "learn": [
              0.01010634842
             ],
             "passed_time": 24.55664605,
             "remaining_time": 0.8643125939,
             "test": [
              0.01011235732
             ]
            },
            {
             "iteration": 966,
             "learn": [
              0.01010133131
             ],
             "passed_time": 24.58189313,
             "remaining_time": 0.8388857016,
             "test": [
              0.01010733707
             ]
            },
            {
             "iteration": 967,
             "learn": [
              0.01009250278
             ],
             "passed_time": 24.60575588,
             "remaining_time": 0.8134134177,
             "test": [
              0.01009850126
             ]
            },
            {
             "iteration": 968,
             "learn": [
              0.01009058577
             ],
             "passed_time": 24.63159975,
             "remaining_time": 0.7880078351,
             "test": [
              0.01009659234
             ]
            },
            {
             "iteration": 969,
             "learn": [
              0.01008214552
             ],
             "passed_time": 24.657704,
             "remaining_time": 0.762609402,
             "test": [
              0.01008814206
             ]
            },
            {
             "iteration": 970,
             "learn": [
              0.01007341317
             ],
             "passed_time": 24.68232173,
             "remaining_time": 0.7371651187,
             "test": [
              0.01007940912
             ]
            },
            {
             "iteration": 971,
             "learn": [
              0.01005963547
             ],
             "passed_time": 24.70813528,
             "remaining_time": 0.7117569832,
             "test": [
              0.01006561838
             ]
            },
            {
             "iteration": 972,
             "learn": [
              0.01005869396
             ],
             "passed_time": 24.73397127,
             "remaining_time": 0.6863486376,
             "test": [
              0.01006468143
             ]
            },
            {
             "iteration": 973,
             "learn": [
              0.01005580386
             ],
             "passed_time": 24.75761576,
             "remaining_time": 0.6608809136,
             "test": [
              0.01006178818
             ]
            },
            {
             "iteration": 974,
             "learn": [
              0.01004393076
             ],
             "passed_time": 24.78297538,
             "remaining_time": 0.6354609071,
             "test": [
              0.01004992601
             ]
            },
            {
             "iteration": 975,
             "learn": [
              0.01004174286
             ],
             "passed_time": 24.80619725,
             "remaining_time": 0.6099884571,
             "test": [
              0.01004773963
             ]
            },
            {
             "iteration": 976,
             "learn": [
              0.01004033944
             ],
             "passed_time": 24.83112739,
             "remaining_time": 0.5845608289,
             "test": [
              0.01004631685
             ]
            },
            {
             "iteration": 977,
             "learn": [
              0.01003483139
             ],
             "passed_time": 24.85613799,
             "remaining_time": 0.5591360284,
             "test": [
              0.0100408085
             ]
            },
            {
             "iteration": 978,
             "learn": [
              0.01002802635
             ],
             "passed_time": 24.88070307,
             "remaining_time": 0.5337025173,
             "test": [
              0.01003401001
             ]
            },
            {
             "iteration": 979,
             "learn": [
              0.01002629272
             ],
             "passed_time": 24.90472828,
             "remaining_time": 0.5082597609,
             "test": [
              0.01003227338
             ]
            },
            {
             "iteration": 980,
             "learn": [
              0.01002133108
             ],
             "passed_time": 24.93130638,
             "remaining_time": 0.4828693386,
             "test": [
              0.01002730909
             ]
            },
            {
             "iteration": 981,
             "learn": [
              0.01001330872
             ],
             "passed_time": 24.95759309,
             "remaining_time": 0.4574711565,
             "test": [
              0.01001928105
             ]
            },
            {
             "iteration": 982,
             "learn": [
              0.01000798566
             ],
             "passed_time": 24.98143178,
             "remaining_time": 0.4320288303,
             "test": [
              0.01001396309
             ]
            },
            {
             "iteration": 983,
             "learn": [
              0.01000013298
             ],
             "passed_time": 25.00439049,
             "remaining_time": 0.4065754551,
             "test": [
              0.01000609668
             ]
            },
            {
             "iteration": 984,
             "learn": [
              0.009999111393
             ],
             "passed_time": 25.03065805,
             "remaining_time": 0.3811775338,
             "test": [
              0.01000507998
             ]
            },
            {
             "iteration": 985,
             "learn": [
              0.009997911752
             ],
             "passed_time": 25.05263377,
             "remaining_time": 0.3557169096,
             "test": [
              0.01000387347
             ]
            },
            {
             "iteration": 986,
             "learn": [
              0.009985492737
             ],
             "passed_time": 25.07847733,
             "remaining_time": 0.3303142911,
             "test": [
              0.009991451719
             ]
            },
            {
             "iteration": 987,
             "learn": [
              0.009978880065
             ],
             "passed_time": 25.101761,
             "remaining_time": 0.3048796883,
             "test": [
              0.009984829027
             ]
            },
            {
             "iteration": 988,
             "learn": [
              0.00997389041
             ],
             "passed_time": 25.12591484,
             "remaining_time": 0.2794591135,
             "test": [
              0.00997984052
             ]
            },
            {
             "iteration": 989,
             "learn": [
              0.009971067467
             ],
             "passed_time": 25.14737396,
             "remaining_time": 0.2540138784,
             "test": [
              0.009977017136
             ]
            },
            {
             "iteration": 990,
             "learn": [
              0.009965405237
             ],
             "passed_time": 25.18459144,
             "remaining_time": 0.2287198012,
             "test": [
              0.009971355826
             ]
            },
            {
             "iteration": 991,
             "learn": [
              0.009962943996
             ],
             "passed_time": 25.22082346,
             "remaining_time": 0.2033937376,
             "test": [
              0.009968900014
             ]
            },
            {
             "iteration": 992,
             "learn": [
              0.009959392499
             ],
             "passed_time": 25.24345653,
             "remaining_time": 0.1779498446,
             "test": [
              0.009965340151
             ]
            },
            {
             "iteration": 993,
             "learn": [
              0.009952813107
             ],
             "passed_time": 25.26865163,
             "remaining_time": 0.1525270722,
             "test": [
              0.009958762994
             ]
            },
            {
             "iteration": 994,
             "learn": [
              0.009947375454
             ],
             "passed_time": 25.29170707,
             "remaining_time": 0.1270940054,
             "test": [
              0.009953334845
             ]
            },
            {
             "iteration": 995,
             "learn": [
              0.009945075714
             ],
             "passed_time": 25.3141387,
             "remaining_time": 0.1016632076,
             "test": [
              0.009951022945
             ]
            },
            {
             "iteration": 996,
             "learn": [
              0.00994072833
             ],
             "passed_time": 25.34068192,
             "remaining_time": 0.07625079816,
             "test": [
              0.009946681157
             ]
            },
            {
             "iteration": 997,
             "learn": [
              0.00993091016
             ],
             "passed_time": 25.36407498,
             "remaining_time": 0.05082980957,
             "test": [
              0.009936867726
             ]
            },
            {
             "iteration": 998,
             "learn": [
              0.009928976189
             ],
             "passed_time": 25.39246053,
             "remaining_time": 0.02541787841,
             "test": [
              0.009934936381
             ]
            },
            {
             "iteration": 999,
             "learn": [
              0.009924649616
             ],
             "passed_time": 25.41543271,
             "remaining_time": 0,
             "test": [
              0.00993060103
             ]
            }
           ],
           "meta": {
            "iteration_count": 1000,
            "launch_mode": "Train",
            "learn_metrics": [
             {
              "best_value": "Min",
              "name": "Logloss"
             }
            ],
            "learn_sets": [
             "learn"
            ],
            "name": "experiment",
            "parameters": "",
            "test_metrics": [
             {
              "best_value": "Min",
              "name": "Logloss"
             }
            ],
            "test_sets": [
             "test"
            ]
           }
          },
          "passed_iterations": 999,
          "total_iterations": 1000
         },
         "name": "catboost_info",
         "path": "catboost_info"
        }
       },
       "layout": "IPY_MODEL_4baa9448cbbc43a284dddef490f07a6b"
      }
     }
    },
    "version_major": 2,
    "version_minor": 0
   }
  }
 },
 "nbformat": 4,
 "nbformat_minor": 5
}

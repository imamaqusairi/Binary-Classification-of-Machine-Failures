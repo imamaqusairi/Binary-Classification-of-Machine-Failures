{
 "cells": [
  {
   "cell_type": "code",
   "execution_count": 1,
   "id": "1066eab7",
   "metadata": {
    "_cell_guid": "b1076dfc-b9ad-4769-8c92-a6c4dae69d19",
    "_kg_hide-input": true,
    "_kg_hide-output": true,
    "_uuid": "8f2839f25d086af736a60e9eeb907d3b93b6e0e5",
    "execution": {
     "iopub.execute_input": "2023-06-19T15:31:32.353471Z",
     "iopub.status.busy": "2023-06-19T15:31:32.352995Z",
     "iopub.status.idle": "2023-06-19T15:31:32.378246Z",
     "shell.execute_reply": "2023-06-19T15:31:32.377510Z"
    },
    "papermill": {
     "duration": 0.038518,
     "end_time": "2023-06-19T15:31:32.380656",
     "exception": false,
     "start_time": "2023-06-19T15:31:32.342138",
     "status": "completed"
    },
    "tags": []
   },
   "outputs": [
    {
     "name": "stdout",
     "output_type": "stream",
     "text": [
      "/kaggle/input/machine-failure-predictions/machine failure.csv\n",
      "/kaggle/input/playground-series-s3e17/sample_submission.csv\n",
      "/kaggle/input/playground-series-s3e17/train.csv\n",
      "/kaggle/input/playground-series-s3e17/test.csv\n"
     ]
    }
   ],
   "source": [
    "# This Python 3 environment comes with many helpful analytics libraries installed\n",
    "# It is defined by the kaggle/python Docker image: https://github.com/kaggle/docker-python\n",
    "# For example, here's several helpful packages to load\n",
    "\n",
    "import numpy as np # linear algebra\n",
    "import pandas as pd # data processing, CSV file I/O (e.g. pd.read_csv)\n",
    "\n",
    "# Input data files are available in the read-only \"../input/\" directory\n",
    "# For example, running this (by clicking run or pressing Shift+Enter) will list all files under the input directory\n",
    "\n",
    "import os\n",
    "for dirname, _, filenames in os.walk('/kaggle/input'):\n",
    "    for filename in filenames:\n",
    "        print(os.path.join(dirname, filename))\n",
    "\n",
    "# You can write up to 20GB to the current directory (/kaggle/working/) that gets preserved as output when you create a version using \"Save & Run All\" \n",
    "# You can also write temporary files to /kaggle/temp/, but they won't be saved outside of the current session"
   ]
  },
  {
   "cell_type": "markdown",
   "id": "385a2bb6",
   "metadata": {
    "papermill": {
     "duration": 0.007035,
     "end_time": "2023-06-19T15:31:32.395232",
     "exception": false,
     "start_time": "2023-06-19T15:31:32.388197",
     "status": "completed"
    },
    "tags": []
   },
   "source": [
    "# 1. Imports"
   ]
  },
  {
   "cell_type": "code",
   "execution_count": 2,
   "id": "60eab4a4",
   "metadata": {
    "execution": {
     "iopub.execute_input": "2023-06-19T15:31:32.411106Z",
     "iopub.status.busy": "2023-06-19T15:31:32.410756Z",
     "iopub.status.idle": "2023-06-19T15:31:34.792781Z",
     "shell.execute_reply": "2023-06-19T15:31:34.791658Z"
    },
    "papermill": {
     "duration": 2.392878,
     "end_time": "2023-06-19T15:31:34.795220",
     "exception": false,
     "start_time": "2023-06-19T15:31:32.402342",
     "status": "completed"
    },
    "tags": []
   },
   "outputs": [],
   "source": [
    "import matplotlib.pyplot as plt\n",
    "import seaborn as sns\n",
    "\n",
    "import polars as pl\n",
    "\n",
    "from catboost import Pool,CatBoostClassifier\n",
    "from sklearn.metrics import roc_auc_score as AUC"
   ]
  },
  {
   "cell_type": "markdown",
   "id": "41e5e818",
   "metadata": {
    "papermill": {
     "duration": 0.006744,
     "end_time": "2023-06-19T15:31:34.809237",
     "exception": false,
     "start_time": "2023-06-19T15:31:34.802493",
     "status": "completed"
    },
    "tags": []
   },
   "source": [
    "# 2. EDA"
   ]
  },
  {
   "cell_type": "markdown",
   "id": "497c636b",
   "metadata": {
    "papermill": {
     "duration": 0.006728,
     "end_time": "2023-06-19T15:31:34.823019",
     "exception": false,
     "start_time": "2023-06-19T15:31:34.816291",
     "status": "completed"
    },
    "tags": []
   },
   "source": [
    "#### Load dataset"
   ]
  },
  {
   "cell_type": "code",
   "execution_count": 3,
   "id": "0dcf6811",
   "metadata": {
    "execution": {
     "iopub.execute_input": "2023-06-19T15:31:34.838716Z",
     "iopub.status.busy": "2023-06-19T15:31:34.838288Z",
     "iopub.status.idle": "2023-06-19T15:31:35.303100Z",
     "shell.execute_reply": "2023-06-19T15:31:35.302009Z"
    },
    "papermill": {
     "duration": 0.475361,
     "end_time": "2023-06-19T15:31:35.305450",
     "exception": false,
     "start_time": "2023-06-19T15:31:34.830089",
     "status": "completed"
    },
    "tags": []
   },
   "outputs": [
    {
     "data": {
      "text/html": [
       "<div>\n",
       "<style scoped>\n",
       "    .dataframe tbody tr th:only-of-type {\n",
       "        vertical-align: middle;\n",
       "    }\n",
       "\n",
       "    .dataframe tbody tr th {\n",
       "        vertical-align: top;\n",
       "    }\n",
       "\n",
       "    .dataframe thead th {\n",
       "        text-align: right;\n",
       "    }\n",
       "</style>\n",
       "<table border=\"1\" class=\"dataframe\">\n",
       "  <thead>\n",
       "    <tr style=\"text-align: right;\">\n",
       "      <th></th>\n",
       "      <th>id</th>\n",
       "      <th>Product ID</th>\n",
       "      <th>Type</th>\n",
       "      <th>Air temperature [K]</th>\n",
       "      <th>Process temperature [K]</th>\n",
       "      <th>Rotational speed [rpm]</th>\n",
       "      <th>Torque [Nm]</th>\n",
       "      <th>Tool wear [min]</th>\n",
       "      <th>Machine failure</th>\n",
       "      <th>TWF</th>\n",
       "      <th>HDF</th>\n",
       "      <th>PWF</th>\n",
       "      <th>OSF</th>\n",
       "      <th>RNF</th>\n",
       "    </tr>\n",
       "  </thead>\n",
       "  <tbody>\n",
       "    <tr>\n",
       "      <th>0</th>\n",
       "      <td>0</td>\n",
       "      <td>L50096</td>\n",
       "      <td>L</td>\n",
       "      <td>300.6</td>\n",
       "      <td>309.6</td>\n",
       "      <td>1596</td>\n",
       "      <td>36.1</td>\n",
       "      <td>140</td>\n",
       "      <td>0</td>\n",
       "      <td>0</td>\n",
       "      <td>0</td>\n",
       "      <td>0</td>\n",
       "      <td>0</td>\n",
       "      <td>0</td>\n",
       "    </tr>\n",
       "    <tr>\n",
       "      <th>1</th>\n",
       "      <td>1</td>\n",
       "      <td>M20343</td>\n",
       "      <td>M</td>\n",
       "      <td>302.6</td>\n",
       "      <td>312.1</td>\n",
       "      <td>1759</td>\n",
       "      <td>29.1</td>\n",
       "      <td>200</td>\n",
       "      <td>0</td>\n",
       "      <td>0</td>\n",
       "      <td>0</td>\n",
       "      <td>0</td>\n",
       "      <td>0</td>\n",
       "      <td>0</td>\n",
       "    </tr>\n",
       "    <tr>\n",
       "      <th>2</th>\n",
       "      <td>2</td>\n",
       "      <td>L49454</td>\n",
       "      <td>L</td>\n",
       "      <td>299.3</td>\n",
       "      <td>308.5</td>\n",
       "      <td>1805</td>\n",
       "      <td>26.5</td>\n",
       "      <td>25</td>\n",
       "      <td>0</td>\n",
       "      <td>0</td>\n",
       "      <td>0</td>\n",
       "      <td>0</td>\n",
       "      <td>0</td>\n",
       "      <td>0</td>\n",
       "    </tr>\n",
       "    <tr>\n",
       "      <th>3</th>\n",
       "      <td>3</td>\n",
       "      <td>L53355</td>\n",
       "      <td>L</td>\n",
       "      <td>301.0</td>\n",
       "      <td>310.9</td>\n",
       "      <td>1524</td>\n",
       "      <td>44.3</td>\n",
       "      <td>197</td>\n",
       "      <td>0</td>\n",
       "      <td>0</td>\n",
       "      <td>0</td>\n",
       "      <td>0</td>\n",
       "      <td>0</td>\n",
       "      <td>0</td>\n",
       "    </tr>\n",
       "    <tr>\n",
       "      <th>4</th>\n",
       "      <td>4</td>\n",
       "      <td>M24050</td>\n",
       "      <td>M</td>\n",
       "      <td>298.0</td>\n",
       "      <td>309.0</td>\n",
       "      <td>1641</td>\n",
       "      <td>35.4</td>\n",
       "      <td>34</td>\n",
       "      <td>0</td>\n",
       "      <td>0</td>\n",
       "      <td>0</td>\n",
       "      <td>0</td>\n",
       "      <td>0</td>\n",
       "      <td>0</td>\n",
       "    </tr>\n",
       "    <tr>\n",
       "      <th>...</th>\n",
       "      <td>...</td>\n",
       "      <td>...</td>\n",
       "      <td>...</td>\n",
       "      <td>...</td>\n",
       "      <td>...</td>\n",
       "      <td>...</td>\n",
       "      <td>...</td>\n",
       "      <td>...</td>\n",
       "      <td>...</td>\n",
       "      <td>...</td>\n",
       "      <td>...</td>\n",
       "      <td>...</td>\n",
       "      <td>...</td>\n",
       "      <td>...</td>\n",
       "    </tr>\n",
       "    <tr>\n",
       "      <th>136424</th>\n",
       "      <td>136424</td>\n",
       "      <td>M22284</td>\n",
       "      <td>M</td>\n",
       "      <td>300.1</td>\n",
       "      <td>311.4</td>\n",
       "      <td>1530</td>\n",
       "      <td>37.5</td>\n",
       "      <td>210</td>\n",
       "      <td>0</td>\n",
       "      <td>0</td>\n",
       "      <td>0</td>\n",
       "      <td>0</td>\n",
       "      <td>0</td>\n",
       "      <td>0</td>\n",
       "    </tr>\n",
       "    <tr>\n",
       "      <th>136425</th>\n",
       "      <td>136425</td>\n",
       "      <td>H38017</td>\n",
       "      <td>H</td>\n",
       "      <td>297.5</td>\n",
       "      <td>308.5</td>\n",
       "      <td>1447</td>\n",
       "      <td>49.1</td>\n",
       "      <td>2</td>\n",
       "      <td>0</td>\n",
       "      <td>0</td>\n",
       "      <td>0</td>\n",
       "      <td>0</td>\n",
       "      <td>0</td>\n",
       "      <td>0</td>\n",
       "    </tr>\n",
       "    <tr>\n",
       "      <th>136426</th>\n",
       "      <td>136426</td>\n",
       "      <td>L54690</td>\n",
       "      <td>L</td>\n",
       "      <td>300.5</td>\n",
       "      <td>311.8</td>\n",
       "      <td>1524</td>\n",
       "      <td>38.5</td>\n",
       "      <td>214</td>\n",
       "      <td>0</td>\n",
       "      <td>0</td>\n",
       "      <td>0</td>\n",
       "      <td>0</td>\n",
       "      <td>0</td>\n",
       "      <td>0</td>\n",
       "    </tr>\n",
       "    <tr>\n",
       "      <th>136427</th>\n",
       "      <td>136427</td>\n",
       "      <td>L53876</td>\n",
       "      <td>L</td>\n",
       "      <td>301.7</td>\n",
       "      <td>310.9</td>\n",
       "      <td>1447</td>\n",
       "      <td>46.3</td>\n",
       "      <td>42</td>\n",
       "      <td>0</td>\n",
       "      <td>0</td>\n",
       "      <td>0</td>\n",
       "      <td>0</td>\n",
       "      <td>0</td>\n",
       "      <td>0</td>\n",
       "    </tr>\n",
       "    <tr>\n",
       "      <th>136428</th>\n",
       "      <td>136428</td>\n",
       "      <td>L47937</td>\n",
       "      <td>L</td>\n",
       "      <td>296.9</td>\n",
       "      <td>308.1</td>\n",
       "      <td>1557</td>\n",
       "      <td>39.3</td>\n",
       "      <td>229</td>\n",
       "      <td>0</td>\n",
       "      <td>0</td>\n",
       "      <td>0</td>\n",
       "      <td>0</td>\n",
       "      <td>0</td>\n",
       "      <td>0</td>\n",
       "    </tr>\n",
       "  </tbody>\n",
       "</table>\n",
       "<p>136429 rows × 14 columns</p>\n",
       "</div>"
      ],
      "text/plain": [
       "            id Product ID Type  Air temperature [K]  Process temperature [K]  \\\n",
       "0            0     L50096    L                300.6                    309.6   \n",
       "1            1     M20343    M                302.6                    312.1   \n",
       "2            2     L49454    L                299.3                    308.5   \n",
       "3            3     L53355    L                301.0                    310.9   \n",
       "4            4     M24050    M                298.0                    309.0   \n",
       "...        ...        ...  ...                  ...                      ...   \n",
       "136424  136424     M22284    M                300.1                    311.4   \n",
       "136425  136425     H38017    H                297.5                    308.5   \n",
       "136426  136426     L54690    L                300.5                    311.8   \n",
       "136427  136427     L53876    L                301.7                    310.9   \n",
       "136428  136428     L47937    L                296.9                    308.1   \n",
       "\n",
       "        Rotational speed [rpm]  Torque [Nm]  Tool wear [min]  Machine failure  \\\n",
       "0                         1596         36.1              140                0   \n",
       "1                         1759         29.1              200                0   \n",
       "2                         1805         26.5               25                0   \n",
       "3                         1524         44.3              197                0   \n",
       "4                         1641         35.4               34                0   \n",
       "...                        ...          ...              ...              ...   \n",
       "136424                    1530         37.5              210                0   \n",
       "136425                    1447         49.1                2                0   \n",
       "136426                    1524         38.5              214                0   \n",
       "136427                    1447         46.3               42                0   \n",
       "136428                    1557         39.3              229                0   \n",
       "\n",
       "        TWF  HDF  PWF  OSF  RNF  \n",
       "0         0    0    0    0    0  \n",
       "1         0    0    0    0    0  \n",
       "2         0    0    0    0    0  \n",
       "3         0    0    0    0    0  \n",
       "4         0    0    0    0    0  \n",
       "...     ...  ...  ...  ...  ...  \n",
       "136424    0    0    0    0    0  \n",
       "136425    0    0    0    0    0  \n",
       "136426    0    0    0    0    0  \n",
       "136427    0    0    0    0    0  \n",
       "136428    0    0    0    0    0  \n",
       "\n",
       "[136429 rows x 14 columns]"
      ]
     },
     "execution_count": 3,
     "metadata": {},
     "output_type": "execute_result"
    }
   ],
   "source": [
    "train = pd.read_csv('/kaggle/input/playground-series-s3e17/train.csv')\n",
    "test = pd.read_csv('/kaggle/input/playground-series-s3e17/test.csv')\n",
    "train"
   ]
  },
  {
   "cell_type": "markdown",
   "id": "f9e28d87",
   "metadata": {
    "papermill": {
     "duration": 0.007637,
     "end_time": "2023-06-19T15:31:35.320965",
     "exception": false,
     "start_time": "2023-06-19T15:31:35.313328",
     "status": "completed"
    },
    "tags": []
   },
   "source": [
    "#### Load original dataset"
   ]
  },
  {
   "cell_type": "code",
   "execution_count": 4,
   "id": "f84fc5f2",
   "metadata": {
    "execution": {
     "iopub.execute_input": "2023-06-19T15:31:35.337979Z",
     "iopub.status.busy": "2023-06-19T15:31:35.337588Z",
     "iopub.status.idle": "2023-06-19T15:31:35.381764Z",
     "shell.execute_reply": "2023-06-19T15:31:35.380712Z"
    },
    "papermill": {
     "duration": 0.055269,
     "end_time": "2023-06-19T15:31:35.384054",
     "exception": false,
     "start_time": "2023-06-19T15:31:35.328785",
     "status": "completed"
    },
    "tags": []
   },
   "outputs": [
    {
     "data": {
      "text/html": [
       "<div>\n",
       "<style scoped>\n",
       "    .dataframe tbody tr th:only-of-type {\n",
       "        vertical-align: middle;\n",
       "    }\n",
       "\n",
       "    .dataframe tbody tr th {\n",
       "        vertical-align: top;\n",
       "    }\n",
       "\n",
       "    .dataframe thead th {\n",
       "        text-align: right;\n",
       "    }\n",
       "</style>\n",
       "<table border=\"1\" class=\"dataframe\">\n",
       "  <thead>\n",
       "    <tr style=\"text-align: right;\">\n",
       "      <th></th>\n",
       "      <th>UDI</th>\n",
       "      <th>Product ID</th>\n",
       "      <th>Type</th>\n",
       "      <th>Air temperature [K]</th>\n",
       "      <th>Process temperature [K]</th>\n",
       "      <th>Rotational speed [rpm]</th>\n",
       "      <th>Torque [Nm]</th>\n",
       "      <th>Tool wear [min]</th>\n",
       "      <th>Machine failure</th>\n",
       "      <th>TWF</th>\n",
       "      <th>HDF</th>\n",
       "      <th>PWF</th>\n",
       "      <th>OSF</th>\n",
       "      <th>RNF</th>\n",
       "    </tr>\n",
       "  </thead>\n",
       "  <tbody>\n",
       "    <tr>\n",
       "      <th>0</th>\n",
       "      <td>1</td>\n",
       "      <td>M14860</td>\n",
       "      <td>M</td>\n",
       "      <td>298.1</td>\n",
       "      <td>308.6</td>\n",
       "      <td>1551</td>\n",
       "      <td>42.8</td>\n",
       "      <td>0</td>\n",
       "      <td>0</td>\n",
       "      <td>0</td>\n",
       "      <td>0</td>\n",
       "      <td>0</td>\n",
       "      <td>0</td>\n",
       "      <td>0</td>\n",
       "    </tr>\n",
       "    <tr>\n",
       "      <th>1</th>\n",
       "      <td>2</td>\n",
       "      <td>L47181</td>\n",
       "      <td>L</td>\n",
       "      <td>298.2</td>\n",
       "      <td>308.7</td>\n",
       "      <td>1408</td>\n",
       "      <td>46.3</td>\n",
       "      <td>3</td>\n",
       "      <td>0</td>\n",
       "      <td>0</td>\n",
       "      <td>0</td>\n",
       "      <td>0</td>\n",
       "      <td>0</td>\n",
       "      <td>0</td>\n",
       "    </tr>\n",
       "    <tr>\n",
       "      <th>2</th>\n",
       "      <td>3</td>\n",
       "      <td>L47182</td>\n",
       "      <td>L</td>\n",
       "      <td>298.1</td>\n",
       "      <td>308.5</td>\n",
       "      <td>1498</td>\n",
       "      <td>49.4</td>\n",
       "      <td>5</td>\n",
       "      <td>0</td>\n",
       "      <td>0</td>\n",
       "      <td>0</td>\n",
       "      <td>0</td>\n",
       "      <td>0</td>\n",
       "      <td>0</td>\n",
       "    </tr>\n",
       "    <tr>\n",
       "      <th>3</th>\n",
       "      <td>4</td>\n",
       "      <td>L47183</td>\n",
       "      <td>L</td>\n",
       "      <td>298.2</td>\n",
       "      <td>308.6</td>\n",
       "      <td>1433</td>\n",
       "      <td>39.5</td>\n",
       "      <td>7</td>\n",
       "      <td>0</td>\n",
       "      <td>0</td>\n",
       "      <td>0</td>\n",
       "      <td>0</td>\n",
       "      <td>0</td>\n",
       "      <td>0</td>\n",
       "    </tr>\n",
       "    <tr>\n",
       "      <th>4</th>\n",
       "      <td>5</td>\n",
       "      <td>L47184</td>\n",
       "      <td>L</td>\n",
       "      <td>298.2</td>\n",
       "      <td>308.7</td>\n",
       "      <td>1408</td>\n",
       "      <td>40.0</td>\n",
       "      <td>9</td>\n",
       "      <td>0</td>\n",
       "      <td>0</td>\n",
       "      <td>0</td>\n",
       "      <td>0</td>\n",
       "      <td>0</td>\n",
       "      <td>0</td>\n",
       "    </tr>\n",
       "    <tr>\n",
       "      <th>...</th>\n",
       "      <td>...</td>\n",
       "      <td>...</td>\n",
       "      <td>...</td>\n",
       "      <td>...</td>\n",
       "      <td>...</td>\n",
       "      <td>...</td>\n",
       "      <td>...</td>\n",
       "      <td>...</td>\n",
       "      <td>...</td>\n",
       "      <td>...</td>\n",
       "      <td>...</td>\n",
       "      <td>...</td>\n",
       "      <td>...</td>\n",
       "      <td>...</td>\n",
       "    </tr>\n",
       "    <tr>\n",
       "      <th>9995</th>\n",
       "      <td>9996</td>\n",
       "      <td>M24855</td>\n",
       "      <td>M</td>\n",
       "      <td>298.8</td>\n",
       "      <td>308.4</td>\n",
       "      <td>1604</td>\n",
       "      <td>29.5</td>\n",
       "      <td>14</td>\n",
       "      <td>0</td>\n",
       "      <td>0</td>\n",
       "      <td>0</td>\n",
       "      <td>0</td>\n",
       "      <td>0</td>\n",
       "      <td>0</td>\n",
       "    </tr>\n",
       "    <tr>\n",
       "      <th>9996</th>\n",
       "      <td>9997</td>\n",
       "      <td>H39410</td>\n",
       "      <td>H</td>\n",
       "      <td>298.9</td>\n",
       "      <td>308.4</td>\n",
       "      <td>1632</td>\n",
       "      <td>31.8</td>\n",
       "      <td>17</td>\n",
       "      <td>0</td>\n",
       "      <td>0</td>\n",
       "      <td>0</td>\n",
       "      <td>0</td>\n",
       "      <td>0</td>\n",
       "      <td>0</td>\n",
       "    </tr>\n",
       "    <tr>\n",
       "      <th>9997</th>\n",
       "      <td>9998</td>\n",
       "      <td>M24857</td>\n",
       "      <td>M</td>\n",
       "      <td>299.0</td>\n",
       "      <td>308.6</td>\n",
       "      <td>1645</td>\n",
       "      <td>33.4</td>\n",
       "      <td>22</td>\n",
       "      <td>0</td>\n",
       "      <td>0</td>\n",
       "      <td>0</td>\n",
       "      <td>0</td>\n",
       "      <td>0</td>\n",
       "      <td>0</td>\n",
       "    </tr>\n",
       "    <tr>\n",
       "      <th>9998</th>\n",
       "      <td>9999</td>\n",
       "      <td>H39412</td>\n",
       "      <td>H</td>\n",
       "      <td>299.0</td>\n",
       "      <td>308.7</td>\n",
       "      <td>1408</td>\n",
       "      <td>48.5</td>\n",
       "      <td>25</td>\n",
       "      <td>0</td>\n",
       "      <td>0</td>\n",
       "      <td>0</td>\n",
       "      <td>0</td>\n",
       "      <td>0</td>\n",
       "      <td>0</td>\n",
       "    </tr>\n",
       "    <tr>\n",
       "      <th>9999</th>\n",
       "      <td>10000</td>\n",
       "      <td>M24859</td>\n",
       "      <td>M</td>\n",
       "      <td>299.0</td>\n",
       "      <td>308.7</td>\n",
       "      <td>1500</td>\n",
       "      <td>40.2</td>\n",
       "      <td>30</td>\n",
       "      <td>0</td>\n",
       "      <td>0</td>\n",
       "      <td>0</td>\n",
       "      <td>0</td>\n",
       "      <td>0</td>\n",
       "      <td>0</td>\n",
       "    </tr>\n",
       "  </tbody>\n",
       "</table>\n",
       "<p>10000 rows × 14 columns</p>\n",
       "</div>"
      ],
      "text/plain": [
       "        UDI Product ID Type  Air temperature [K]  Process temperature [K]  \\\n",
       "0         1     M14860    M                298.1                    308.6   \n",
       "1         2     L47181    L                298.2                    308.7   \n",
       "2         3     L47182    L                298.1                    308.5   \n",
       "3         4     L47183    L                298.2                    308.6   \n",
       "4         5     L47184    L                298.2                    308.7   \n",
       "...     ...        ...  ...                  ...                      ...   \n",
       "9995   9996     M24855    M                298.8                    308.4   \n",
       "9996   9997     H39410    H                298.9                    308.4   \n",
       "9997   9998     M24857    M                299.0                    308.6   \n",
       "9998   9999     H39412    H                299.0                    308.7   \n",
       "9999  10000     M24859    M                299.0                    308.7   \n",
       "\n",
       "      Rotational speed [rpm]  Torque [Nm]  Tool wear [min]  Machine failure  \\\n",
       "0                       1551         42.8                0                0   \n",
       "1                       1408         46.3                3                0   \n",
       "2                       1498         49.4                5                0   \n",
       "3                       1433         39.5                7                0   \n",
       "4                       1408         40.0                9                0   \n",
       "...                      ...          ...              ...              ...   \n",
       "9995                    1604         29.5               14                0   \n",
       "9996                    1632         31.8               17                0   \n",
       "9997                    1645         33.4               22                0   \n",
       "9998                    1408         48.5               25                0   \n",
       "9999                    1500         40.2               30                0   \n",
       "\n",
       "      TWF  HDF  PWF  OSF  RNF  \n",
       "0       0    0    0    0    0  \n",
       "1       0    0    0    0    0  \n",
       "2       0    0    0    0    0  \n",
       "3       0    0    0    0    0  \n",
       "4       0    0    0    0    0  \n",
       "...   ...  ...  ...  ...  ...  \n",
       "9995    0    0    0    0    0  \n",
       "9996    0    0    0    0    0  \n",
       "9997    0    0    0    0    0  \n",
       "9998    0    0    0    0    0  \n",
       "9999    0    0    0    0    0  \n",
       "\n",
       "[10000 rows x 14 columns]"
      ]
     },
     "execution_count": 4,
     "metadata": {},
     "output_type": "execute_result"
    }
   ],
   "source": [
    "original = pd.read_csv('/kaggle/input/machine-failure-predictions/machine failure.csv')\n",
    "original"
   ]
  },
  {
   "cell_type": "markdown",
   "id": "78c5b068",
   "metadata": {
    "papermill": {
     "duration": 0.007628,
     "end_time": "2023-06-19T15:31:35.399610",
     "exception": false,
     "start_time": "2023-06-19T15:31:35.391982",
     "status": "completed"
    },
    "tags": []
   },
   "source": [
    "#### Drop irrelevant feature \"id\""
   ]
  },
  {
   "cell_type": "code",
   "execution_count": 5,
   "id": "4e0543d6",
   "metadata": {
    "execution": {
     "iopub.execute_input": "2023-06-19T15:31:35.416866Z",
     "iopub.status.busy": "2023-06-19T15:31:35.416429Z",
     "iopub.status.idle": "2023-06-19T15:31:35.438573Z",
     "shell.execute_reply": "2023-06-19T15:31:35.437606Z"
    },
    "papermill": {
     "duration": 0.033468,
     "end_time": "2023-06-19T15:31:35.440869",
     "exception": false,
     "start_time": "2023-06-19T15:31:35.407401",
     "status": "completed"
    },
    "tags": []
   },
   "outputs": [],
   "source": [
    "train.drop('id', axis=1, inplace=True)\n",
    "test.drop('id', axis=1, inplace=True)\n",
    "original.drop('UDI', axis=1, inplace=True)"
   ]
  },
  {
   "cell_type": "markdown",
   "id": "87f981ec",
   "metadata": {
    "papermill": {
     "duration": 0.007637,
     "end_time": "2023-06-19T15:31:35.456738",
     "exception": false,
     "start_time": "2023-06-19T15:31:35.449101",
     "status": "completed"
    },
    "tags": []
   },
   "source": [
    "#### Dataset info and describe"
   ]
  },
  {
   "cell_type": "code",
   "execution_count": 6,
   "id": "c0d4125b",
   "metadata": {
    "execution": {
     "iopub.execute_input": "2023-06-19T15:31:35.474155Z",
     "iopub.status.busy": "2023-06-19T15:31:35.473760Z",
     "iopub.status.idle": "2023-06-19T15:31:35.535391Z",
     "shell.execute_reply": "2023-06-19T15:31:35.534307Z"
    },
    "papermill": {
     "duration": 0.073113,
     "end_time": "2023-06-19T15:31:35.537724",
     "exception": false,
     "start_time": "2023-06-19T15:31:35.464611",
     "status": "completed"
    },
    "tags": []
   },
   "outputs": [
    {
     "name": "stdout",
     "output_type": "stream",
     "text": [
      "<class 'pandas.core.frame.DataFrame'>\n",
      "RangeIndex: 136429 entries, 0 to 136428\n",
      "Data columns (total 13 columns):\n",
      " #   Column                   Non-Null Count   Dtype  \n",
      "---  ------                   --------------   -----  \n",
      " 0   Product ID               136429 non-null  object \n",
      " 1   Type                     136429 non-null  object \n",
      " 2   Air temperature [K]      136429 non-null  float64\n",
      " 3   Process temperature [K]  136429 non-null  float64\n",
      " 4   Rotational speed [rpm]   136429 non-null  int64  \n",
      " 5   Torque [Nm]              136429 non-null  float64\n",
      " 6   Tool wear [min]          136429 non-null  int64  \n",
      " 7   Machine failure          136429 non-null  int64  \n",
      " 8   TWF                      136429 non-null  int64  \n",
      " 9   HDF                      136429 non-null  int64  \n",
      " 10  PWF                      136429 non-null  int64  \n",
      " 11  OSF                      136429 non-null  int64  \n",
      " 12  RNF                      136429 non-null  int64  \n",
      "dtypes: float64(3), int64(8), object(2)\n",
      "memory usage: 13.5+ MB\n"
     ]
    }
   ],
   "source": [
    "train.info()"
   ]
  },
  {
   "cell_type": "code",
   "execution_count": 7,
   "id": "4056f6aa",
   "metadata": {
    "execution": {
     "iopub.execute_input": "2023-06-19T15:31:35.555372Z",
     "iopub.status.busy": "2023-06-19T15:31:35.554978Z",
     "iopub.status.idle": "2023-06-19T15:31:35.643735Z",
     "shell.execute_reply": "2023-06-19T15:31:35.642606Z"
    },
    "papermill": {
     "duration": 0.100201,
     "end_time": "2023-06-19T15:31:35.645965",
     "exception": false,
     "start_time": "2023-06-19T15:31:35.545764",
     "status": "completed"
    },
    "tags": []
   },
   "outputs": [
    {
     "data": {
      "text/html": [
       "<div>\n",
       "<style scoped>\n",
       "    .dataframe tbody tr th:only-of-type {\n",
       "        vertical-align: middle;\n",
       "    }\n",
       "\n",
       "    .dataframe tbody tr th {\n",
       "        vertical-align: top;\n",
       "    }\n",
       "\n",
       "    .dataframe thead th {\n",
       "        text-align: right;\n",
       "    }\n",
       "</style>\n",
       "<table border=\"1\" class=\"dataframe\">\n",
       "  <thead>\n",
       "    <tr style=\"text-align: right;\">\n",
       "      <th></th>\n",
       "      <th>Air temperature [K]</th>\n",
       "      <th>Process temperature [K]</th>\n",
       "      <th>Rotational speed [rpm]</th>\n",
       "      <th>Torque [Nm]</th>\n",
       "      <th>Tool wear [min]</th>\n",
       "      <th>Machine failure</th>\n",
       "      <th>TWF</th>\n",
       "      <th>HDF</th>\n",
       "      <th>PWF</th>\n",
       "      <th>OSF</th>\n",
       "      <th>RNF</th>\n",
       "    </tr>\n",
       "  </thead>\n",
       "  <tbody>\n",
       "    <tr>\n",
       "      <th>count</th>\n",
       "      <td>136429.000000</td>\n",
       "      <td>136429.000000</td>\n",
       "      <td>136429.000000</td>\n",
       "      <td>136429.000000</td>\n",
       "      <td>136429.000000</td>\n",
       "      <td>136429.000000</td>\n",
       "      <td>136429.000000</td>\n",
       "      <td>136429.000000</td>\n",
       "      <td>136429.000000</td>\n",
       "      <td>136429.000000</td>\n",
       "      <td>136429.000000</td>\n",
       "    </tr>\n",
       "    <tr>\n",
       "      <th>mean</th>\n",
       "      <td>299.862776</td>\n",
       "      <td>309.941070</td>\n",
       "      <td>1520.331110</td>\n",
       "      <td>40.348643</td>\n",
       "      <td>104.408901</td>\n",
       "      <td>0.015744</td>\n",
       "      <td>0.001554</td>\n",
       "      <td>0.005160</td>\n",
       "      <td>0.002397</td>\n",
       "      <td>0.003958</td>\n",
       "      <td>0.002258</td>\n",
       "    </tr>\n",
       "    <tr>\n",
       "      <th>std</th>\n",
       "      <td>1.862247</td>\n",
       "      <td>1.385173</td>\n",
       "      <td>138.736632</td>\n",
       "      <td>8.502229</td>\n",
       "      <td>63.965040</td>\n",
       "      <td>0.124486</td>\n",
       "      <td>0.039389</td>\n",
       "      <td>0.071649</td>\n",
       "      <td>0.048899</td>\n",
       "      <td>0.062789</td>\n",
       "      <td>0.047461</td>\n",
       "    </tr>\n",
       "    <tr>\n",
       "      <th>min</th>\n",
       "      <td>295.300000</td>\n",
       "      <td>305.800000</td>\n",
       "      <td>1181.000000</td>\n",
       "      <td>3.800000</td>\n",
       "      <td>0.000000</td>\n",
       "      <td>0.000000</td>\n",
       "      <td>0.000000</td>\n",
       "      <td>0.000000</td>\n",
       "      <td>0.000000</td>\n",
       "      <td>0.000000</td>\n",
       "      <td>0.000000</td>\n",
       "    </tr>\n",
       "    <tr>\n",
       "      <th>25%</th>\n",
       "      <td>298.300000</td>\n",
       "      <td>308.700000</td>\n",
       "      <td>1432.000000</td>\n",
       "      <td>34.600000</td>\n",
       "      <td>48.000000</td>\n",
       "      <td>0.000000</td>\n",
       "      <td>0.000000</td>\n",
       "      <td>0.000000</td>\n",
       "      <td>0.000000</td>\n",
       "      <td>0.000000</td>\n",
       "      <td>0.000000</td>\n",
       "    </tr>\n",
       "    <tr>\n",
       "      <th>50%</th>\n",
       "      <td>300.000000</td>\n",
       "      <td>310.000000</td>\n",
       "      <td>1493.000000</td>\n",
       "      <td>40.400000</td>\n",
       "      <td>106.000000</td>\n",
       "      <td>0.000000</td>\n",
       "      <td>0.000000</td>\n",
       "      <td>0.000000</td>\n",
       "      <td>0.000000</td>\n",
       "      <td>0.000000</td>\n",
       "      <td>0.000000</td>\n",
       "    </tr>\n",
       "    <tr>\n",
       "      <th>75%</th>\n",
       "      <td>301.200000</td>\n",
       "      <td>310.900000</td>\n",
       "      <td>1580.000000</td>\n",
       "      <td>46.100000</td>\n",
       "      <td>159.000000</td>\n",
       "      <td>0.000000</td>\n",
       "      <td>0.000000</td>\n",
       "      <td>0.000000</td>\n",
       "      <td>0.000000</td>\n",
       "      <td>0.000000</td>\n",
       "      <td>0.000000</td>\n",
       "    </tr>\n",
       "    <tr>\n",
       "      <th>max</th>\n",
       "      <td>304.400000</td>\n",
       "      <td>313.800000</td>\n",
       "      <td>2886.000000</td>\n",
       "      <td>76.600000</td>\n",
       "      <td>253.000000</td>\n",
       "      <td>1.000000</td>\n",
       "      <td>1.000000</td>\n",
       "      <td>1.000000</td>\n",
       "      <td>1.000000</td>\n",
       "      <td>1.000000</td>\n",
       "      <td>1.000000</td>\n",
       "    </tr>\n",
       "  </tbody>\n",
       "</table>\n",
       "</div>"
      ],
      "text/plain": [
       "       Air temperature [K]  Process temperature [K]  Rotational speed [rpm]  \\\n",
       "count        136429.000000            136429.000000           136429.000000   \n",
       "mean            299.862776               309.941070             1520.331110   \n",
       "std               1.862247                 1.385173              138.736632   \n",
       "min             295.300000               305.800000             1181.000000   \n",
       "25%             298.300000               308.700000             1432.000000   \n",
       "50%             300.000000               310.000000             1493.000000   \n",
       "75%             301.200000               310.900000             1580.000000   \n",
       "max             304.400000               313.800000             2886.000000   \n",
       "\n",
       "         Torque [Nm]  Tool wear [min]  Machine failure            TWF  \\\n",
       "count  136429.000000    136429.000000    136429.000000  136429.000000   \n",
       "mean       40.348643       104.408901         0.015744       0.001554   \n",
       "std         8.502229        63.965040         0.124486       0.039389   \n",
       "min         3.800000         0.000000         0.000000       0.000000   \n",
       "25%        34.600000        48.000000         0.000000       0.000000   \n",
       "50%        40.400000       106.000000         0.000000       0.000000   \n",
       "75%        46.100000       159.000000         0.000000       0.000000   \n",
       "max        76.600000       253.000000         1.000000       1.000000   \n",
       "\n",
       "                 HDF            PWF            OSF            RNF  \n",
       "count  136429.000000  136429.000000  136429.000000  136429.000000  \n",
       "mean        0.005160       0.002397       0.003958       0.002258  \n",
       "std         0.071649       0.048899       0.062789       0.047461  \n",
       "min         0.000000       0.000000       0.000000       0.000000  \n",
       "25%         0.000000       0.000000       0.000000       0.000000  \n",
       "50%         0.000000       0.000000       0.000000       0.000000  \n",
       "75%         0.000000       0.000000       0.000000       0.000000  \n",
       "max         1.000000       1.000000       1.000000       1.000000  "
      ]
     },
     "execution_count": 7,
     "metadata": {},
     "output_type": "execute_result"
    }
   ],
   "source": [
    "train.describe()"
   ]
  },
  {
   "cell_type": "markdown",
   "id": "130a97b1",
   "metadata": {
    "papermill": {
     "duration": 0.008227,
     "end_time": "2023-06-19T15:31:35.662897",
     "exception": false,
     "start_time": "2023-06-19T15:31:35.654670",
     "status": "completed"
    },
    "tags": []
   },
   "source": [
    "## Visualisation"
   ]
  },
  {
   "cell_type": "code",
   "execution_count": 8,
   "id": "17e1fa10",
   "metadata": {
    "execution": {
     "iopub.execute_input": "2023-06-19T15:31:35.681224Z",
     "iopub.status.busy": "2023-06-19T15:31:35.680861Z",
     "iopub.status.idle": "2023-06-19T15:31:36.119301Z",
     "shell.execute_reply": "2023-06-19T15:31:36.118115Z"
    },
    "papermill": {
     "duration": 0.45049,
     "end_time": "2023-06-19T15:31:36.121720",
     "exception": false,
     "start_time": "2023-06-19T15:31:35.671230",
     "status": "completed"
    },
    "tags": []
   },
   "outputs": [
    {
     "name": "stdout",
     "output_type": "stream",
     "text": [
      "train 98.42555468412141\n",
      "original 96.61\n"
     ]
    },
    {
     "data": {
      "image/png": "[encoded data removed]",
      "text/plain": [
       "<Figure size 1000x500 with 2 Axes>"
      ]
     },
     "metadata": {},
     "output_type": "display_data"
    }
   ],
   "source": [
    "fig, axes = plt.subplots(1, 2, figsize=(10, 5))\n",
    "\n",
    "train['Machine failure'].value_counts().plot(kind='bar', ax=axes[0])\n",
    "original['Machine failure'].value_counts().plot(kind='bar', ax=axes[1])\n",
    "\n",
    "print('train', (len(train[train['Machine failure'] == 0]) / len(train)) * 100)\n",
    "print('original', (len(original[original['Machine failure'] == 0]) / len(original)) * 100)"
   ]
  },
  {
   "cell_type": "markdown",
   "id": "e2c71506",
   "metadata": {
    "papermill": {
     "duration": 0.008739,
     "end_time": "2023-06-19T15:31:36.139577",
     "exception": false,
     "start_time": "2023-06-19T15:31:36.130838",
     "status": "completed"
    },
    "tags": []
   },
   "source": [
    "#### NOTE:\n",
    "- We can see that the data is heavily distributed to 0\n",
    "- 98% and 96%"
   ]
  },
  {
   "cell_type": "markdown",
   "id": "9a9c345a",
   "metadata": {
    "papermill": {
     "duration": 0.009407,
     "end_time": "2023-06-19T15:31:36.158462",
     "exception": false,
     "start_time": "2023-06-19T15:31:36.149055",
     "status": "completed"
    },
    "tags": []
   },
   "source": [
    "## Correlation"
   ]
  },
  {
   "cell_type": "code",
   "execution_count": 9,
   "id": "54729d92",
   "metadata": {
    "execution": {
     "iopub.execute_input": "2023-06-19T15:31:36.179233Z",
     "iopub.status.busy": "2023-06-19T15:31:36.178850Z",
     "iopub.status.idle": "2023-06-19T15:31:37.029796Z",
     "shell.execute_reply": "2023-06-19T15:31:37.028607Z"
    },
    "papermill": {
     "duration": 0.864984,
     "end_time": "2023-06-19T15:31:37.032716",
     "exception": false,
     "start_time": "2023-06-19T15:31:36.167732",
     "status": "completed"
    },
    "tags": []
   },
   "outputs": [
    {
     "data": {
      "text/plain": [
       "<Axes: >"
      ]
     },
     "execution_count": 9,
     "metadata": {},
     "output_type": "execute_result"
    },
    {
     "data": {
      "image/png": "[encoded data removed]",
      "text/plain": [
       "<Figure size 1000x800 with 2 Axes>"
      ]
     },
     "metadata": {},
     "output_type": "display_data"
    }
   ],
   "source": [
    "corr_matrix = train.corr(numeric_only=True)\n",
    "\n",
    "plt.figure(figsize=(10, 8))\n",
    "sns.heatmap(corr_matrix, annot=True, cmap='coolwarm')"
   ]
  },
  {
   "cell_type": "markdown",
   "id": "2e545313",
   "metadata": {
    "papermill": {
     "duration": 0.011484,
     "end_time": "2023-06-19T15:31:37.055232",
     "exception": false,
     "start_time": "2023-06-19T15:31:37.043748",
     "status": "completed"
    },
    "tags": []
   },
   "source": [
    "## Distribution of numerical variables grouped by Target"
   ]
  },
  {
   "cell_type": "code",
   "execution_count": 10,
   "id": "617d4ae5",
   "metadata": {
    "execution": {
     "iopub.execute_input": "2023-06-19T15:31:37.078591Z",
     "iopub.status.busy": "2023-06-19T15:31:37.078204Z",
     "iopub.status.idle": "2023-06-19T15:31:38.484479Z",
     "shell.execute_reply": "2023-06-19T15:31:38.483455Z"
    },
    "papermill": {
     "duration": 1.420686,
     "end_time": "2023-06-19T15:31:38.486805",
     "exception": false,
     "start_time": "2023-06-19T15:31:37.066119",
     "status": "completed"
    },
    "tags": []
   },
   "outputs": [
    {
     "data": {
      "image/png": "[encoded data removed]",
      "text/plain": [
       "<Figure size 1000x1500 with 5 Axes>"
      ]
     },
     "metadata": {},
     "output_type": "display_data"
    }
   ],
   "source": [
    "fig, axes = plt.subplots(5, 1, figsize=(10, 15))\n",
    "axes = axes.flatten()\n",
    "\n",
    "numerical_features = ['Air temperature [K]',\n",
    "'Process temperature [K]',\n",
    "'Rotational speed [rpm]',\n",
    "'Torque [Nm]',\n",
    "'Tool wear [min]']\n",
    "\n",
    "failures = [0, 1]\n",
    "\n",
    "i = 0\n",
    "for feature in numerical_features:\n",
    "    for failure in failures:\n",
    "        subset = train[train['Machine failure'] == failure]\n",
    "        axes[i].hist(subset[feature], alpha=0.5, label=failure, density=True, bins=25)\n",
    "        axes[i].set_xlabel(feature)\n",
    "        axes[i].set_ylabel('Dist')\n",
    "        plt.legend()\n",
    "    i += 1\n",
    "\n",
    "plt.show()"
   ]
  },
  {
   "cell_type": "markdown",
   "id": "f0e087a9",
   "metadata": {
    "papermill": {
     "duration": 0.011228,
     "end_time": "2023-06-19T15:31:38.509695",
     "exception": false,
     "start_time": "2023-06-19T15:31:38.498467",
     "status": "completed"
    },
    "tags": []
   },
   "source": [
    "## Categorical Features Visualisation"
   ]
  },
  {
   "cell_type": "code",
   "execution_count": 11,
   "id": "af9ea7c4",
   "metadata": {
    "execution": {
     "iopub.execute_input": "2023-06-19T15:31:38.534638Z",
     "iopub.status.busy": "2023-06-19T15:31:38.534025Z",
     "iopub.status.idle": "2023-06-19T15:31:39.850789Z",
     "shell.execute_reply": "2023-06-19T15:31:39.849697Z"
    },
    "papermill": {
     "duration": 1.332314,
     "end_time": "2023-06-19T15:31:39.853485",
     "exception": false,
     "start_time": "2023-06-19T15:31:38.521171",
     "status": "completed"
    },
    "tags": []
   },
   "outputs": [
    {
     "data": {
      "image/png": "[encoded data removed]",
      "text/plain": [
       "<Figure size 1500x1000 with 6 Axes>"
      ]
     },
     "metadata": {},
     "output_type": "display_data"
    }
   ],
   "source": [
    "categorical_features = ['Type', 'TWF', 'HDF', 'PWF', 'OSF', 'RNF']\n",
    "\n",
    "fig, axes = plt.subplots(2, 3, figsize=(15, 10))\n",
    "axes = axes.flatten()\n",
    "\n",
    "i = 0\n",
    "for feature in categorical_features:\n",
    "    train.groupby('Machine failure')[feature].value_counts().unstack().plot(kind='bar', ax=axes[i])\n",
    "    i += 1"
   ]
  },
  {
   "cell_type": "markdown",
   "id": "ebdd69ca",
   "metadata": {
    "papermill": {
     "duration": 0.01264,
     "end_time": "2023-06-19T15:31:39.882895",
     "exception": false,
     "start_time": "2023-06-19T15:31:39.870255",
     "status": "completed"
    },
    "tags": []
   },
   "source": [
    "# 3. Models"
   ]
  },
  {
   "cell_type": "code",
   "execution_count": 12,
   "id": "7bfce3b6",
   "metadata": {
    "execution": {
     "iopub.execute_input": "2023-06-19T15:31:39.910676Z",
     "iopub.status.busy": "2023-06-19T15:31:39.909810Z",
     "iopub.status.idle": "2023-06-19T15:31:39.974693Z",
     "shell.execute_reply": "2023-06-19T15:31:39.973733Z"
    },
    "papermill": {
     "duration": 0.082503,
     "end_time": "2023-06-19T15:31:39.978014",
     "exception": false,
     "start_time": "2023-06-19T15:31:39.895511",
     "status": "completed"
    },
    "tags": []
   },
   "outputs": [
    {
     "data": {
      "text/html": [
       "<div>\n",
       "<style scoped>\n",
       "    .dataframe tbody tr th:only-of-type {\n",
       "        vertical-align: middle;\n",
       "    }\n",
       "\n",
       "    .dataframe tbody tr th {\n",
       "        vertical-align: top;\n",
       "    }\n",
       "\n",
       "    .dataframe thead th {\n",
       "        text-align: right;\n",
       "    }\n",
       "</style>\n",
       "<table border=\"1\" class=\"dataframe\">\n",
       "  <thead>\n",
       "    <tr style=\"text-align: right;\">\n",
       "      <th></th>\n",
       "      <th>Product ID</th>\n",
       "      <th>Type</th>\n",
       "      <th>Air temperature [K]</th>\n",
       "      <th>Process temperature [K]</th>\n",
       "      <th>Rotational speed [rpm]</th>\n",
       "      <th>Torque [Nm]</th>\n",
       "      <th>Tool wear [min]</th>\n",
       "      <th>Machine failure</th>\n",
       "      <th>TWF</th>\n",
       "      <th>HDF</th>\n",
       "      <th>PWF</th>\n",
       "      <th>OSF</th>\n",
       "      <th>RNF</th>\n",
       "    </tr>\n",
       "  </thead>\n",
       "  <tbody>\n",
       "    <tr>\n",
       "      <th>0</th>\n",
       "      <td>L50096</td>\n",
       "      <td>L</td>\n",
       "      <td>300.6</td>\n",
       "      <td>309.6</td>\n",
       "      <td>1596</td>\n",
       "      <td>36.1</td>\n",
       "      <td>140</td>\n",
       "      <td>0</td>\n",
       "      <td>0</td>\n",
       "      <td>0</td>\n",
       "      <td>0</td>\n",
       "      <td>0</td>\n",
       "      <td>0</td>\n",
       "    </tr>\n",
       "    <tr>\n",
       "      <th>1</th>\n",
       "      <td>M20343</td>\n",
       "      <td>M</td>\n",
       "      <td>302.6</td>\n",
       "      <td>312.1</td>\n",
       "      <td>1759</td>\n",
       "      <td>29.1</td>\n",
       "      <td>200</td>\n",
       "      <td>0</td>\n",
       "      <td>0</td>\n",
       "      <td>0</td>\n",
       "      <td>0</td>\n",
       "      <td>0</td>\n",
       "      <td>0</td>\n",
       "    </tr>\n",
       "    <tr>\n",
       "      <th>2</th>\n",
       "      <td>L49454</td>\n",
       "      <td>L</td>\n",
       "      <td>299.3</td>\n",
       "      <td>308.5</td>\n",
       "      <td>1805</td>\n",
       "      <td>26.5</td>\n",
       "      <td>25</td>\n",
       "      <td>0</td>\n",
       "      <td>0</td>\n",
       "      <td>0</td>\n",
       "      <td>0</td>\n",
       "      <td>0</td>\n",
       "      <td>0</td>\n",
       "    </tr>\n",
       "    <tr>\n",
       "      <th>3</th>\n",
       "      <td>L53355</td>\n",
       "      <td>L</td>\n",
       "      <td>301.0</td>\n",
       "      <td>310.9</td>\n",
       "      <td>1524</td>\n",
       "      <td>44.3</td>\n",
       "      <td>197</td>\n",
       "      <td>0</td>\n",
       "      <td>0</td>\n",
       "      <td>0</td>\n",
       "      <td>0</td>\n",
       "      <td>0</td>\n",
       "      <td>0</td>\n",
       "    </tr>\n",
       "    <tr>\n",
       "      <th>4</th>\n",
       "      <td>M24050</td>\n",
       "      <td>M</td>\n",
       "      <td>298.0</td>\n",
       "      <td>309.0</td>\n",
       "      <td>1641</td>\n",
       "      <td>35.4</td>\n",
       "      <td>34</td>\n",
       "      <td>0</td>\n",
       "      <td>0</td>\n",
       "      <td>0</td>\n",
       "      <td>0</td>\n",
       "      <td>0</td>\n",
       "      <td>0</td>\n",
       "    </tr>\n",
       "    <tr>\n",
       "      <th>...</th>\n",
       "      <td>...</td>\n",
       "      <td>...</td>\n",
       "      <td>...</td>\n",
       "      <td>...</td>\n",
       "      <td>...</td>\n",
       "      <td>...</td>\n",
       "      <td>...</td>\n",
       "      <td>...</td>\n",
       "      <td>...</td>\n",
       "      <td>...</td>\n",
       "      <td>...</td>\n",
       "      <td>...</td>\n",
       "      <td>...</td>\n",
       "    </tr>\n",
       "    <tr>\n",
       "      <th>146424</th>\n",
       "      <td>M24855</td>\n",
       "      <td>M</td>\n",
       "      <td>298.8</td>\n",
       "      <td>308.4</td>\n",
       "      <td>1604</td>\n",
       "      <td>29.5</td>\n",
       "      <td>14</td>\n",
       "      <td>0</td>\n",
       "      <td>0</td>\n",
       "      <td>0</td>\n",
       "      <td>0</td>\n",
       "      <td>0</td>\n",
       "      <td>0</td>\n",
       "    </tr>\n",
       "    <tr>\n",
       "      <th>146425</th>\n",
       "      <td>H39410</td>\n",
       "      <td>H</td>\n",
       "      <td>298.9</td>\n",
       "      <td>308.4</td>\n",
       "      <td>1632</td>\n",
       "      <td>31.8</td>\n",
       "      <td>17</td>\n",
       "      <td>0</td>\n",
       "      <td>0</td>\n",
       "      <td>0</td>\n",
       "      <td>0</td>\n",
       "      <td>0</td>\n",
       "      <td>0</td>\n",
       "    </tr>\n",
       "    <tr>\n",
       "      <th>146426</th>\n",
       "      <td>M24857</td>\n",
       "      <td>M</td>\n",
       "      <td>299.0</td>\n",
       "      <td>308.6</td>\n",
       "      <td>1645</td>\n",
       "      <td>33.4</td>\n",
       "      <td>22</td>\n",
       "      <td>0</td>\n",
       "      <td>0</td>\n",
       "      <td>0</td>\n",
       "      <td>0</td>\n",
       "      <td>0</td>\n",
       "      <td>0</td>\n",
       "    </tr>\n",
       "    <tr>\n",
       "      <th>146427</th>\n",
       "      <td>H39412</td>\n",
       "      <td>H</td>\n",
       "      <td>299.0</td>\n",
       "      <td>308.7</td>\n",
       "      <td>1408</td>\n",
       "      <td>48.5</td>\n",
       "      <td>25</td>\n",
       "      <td>0</td>\n",
       "      <td>0</td>\n",
       "      <td>0</td>\n",
       "      <td>0</td>\n",
       "      <td>0</td>\n",
       "      <td>0</td>\n",
       "    </tr>\n",
       "    <tr>\n",
       "      <th>146428</th>\n",
       "      <td>M24859</td>\n",
       "      <td>M</td>\n",
       "      <td>299.0</td>\n",
       "      <td>308.7</td>\n",
       "      <td>1500</td>\n",
       "      <td>40.2</td>\n",
       "      <td>30</td>\n",
       "      <td>0</td>\n",
       "      <td>0</td>\n",
       "      <td>0</td>\n",
       "      <td>0</td>\n",
       "      <td>0</td>\n",
       "      <td>0</td>\n",
       "    </tr>\n",
       "  </tbody>\n",
       "</table>\n",
       "<p>146429 rows × 13 columns</p>\n",
       "</div>"
      ],
      "text/plain": [
       "       Product ID Type  Air temperature [K]  Process temperature [K]  \\\n",
       "0          L50096    L                300.6                    309.6   \n",
       "1          M20343    M                302.6                    312.1   \n",
       "2          L49454    L                299.3                    308.5   \n",
       "3          L53355    L                301.0                    310.9   \n",
       "4          M24050    M                298.0                    309.0   \n",
       "...           ...  ...                  ...                      ...   \n",
       "146424     M24855    M                298.8                    308.4   \n",
       "146425     H39410    H                298.9                    308.4   \n",
       "146426     M24857    M                299.0                    308.6   \n",
       "146427     H39412    H                299.0                    308.7   \n",
       "146428     M24859    M                299.0                    308.7   \n",
       "\n",
       "        Rotational speed [rpm]  Torque [Nm]  Tool wear [min]  Machine failure  \\\n",
       "0                         1596         36.1              140                0   \n",
       "1                         1759         29.1              200                0   \n",
       "2                         1805         26.5               25                0   \n",
       "3                         1524         44.3              197                0   \n",
       "4                         1641         35.4               34                0   \n",
       "...                        ...          ...              ...              ...   \n",
       "146424                    1604         29.5               14                0   \n",
       "146425                    1632         31.8               17                0   \n",
       "146426                    1645         33.4               22                0   \n",
       "146427                    1408         48.5               25                0   \n",
       "146428                    1500         40.2               30                0   \n",
       "\n",
       "        TWF  HDF  PWF  OSF  RNF  \n",
       "0         0    0    0    0    0  \n",
       "1         0    0    0    0    0  \n",
       "2         0    0    0    0    0  \n",
       "3         0    0    0    0    0  \n",
       "4         0    0    0    0    0  \n",
       "...     ...  ...  ...  ...  ...  \n",
       "146424    0    0    0    0    0  \n",
       "146425    0    0    0    0    0  \n",
       "146426    0    0    0    0    0  \n",
       "146427    0    0    0    0    0  \n",
       "146428    0    0    0    0    0  \n",
       "\n",
       "[146429 rows x 13 columns]"
      ]
     },
     "execution_count": 12,
     "metadata": {},
     "output_type": "execute_result"
    }
   ],
   "source": [
    "joined_train_orig = pd.concat([train, original], axis = 0).reset_index(drop=True)\n",
    "joined_train_orig"
   ]
  },
  {
   "cell_type": "code",
   "execution_count": 13,
   "id": "8a5940e7",
   "metadata": {
    "execution": {
     "iopub.execute_input": "2023-06-19T15:31:40.011460Z",
     "iopub.status.busy": "2023-06-19T15:31:40.010933Z",
     "iopub.status.idle": "2023-06-19T15:31:40.024079Z",
     "shell.execute_reply": "2023-06-19T15:31:40.022513Z"
    },
    "papermill": {
     "duration": 0.02997,
     "end_time": "2023-06-19T15:31:40.026734",
     "exception": false,
     "start_time": "2023-06-19T15:31:39.996764",
     "status": "completed"
    },
    "tags": []
   },
   "outputs": [],
   "source": [
    "y = joined_train_orig['Machine failure']\n",
    "X = joined_train_orig.drop(columns=[\"Machine failure\"])"
   ]
  },
  {
   "cell_type": "code",
   "execution_count": 14,
   "id": "a1de657b",
   "metadata": {
    "execution": {
     "iopub.execute_input": "2023-06-19T15:31:40.059383Z",
     "iopub.status.busy": "2023-06-19T15:31:40.058452Z",
     "iopub.status.idle": "2023-06-19T15:31:40.705238Z",
     "shell.execute_reply": "2023-06-19T15:31:40.703972Z"
    },
    "papermill": {
     "duration": 0.664334,
     "end_time": "2023-06-19T15:31:40.707883",
     "exception": false,
     "start_time": "2023-06-19T15:31:40.043549",
     "status": "completed"
    },
    "tags": []
   },
   "outputs": [],
   "source": [
    "feature_names = ['Product ID','Type',\n",
    "                 'Air temperature [K]','Process temperature [K]',\n",
    "                 'Rotational speed [rpm]','Torque [Nm]',\n",
    "                 'Tool wear [min]','TWF','HDF',\n",
    "                 'PWF','OSF','RNF']\n",
    "\n",
    "train_pool = Pool(X.to_numpy(), y.to_numpy(), \n",
    "                  feature_names=feature_names, \n",
    "                  cat_features=['Product ID', 'Type'])"
   ]
  },
  {
   "cell_type": "markdown",
   "id": "2ea73bc8",
   "metadata": {
    "papermill": {
     "duration": 0.012642,
     "end_time": "2023-06-19T15:31:40.733902",
     "exception": false,
     "start_time": "2023-06-19T15:31:40.721260",
     "status": "completed"
    },
    "tags": []
   },
   "source": [
    "#### NOTE: the below params were obtained from another notebook (linked in reference). However, not specifying the params performed better."
   ]
  },
  {
   "cell_type": "code",
   "execution_count": 15,
   "id": "9d1bc56e",
   "metadata": {
    "execution": {
     "iopub.execute_input": "2023-06-19T15:31:40.761483Z",
     "iopub.status.busy": "2023-06-19T15:31:40.760718Z",
     "iopub.status.idle": "2023-06-19T15:31:40.765248Z",
     "shell.execute_reply": "2023-06-19T15:31:40.764511Z"
    },
    "papermill": {
     "duration": 0.020412,
     "end_time": "2023-06-19T15:31:40.767189",
     "exception": false,
     "start_time": "2023-06-19T15:31:40.746777",
     "status": "completed"
    },
    "tags": []
   },
   "outputs": [],
   "source": [
    "# params ={'loss_function': 'Logloss',\n",
    "#          'eval_metric': 'AUC',\n",
    "#          'random_seed': 19970507,\n",
    "#          'learning_rate': 0.027, \n",
    "#           'iterations': 927, \n",
    "#           'depth': 5, \n",
    "#           'subsample': 0.705}\n",
    "\n",
    "# model = CatBoostClassifier(**params)"
   ]
  },
  {
   "cell_type": "markdown",
   "id": "769c9392",
   "metadata": {
    "papermill": {
     "duration": 0.012457,
     "end_time": "2023-06-19T15:31:40.792596",
     "exception": false,
     "start_time": "2023-06-19T15:31:40.780139",
     "status": "completed"
    },
    "tags": []
   },
   "source": [
    "## Model using default hyperparameters"
   ]
  },
  {
   "cell_type": "code",
   "execution_count": 16,
   "id": "53ffe305",
   "metadata": {
    "execution": {
     "iopub.execute_input": "2023-06-19T15:31:40.820031Z",
     "iopub.status.busy": "2023-06-19T15:31:40.819455Z",
     "iopub.status.idle": "2023-06-19T15:31:40.826215Z",
     "shell.execute_reply": "2023-06-19T15:31:40.825111Z"
    },
    "papermill": {
     "duration": 0.023055,
     "end_time": "2023-06-19T15:31:40.828511",
     "exception": false,
     "start_time": "2023-06-19T15:31:40.805456",
     "status": "completed"
    },
    "tags": []
   },
   "outputs": [],
   "source": [
    "model = CatBoostClassifier() "
   ]
  },
  {
   "cell_type": "code",
   "execution_count": 17,
   "id": "0d81a6e7",
   "metadata": {
    "execution": {
     "iopub.execute_input": "2023-06-19T15:31:40.857234Z",
     "iopub.status.busy": "2023-06-19T15:31:40.856085Z",
     "iopub.status.idle": "2023-06-19T15:33:18.057872Z",
     "shell.execute_reply": "2023-06-19T15:33:18.056768Z"
    },
    "papermill": {
     "duration": 97.218692,
     "end_time": "2023-06-19T15:33:18.060125",
     "exception": false,
     "start_time": "2023-06-19T15:31:40.841433",
     "status": "completed"
    },
    "tags": []
   },
   "outputs": [
    {
     "data": {
      "application/vnd.jupyter.widget-view+json": {
       "model_id": "7c817068aa964810a2f73bbe61cdd076",
       "version_major": 2,
       "version_minor": 0
      },
      "text/plain": [
       "MetricVisualizer(layout=Layout(align_self='stretch', height='500px'))"
      ]
     },
     "metadata": {},
     "output_type": "display_data"
    },
    {
     "data": {
      "text/plain": [
       "<catboost.core.CatBoostClassifier at 0x7f1944da7ca0>"
      ]
     },
     "execution_count": 17,
     "metadata": {},
     "output_type": "execute_result"
    }
   ],
   "source": [
    "model.fit(train_pool, eval_set=train_pool, verbose=False, plot=True)"
   ]
  },
  {
   "cell_type": "markdown",
   "id": "44e44b9b",
   "metadata": {
    "papermill": {
     "duration": 0.013153,
     "end_time": "2023-06-19T15:33:18.086642",
     "exception": false,
     "start_time": "2023-06-19T15:33:18.073489",
     "status": "completed"
    },
    "tags": []
   },
   "source": [
    "## Train AUC score"
   ]
  },
  {
   "cell_type": "code",
   "execution_count": 18,
   "id": "e3a2face",
   "metadata": {
    "execution": {
     "iopub.execute_input": "2023-06-19T15:33:18.115252Z",
     "iopub.status.busy": "2023-06-19T15:33:18.114885Z",
     "iopub.status.idle": "2023-06-19T15:33:18.752150Z",
     "shell.execute_reply": "2023-06-19T15:33:18.750774Z"
    },
    "papermill": {
     "duration": 0.653909,
     "end_time": "2023-06-19T15:33:18.754335",
     "exception": false,
     "start_time": "2023-06-19T15:33:18.100426",
     "status": "completed"
    },
    "tags": []
   },
   "outputs": [
    {
     "name": "stdout",
     "output_type": "stream",
     "text": [
      "Train Score: 0.9161043054090814\n"
     ]
    }
   ],
   "source": [
    "train_auc = AUC(train[\"Machine failure\"], model.predict(train.drop(columns=[\"Machine failure\"])))\n",
    "print(f\"Train Score: {train_auc}\")"
   ]
  },
  {
   "cell_type": "markdown",
   "id": "524fab02",
   "metadata": {
    "papermill": {
     "duration": 0.013245,
     "end_time": "2023-06-19T15:33:18.781334",
     "exception": false,
     "start_time": "2023-06-19T15:33:18.768089",
     "status": "completed"
    },
    "tags": []
   },
   "source": [
    "# 4. Submission"
   ]
  },
  {
   "cell_type": "code",
   "execution_count": 19,
   "id": "fbeafac5",
   "metadata": {
    "execution": {
     "iopub.execute_input": "2023-06-19T15:33:18.810461Z",
     "iopub.status.busy": "2023-06-19T15:33:18.809948Z",
     "iopub.status.idle": "2023-06-19T15:33:19.527814Z",
     "shell.execute_reply": "2023-06-19T15:33:19.526679Z"
    },
    "papermill": {
     "duration": 0.735134,
     "end_time": "2023-06-19T15:33:19.530152",
     "exception": false,
     "start_time": "2023-06-19T15:33:18.795018",
     "status": "completed"
    },
    "tags": []
   },
   "outputs": [
    {
     "data": {
      "text/plain": [
       "array([0.00106075, 0.00208216, 0.00034873, ..., 0.00051742, 0.00164063,\n",
       "       0.00080096])"
      ]
     },
     "execution_count": 19,
     "metadata": {},
     "output_type": "execute_result"
    }
   ],
   "source": [
    "test_pool = Pool(test.to_numpy(), \n",
    "                 feature_names=feature_names, \n",
    "                 cat_features=['Product ID', 'Type'])\n",
    "pred = model.predict_proba(test_pool)[:, 1]\n",
    "pred"
   ]
  },
  {
   "cell_type": "code",
   "execution_count": 20,
   "id": "9c1f3cc3",
   "metadata": {
    "execution": {
     "iopub.execute_input": "2023-06-19T15:33:19.559760Z",
     "iopub.status.busy": "2023-06-19T15:33:19.559384Z",
     "iopub.status.idle": "2023-06-19T15:33:19.835439Z",
     "shell.execute_reply": "2023-06-19T15:33:19.834582Z"
    },
    "papermill": {
     "duration": 0.293622,
     "end_time": "2023-06-19T15:33:19.838018",
     "exception": false,
     "start_time": "2023-06-19T15:33:19.544396",
     "status": "completed"
    },
    "tags": []
   },
   "outputs": [],
   "source": [
    "sub = pd.read_csv('/kaggle/input/playground-series-s3e17/sample_submission.csv')\n",
    "sub['Machine failure'] = pred\n",
    "sub.to_csv('submission.csv', index=False)"
   ]
  },
  {
   "cell_type": "markdown",
   "id": "9715a5ec",
   "metadata": {
    "papermill": {
     "duration": 0.013321,
     "end_time": "2023-06-19T15:33:19.864972",
     "exception": false,
     "start_time": "2023-06-19T15:33:19.851651",
     "status": "completed"
    },
    "tags": []
   },
   "source": [
    "# 5. References\n",
    "- https://www.kaggle.com/code/utisop/0-97718-catboost-machine-failure-prediction\n",
    "- https://www.kaggle.com/code/collinsakal/machine-failure-baseline-submission-notebook"
   ]
  }
 ],
 "metadata": {
  "kernelspec": {
   "display_name": "Python 3",
   "language": "python",
   "name": "python3"
  },
  "language_info": {
   "codemirror_mode": {
    "name": "ipython",
    "version": 3
   },
   "file_extension": ".py",
   "mimetype": "text/x-python",
   "name": "python",
   "nbconvert_exporter": "python",
   "pygments_lexer": "ipython3",
   "version": "3.10.10"
  },
  "papermill": {
   "default_parameters": {},
   "duration": 118.870052,
   "end_time": "2023-06-19T15:33:20.906662",
   "environment_variables": {},
   "exception": null,
   "input_path": "__notebook__.ipynb",
   "output_path": "__notebook__.ipynb",
   "parameters": {},
   "start_time": "2023-06-19T15:31:22.036610",
   "version": "2.4.0"
  },
  "widgets": {
   "application/vnd.jupyter.widget-state+json": {
    "state": {
     "1aed7fa57081414f9e371e5beec02f94": {
      "model_module": "@jupyter-widgets/base",
      "model_module_version": "1.2.0",
      "model_name": "LayoutModel",
      "state": {
       "_model_module": "@jupyter-widgets/base",
       "_model_module_version": "1.2.0",
       "_model_name": "LayoutModel",
       "_view_count": null,
       "_view_module": "@jupyter-widgets/base",
       "_view_module_version": "1.2.0",
       "_view_name": "LayoutView",
       "align_content": null,
       "align_items": null,
       "align_self": "stretch",
       "border": null,
       "bottom": null,
       "display": null,
       "flex": null,
       "flex_flow": null,
       "grid_area": null,
       "grid_auto_columns": null,
       "grid_auto_flow": null,
       "grid_auto_rows": null,
       "grid_column": null,
       "grid_gap": null,
       "grid_row": null,
       "grid_template_areas": null,
       "grid_template_columns": null,
       "grid_template_rows": null,
       "height": "500px",
       "justify_content": null,
       "justify_items": null,
       "left": null,
       "margin": null,
       "max_height": null,
       "max_width": null,
       "min_height": null,
       "min_width": null,
       "object_fit": null,
       "object_position": null,
       "order": null,
       "overflow": null,
       "overflow_x": null,
       "overflow_y": null,
       "padding": null,
       "right": null,
       "top": null,
       "visibility": null,
       "width": null
      }
     },
     "7c817068aa964810a2f73bbe61cdd076": {
      "model_module": "catboost-widget",
      "model_module_version": "^1.0.0",
      "model_name": "CatboostWidgetModel",
      "state": {
       "_dom_classes": [],
       "_model_module": "catboost-widget",
       "_model_module_version": "^1.0.0",
       "_model_name": "CatboostWidgetModel",
       "_view_count": null,
       "_view_module": "catboost-widget",
       "_view_module_version": "^1.0.0",
       "_view_name": "CatboostWidgetView",
       "data": {
        "catboost_info": {
         "content": {
          "data": {
           "iterations": [
            {
             "iteration": 0,
             "learn": [
              0.4508779499
             ],
             "passed_time": 0.2038849692,
             "remaining_time": 203.6810842,
             "test": [
              0.4508619005
             ]
            },
            {
             "iteration": 1,
             "learn": [
              0.2872541622
             ],
             "passed_time": 0.3211477834,
             "remaining_time": 160.2527439,
             "test": [
              0.2872395523
             ]
            },
            {
             "iteration": 2,
             "learn": [
              0.2031377226
             ],
             "passed_time": 0.3749464822,
             "remaining_time": 124.6072143,
             "test": [
              0.2031261016
             ]
            },
            {
             "iteration": 3,
             "learn": [
              0.1380745444
             ],
             "passed_time": 0.4813121191,
             "remaining_time": 119.8467176,
             "test": [
              0.1380658153
             ]
            },
            {
             "iteration": 4,
             "learn": [
              0.09844816201
             ],
             "passed_time": 0.5840550643,
             "remaining_time": 116.2269578,
             "test": [
              0.09844037555
             ]
            },
            {
             "iteration": 5,
             "learn": [
              0.07262581705
             ],
             "passed_time": 0.6762095268,
             "remaining_time": 112.0253783,
             "test": [
              0.07261975926
             ]
            },
            {
             "iteration": 6,
             "learn": [
              0.05709502715
             ],
             "passed_time": 0.7893620086,
             "remaining_time": 111.9766392,
             "test": [
              0.05709020317
             ]
            },
            {
             "iteration": 7,
             "learn": [
              0.04596527593
             ],
             "passed_time": 0.8930454251,
             "remaining_time": 110.7376327,
             "test": [
              0.04596122486
             ]
            },
            {
             "iteration": 8,
             "learn": [
              0.03964025438
             ],
             "passed_time": 1.011867428,
             "remaining_time": 111.4178468,
             "test": [
              0.03963524822
             ]
            },
            {
             "iteration": 9,
             "learn": [
              0.03502196064
             ],
             "passed_time": 1.120193461,
             "remaining_time": 110.8991526,
             "test": [
              0.03501720247
             ]
            },
            {
             "iteration": 10,
             "learn": [
              0.03124591724
             ],
             "passed_time": 1.22811856,
             "remaining_time": 110.4190233,
             "test": [
              0.0312418258
             ]
            },
            {
             "iteration": 11,
             "learn": [
              0.02869279883
             ],
             "passed_time": 1.330502036,
             "remaining_time": 109.5446676,
             "test": [
              0.0286890696
             ]
            },
            {
             "iteration": 12,
             "learn": [
              0.02678142997
             ],
             "passed_time": 1.427439463,
             "remaining_time": 108.3755961,
             "test": [
              0.02677810702
             ]
            },
            {
             "iteration": 13,
             "learn": [
              0.02521179246
             ],
             "passed_time": 1.528871749,
             "remaining_time": 107.6762532,
             "test": [
              0.02506592853
             ]
            },
            {
             "iteration": 14,
             "learn": [
              0.02384105621
             ],
             "passed_time": 1.619300096,
             "remaining_time": 106.3340396,
             "test": [
              0.02339901714
             ]
            },
            {
             "iteration": 15,
             "learn": [
              0.02281310407
             ],
             "passed_time": 1.695549997,
             "remaining_time": 104.2763248,
             "test": [
              0.02208124675
             ]
            },
            {
             "iteration": 16,
             "learn": [
              0.02214111731
             ],
             "passed_time": 1.787238638,
             "remaining_time": 103.344446,
             "test": [
              0.02126406366
             ]
            },
            {
             "iteration": 17,
             "learn": [
              0.02154379157
             ],
             "passed_time": 1.871941698,
             "remaining_time": 102.1248193,
             "test": [
              0.02055041977
             ]
            },
            {
             "iteration": 18,
             "learn": [
              0.0209514965
             ],
             "passed_time": 1.946030756,
             "remaining_time": 100.4766406,
             "test": [
              0.01974579129
             ]
            },
            {
             "iteration": 19,
             "learn": [
              0.02043879772
             ],
             "passed_time": 2.045382969,
             "remaining_time": 100.2237655,
             "test": [
              0.01909544224
             ]
            },
            {
             "iteration": 20,
             "learn": [
              0.02002429075
             ],
             "passed_time": 2.132396559,
             "remaining_time": 99.41029672,
             "test": [
              0.01851031589
             ]
            },
            {
             "iteration": 21,
             "learn": [
              0.01977331063
             ],
             "passed_time": 2.221824589,
             "remaining_time": 98.77020217,
             "test": [
              0.01818291026
             ]
            },
            {
             "iteration": 22,
             "learn": [
              0.01965435006
             ],
             "passed_time": 2.312382887,
             "remaining_time": 98.2260035,
             "test": [
              0.01801868613
             ]
            },
            {
             "iteration": 23,
             "learn": [
              0.01942257085
             ],
             "passed_time": 2.394028423,
             "remaining_time": 97.35715586,
             "test": [
              0.01763870289
             ]
            },
            {
             "iteration": 24,
             "learn": [
              0.01930447092
             ],
             "passed_time": 2.499139943,
             "remaining_time": 97.46645778,
             "test": [
              0.01750504609
             ]
            },
            {
             "iteration": 25,
             "learn": [
              0.01918621633
             ],
             "passed_time": 2.580831911,
             "remaining_time": 96.6819339,
             "test": [
              0.0173431114
             ]
            },
            {
             "iteration": 26,
             "learn": [
              0.01908430349
             ],
             "passed_time": 2.666365527,
             "remaining_time": 96.08791323,
             "test": [
              0.01719359366
             ]
            },
            {
             "iteration": 27,
             "learn": [
              0.0188737672
             ],
             "passed_time": 2.752351613,
             "remaining_time": 95.54592026,
             "test": [
              0.01691344948
             ]
            },
            {
             "iteration": 28,
             "learn": [
              0.0187533574
             ],
             "passed_time": 2.854503553,
             "remaining_time": 95.57665344,
             "test": [
              0.01676308683
             ]
            },
            {
             "iteration": 29,
             "learn": [
              0.01864297281
             ],
             "passed_time": 2.934988578,
             "remaining_time": 94.89796402,
             "test": [
              0.01654837899
             ]
            },
            {
             "iteration": 30,
             "learn": [
              0.01855713463
             ],
             "passed_time": 3.031792034,
             "remaining_time": 94.76795098,
             "test": [
              0.01637181407
             ]
            },
            {
             "iteration": 31,
             "learn": [
              0.01843371614
             ],
             "passed_time": 3.111144631,
             "remaining_time": 94.1121251,
             "test": [
              0.01615276538
             ]
            },
            {
             "iteration": 32,
             "learn": [
              0.01839853324
             ],
             "passed_time": 3.205376559,
             "remaining_time": 93.92724646,
             "test": [
              0.01611268846
             ]
            },
            {
             "iteration": 33,
             "learn": [
              0.0183181249
             ],
             "passed_time": 3.299547965,
             "remaining_time": 93.74598041,
             "test": [
              0.01596223697
             ]
            },
            {
             "iteration": 34,
             "learn": [
              0.01823000319
             ],
             "passed_time": 3.40298791,
             "remaining_time": 93.82523808,
             "test": [
              0.01585122555
             ]
            },
            {
             "iteration": 35,
             "learn": [
              0.01817547299
             ],
             "passed_time": 3.487045704,
             "remaining_time": 93.37533496,
             "test": [
              0.01574229432
             ]
            },
            {
             "iteration": 36,
             "learn": [
              0.01811130841
             ],
             "passed_time": 3.563419902,
             "remaining_time": 92.74522611,
             "test": [
              0.0156343097
             ]
            },
            {
             "iteration": 37,
             "learn": [
              0.01805600205
             ],
             "passed_time": 3.65450154,
             "remaining_time": 92.51659161,
             "test": [
              0.0155534641
             ]
            },
            {
             "iteration": 38,
             "learn": [
              0.01800957587
             ],
             "passed_time": 3.721282421,
             "remaining_time": 91.69621555,
             "test": [
              0.01546137471
             ]
            },
            {
             "iteration": 39,
             "learn": [
              0.01798428167
             ],
             "passed_time": 3.806776298,
             "remaining_time": 91.36263116,
             "test": [
              0.0154438147
             ]
            },
            {
             "iteration": 40,
             "learn": [
              0.01792610361
             ],
             "passed_time": 3.899119199,
             "remaining_time": 91.20134906,
             "test": [
              0.01536265917
             ]
            },
            {
             "iteration": 41,
             "learn": [
              0.01786457199
             ],
             "passed_time": 3.97932937,
             "remaining_time": 90.76660802,
             "test": [
              0.01527644001
             ]
            },
            {
             "iteration": 42,
             "learn": [
              0.01785038927
             ],
             "passed_time": 4.061963244,
             "remaining_time": 90.40229825,
             "test": [
              0.01525971821
             ]
            },
            {
             "iteration": 43,
             "learn": [
              0.01780252647
             ],
             "passed_time": 4.140572862,
             "remaining_time": 89.96335582,
             "test": [
              0.01520183816
             ]
            },
            {
             "iteration": 44,
             "learn": [
              0.01776505364
             ],
             "passed_time": 4.237498589,
             "remaining_time": 89.92913673,
             "test": [
              0.01517345236
             ]
            },
            {
             "iteration": 45,
             "learn": [
              0.01774978599
             ],
             "passed_time": 4.341944552,
             "remaining_time": 90.0481544,
             "test": [
              0.01515661494
             ]
            },
            {
             "iteration": 46,
             "learn": [
              0.01773701696
             ],
             "passed_time": 4.454083513,
             "remaining_time": 90.31365081,
             "test": [
              0.01515307683
             ]
            },
            {
             "iteration": 47,
             "learn": [
              0.01769576131
             ],
             "passed_time": 4.522687411,
             "remaining_time": 89.69996699,
             "test": [
              0.01512326805
             ]
            },
            {
             "iteration": 48,
             "learn": [
              0.0176671555
             ],
             "passed_time": 4.630372581,
             "remaining_time": 89.86702703,
             "test": [
              0.01507439931
             ]
            },
            {
             "iteration": 49,
             "learn": [
              0.01765240945
             ],
             "passed_time": 4.719933573,
             "remaining_time": 89.67873788,
             "test": [
              0.01506255983
             ]
            },
            {
             "iteration": 50,
             "learn": [
              0.0176147829
             ],
             "passed_time": 4.839907192,
             "remaining_time": 90.06023384,
             "test": [
              0.01503134843
             ]
            },
            {
             "iteration": 51,
             "learn": [
              0.01759809342
             ],
             "passed_time": 4.920699811,
             "remaining_time": 89.7081427,
             "test": [
              0.01502164852
             ]
            },
            {
             "iteration": 52,
             "learn": [
              0.01758211656
             ],
             "passed_time": 5.035625606,
             "remaining_time": 89.97617827,
             "test": [
              0.01500844248
             ]
            },
            {
             "iteration": 53,
             "learn": [
              0.0175514135
             ],
             "passed_time": 5.133500159,
             "remaining_time": 89.93131761,
             "test": [
              0.01498573945
             ]
            },
            {
             "iteration": 54,
             "learn": [
              0.01753131248
             ],
             "passed_time": 5.218135487,
             "remaining_time": 89.65705518,
             "test": [
              0.01496252306
             ]
            },
            {
             "iteration": 55,
             "learn": [
              0.01749934364
             ],
             "passed_time": 5.295286755,
             "remaining_time": 89.26340529,
             "test": [
              0.01494164468
             ]
            },
            {
             "iteration": 56,
             "learn": [
              0.01746594108
             ],
             "passed_time": 5.388283231,
             "remaining_time": 89.14300153,
             "test": [
              0.01490075507
             ]
            },
            {
             "iteration": 57,
             "learn": [
              0.0174422932
             ],
             "passed_time": 5.47907228,
             "remaining_time": 88.98769116,
             "test": [
              0.01488663612
             ]
            },
            {
             "iteration": 58,
             "learn": [
              0.0174240491
             ],
             "passed_time": 5.581594084,
             "remaining_time": 89.02169547,
             "test": [
              0.01487179778
             ]
            },
            {
             "iteration": 59,
             "learn": [
              0.01740630331
             ],
             "passed_time": 5.657268428,
             "remaining_time": 88.6305387,
             "test": [
              0.01485904114
             ]
            },
            {
             "iteration": 60,
             "learn": [
              0.01739200487
             ],
             "passed_time": 5.761092064,
             "remaining_time": 88.68304013,
             "test": [
              0.0148486665
             ]
            },
            {
             "iteration": 61,
             "learn": [
              0.01738533227
             ],
             "passed_time": 5.856050408,
             "remaining_time": 88.59637553,
             "test": [
              0.01484316451
             ]
            },
            {
             "iteration": 62,
             "learn": [
              0.01734994529
             ],
             "passed_time": 5.955144543,
             "remaining_time": 88.57095931,
             "test": [
              0.01479560924
             ]
            },
            {
             "iteration": 63,
             "learn": [
              0.01733651229
             ],
             "passed_time": 6.050476131,
             "remaining_time": 88.48821342,
             "test": [
              0.01478466654
             ]
            },
            {
             "iteration": 64,
             "learn": [
              0.01731806554
             ],
             "passed_time": 6.137124912,
             "remaining_time": 88.28018143,
             "test": [
              0.0147734981
             ]
            },
            {
             "iteration": 65,
             "learn": [
              0.01729548383
             ],
             "passed_time": 6.23077311,
             "remaining_time": 88.17488008,
             "test": [
              0.014763137
             ]
            },
            {
             "iteration": 66,
             "learn": [
              0.01725949124
             ],
             "passed_time": 6.311071746,
             "remaining_time": 87.88402893,
             "test": [
              0.01473645101
             ]
            },
            {
             "iteration": 67,
             "learn": [
              0.0172312248
             ],
             "passed_time": 6.402632337,
             "remaining_time": 87.75372556,
             "test": [
              0.01466863032
             ]
            },
            {
             "iteration": 68,
             "learn": [
              0.01720195518
             ],
             "passed_time": 6.485037694,
             "remaining_time": 87.50101584,
             "test": [
              0.01465030463
             ]
            },
            {
             "iteration": 69,
             "learn": [
              0.01718080946
             ],
             "passed_time": 6.564915763,
             "remaining_time": 87.21959514,
             "test": [
              0.0145922568
             ]
            },
            {
             "iteration": 70,
             "learn": [
              0.01715172577
             ],
             "passed_time": 6.661093081,
             "remaining_time": 87.15711933,
             "test": [
              0.01457072809
             ]
            },
            {
             "iteration": 71,
             "learn": [
              0.01714711183
             ],
             "passed_time": 6.765435567,
             "remaining_time": 87.19894731,
             "test": [
              0.01456693298
             ]
            },
            {
             "iteration": 72,
             "learn": [
              0.01712870075
             ],
             "passed_time": 6.839842847,
             "remaining_time": 86.85663451,
             "test": [
              0.01455271898
             ]
            },
            {
             "iteration": 73,
             "learn": [
              0.01709882711
             ],
             "passed_time": 6.938728632,
             "remaining_time": 86.8278745,
             "test": [
              0.01452535929
             ]
            },
            {
             "iteration": 74,
             "learn": [
              0.01708398235
             ],
             "passed_time": 7.014540004,
             "remaining_time": 86.51266005,
             "test": [
              0.0145099346
             ]
            },
            {
             "iteration": 75,
             "learn": [
              0.0170736295
             ],
             "passed_time": 7.126920009,
             "remaining_time": 86.64834326,
             "test": [
              0.01450318546
             ]
            },
            {
             "iteration": 76,
             "learn": [
              0.01706008232
             ],
             "passed_time": 7.198702608,
             "remaining_time": 86.29094165,
             "test": [
              0.01450103398
             ]
            },
            {
             "iteration": 77,
             "learn": [
              0.0170466642
             ],
             "passed_time": 7.301736907,
             "remaining_time": 86.31027472,
             "test": [
              0.01449388563
             ]
            },
            {
             "iteration": 78,
             "learn": [
              0.01701251406
             ],
             "passed_time": 7.393046978,
             "remaining_time": 86.18982616,
             "test": [
              0.0144665937
             ]
            },
            {
             "iteration": 79,
             "learn": [
              0.01699644724
             ],
             "passed_time": 7.49657358,
             "remaining_time": 86.21059617,
             "test": [
              0.01445404915
             ]
            },
            {
             "iteration": 80,
             "learn": [
              0.0169776196
             ],
             "passed_time": 7.579586905,
             "remaining_time": 85.99556007,
             "test": [
              0.01443196752
             ]
            },
            {
             "iteration": 81,
             "learn": [
              0.01695458005
             ],
             "passed_time": 7.677380081,
             "remaining_time": 85.94920628,
             "test": [
              0.01441131067
             ]
            },
            {
             "iteration": 82,
             "learn": [
              0.01695354117
             ],
             "passed_time": 7.753902022,
             "remaining_time": 85.66660426,
             "test": [
              0.0144104907
             ]
            },
            {
             "iteration": 83,
             "learn": [
              0.01694770496
             ],
             "passed_time": 7.819301078,
             "remaining_time": 85.26761652,
             "test": [
              0.01440846959
             ]
            },
            {
             "iteration": 84,
             "learn": [
              0.01694365342
             ],
             "passed_time": 7.870096504,
             "remaining_time": 84.71927413,
             "test": [
              0.01440544964
             ]
            },
            {
             "iteration": 85,
             "learn": [
              0.01693902543
             ],
             "passed_time": 7.914149566,
             "remaining_time": 84.11084539,
             "test": [
              0.0144041778
             ]
            },
            {
             "iteration": 86,
             "learn": [
              0.01693379243
             ],
             "passed_time": 7.998253886,
             "remaining_time": 83.93569882,
             "test": [
              0.01440421456
             ]
            },
            {
             "iteration": 87,
             "learn": [
              0.01691709636
             ],
             "passed_time": 8.119392589,
             "remaining_time": 84.14643229,
             "test": [
              0.0143890224
             ]
            },
            {
             "iteration": 88,
             "learn": [
              0.01690244009
             ],
             "passed_time": 8.204048078,
             "remaining_time": 83.97626741,
             "test": [
              0.0143819241
             ]
            },
            {
             "iteration": 89,
             "learn": [
              0.01688383397
             ],
             "passed_time": 8.283406593,
             "remaining_time": 83.75444444,
             "test": [
              0.01436996259
             ]
            },
            {
             "iteration": 90,
             "learn": [
              0.01686980094
             ],
             "passed_time": 8.385501175,
             "remaining_time": 83.76286338,
             "test": [
              0.01436659082
             ]
            },
            {
             "iteration": 91,
             "learn": [
              0.01684453073
             ],
             "passed_time": 8.480238468,
             "remaining_time": 83.69626662,
             "test": [
              0.01433348847
             ]
            },
            {
             "iteration": 92,
             "learn": [
              0.01683295907
             ],
             "passed_time": 8.585598287,
             "remaining_time": 83.73266286,
             "test": [
              0.01432678729
             ]
            },
            {
             "iteration": 93,
             "learn": [
              0.01682370478
             ],
             "passed_time": 8.67784747,
             "remaining_time": 83.6396788,
             "test": [
              0.01431827933
             ]
            },
            {
             "iteration": 94,
             "learn": [
              0.01681178468
             ],
             "passed_time": 8.781684192,
             "remaining_time": 83.65709678,
             "test": [
              0.01431182944
             ]
            },
            {
             "iteration": 95,
             "learn": [
              0.01680686577
             ],
             "passed_time": 8.882727191,
             "remaining_time": 83.64568105,
             "test": [
              0.01430842409
             ]
            },
            {
             "iteration": 96,
             "learn": [
              0.01678619467
             ],
             "passed_time": 8.998308782,
             "remaining_time": 83.76776114,
             "test": [
              0.01429326819
             ]
            },
            {
             "iteration": 97,
             "learn": [
              0.01677056909
             ],
             "passed_time": 9.082543338,
             "remaining_time": 83.59647032,
             "test": [
              0.01428763475
             ]
            },
            {
             "iteration": 98,
             "learn": [
              0.01675464481
             ],
             "passed_time": 9.162921304,
             "remaining_time": 83.39183934,
             "test": [
              0.01425861735
             ]
            },
            {
             "iteration": 99,
             "learn": [
              0.01674237606
             ],
             "passed_time": 9.270746399,
             "remaining_time": 83.43671759,
             "test": [
              0.01425198546
             ]
            },
            {
             "iteration": 100,
             "learn": [
              0.01673189822
             ],
             "passed_time": 9.368683591,
             "remaining_time": 83.39055988,
             "test": [
              0.01424195929
             ]
            },
            {
             "iteration": 101,
             "learn": [
              0.01671765503
             ],
             "passed_time": 9.4585102,
             "remaining_time": 83.27198196,
             "test": [
              0.01420609906
             ]
            },
            {
             "iteration": 102,
             "learn": [
              0.01669788786
             ],
             "passed_time": 9.54779651,
             "remaining_time": 83.14925698,
             "test": [
              0.01418151205
             ]
            },
            {
             "iteration": 103,
             "learn": [
              0.01668465037
             ],
             "passed_time": 9.639790346,
             "remaining_time": 83.05050144,
             "test": [
              0.01417828533
             ]
            },
            {
             "iteration": 104,
             "learn": [
              0.01667149252
             ],
             "passed_time": 9.753922221,
             "remaining_time": 83.14057512,
             "test": [
              0.01416764655
             ]
            },
            {
             "iteration": 105,
             "learn": [
              0.01666196444
             ],
             "passed_time": 9.873579117,
             "remaining_time": 83.27339369,
             "test": [
              0.01416333095
             ]
            },
            {
             "iteration": 106,
             "learn": [
              0.01664849753
             ],
             "passed_time": 9.978735289,
             "remaining_time": 83.28047302,
             "test": [
              0.01415146286
             ]
            },
            {
             "iteration": 107,
             "learn": [
              0.01662088279
             ],
             "passed_time": 10.12334343,
             "remaining_time": 83.61131792,
             "test": [
              0.01414225808
             ]
            },
            {
             "iteration": 108,
             "learn": [
              0.01659627103
             ],
             "passed_time": 10.22378999,
             "remaining_time": 83.57244843,
             "test": [
              0.01412177767
             ]
            },
            {
             "iteration": 109,
             "learn": [
              0.01657728972
             ],
             "passed_time": 10.31486948,
             "remaining_time": 83.45667123,
             "test": [
              0.01411545384
             ]
            },
            {
             "iteration": 110,
             "learn": [
              0.01655277774
             ],
             "passed_time": 10.41056251,
             "remaining_time": 83.3782889,
             "test": [
              0.01410184271
             ]
            },
            {
             "iteration": 111,
             "learn": [
              0.01653102092
             ],
             "passed_time": 10.50393723,
             "remaining_time": 83.28121662,
             "test": [
              0.01408461877
             ]
            },
            {
             "iteration": 112,
             "learn": [
              0.01653061777
             ],
             "passed_time": 10.56718088,
             "remaining_time": 82.9476942,
             "test": [
              0.01408470108
             ]
            },
            {
             "iteration": 113,
             "learn": [
              0.01650238669
             ],
             "passed_time": 10.66757733,
             "remaining_time": 82.90766238,
             "test": [
              0.01406903284
             ]
            },
            {
             "iteration": 114,
             "learn": [
              0.01648422782
             ],
             "passed_time": 10.74605323,
             "remaining_time": 82.69788789,
             "test": [
              0.0140638949
             ]
            },
            {
             "iteration": 115,
             "learn": [
              0.01646326081
             ],
             "passed_time": 10.8363178,
             "remaining_time": 82.58021494,
             "test": [
              0.01404822625
             ]
            },
            {
             "iteration": 116,
             "learn": [
              0.01643491845
             ],
             "passed_time": 10.91981734,
             "remaining_time": 82.41195483,
             "test": [
              0.01403514414
             ]
            },
            {
             "iteration": 117,
             "learn": [
              0.01641436389
             ],
             "passed_time": 11.03464243,
             "remaining_time": 82.47927647,
             "test": [
              0.01402391019
             ]
            },
            {
             "iteration": 118,
             "learn": [
              0.01638879738
             ],
             "passed_time": 11.11010962,
             "remaining_time": 82.25215608,
             "test": [
              0.01401594841
             ]
            },
            {
             "iteration": 119,
             "learn": [
              0.01637735796
             ],
             "passed_time": 11.22461226,
             "remaining_time": 82.31382326,
             "test": [
              0.01400662583
             ]
            },
            {
             "iteration": 120,
             "learn": [
              0.01636718588
             ],
             "passed_time": 11.30995903,
             "remaining_time": 82.16077674,
             "test": [
              0.01400223539
             ]
            },
            {
             "iteration": 121,
             "learn": [
              0.01634196009
             ],
             "passed_time": 11.37313836,
             "remaining_time": 81.84930719,
             "test": [
              0.01398880058
             ]
            },
            {
             "iteration": 122,
             "learn": [
              0.01631313349
             ],
             "passed_time": 11.47648932,
             "remaining_time": 81.82830187,
             "test": [
              0.01396301175
             ]
            },
            {
             "iteration": 123,
             "learn": [
              0.01628692429
             ],
             "passed_time": 11.57294717,
             "remaining_time": 81.75727196,
             "test": [
              0.01394071411
             ]
            },
            {
             "iteration": 124,
             "learn": [
              0.01628247114
             ],
             "passed_time": 11.66672737,
             "remaining_time": 81.6670916,
             "test": [
              0.01394120806
             ]
            },
            {
             "iteration": 125,
             "learn": [
              0.01627044487
             ],
             "passed_time": 11.7611483,
             "remaining_time": 81.58129854,
             "test": [
              0.01392570907
             ]
            },
            {
             "iteration": 126,
             "learn": [
              0.01626514421
             ],
             "passed_time": 11.84959827,
             "remaining_time": 81.45432508,
             "test": [
              0.01391410145
             ]
            },
            {
             "iteration": 127,
             "learn": [
              0.01624973308
             ],
             "passed_time": 11.96267902,
             "remaining_time": 81.49575083,
             "test": [
              0.01390511508
             ]
            },
            {
             "iteration": 128,
             "learn": [
              0.01623569233
             ],
             "passed_time": 12.06883789,
             "remaining_time": 81.48804501,
             "test": [
              0.01389286114
             ]
            },
            {
             "iteration": 129,
             "learn": [
              0.01621608312
             ],
             "passed_time": 12.16199866,
             "remaining_time": 81.39183722,
             "test": [
              0.01388058495
             ]
            },
            {
             "iteration": 130,
             "learn": [
              0.01620596443
             ],
             "passed_time": 12.23227063,
             "remaining_time": 81.14384108,
             "test": [
              0.01386588698
             ]
            },
            {
             "iteration": 131,
             "learn": [
              0.01620130587
             ],
             "passed_time": 12.34625201,
             "remaining_time": 81.18596019,
             "test": [
              0.01386271304
             ]
            },
            {
             "iteration": 132,
             "learn": [
              0.01618118098
             ],
             "passed_time": 12.43843269,
             "remaining_time": 81.08361761,
             "test": [
              0.0138500619
             ]
            },
            {
             "iteration": 133,
             "learn": [
              0.01616783738
             ],
             "passed_time": 12.52475391,
             "remaining_time": 80.94355887,
             "test": [
              0.01383963657
             ]
            },
            {
             "iteration": 134,
             "learn": [
              0.01616154285
             ],
             "passed_time": 12.63952073,
             "remaining_time": 80.98655876,
             "test": [
              0.01383398335
             ]
            },
            {
             "iteration": 135,
             "learn": [
              0.01614403368
             ],
             "passed_time": 12.71135428,
             "remaining_time": 80.75448603,
             "test": [
              0.01381913439
             ]
            },
            {
             "iteration": 136,
             "learn": [
              0.01613787032
             ],
             "passed_time": 12.79632113,
             "remaining_time": 80.60748272,
             "test": [
              0.01381313381
             ]
            },
            {
             "iteration": 137,
             "learn": [
              0.01609913866
             ],
             "passed_time": 12.90499745,
             "remaining_time": 80.60947684,
             "test": [
              0.01374124595
             ]
            },
            {
             "iteration": 138,
             "learn": [
              0.01609100211
             ],
             "passed_time": 12.99759673,
             "remaining_time": 80.51029342,
             "test": [
              0.01373141669
             ]
            },
            {
             "iteration": 139,
             "learn": [
              0.01608739145
             ],
             "passed_time": 13.08043083,
             "remaining_time": 80.35121796,
             "test": [
              0.01373012497
             ]
            },
            {
             "iteration": 140,
             "learn": [
              0.0160766797
             ],
             "passed_time": 13.17929437,
             "remaining_time": 80.29087849,
             "test": [
              0.01372327584
             ]
            },
            {
             "iteration": 141,
             "learn": [
              0.01605804218
             ],
             "passed_time": 13.27122795,
             "remaining_time": 80.18812379,
             "test": [
              0.01370653146
             ]
            },
            {
             "iteration": 142,
             "learn": [
              0.01603903879
             ],
             "passed_time": 13.36573465,
             "remaining_time": 80.10094121,
             "test": [
              0.01369884837
             ]
            },
            {
             "iteration": 143,
             "learn": [
              0.01603260733
             ],
             "passed_time": 13.45020013,
             "remaining_time": 79.95396747,
             "test": [
              0.01369410524
             ]
            },
            {
             "iteration": 144,
             "learn": [
              0.01603101684
             ],
             "passed_time": 13.5436518,
             "remaining_time": 79.86084339,
             "test": [
              0.01369252262
             ]
            },
            {
             "iteration": 145,
             "learn": [
              0.01600134318
             ],
             "passed_time": 13.61980707,
             "remaining_time": 79.66654274,
             "test": [
              0.013667934
             ]
            },
            {
             "iteration": 146,
             "learn": [
              0.0159709419
             ],
             "passed_time": 13.70619521,
             "remaining_time": 79.53322798,
             "test": [
              0.01363927632
             ]
            },
            {
             "iteration": 147,
             "learn": [
              0.01596919753
             ],
             "passed_time": 13.78661337,
             "remaining_time": 79.36617969,
             "test": [
              0.0136375154
             ]
            },
            {
             "iteration": 148,
             "learn": [
              0.01594513156
             ],
             "passed_time": 13.86688983,
             "remaining_time": 79.19948488,
             "test": [
              0.01362994472
             ]
            },
            {
             "iteration": 149,
             "learn": [
              0.01593395869
             ],
             "passed_time": 13.9430822,
             "remaining_time": 79.01079913,
             "test": [
              0.01361943047
             ]
            },
            {
             "iteration": 150,
             "learn": [
              0.01592409529
             ],
             "passed_time": 14.05283451,
             "remaining_time": 79.01229467,
             "test": [
              0.01361511913
             ]
            },
            {
             "iteration": 151,
             "learn": [
              0.0159037993
             ],
             "passed_time": 14.13483851,
             "remaining_time": 78.85752012,
             "test": [
              0.01359800004
             ]
            },
            {
             "iteration": 152,
             "learn": [
              0.01589863634
             ],
             "passed_time": 14.23460963,
             "remaining_time": 78.80205462,
             "test": [
              0.01359631666
             ]
            },
            {
             "iteration": 153,
             "learn": [
              0.01589147909
             ],
             "passed_time": 14.33487035,
             "remaining_time": 78.74870336,
             "test": [
              0.01359041828
             ]
            },
            {
             "iteration": 154,
             "learn": [
              0.01588346531
             ],
             "passed_time": 14.41003093,
             "remaining_time": 78.55791055,
             "test": [
              0.01358419373
             ]
            },
            {
             "iteration": 155,
             "learn": [
              0.01587633824
             ],
             "passed_time": 14.51678439,
             "remaining_time": 78.53952579,
             "test": [
              0.01358061347
             ]
            },
            {
             "iteration": 156,
             "learn": [
              0.01587502213
             ],
             "passed_time": 14.60712507,
             "remaining_time": 78.4318881,
             "test": [
              0.01358030721
             ]
            },
            {
             "iteration": 157,
             "learn": [
              0.01586276746
             ],
             "passed_time": 14.7058668,
             "remaining_time": 78.36923951,
             "test": [
              0.01356886401
             ]
            },
            {
             "iteration": 158,
             "learn": [
              0.01584907144
             ],
             "passed_time": 14.81378513,
             "remaining_time": 78.3546748,
             "test": [
              0.01355487408
             ]
            },
            {
             "iteration": 159,
             "learn": [
              0.01582985156
             ],
             "passed_time": 14.93056195,
             "remaining_time": 78.38545024,
             "test": [
              0.01353969523
             ]
            },
            {
             "iteration": 160,
             "learn": [
              0.0158267614
             ],
             "passed_time": 15.01725601,
             "remaining_time": 78.25762606,
             "test": [
              0.01354135659
             ]
            },
            {
             "iteration": 161,
             "learn": [
              0.01580224473
             ],
             "passed_time": 15.11369592,
             "remaining_time": 78.18072333,
             "test": [
              0.01353038135
             ]
            },
            {
             "iteration": 162,
             "learn": [
              0.01577874264
             ],
             "passed_time": 15.2178603,
             "remaining_time": 78.14324584,
             "test": [
              0.01350225637
             ]
            },
            {
             "iteration": 163,
             "learn": [
              0.01577700291
             ],
             "passed_time": 15.28205048,
             "remaining_time": 77.90118414,
             "test": [
              0.01350447938
             ]
            },
            {
             "iteration": 164,
             "learn": [
              0.01577543035
             ],
             "passed_time": 15.33924402,
             "remaining_time": 77.62587125,
             "test": [
              0.01350648298
             ]
            },
            {
             "iteration": 165,
             "learn": [
              0.01577143433
             ],
             "passed_time": 15.42969065,
             "remaining_time": 77.52025305,
             "test": [
              0.01350671594
             ]
            },
            {
             "iteration": 166,
             "learn": [
              0.01575319977
             ],
             "passed_time": 15.49199887,
             "remaining_time": 77.27446144,
             "test": [
              0.01350426005
             ]
            },
            {
             "iteration": 167,
             "learn": [
              0.0157380582
             ],
             "passed_time": 15.56726938,
             "remaining_time": 77.09504835,
             "test": [
              0.01348961976
             ]
            },
            {
             "iteration": 168,
             "learn": [
              0.01573518141
             ],
             "passed_time": 15.64154149,
             "remaining_time": 76.91195843,
             "test": [
              0.01348870943
             ]
            },
            {
             "iteration": 169,
             "learn": [
              0.01569876534
             ],
             "passed_time": 15.72841296,
             "remaining_time": 76.79166327,
             "test": [
              0.01346894688
             ]
            },
            {
             "iteration": 170,
             "learn": [
              0.01569823171
             ],
             "passed_time": 15.80721905,
             "remaining_time": 76.63265845,
             "test": [
              0.01346854402
             ]
            },
            {
             "iteration": 171,
             "learn": [
              0.01569665835
             ],
             "passed_time": 15.86860492,
             "remaining_time": 76.39072599,
             "test": [
              0.01347015771
             ]
            },
            {
             "iteration": 172,
             "learn": [
              0.01567976446
             ],
             "passed_time": 15.96683298,
             "remaining_time": 76.32699928,
             "test": [
              0.01345889729
             ]
            },
            {
             "iteration": 173,
             "learn": [
              0.01566857493
             ],
             "passed_time": 16.07112663,
             "remaining_time": 76.29167008,
             "test": [
              0.01344816884
             ]
            },
            {
             "iteration": 174,
             "learn": [
              0.01565879681
             ],
             "passed_time": 16.17727272,
             "remaining_time": 76.26428568,
             "test": [
              0.01344273953
             ]
            },
            {
             "iteration": 175,
             "learn": [
              0.01564553484
             ],
             "passed_time": 16.27799691,
             "remaining_time": 76.21062191,
             "test": [
              0.01343158313
             ]
            },
            {
             "iteration": 176,
             "learn": [
              0.0156438801
             ],
             "passed_time": 16.36431884,
             "remaining_time": 76.08945992,
             "test": [
              0.0134301
             ]
            },
            {
             "iteration": 177,
             "learn": [
              0.01564227404
             ],
             "passed_time": 16.43488236,
             "remaining_time": 75.89591742,
             "test": [
              0.01342876031
             ]
            },
            {
             "iteration": 178,
             "learn": [
              0.01563861762
             ],
             "passed_time": 16.50198429,
             "remaining_time": 75.68787207,
             "test": [
              0.01342514705
             ]
            },
            {
             "iteration": 179,
             "learn": [
              0.01563672728
             ],
             "passed_time": 16.56284155,
             "remaining_time": 75.45294483,
             "test": [
              0.01342631482
             ]
            },
            {
             "iteration": 180,
             "learn": [
              0.01563145463
             ],
             "passed_time": 16.63518929,
             "remaining_time": 75.27193385,
             "test": [
              0.01342355344
             ]
            },
            {
             "iteration": 181,
             "learn": [
              0.01562326812
             ],
             "passed_time": 16.71902063,
             "remaining_time": 75.14373007,
             "test": [
              0.01342420809
             ]
            },
            {
             "iteration": 182,
             "learn": [
              0.01561287438
             ],
             "passed_time": 16.81786143,
             "remaining_time": 75.08302069,
             "test": [
              0.01341649728
             ]
            },
            {
             "iteration": 183,
             "learn": [
              0.01560697415
             ],
             "passed_time": 16.92830166,
             "remaining_time": 75.0733378,
             "test": [
              0.01341365596
             ]
            },
            {
             "iteration": 184,
             "learn": [
              0.01559685416
             ],
             "passed_time": 17.02603526,
             "remaining_time": 75.00658778,
             "test": [
              0.01340999039
             ]
            },
            {
             "iteration": 185,
             "learn": [
              0.01558521983
             ],
             "passed_time": 17.11437646,
             "remaining_time": 74.89840019,
             "test": [
              0.01339005162
             ]
            },
            {
             "iteration": 186,
             "learn": [
              0.01557800796
             ],
             "passed_time": 17.21821068,
             "remaining_time": 74.85778225,
             "test": [
              0.0133858518
             ]
            },
            {
             "iteration": 187,
             "learn": [
              0.01557658294
             ],
             "passed_time": 17.30862853,
             "remaining_time": 74.7585445,
             "test": [
              0.01338455904
             ]
            },
            {
             "iteration": 188,
             "learn": [
              0.01557484799
             ],
             "passed_time": 17.387481,
             "remaining_time": 74.60977299,
             "test": [
              0.01338296156
             ]
            },
            {
             "iteration": 189,
             "learn": [
              0.01557342929
             ],
             "passed_time": 17.46695822,
             "remaining_time": 74.46440082,
             "test": [
              0.01338150698
             ]
            },
            {
             "iteration": 190,
             "learn": [
              0.01554754549
             ],
             "passed_time": 17.58056902,
             "remaining_time": 74.46429495,
             "test": [
              0.01335967042
             ]
            },
            {
             "iteration": 191,
             "learn": [
              0.01553067412
             ],
             "passed_time": 17.64281816,
             "remaining_time": 74.24685978,
             "test": [
              0.01335473788
             ]
            },
            {
             "iteration": 192,
             "learn": [
              0.01552500424
             ],
             "passed_time": 17.7418901,
             "remaining_time": 74.18500161,
             "test": [
              0.0133511367
             ]
            },
            {
             "iteration": 193,
             "learn": [
              0.01551181629
             ],
             "passed_time": 17.85498598,
             "remaining_time": 74.18102423,
             "test": [
              0.01334004612
             ]
            },
            {
             "iteration": 194,
             "learn": [
              0.01550277876
             ],
             "passed_time": 17.95028078,
             "remaining_time": 74.10244119,
             "test": [
              0.0133341365
             ]
            },
            {
             "iteration": 195,
             "learn": [
              0.01548781946
             ],
             "passed_time": 18.05346486,
             "remaining_time": 74.05604975,
             "test": [
              0.01332939102
             ]
            },
            {
             "iteration": 196,
             "learn": [
              0.01546573901
             ],
             "passed_time": 18.12802523,
             "remaining_time": 73.89240742,
             "test": [
              0.01331865346
             ]
            },
            {
             "iteration": 197,
             "learn": [
              0.01545839545
             ],
             "passed_time": 18.20626869,
             "remaining_time": 73.74458326,
             "test": [
              0.01331090582
             ]
            },
            {
             "iteration": 198,
             "learn": [
              0.0154522218
             ],
             "passed_time": 18.31670804,
             "remaining_time": 73.72705097,
             "test": [
              0.01330397575
             ]
            },
            {
             "iteration": 199,
             "learn": [
              0.01544316736
             ],
             "passed_time": 18.42359623,
             "remaining_time": 73.69438492,
             "test": [
              0.0132974808
             ]
            },
            {
             "iteration": 200,
             "learn": [
              0.01544089847
             ],
             "passed_time": 18.52568126,
             "remaining_time": 73.64188722,
             "test": [
              0.0132952538
             ]
            },
            {
             "iteration": 201,
             "learn": [
              0.01542886967
             ],
             "passed_time": 18.61613542,
             "remaining_time": 73.54295083,
             "test": [
              0.01328415995
             ]
            },
            {
             "iteration": 202,
             "learn": [
              0.01542780076
             ],
             "passed_time": 18.70999812,
             "remaining_time": 73.45748029,
             "test": [
              0.01328306193
             ]
            },
            {
             "iteration": 203,
             "learn": [
              0.01542686593
             ],
             "passed_time": 18.77193884,
             "remaining_time": 73.24736921,
             "test": [
              0.01328209233
             ]
            },
            {
             "iteration": 204,
             "learn": [
              0.01542355097
             ],
             "passed_time": 18.85361336,
             "remaining_time": 73.11523229,
             "test": [
              0.01328074709
             ]
            },
            {
             "iteration": 205,
             "learn": [
              0.0153897278
             ],
             "passed_time": 18.96118999,
             "remaining_time": 73.0834216,
             "test": [
              0.01324666909
             ]
            },
            {
             "iteration": 206,
             "learn": [
              0.01537421997
             ],
             "passed_time": 19.0678808,
             "remaining_time": 73.04748538,
             "test": [
              0.01323778375
             ]
            },
            {
             "iteration": 207,
             "learn": [
              0.01535738259
             ],
             "passed_time": 19.15370314,
             "remaining_time": 72.93140811,
             "test": [
              0.01322646906
             ]
            },
            {
             "iteration": 208,
             "learn": [
              0.01534675156
             ],
             "passed_time": 19.23897398,
             "remaining_time": 72.81353308,
             "test": [
              0.01322102455
             ]
            },
            {
             "iteration": 209,
             "learn": [
              0.01534362633
             ],
             "passed_time": 19.3323281,
             "remaining_time": 72.72637713,
             "test": [
              0.01322047573
             ]
            },
            {
             "iteration": 210,
             "learn": [
              0.01532841637
             ],
             "passed_time": 19.44076596,
             "remaining_time": 72.6955656,
             "test": [
              0.01320517908
             ]
            },
            {
             "iteration": 211,
             "learn": [
              0.01532329368
             ],
             "passed_time": 19.52730309,
             "remaining_time": 72.58261713,
             "test": [
              0.01320456363
             ]
            },
            {
             "iteration": 212,
             "learn": [
              0.01531012629
             ],
             "passed_time": 19.6176765,
             "remaining_time": 72.48409109,
             "test": [
              0.01319885405
             ]
            },
            {
             "iteration": 213,
             "learn": [
              0.01530769888
             ],
             "passed_time": 19.72602504,
             "remaining_time": 72.45166206,
             "test": [
              0.01319625315
             ]
            },
            {
             "iteration": 214,
             "learn": [
              0.01530634719
             ],
             "passed_time": 19.83106405,
             "remaining_time": 72.40644316,
             "test": [
              0.01319493714
             ]
            },
            {
             "iteration": 215,
             "learn": [
              0.01529518983
             ],
             "passed_time": 19.93932538,
             "remaining_time": 72.37236618,
             "test": [
              0.0131895638
             ]
            },
            {
             "iteration": 216,
             "learn": [
              0.01528822152
             ],
             "passed_time": 20.06460964,
             "remaining_time": 72.39902926,
             "test": [
              0.01318301236
             ]
            },
            {
             "iteration": 217,
             "learn": [
              0.0152833651
             ],
             "passed_time": 20.13594742,
             "remaining_time": 72.23078387,
             "test": [
              0.01318073284
             ]
            },
            {
             "iteration": 218,
             "learn": [
              0.01527195474
             ],
             "passed_time": 20.22327241,
             "remaining_time": 72.12043723,
             "test": [
              0.01317469954
             ]
            },
            {
             "iteration": 219,
             "learn": [
              0.01526635971
             ],
             "passed_time": 20.3064019,
             "remaining_time": 71.99542493,
             "test": [
              0.0131735118
             ]
            },
            {
             "iteration": 220,
             "learn": [
              0.01525267438
             ],
             "passed_time": 20.40889911,
             "remaining_time": 71.93906065,
             "test": [
              0.01316494638
             ]
            },
            {
             "iteration": 221,
             "learn": [
              0.01524578098
             ],
             "passed_time": 20.52829845,
             "remaining_time": 71.94151438,
             "test": [
              0.01316392164
             ]
            },
            {
             "iteration": 222,
             "learn": [
              0.01523933727
             ],
             "passed_time": 20.62878876,
             "remaining_time": 71.87699043,
             "test": [
              0.01315933151
             ]
            },
            {
             "iteration": 223,
             "learn": [
              0.01523561489
             ],
             "passed_time": 20.70593458,
             "remaining_time": 71.73127338,
             "test": [
              0.01315654756
             ]
            },
            {
             "iteration": 224,
             "learn": [
              0.0152250435
             ],
             "passed_time": 20.79196997,
             "remaining_time": 71.61678545,
             "test": [
              0.01315391775
             ]
            },
            {
             "iteration": 225,
             "learn": [
              0.01521830248
             ],
             "passed_time": 20.88090097,
             "remaining_time": 71.51246614,
             "test": [
              0.01315751948
             ]
            },
            {
             "iteration": 226,
             "learn": [
              0.01521381706
             ],
             "passed_time": 20.95411872,
             "remaining_time": 71.35477433,
             "test": [
              0.01315282728
             ]
            },
            {
             "iteration": 227,
             "learn": [
              0.01520246789
             ],
             "passed_time": 21.02753802,
             "remaining_time": 71.19850594,
             "test": [
              0.01314388047
             ]
            },
            {
             "iteration": 228,
             "learn": [
              0.01519952922
             ],
             "passed_time": 21.09005313,
             "remaining_time": 71.00624874,
             "test": [
              0.01314410967
             ]
            },
            {
             "iteration": 229,
             "learn": [
              0.01519070677
             ],
             "passed_time": 21.18227875,
             "remaining_time": 70.91458538,
             "test": [
              0.01313627687
             ]
            },
            {
             "iteration": 230,
             "learn": [
              0.01518648322
             ],
             "passed_time": 21.27054975,
             "remaining_time": 70.80975221,
             "test": [
              0.01313391397
             ]
            },
            {
             "iteration": 231,
             "learn": [
              0.01518527376
             ],
             "passed_time": 21.38141439,
             "remaining_time": 70.77985452,
             "test": [
              0.01313272594
             ]
            },
            {
             "iteration": 232,
             "learn": [
              0.01517923173
             ],
             "passed_time": 21.49135152,
             "remaining_time": 70.74620866,
             "test": [
              0.01312921417
             ]
            },
            {
             "iteration": 233,
             "learn": [
              0.01516948151
             ],
             "passed_time": 21.58985314,
             "remaining_time": 70.6744765,
             "test": [
              0.0131231387
             ]
            },
            {
             "iteration": 234,
             "learn": [
              0.01516027386
             ],
             "passed_time": 21.687003,
             "remaining_time": 70.59811616,
             "test": [
              0.01311779228
             ]
            },
            {
             "iteration": 235,
             "learn": [
              0.01515450257
             ],
             "passed_time": 21.76130354,
             "remaining_time": 70.44760978,
             "test": [
              0.01311249254
             ]
            },
            {
             "iteration": 236,
             "learn": [
              0.01514820741
             ],
             "passed_time": 21.85987584,
             "remaining_time": 70.37588718,
             "test": [
              0.01310941734
             ]
            },
            {
             "iteration": 237,
             "learn": [
              0.01513818248
             ],
             "passed_time": 21.95168993,
             "remaining_time": 70.28230138,
             "test": [
              0.01309282454
             ]
            },
            {
             "iteration": 238,
             "learn": [
              0.01512933159
             ],
             "passed_time": 22.05017444,
             "remaining_time": 70.20996966,
             "test": [
              0.01309195882
             ]
            },
            {
             "iteration": 239,
             "learn": [
              0.01512152147
             ],
             "passed_time": 22.14647657,
             "remaining_time": 70.13050915,
             "test": [
              0.01308822234
             ]
            },
            {
             "iteration": 240,
             "learn": [
              0.01511262646
             ],
             "passed_time": 22.24676874,
             "remaining_time": 70.06347498,
             "test": [
              0.0130801751
             ]
            },
            {
             "iteration": 241,
             "learn": [
              0.0151063327
             ],
             "passed_time": 22.32026145,
             "remaining_time": 69.91222389,
             "test": [
              0.01307893796
             ]
            },
            {
             "iteration": 242,
             "learn": [
              0.01510078553
             ],
             "passed_time": 22.3914444,
             "remaining_time": 69.75441733,
             "test": [
              0.01307368963
             ]
            },
            {
             "iteration": 243,
             "learn": [
              0.01509795934
             ],
             "passed_time": 22.49202395,
             "remaining_time": 69.68840206,
             "test": [
              0.01307133926
             ]
            },
            {
             "iteration": 244,
             "learn": [
              0.01509450158
             ],
             "passed_time": 22.5904199,
             "remaining_time": 69.61537562,
             "test": [
              0.01306808913
             ]
            },
            {
             "iteration": 245,
             "learn": [
              0.01508857762
             ],
             "passed_time": 22.68403121,
             "remaining_time": 69.52747779,
             "test": [
              0.01306631008
             ]
            },
            {
             "iteration": 246,
             "learn": [
              0.01508443681
             ],
             "passed_time": 22.74915069,
             "remaining_time": 69.35267398,
             "test": [
              0.01306774645
             ]
            },
            {
             "iteration": 247,
             "learn": [
              0.01508063829
             ],
             "passed_time": 22.84129839,
             "remaining_time": 69.26071125,
             "test": [
              0.01306747263
             ]
            },
            {
             "iteration": 248,
             "learn": [
              0.01506153641
             ],
             "passed_time": 22.94159022,
             "remaining_time": 69.19331027,
             "test": [
              0.01305624177
             ]
            },
            {
             "iteration": 249,
             "learn": [
              0.01505599884
             ],
             "passed_time": 23.01503986,
             "remaining_time": 69.04511959,
             "test": [
              0.01305305584
             ]
            },
            {
             "iteration": 250,
             "learn": [
              0.01505247322
             ],
             "passed_time": 23.1003513,
             "remaining_time": 68.93292081,
             "test": [
              0.01305103024
             ]
            },
            {
             "iteration": 251,
             "learn": [
              0.01504373151
             ],
             "passed_time": 23.19016205,
             "remaining_time": 68.83429054,
             "test": [
              0.01304709688
             ]
            },
            {
             "iteration": 252,
             "learn": [
              0.01504109913
             ],
             "passed_time": 23.27266561,
             "remaining_time": 68.71415497,
             "test": [
              0.01304475145
             ]
            },
            {
             "iteration": 253,
             "learn": [
              0.01503583805
             ],
             "passed_time": 23.39480319,
             "remaining_time": 68.71072117,
             "test": [
              0.0130415556
             ]
            },
            {
             "iteration": 254,
             "learn": [
              0.0150178228
             ],
             "passed_time": 23.51491627,
             "remaining_time": 68.70044167,
             "test": [
              0.01302705418
             ]
            },
            {
             "iteration": 255,
             "learn": [
              0.01501351838
             ],
             "passed_time": 23.61394682,
             "remaining_time": 68.62803294,
             "test": [
              0.01302251686
             ]
            },
            {
             "iteration": 256,
             "learn": [
              0.0150091488
             ],
             "passed_time": 23.70165867,
             "remaining_time": 68.52269414,
             "test": [
              0.01301916111
             ]
            },
            {
             "iteration": 257,
             "learn": [
              0.01500523187
             ],
             "passed_time": 23.80439696,
             "remaining_time": 68.46070753,
             "test": [
              0.0130153868
             ]
            },
            {
             "iteration": 258,
             "learn": [
              0.01500452286
             ],
             "passed_time": 23.92147147,
             "remaining_time": 68.43942222,
             "test": [
              0.01301460771
             ]
            },
            {
             "iteration": 259,
             "learn": [
              0.01499683623
             ],
             "passed_time": 24.00819778,
             "remaining_time": 68.33102445,
             "test": [
              0.01301693592
             ]
            },
            {
             "iteration": 260,
             "learn": [
              0.01499572873
             ],
             "passed_time": 24.09533207,
             "remaining_time": 68.22394791,
             "test": [
              0.01301664849
             ]
            },
            {
             "iteration": 261,
             "learn": [
              0.01497918905
             ],
             "passed_time": 24.19573895,
             "remaining_time": 68.15440972,
             "test": [
              0.01300794188
             ]
            },
            {
             "iteration": 262,
             "learn": [
              0.01497825181
             ],
             "passed_time": 24.27969896,
             "remaining_time": 68.03854805,
             "test": [
              0.01300807922
             ]
            },
            {
             "iteration": 263,
             "learn": [
              0.01497783286
             ],
             "passed_time": 24.37866571,
             "remaining_time": 67.964765,
             "test": [
              0.01300821366
             ]
            },
            {
             "iteration": 264,
             "learn": [
              0.0149558051
             ],
             "passed_time": 24.47302867,
             "remaining_time": 67.87802291,
             "test": [
              0.01300052584
             ]
            },
            {
             "iteration": 265,
             "learn": [
              0.01495546053
             ],
             "passed_time": 24.53384034,
             "remaining_time": 67.69864214,
             "test": [
              0.01300048768
             ]
            },
            {
             "iteration": 266,
             "learn": [
              0.01495234381
             ],
             "passed_time": 24.6390405,
             "remaining_time": 67.64201006,
             "test": [
              0.01299856412
             ]
            },
            {
             "iteration": 267,
             "learn": [
              0.01494948811
             ],
             "passed_time": 24.72142928,
             "remaining_time": 67.52270983,
             "test": [
              0.01299550151
             ]
            },
            {
             "iteration": 268,
             "learn": [
              0.01494644579
             ],
             "passed_time": 24.80162651,
             "remaining_time": 67.39772854,
             "test": [
              0.01298951122
             ]
            },
            {
             "iteration": 269,
             "learn": [
              0.01493707664
             ],
             "passed_time": 24.89501587,
             "remaining_time": 67.3087466,
             "test": [
              0.0129806026
             ]
            },
            {
             "iteration": 270,
             "learn": [
              0.01492947949
             ],
             "passed_time": 25.00845588,
             "remaining_time": 67.27366915,
             "test": [
              0.01297377367
             ]
            },
            {
             "iteration": 271,
             "learn": [
              0.01492521412
             ],
             "passed_time": 25.11736953,
             "remaining_time": 67.22590081,
             "test": [
              0.01297124152
             ]
            },
            {
             "iteration": 272,
             "learn": [
              0.01490815151
             ],
             "passed_time": 25.18263007,
             "remaining_time": 67.06143613,
             "test": [
              0.01296098579
             ]
            },
            {
             "iteration": 273,
             "learn": [
              0.01490561465
             ],
             "passed_time": 25.24486944,
             "remaining_time": 66.88969055,
             "test": [
              0.01295584443
             ]
            },
            {
             "iteration": 274,
             "learn": [
              0.01488237275
             ],
             "passed_time": 25.36149393,
             "remaining_time": 66.86212035,
             "test": [
              0.01293569976
             ]
            },
            {
             "iteration": 275,
             "learn": [
              0.01488141757
             ],
             "passed_time": 25.43671047,
             "remaining_time": 66.72528399,
             "test": [
              0.01293548973
             ]
            },
            {
             "iteration": 276,
             "learn": [
              0.01486982671
             ],
             "passed_time": 25.53787831,
             "remaining_time": 66.65662821,
             "test": [
              0.01293212673
             ]
            },
            {
             "iteration": 277,
             "learn": [
              0.0148630413
             ],
             "passed_time": 25.65393385,
             "remaining_time": 66.62640374,
             "test": [
              0.0129286011
             ]
            },
            {
             "iteration": 278,
             "learn": [
              0.01486034917
             ],
             "passed_time": 25.73874874,
             "remaining_time": 66.51483097,
             "test": [
              0.01292713611
             ]
            },
            {
             "iteration": 279,
             "learn": [
              0.0148309594
             ],
             "passed_time": 25.85412909,
             "remaining_time": 66.48204623,
             "test": [
              0.01288206011
             ]
            },
            {
             "iteration": 280,
             "learn": [
              0.01482083078
             ],
             "passed_time": 25.96075162,
             "remaining_time": 66.42626482,
             "test": [
              0.0128738469
             ]
            },
            {
             "iteration": 281,
             "learn": [
              0.01482003498
             ],
             "passed_time": 26.05911115,
             "remaining_time": 66.34908442,
             "test": [
              0.0128739415
             ]
            },
            {
             "iteration": 282,
             "learn": [
              0.01481281688
             ],
             "passed_time": 26.14436059,
             "remaining_time": 66.23853902,
             "test": [
              0.01287344997
             ]
            },
            {
             "iteration": 283,
             "learn": [
              0.0147830564
             ],
             "passed_time": 26.21866634,
             "remaining_time": 66.10058135,
             "test": [
              0.01286095786
             ]
            },
            {
             "iteration": 284,
             "learn": [
              0.01477197617
             ],
             "passed_time": 26.29568059,
             "remaining_time": 65.96986533,
             "test": [
              0.01285743078
             ]
            },
            {
             "iteration": 285,
             "learn": [
              0.01476373833
             ],
             "passed_time": 26.3901299,
             "remaining_time": 65.88305157,
             "test": [
              0.01285529223
             ]
            },
            {
             "iteration": 286,
             "learn": [
              0.01476246898
             ],
             "passed_time": 26.48489774,
             "remaining_time": 65.79697592,
             "test": [
              0.01285394997
             ]
            },
            {
             "iteration": 287,
             "learn": [
              0.01473966896
             ],
             "passed_time": 26.58295482,
             "remaining_time": 65.71897164,
             "test": [
              0.01282209343
             ]
            },
            {
             "iteration": 288,
             "learn": [
              0.01472387745
             ],
             "passed_time": 26.66217439,
             "remaining_time": 65.59448439,
             "test": [
              0.01280385273
             ]
            },
            {
             "iteration": 289,
             "learn": [
              0.01470840622
             ],
             "passed_time": 26.74575265,
             "remaining_time": 65.48098063,
             "test": [
              0.01278944104
             ]
            },
            {
             "iteration": 290,
             "learn": [
              0.01468628391
             ],
             "passed_time": 26.81976073,
             "remaining_time": 65.34436548,
             "test": [
              0.01276911464
             ]
            },
            {
             "iteration": 291,
             "learn": [
              0.01468451193
             ],
             "passed_time": 26.91289927,
             "remaining_time": 65.25456398,
             "test": [
              0.01276949369
             ]
            },
            {
             "iteration": 292,
             "learn": [
              0.01468048383
             ],
             "passed_time": 26.99490256,
             "remaining_time": 65.13787068,
             "test": [
              0.01276602837
             ]
            },
            {
             "iteration": 293,
             "learn": [
              0.01467752541
             ],
             "passed_time": 27.07072111,
             "remaining_time": 65.00656157,
             "test": [
              0.01276325874
             ]
            },
            {
             "iteration": 294,
             "learn": [
              0.01467721383
             ],
             "passed_time": 27.16828889,
             "remaining_time": 64.92760566,
             "test": [
              0.01276324249
             ]
            },
            {
             "iteration": 295,
             "learn": [
              0.01466405806
             ],
             "passed_time": 27.24491846,
             "remaining_time": 64.79872498,
             "test": [
              0.0127542815
             ]
            },
            {
             "iteration": 296,
             "learn": [
              0.01466288082
             ],
             "passed_time": 27.32551299,
             "remaining_time": 64.67958126,
             "test": [
              0.01275586419
             ]
            },
            {
             "iteration": 297,
             "learn": [
              0.0146578868
             ],
             "passed_time": 27.42760555,
             "remaining_time": 64.61133925,
             "test": [
              0.01275221142
             ]
            },
            {
             "iteration": 298,
             "learn": [
              0.01463985809
             ],
             "passed_time": 27.5310328,
             "remaining_time": 64.54599996,
             "test": [
              0.01273515696
             ]
            },
            {
             "iteration": 299,
             "learn": [
              0.01463597311
             ],
             "passed_time": 27.60774883,
             "remaining_time": 64.4180806,
             "test": [
              0.01273508417
             ]
            },
            {
             "iteration": 300,
             "learn": [
              0.01462652311
             ],
             "passed_time": 27.71714825,
             "remaining_time": 64.36640075,
             "test": [
              0.01273340522
             ]
            },
            {
             "iteration": 301,
             "learn": [
              0.01462552801
             ],
             "passed_time": 27.79815982,
             "remaining_time": 64.24872699,
             "test": [
              0.01273349797
             ]
            },
            {
             "iteration": 302,
             "learn": [
              0.01459738079
             ],
             "passed_time": 27.9054527,
             "remaining_time": 64.19175093,
             "test": [
              0.01272210121
             ]
            },
            {
             "iteration": 303,
             "learn": [
              0.01458657277
             ],
             "passed_time": 28.0073942,
             "remaining_time": 64.12219199,
             "test": [
              0.01270922864
             ]
            },
            {
             "iteration": 304,
             "learn": [
              0.01458210062
             ],
             "passed_time": 28.09572392,
             "remaining_time": 64.02140369,
             "test": [
              0.01270654314
             ]
            },
            {
             "iteration": 305,
             "learn": [
              0.01457708671
             ],
             "passed_time": 28.19692322,
             "remaining_time": 63.94988468,
             "test": [
              0.01270350548
             ]
            },
            {
             "iteration": 306,
             "learn": [
              0.01456763049
             ],
             "passed_time": 28.29939913,
             "remaining_time": 63.88105406,
             "test": [
              0.01269566782
             ]
            },
            {
             "iteration": 307,
             "learn": [
              0.01456562532
             ],
             "passed_time": 28.39718753,
             "remaining_time": 63.80147328,
             "test": [
              0.01269526733
             ]
            },
            {
             "iteration": 308,
             "learn": [
              0.0145634381
             ],
             "passed_time": 28.47905516,
             "remaining_time": 63.6861719,
             "test": [
              0.01269409383
             ]
            },
            {
             "iteration": 309,
             "learn": [
              0.01454518956
             ],
             "passed_time": 28.58502456,
             "remaining_time": 63.62473208,
             "test": [
              0.01267755672
             ]
            },
            {
             "iteration": 310,
             "learn": [
              0.0145442505
             ],
             "passed_time": 28.68407604,
             "remaining_time": 63.54767972,
             "test": [
              0.01267684452
             ]
            },
            {
             "iteration": 311,
             "learn": [
              0.01453749066
             ],
             "passed_time": 28.78595821,
             "remaining_time": 63.47672836,
             "test": [
              0.01267010802
             ]
            },
            {
             "iteration": 312,
             "learn": [
              0.01452951092
             ],
             "passed_time": 28.8735441,
             "remaining_time": 63.37420062,
             "test": [
              0.01267214605
             ]
            },
            {
             "iteration": 313,
             "learn": [
              0.01452608708
             ],
             "passed_time": 28.97542776,
             "remaining_time": 63.3030046,
             "test": [
              0.01266887397
             ]
            },
            {
             "iteration": 314,
             "learn": [
              0.01452132188
             ],
             "passed_time": 29.06620154,
             "remaining_time": 63.20745413,
             "test": [
              0.01266697171
             ]
            },
            {
             "iteration": 315,
             "learn": [
              0.01451519659
             ],
             "passed_time": 29.16934988,
             "remaining_time": 63.13871937,
             "test": [
              0.01266527019
             ]
            },
            {
             "iteration": 316,
             "learn": [
              0.01450348248
             ],
             "passed_time": 29.25982883,
             "remaining_time": 63.04247032,
             "test": [
              0.01266034356
             ]
            },
            {
             "iteration": 317,
             "learn": [
              0.01450015857
             ],
             "passed_time": 29.37080043,
             "remaining_time": 62.9902072,
             "test": [
              0.01265942114
             ]
            },
            {
             "iteration": 318,
             "learn": [
              0.01449496237
             ],
             "passed_time": 29.44759489,
             "remaining_time": 62.8646148,
             "test": [
              0.01264836107
             ]
            },
            {
             "iteration": 319,
             "learn": [
              0.01449217141
             ],
             "passed_time": 29.55831084,
             "remaining_time": 62.81141053,
             "test": [
              0.01264972166
             ]
            },
            {
             "iteration": 320,
             "learn": [
              0.01448335558
             ],
             "passed_time": 29.69882295,
             "remaining_time": 62.82087472,
             "test": [
              0.01264294103
             ]
            },
            {
             "iteration": 321,
             "learn": [
              0.0144734682
             ],
             "passed_time": 29.83054417,
             "remaining_time": 62.81089735,
             "test": [
              0.01263658039
             ]
            },
            {
             "iteration": 322,
             "learn": [
              0.01446259465
             ],
             "passed_time": 29.94744197,
             "remaining_time": 62.76909664,
             "test": [
              0.01263284223
             ]
            },
            {
             "iteration": 323,
             "learn": [
              0.01445828685
             ],
             "passed_time": 30.08455619,
             "remaining_time": 62.7690123,
             "test": [
              0.01262297098
             ]
            },
            {
             "iteration": 324,
             "learn": [
              0.0144514292
             ],
             "passed_time": 30.19490865,
             "remaining_time": 62.71250258,
             "test": [
              0.0126168221
             ]
            },
            {
             "iteration": 325,
             "learn": [
              0.01444931355
             ],
             "passed_time": 30.33956971,
             "remaining_time": 62.72659504,
             "test": [
              0.01261591225
             ]
            },
            {
             "iteration": 326,
             "learn": [
              0.01444274066
             ],
             "passed_time": 30.45889077,
             "remaining_time": 62.68756418,
             "test": [
              0.01261136459
             ]
            },
            {
             "iteration": 327,
             "learn": [
              0.01442858244
             ],
             "passed_time": 30.59486502,
             "remaining_time": 62.68216248,
             "test": [
              0.01260365804
             ]
            },
            {
             "iteration": 328,
             "learn": [
              0.0144198376
             ],
             "passed_time": 30.74593668,
             "remaining_time": 62.70675839,
             "test": [
              0.01260184265
             ]
            },
            {
             "iteration": 329,
             "learn": [
              0.01441164285
             ],
             "passed_time": 30.85475899,
             "remaining_time": 62.64451068,
             "test": [
              0.0125726634
             ]
            },
            {
             "iteration": 330,
             "learn": [
              0.01440601363
             ],
             "passed_time": 30.98153278,
             "remaining_time": 62.61826414,
             "test": [
              0.01256850972
             ]
            },
            {
             "iteration": 331,
             "learn": [
              0.01440090609
             ],
             "passed_time": 31.09810077,
             "remaining_time": 62.57087745,
             "test": [
              0.01256482235
             ]
            },
            {
             "iteration": 332,
             "learn": [
              0.01439738767
             ],
             "passed_time": 31.19889804,
             "remaining_time": 62.49148647,
             "test": [
              0.01256174644
             ]
            },
            {
             "iteration": 333,
             "learn": [
              0.01439465909
             ],
             "passed_time": 31.2999223,
             "remaining_time": 62.41241992,
             "test": [
              0.01256068605
             ]
            },
            {
             "iteration": 334,
             "learn": [
              0.01437996338
             ],
             "passed_time": 31.38907864,
             "remaining_time": 62.30966357,
             "test": [
              0.01254236757
             ]
            },
            {
             "iteration": 335,
             "learn": [
              0.01434886614
             ],
             "passed_time": 31.51317881,
             "remaining_time": 62.27604383,
             "test": [
              0.01249812609
             ]
            },
            {
             "iteration": 336,
             "learn": [
              0.0143435052
             ],
             "passed_time": 31.59800527,
             "remaining_time": 62.16462165,
             "test": [
              0.01249454562
             ]
            },
            {
             "iteration": 337,
             "learn": [
              0.01433539588
             ],
             "passed_time": 31.70174964,
             "remaining_time": 62.09040906,
             "test": [
              0.01248617283
             ]
            },
            {
             "iteration": 338,
             "learn": [
              0.01432539991
             ],
             "passed_time": 31.79604604,
             "remaining_time": 61.99760009,
             "test": [
              0.01247693455
             ]
            },
            {
             "iteration": 339,
             "learn": [
              0.0143111699
             ],
             "passed_time": 31.89149738,
             "remaining_time": 61.90702432,
             "test": [
              0.01246353753
             ]
            },
            {
             "iteration": 340,
             "learn": [
              0.01430264058
             ],
             "passed_time": 31.99632863,
             "remaining_time": 61.83454711,
             "test": [
              0.01245940462
             ]
            },
            {
             "iteration": 341,
             "learn": [
              0.014276322
             ],
             "passed_time": 32.06173736,
             "remaining_time": 61.68603269,
             "test": [
              0.01243717297
             ]
            },
            {
             "iteration": 342,
             "learn": [
              0.01426477149
             ],
             "passed_time": 32.15532808,
             "remaining_time": 61.59198411,
             "test": [
              0.01242621266
             ]
            },
            {
             "iteration": 343,
             "learn": [
              0.01426363734
             ],
             "passed_time": 32.25015121,
             "remaining_time": 61.50028835,
             "test": [
              0.01242586448
             ]
            },
            {
             "iteration": 344,
             "learn": [
              0.01425209524
             ],
             "passed_time": 32.33110025,
             "remaining_time": 61.38223381,
             "test": [
              0.01242630754
             ]
            },
            {
             "iteration": 345,
             "learn": [
              0.01424743733
             ],
             "passed_time": 32.41982777,
             "remaining_time": 61.27909641,
             "test": [
              0.01242301275
             ]
            },
            {
             "iteration": 346,
             "learn": [
              0.0142353504
             ],
             "passed_time": 32.50531028,
             "remaining_time": 61.16993548,
             "test": [
              0.01241539884
             ]
            },
            {
             "iteration": 347,
             "learn": [
              0.01422512487
             ],
             "passed_time": 32.57805671,
             "remaining_time": 61.03704877,
             "test": [
              0.0124125798
             ]
            },
            {
             "iteration": 348,
             "learn": [
              0.01422370808
             ],
             "passed_time": 32.6484403,
             "remaining_time": 60.90009924,
             "test": [
              0.01241485833
             ]
            },
            {
             "iteration": 349,
             "learn": [
              0.01422185744
             ],
             "passed_time": 32.75099965,
             "remaining_time": 60.82328507,
             "test": [
              0.01241457072
             ]
            },
            {
             "iteration": 350,
             "learn": [
              0.0142159915
             ],
             "passed_time": 32.83304515,
             "remaining_time": 60.70839402,
             "test": [
              0.01241373348
             ]
            },
            {
             "iteration": 351,
             "learn": [
              0.01421390991
             ],
             "passed_time": 32.91404741,
             "remaining_time": 60.5917691,
             "test": [
              0.01241176116
             ]
            },
            {
             "iteration": 352,
             "learn": [
              0.01419377764
             ],
             "passed_time": 33.02654677,
             "remaining_time": 60.5330758,
             "test": [
              0.01239740582
             ]
            },
            {
             "iteration": 353,
             "learn": [
              0.01417018053
             ],
             "passed_time": 33.13568447,
             "remaining_time": 60.46794398,
             "test": [
              0.01237665999
             ]
            },
            {
             "iteration": 354,
             "learn": [
              0.01416010282
             ],
             "passed_time": 33.23512167,
             "remaining_time": 60.38493938,
             "test": [
              0.01236509371
             ]
            },
            {
             "iteration": 355,
             "learn": [
              0.0141595185
             ],
             "passed_time": 33.33645273,
             "remaining_time": 60.30526843,
             "test": [
              0.01236488264
             ]
            },
            {
             "iteration": 356,
             "learn": [
              0.01414622462
             ],
             "passed_time": 33.42142411,
             "remaining_time": 60.19601037,
             "test": [
              0.01235548132
             ]
            },
            {
             "iteration": 357,
             "learn": [
              0.01413219321
             ],
             "passed_time": 33.51040236,
             "remaining_time": 60.0940735,
             "test": [
              0.01235245996
             ]
            },
            {
             "iteration": 358,
             "learn": [
              0.01412433905
             ],
             "passed_time": 33.61540338,
             "remaining_time": 60.02081774,
             "test": [
              0.01234828212
             ]
            },
            {
             "iteration": 359,
             "learn": [
              0.01412217673
             ],
             "passed_time": 33.7092888,
             "remaining_time": 59.92762453,
             "test": [
              0.01234676041
             ]
            },
            {
             "iteration": 360,
             "learn": [
              0.01411092343
             ],
             "passed_time": 33.81921893,
             "remaining_time": 59.86282796,
             "test": [
              0.01233889989
             ]
            },
            {
             "iteration": 361,
             "learn": [
              0.01410453003
             ],
             "passed_time": 33.90852108,
             "remaining_time": 59.76142665,
             "test": [
              0.0123334595
             ]
            },
            {
             "iteration": 362,
             "learn": [
              0.0141025107
             ],
             "passed_time": 34.014584,
             "remaining_time": 59.68950415,
             "test": [
              0.0123317948
             ]
            },
            {
             "iteration": 363,
             "learn": [
              0.01408721113
             ],
             "passed_time": 34.11464068,
             "remaining_time": 59.60689965,
             "test": [
              0.01232578774
             ]
            },
            {
             "iteration": 364,
             "learn": [
              0.01408569043
             ],
             "passed_time": 34.19318973,
             "remaining_time": 59.48678213,
             "test": [
              0.0123256277
             ]
            },
            {
             "iteration": 365,
             "learn": [
              0.01407472984
             ],
             "passed_time": 34.25786126,
             "remaining_time": 59.34285256,
             "test": [
              0.01231959194
             ]
            },
            {
             "iteration": 366,
             "learn": [
              0.01407008309
             ],
             "passed_time": 34.36074573,
             "remaining_time": 59.26526443,
             "test": [
              0.01231820515
             ]
            },
            {
             "iteration": 367,
             "learn": [
              0.01406973189
             ],
             "passed_time": 34.43729987,
             "remaining_time": 59.14231934,
             "test": [
              0.01231822538
             ]
            },
            {
             "iteration": 368,
             "learn": [
              0.01405541551
             ],
             "passed_time": 34.53441417,
             "remaining_time": 59.05478413,
             "test": [
              0.01230944191
             ]
            },
            {
             "iteration": 369,
             "learn": [
              0.01405136269
             ],
             "passed_time": 34.6202346,
             "remaining_time": 58.94796702,
             "test": [
              0.01229828536
             ]
            },
            {
             "iteration": 370,
             "learn": [
              0.01405108057
             ],
             "passed_time": 34.68804167,
             "remaining_time": 58.81072294,
             "test": [
              0.01229829302
             ]
            },
            {
             "iteration": 371,
             "learn": [
              0.01402897019
             ],
             "passed_time": 34.77803326,
             "remaining_time": 58.71130347,
             "test": [
              0.01228651214
             ]
            },
            {
             "iteration": 372,
             "learn": [
              0.0140131916
             ],
             "passed_time": 34.87724992,
             "remaining_time": 58.62744155,
             "test": [
              0.01227580772
             ]
            },
            {
             "iteration": 373,
             "learn": [
              0.01401183709
             ],
             "passed_time": 34.96101121,
             "remaining_time": 58.51762839,
             "test": [
              0.01227539313
             ]
            },
            {
             "iteration": 374,
             "learn": [
              0.01400540896
             ],
             "passed_time": 35.04735852,
             "remaining_time": 58.41226419,
             "test": [
              0.01227547256
             ]
            },
            {
             "iteration": 375,
             "learn": [
              0.01399678691
             ],
             "passed_time": 35.14636835,
             "remaining_time": 58.32801557,
             "test": [
              0.01226661061
             ]
            },
            {
             "iteration": 376,
             "learn": [
              0.01399352967
             ],
             "passed_time": 35.24218151,
             "remaining_time": 58.23840606,
             "test": [
              0.01226595481
             ]
            },
            {
             "iteration": 377,
             "learn": [
              0.01397862394
             ],
             "passed_time": 35.32007004,
             "remaining_time": 58.11926869,
             "test": [
              0.01226436962
             ]
            },
            {
             "iteration": 378,
             "learn": [
              0.01397137687
             ],
             "passed_time": 35.42476392,
             "remaining_time": 58.04427017,
             "test": [
              0.01225643532
             ]
            },
            {
             "iteration": 379,
             "learn": [
              0.01396477577
             ],
             "passed_time": 35.5092243,
             "remaining_time": 57.9361028,
             "test": [
              0.01225106662
             ]
            },
            {
             "iteration": 380,
             "learn": [
              0.01396180123
             ],
             "passed_time": 35.60902697,
             "remaining_time": 57.85298608,
             "test": [
              0.01224985129
             ]
            },
            {
             "iteration": 381,
             "learn": [
              0.01395904305
             ],
             "passed_time": 35.68970764,
             "remaining_time": 57.7388464,
             "test": [
              0.01224699773
             ]
            },
            {
             "iteration": 382,
             "learn": [
              0.01395692482
             ],
             "passed_time": 35.78828159,
             "remaining_time": 57.6537069,
             "test": [
              0.01224522252
             ]
            },
            {
             "iteration": 383,
             "learn": [
              0.01393042734
             ],
             "passed_time": 35.88259655,
             "remaining_time": 57.5616653,
             "test": [
              0.0122431768
             ]
            },
            {
             "iteration": 384,
             "learn": [
              0.01392392506
             ],
             "passed_time": 35.96362761,
             "remaining_time": 57.44839215,
             "test": [
              0.01223929583
             ]
            },
            {
             "iteration": 385,
             "learn": [
              0.01391799873
             ],
             "passed_time": 36.07106687,
             "remaining_time": 57.3772929,
             "test": [
              0.01223250834
             ]
            },
            {
             "iteration": 386,
             "learn": [
              0.01391169078
             ],
             "passed_time": 36.15666856,
             "remaining_time": 57.27141558,
             "test": [
              0.01222937637
             ]
            },
            {
             "iteration": 387,
             "learn": [
              0.0139083553
             ],
             "passed_time": 36.24298773,
             "remaining_time": 57.16677445,
             "test": [
              0.01222611091
             ]
            },
            {
             "iteration": 388,
             "learn": [
              0.0138971371
             ],
             "passed_time": 36.36443261,
             "remaining_time": 57.11739929,
             "test": [
              0.01221498967
             ]
            },
            {
             "iteration": 389,
             "learn": [
              0.01389612459
             ],
             "passed_time": 36.43096337,
             "remaining_time": 56.98176322,
             "test": [
              0.01221485752
             ]
            },
            {
             "iteration": 390,
             "learn": [
              0.01389156655
             ],
             "passed_time": 36.51029288,
             "remaining_time": 56.86641525,
             "test": [
              0.01221453989
             ]
            },
            {
             "iteration": 391,
             "learn": [
              0.01388263859
             ],
             "passed_time": 36.63180654,
             "remaining_time": 56.81667954,
             "test": [
              0.01220630608
             ]
            },
            {
             "iteration": 392,
             "learn": [
              0.01386685384
             ],
             "passed_time": 36.73519871,
             "remaining_time": 56.73858935,
             "test": [
              0.01217874335
             ]
            },
            {
             "iteration": 393,
             "learn": [
              0.01385739877
             ],
             "passed_time": 36.8129976,
             "remaining_time": 56.62100647,
             "test": [
              0.01217711743
             ]
            },
            {
             "iteration": 394,
             "learn": [
              0.01385622874
             ],
             "passed_time": 36.9298269,
             "remaining_time": 56.56340575,
             "test": [
              0.01217642337
             ]
            },
            {
             "iteration": 395,
             "learn": [
              0.01385377169
             ],
             "passed_time": 37.0272979,
             "remaining_time": 56.47597963,
             "test": [
              0.01217644751
             ]
            },
            {
             "iteration": 396,
             "learn": [
              0.0138405961
             ],
             "passed_time": 37.13405682,
             "remaining_time": 56.40261023,
             "test": [
              0.01216374364
             ]
            },
            {
             "iteration": 397,
             "learn": [
              0.01382991274
             ],
             "passed_time": 37.22340206,
             "remaining_time": 56.30273377,
             "test": [
              0.01215789736
             ]
            },
            {
             "iteration": 398,
             "learn": [
              0.0138204717
             ],
             "passed_time": 37.32570761,
             "remaining_time": 56.22243177,
             "test": [
              0.01215339578
             ]
            },
            {
             "iteration": 399,
             "learn": [
              0.01381552856
             ],
             "passed_time": 37.39040303,
             "remaining_time": 56.08560454,
             "test": [
              0.01215244421
             ]
            },
            {
             "iteration": 400,
             "learn": [
              0.01381083814
             ],
             "passed_time": 37.49964186,
             "remaining_time": 56.0156745,
             "test": [
              0.01214970248
             ]
            },
            {
             "iteration": 401,
             "learn": [
              0.01381031084
             ],
             "passed_time": 37.59237808,
             "remaining_time": 55.92100023,
             "test": [
              0.01214987784
             ]
            },
            {
             "iteration": 402,
             "learn": [
              0.01379962628
             ],
             "passed_time": 37.68659555,
             "remaining_time": 55.82852988,
             "test": [
              0.01213859452
             ]
            },
            {
             "iteration": 403,
             "learn": [
              0.0137946612
             ],
             "passed_time": 37.76746195,
             "remaining_time": 55.71635476,
             "test": [
              0.01213931775
             ]
            },
            {
             "iteration": 404,
             "learn": [
              0.01378955969
             ],
             "passed_time": 37.83418594,
             "remaining_time": 55.58355712,
             "test": [
              0.01213526666
             ]
            },
            {
             "iteration": 405,
             "learn": [
              0.01378707316
             ],
             "passed_time": 37.92885347,
             "remaining_time": 55.49196788,
             "test": [
              0.01213426258
             ]
            },
            {
             "iteration": 406,
             "learn": [
              0.01378430518
             ],
             "passed_time": 37.99900245,
             "remaining_time": 55.36463993,
             "test": [
              0.01213481035
             ]
            },
            {
             "iteration": 407,
             "learn": [
              0.01377708854
             ],
             "passed_time": 38.10380822,
             "remaining_time": 55.28787859,
             "test": [
              0.01212826742
             ]
            },
            {
             "iteration": 408,
             "learn": [
              0.0137647566
             ],
             "passed_time": 38.20144141,
             "remaining_time": 55.20061582,
             "test": [
              0.01213150681
             ]
            },
            {
             "iteration": 409,
             "learn": [
              0.01375989579
             ],
             "passed_time": 38.30964612,
             "remaining_time": 55.12851515,
             "test": [
              0.01212957589
             ]
            },
            {
             "iteration": 410,
             "learn": [
              0.01374823946
             ],
             "passed_time": 38.40733599,
             "remaining_time": 55.04117007,
             "test": [
              0.01211254167
             ]
            },
            {
             "iteration": 411,
             "learn": [
              0.01374097897
             ],
             "passed_time": 38.46640448,
             "remaining_time": 54.89865493,
             "test": [
              0.01211407868
             ]
            },
            {
             "iteration": 412,
             "learn": [
              0.01371792629
             ],
             "passed_time": 38.57197907,
             "remaining_time": 54.82264337,
             "test": [
              0.0120847531
             ]
            },
            {
             "iteration": 413,
             "learn": [
              0.01369830462
             ],
             "passed_time": 38.66170272,
             "remaining_time": 54.72405264,
             "test": [
              0.01208188289
             ]
            },
            {
             "iteration": 414,
             "learn": [
              0.01369193114
             ],
             "passed_time": 38.78367052,
             "remaining_time": 54.67095724,
             "test": [
              0.01207597726
             ]
            },
            {
             "iteration": 415,
             "learn": [
              0.01368873557
             ],
             "passed_time": 38.85459036,
             "remaining_time": 54.54586724,
             "test": [
              0.01207585688
             ]
            },
            {
             "iteration": 416,
             "learn": [
              0.01368451442
             ],
             "passed_time": 38.93629592,
             "remaining_time": 54.43611636,
             "test": [
              0.01206973912
             ]
            },
            {
             "iteration": 417,
             "learn": [
              0.01367141814
             ],
             "passed_time": 39.02066282,
             "remaining_time": 54.33020517,
             "test": [
              0.01206950444
             ]
            },
            {
             "iteration": 418,
             "learn": [
              0.01366287308
             ],
             "passed_time": 39.09669555,
             "remaining_time": 54.21284037,
             "test": [
              0.0120603403
             ]
            },
            {
             "iteration": 419,
             "learn": [
              0.01364933107
             ],
             "passed_time": 39.18325015,
             "remaining_time": 54.11020258,
             "test": [
              0.012054462
             ]
            },
            {
             "iteration": 420,
             "learn": [
              0.01364352925
             ],
             "passed_time": 39.27435643,
             "remaining_time": 54.01390112,
             "test": [
              0.01205505664
             ]
            },
            {
             "iteration": 421,
             "learn": [
              0.01364082454
             ],
             "passed_time": 39.38118442,
             "remaining_time": 53.93915781,
             "test": [
              0.01205223911
             ]
            },
            {
             "iteration": 422,
             "learn": [
              0.01363968427
             ],
             "passed_time": 39.50149587,
             "remaining_time": 53.88265512,
             "test": [
              0.01205174355
             ]
            },
            {
             "iteration": 423,
             "learn": [
              0.01363325521
             ],
             "passed_time": 39.58740786,
             "remaining_time": 53.77912011,
             "test": [
              0.01204878647
             ]
            },
            {
             "iteration": 424,
             "learn": [
              0.01363040674
             ],
             "passed_time": 39.67282785,
             "remaining_time": 53.67500239,
             "test": [
              0.01204700427
             ]
            },
            {
             "iteration": 425,
             "learn": [
              0.01362529943
             ],
             "passed_time": 39.76522722,
             "remaining_time": 53.58037658,
             "test": [
              0.0120420809
             ]
            },
            {
             "iteration": 426,
             "learn": [
              0.01361635342
             ],
             "passed_time": 39.85384619,
             "remaining_time": 53.48068821,
             "test": [
              0.01203866899
             ]
            },
            {
             "iteration": 427,
             "learn": [
              0.0136146354
             ],
             "passed_time": 39.95397344,
             "remaining_time": 53.3964318,
             "test": [
              0.01203797637
             ]
            },
            {
             "iteration": 428,
             "learn": [
              0.01360608901
             ],
             "passed_time": 40.11763952,
             "remaining_time": 53.39667171,
             "test": [
              0.01203260668
             ]
            },
            {
             "iteration": 429,
             "learn": [
              0.013604347
             ],
             "passed_time": 40.20254377,
             "remaining_time": 53.29174406,
             "test": [
              0.01203096343
             ]
            },
            {
             "iteration": 430,
             "learn": [
              0.01359941404
             ],
             "passed_time": 40.29423559,
             "remaining_time": 53.19587018,
             "test": [
              0.01202855777
             ]
            },
            {
             "iteration": 431,
             "learn": [
              0.01356699787
             ],
             "passed_time": 40.40080741,
             "remaining_time": 53.11958011,
             "test": [
              0.01200923662
             ]
            },
            {
             "iteration": 432,
             "learn": [
              0.01356209661
             ],
             "passed_time": 40.47602018,
             "remaining_time": 53.00208647,
             "test": [
              0.01199271718
             ]
            },
            {
             "iteration": 433,
             "learn": [
              0.01355993602
             ],
             "passed_time": 40.54527036,
             "remaining_time": 52.87701158,
             "test": [
              0.01199303819
             ]
            },
            {
             "iteration": 434,
             "learn": [
              0.01355314527
             ],
             "passed_time": 40.63496794,
             "remaining_time": 52.77875146,
             "test": [
              0.01198707695
             ]
            },
            {
             "iteration": 435,
             "learn": [
              0.01354945251
             ],
             "passed_time": 40.73443969,
             "remaining_time": 52.69317428,
             "test": [
              0.01198599134
             ]
            },
            {
             "iteration": 436,
             "learn": [
              0.01354800259
             ],
             "passed_time": 40.80901018,
             "remaining_time": 52.57545247,
             "test": [
              0.01198669274
             ]
            },
            {
             "iteration": 437,
             "learn": [
              0.01354133669
             ],
             "passed_time": 40.91007816,
             "remaining_time": 52.49192677,
             "test": [
              0.0119810741
             ]
            },
            {
             "iteration": 438,
             "learn": [
              0.01353678993
             ],
             "passed_time": 41.03151218,
             "remaining_time": 52.434347,
             "test": [
              0.01197683692
             ]
            },
            {
             "iteration": 439,
             "learn": [
              0.01353601062
             ],
             "passed_time": 41.12306813,
             "remaining_time": 52.33845035,
             "test": [
              0.01197683246
             ]
            },
            {
             "iteration": 440,
             "learn": [
              0.01352534929
             ],
             "passed_time": 41.22758462,
             "remaining_time": 52.25900182,
             "test": [
              0.01196824209
             ]
            },
            {
             "iteration": 441,
             "learn": [
              0.01352475271
             ],
             "passed_time": 41.33484188,
             "remaining_time": 52.18289993,
             "test": [
              0.01196748147
             ]
            },
            {
             "iteration": 442,
             "learn": [
              0.01351510894
             ],
             "passed_time": 41.42973264,
             "remaining_time": 52.09110854,
             "test": [
              0.01195909092
             ]
            },
            {
             "iteration": 443,
             "learn": [
              0.01351385056
             ],
             "passed_time": 41.4942027,
             "remaining_time": 51.96120878,
             "test": [
              0.01195996126
             ]
            },
            {
             "iteration": 444,
             "learn": [
              0.0135128318
             ],
             "passed_time": 41.59213814,
             "remaining_time": 51.87334083,
             "test": [
              0.01195855508
             ]
            },
            {
             "iteration": 445,
             "learn": [
              0.01350846568
             ],
             "passed_time": 41.69270019,
             "remaining_time": 51.78869037,
             "test": [
              0.01195446511
             ]
            },
            {
             "iteration": 446,
             "learn": [
              0.01350549684
             ],
             "passed_time": 41.78190965,
             "remaining_time": 51.68992402,
             "test": [
              0.01195231589
             ]
            },
            {
             "iteration": 447,
             "learn": [
              0.01349985075
             ],
             "passed_time": 41.86713448,
             "remaining_time": 51.5862907,
             "test": [
              0.01194806112
             ]
            },
            {
             "iteration": 448,
             "learn": [
              0.0134844733
             ],
             "passed_time": 41.97613427,
             "remaining_time": 51.51191533,
             "test": [
              0.01193715672
             ]
            },
            {
             "iteration": 449,
             "learn": [
              0.01346666593
             ],
             "passed_time": 42.06770089,
             "remaining_time": 51.41607886,
             "test": [
              0.01193296608
             ]
            },
            {
             "iteration": 450,
             "learn": [
              0.01346570032
             ],
             "passed_time": 42.15624007,
             "remaining_time": 51.31657605,
             "test": [
              0.01193270398
             ]
            },
            {
             "iteration": 451,
             "learn": [
              0.01345313351
             ],
             "passed_time": 42.27552497,
             "remaining_time": 51.25439752,
             "test": [
              0.01191912237
             ]
            },
            {
             "iteration": 452,
             "learn": [
              0.01344653524
             ],
             "passed_time": 42.36987887,
             "remaining_time": 51.16186257,
             "test": [
              0.01191206498
             ]
            },
            {
             "iteration": 453,
             "learn": [
              0.01343536596
             ],
             "passed_time": 42.46028962,
             "remaining_time": 51.06457738,
             "test": [
              0.01190763137
             ]
            },
            {
             "iteration": 454,
             "learn": [
              0.01343271453
             ],
             "passed_time": 42.54443057,
             "remaining_time": 50.95981244,
             "test": [
              0.01190686634
             ]
            },
            {
             "iteration": 455,
             "learn": [
              0.01342189753
             ],
             "passed_time": 42.63383992,
             "remaining_time": 50.86142307,
             "test": [
              0.01189575551
             ]
            },
            {
             "iteration": 456,
             "learn": [
              0.01341783354
             ],
             "passed_time": 42.73877039,
             "remaining_time": 50.78151493,
             "test": [
              0.01189582042
             ]
            },
            {
             "iteration": 457,
             "learn": [
              0.01340574969
             ],
             "passed_time": 42.84136375,
             "remaining_time": 50.69873177,
             "test": [
              0.01188439693
             ]
            },
            {
             "iteration": 458,
             "learn": [
              0.01339635399
             ],
             "passed_time": 42.9223242,
             "remaining_time": 50.59036469,
             "test": [
              0.011886331
             ]
            },
            {
             "iteration": 459,
             "learn": [
              0.01336249227
             ],
             "passed_time": 43.0260841,
             "remaining_time": 50.50888134,
             "test": [
              0.01187183019
             ]
            },
            {
             "iteration": 460,
             "learn": [
              0.01336002604
             ],
             "passed_time": 43.12585495,
             "remaining_time": 50.42263735,
             "test": [
              0.01187205155
             ]
            },
            {
             "iteration": 461,
             "learn": [
              0.01334661109
             ],
             "passed_time": 43.22362529,
             "remaining_time": 50.33400521,
             "test": [
              0.01186680946
             ]
            },
            {
             "iteration": 462,
             "learn": [
              0.01333739627
             ],
             "passed_time": 43.31717215,
             "remaining_time": 50.24043509,
             "test": [
              0.01185872041
             ]
            },
            {
             "iteration": 463,
             "learn": [
              0.01333380742
             ],
             "passed_time": 43.42477327,
             "remaining_time": 50.16310015,
             "test": [
              0.01185595878
             ]
            },
            {
             "iteration": 464,
             "learn": [
              0.0133321172
             ],
             "passed_time": 43.53950134,
             "remaining_time": 50.09383487,
             "test": [
              0.01185552551
             ]
            },
            {
             "iteration": 465,
             "learn": [
              0.01333085191
             ],
             "passed_time": 43.62174585,
             "remaining_time": 49.98715083,
             "test": [
              0.01185363386
             ]
            },
            {
             "iteration": 466,
             "learn": [
              0.01332141623
             ],
             "passed_time": 43.73166264,
             "remaining_time": 49.91215458,
             "test": [
              0.01184643479
             ]
            },
            {
             "iteration": 467,
             "learn": [
              0.013321202
             ],
             "passed_time": 43.81990676,
             "remaining_time": 49.81237264,
             "test": [
              0.01184600426
             ]
            },
            {
             "iteration": 468,
             "learn": [
              0.01331744212
             ],
             "passed_time": 43.90313832,
             "remaining_time": 49.70696471,
             "test": [
              0.01184607157
             ]
            },
            {
             "iteration": 469,
             "learn": [
              0.01331501165
             ],
             "passed_time": 43.98589035,
             "remaining_time": 49.6011104,
             "test": [
              0.01184702332
             ]
            },
            {
             "iteration": 470,
             "learn": [
              0.01331230068
             ],
             "passed_time": 44.07082917,
             "remaining_time": 49.49781026,
             "test": [
              0.011845714
             ]
            },
            {
             "iteration": 471,
             "learn": [
              0.01331049254
             ],
             "passed_time": 44.15749817,
             "remaining_time": 49.39652337,
             "test": [
              0.01184345091
             ]
            },
            {
             "iteration": 472,
             "learn": [
              0.01329939052
             ],
             "passed_time": 44.24653588,
             "remaining_time": 49.29793744,
             "test": [
              0.01184274134
             ]
            },
            {
             "iteration": 473,
             "learn": [
              0.01329401963
             ],
             "passed_time": 44.33172661,
             "remaining_time": 49.19512278,
             "test": [
              0.01183862636
             ]
            },
            {
             "iteration": 474,
             "learn": [
              0.01327046817
             ],
             "passed_time": 44.42198623,
             "remaining_time": 49.09798478,
             "test": [
              0.01181837469
             ]
            },
            {
             "iteration": 475,
             "learn": [
              0.01326397953
             ],
             "passed_time": 44.52420819,
             "remaining_time": 49.01404431,
             "test": [
              0.01181221079
             ]
            },
            {
             "iteration": 476,
             "learn": [
              0.01326181643
             ],
             "passed_time": 44.59168384,
             "remaining_time": 48.89193008,
             "test": [
              0.01181278924
             ]
            },
            {
             "iteration": 477,
             "learn": [
              0.01324303612
             ],
             "passed_time": 44.7095069,
             "remaining_time": 48.82502636,
             "test": [
              0.0117998943
             ]
            },
            {
             "iteration": 478,
             "learn": [
              0.01324145548
             ],
             "passed_time": 44.77148721,
             "remaining_time": 48.69717084,
             "test": [
              0.01180038889
             ]
            },
            {
             "iteration": 479,
             "learn": [
              0.01323804153
             ],
             "passed_time": 44.83327716,
             "remaining_time": 48.56938359,
             "test": [
              0.01179978097
             ]
            },
            {
             "iteration": 480,
             "learn": [
              0.01322812789
             ],
             "passed_time": 44.94372977,
             "remaining_time": 48.49437786,
             "test": [
              0.01179167165
             ]
            },
            {
             "iteration": 481,
             "learn": [
              0.01322098559
             ],
             "passed_time": 45.04730936,
             "remaining_time": 48.41183869,
             "test": [
              0.01179476376
             ]
            },
            {
             "iteration": 482,
             "learn": [
              0.01318624638
             ],
             "passed_time": 45.15176217,
             "remaining_time": 48.33014709,
             "test": [
              0.01175302781
             ]
            },
            {
             "iteration": 483,
             "learn": [
              0.01317793559
             ],
             "passed_time": 45.25029184,
             "remaining_time": 48.24204667,
             "test": [
              0.01172687827
             ]
            },
            {
             "iteration": 484,
             "learn": [
              0.01316851144
             ],
             "passed_time": 45.33984482,
             "remaining_time": 48.1443713,
             "test": [
              0.01171207641
             ]
            },
            {
             "iteration": 485,
             "learn": [
              0.01316239208
             ],
             "passed_time": 45.44341614,
             "remaining_time": 48.06155535,
             "test": [
              0.01171265179
             ]
            },
            {
             "iteration": 486,
             "learn": [
              0.01315398165
             ],
             "passed_time": 45.51976318,
             "remaining_time": 47.94997641,
             "test": [
              0.01171332224
             ]
            },
            {
             "iteration": 487,
             "learn": [
              0.01315259485
             ],
             "passed_time": 45.61724762,
             "remaining_time": 47.86071881,
             "test": [
              0.01171297451
             ]
            },
            {
             "iteration": 488,
             "learn": [
              0.013147034
             ],
             "passed_time": 45.72353544,
             "remaining_time": 47.78062701,
             "test": [
              0.0117087208
             ]
            },
            {
             "iteration": 489,
             "learn": [
              0.01314341358
             ],
             "passed_time": 45.80595527,
             "remaining_time": 47.6755861,
             "test": [
              0.01170710176
             ]
            },
            {
             "iteration": 490,
             "learn": [
              0.01314154204
             ],
             "passed_time": 45.90300651,
             "remaining_time": 47.58580512,
             "test": [
              0.01170644795
             ]
            },
            {
             "iteration": 491,
             "learn": [
              0.01312085108
             ],
             "passed_time": 46.02718467,
             "remaining_time": 47.52400369,
             "test": [
              0.01168865819
             ]
            },
            {
             "iteration": 492,
             "learn": [
              0.01311787582
             ],
             "passed_time": 46.08819173,
             "remaining_time": 47.3969842,
             "test": [
              0.01168757916
             ]
            },
            {
             "iteration": 493,
             "learn": [
              0.01310178771
             ],
             "passed_time": 46.17991343,
             "remaining_time": 47.3016927,
             "test": [
              0.01168475659
             ]
            },
            {
             "iteration": 494,
             "learn": [
              0.01308950896
             ],
             "passed_time": 46.27707026,
             "remaining_time": 47.21196057,
             "test": [
              0.01166770223
             ]
            },
            {
             "iteration": 495,
             "learn": [
              0.01308812871
             ],
             "passed_time": 46.3585035,
             "remaining_time": 47.10622129,
             "test": [
              0.01166863155
             ]
            },
            {
             "iteration": 496,
             "learn": [
              0.01308443067
             ],
             "passed_time": 46.45309015,
             "remaining_time": 47.01389205,
             "test": [
              0.01166515124
             ]
            },
            {
             "iteration": 497,
             "learn": [
              0.01307920934
             ],
             "passed_time": 46.54467593,
             "remaining_time": 46.91852875,
             "test": [
              0.01166112721
             ]
            },
            {
             "iteration": 498,
             "learn": [
              0.01306151748
             ],
             "passed_time": 46.633109,
             "remaining_time": 46.82001525,
             "test": [
              0.01164791931
             ]
            },
            {
             "iteration": 499,
             "learn": [
              0.01305494686
             ],
             "passed_time": 46.69801011,
             "remaining_time": 46.69801011,
             "test": [
              0.01164262799
             ]
            },
            {
             "iteration": 500,
             "learn": [
              0.01305284158
             ],
             "passed_time": 46.79904308,
             "remaining_time": 46.61222055,
             "test": [
              0.01163998706
             ]
            },
            {
             "iteration": 501,
             "learn": [
              0.01304850002
             ],
             "passed_time": 46.90869812,
             "remaining_time": 46.53492363,
             "test": [
              0.01163661528
             ]
            },
            {
             "iteration": 502,
             "learn": [
              0.0130465428
             ],
             "passed_time": 46.9931933,
             "remaining_time": 46.43263831,
             "test": [
              0.0116369734
             ]
            },
            {
             "iteration": 503,
             "learn": [
              0.01304284419
             ],
             "passed_time": 47.09290289,
             "remaining_time": 46.34539649,
             "test": [
              0.01163524099
             ]
            },
            {
             "iteration": 504,
             "learn": [
              0.01304257111
             ],
             "passed_time": 47.18769337,
             "remaining_time": 46.2532836,
             "test": [
              0.01163526248
             ]
            },
            {
             "iteration": 505,
             "learn": [
              0.01303611954
             ],
             "passed_time": 47.2715219,
             "remaining_time": 46.15045814,
             "test": [
              0.0116316263
             ]
            },
            {
             "iteration": 506,
             "learn": [
              0.01303293423
             ],
             "passed_time": 47.38305185,
             "remaining_time": 46.0746441,
             "test": [
              0.01162976885
             ]
            },
            {
             "iteration": 507,
             "learn": [
              0.01303049001
             ],
             "passed_time": 47.48290731,
             "remaining_time": 45.98738267,
             "test": [
              0.01162741132
             ]
            },
            {
             "iteration": 508,
             "learn": [
              0.01301502412
             ],
             "passed_time": 47.59537172,
             "remaining_time": 45.9122348,
             "test": [
              0.01161912026
             ]
            },
            {
             "iteration": 509,
             "learn": [
              0.0130094035
             ],
             "passed_time": 47.69872717,
             "remaining_time": 45.82818885,
             "test": [
              0.01161318461
             ]
            },
            {
             "iteration": 510,
             "learn": [
              0.01300094641
             ],
             "passed_time": 47.80895822,
             "remaining_time": 45.75064691,
             "test": [
              0.01160646989
             ]
            },
            {
             "iteration": 511,
             "learn": [
              0.01299425919
             ],
             "passed_time": 47.90973905,
             "remaining_time": 45.66397003,
             "test": [
              0.0116043281
             ]
            },
            {
             "iteration": 512,
             "learn": [
              0.01299098897
             ],
             "passed_time": 48.00729971,
             "remaining_time": 45.5741812,
             "test": [
              0.01160265229
             ]
            },
            {
             "iteration": 513,
             "learn": [
              0.01297768179
             ],
             "passed_time": 48.10601969,
             "remaining_time": 45.4854583,
             "test": [
              0.01159667221
             ]
            },
            {
             "iteration": 514,
             "learn": [
              0.01296496133
             ],
             "passed_time": 48.20270329,
             "remaining_time": 45.39477883,
             "test": [
              0.01157893355
             ]
            },
            {
             "iteration": 515,
             "learn": [
              0.01296290424
             ],
             "passed_time": 48.29129439,
             "remaining_time": 45.29648544,
             "test": [
              0.011579143
             ]
            },
            {
             "iteration": 516,
             "learn": [
              0.01296065802
             ],
             "passed_time": 48.38998098,
             "remaining_time": 45.20766115,
             "test": [
              0.01158168427
             ]
            },
            {
             "iteration": 517,
             "learn": [
              0.01294799936
             ],
             "passed_time": 48.48505436,
             "remaining_time": 45.11543668,
             "test": [
              0.01157527478
             ]
            },
            {
             "iteration": 518,
             "learn": [
              0.01293907528
             ],
             "passed_time": 48.59101319,
             "remaining_time": 45.03328968,
             "test": [
              0.01156647052
             ]
            },
            {
             "iteration": 519,
             "learn": [
              0.012938022
             ],
             "passed_time": 48.65859106,
             "remaining_time": 44.91562251,
             "test": [
              0.01156643267
             ]
            },
            {
             "iteration": 520,
             "learn": [
              0.01292628873
             ],
             "passed_time": 48.74810279,
             "remaining_time": 44.81831331,
             "test": [
              0.01155967154
             ]
            },
            {
             "iteration": 521,
             "learn": [
              0.01292360065
             ],
             "passed_time": 48.82457633,
             "remaining_time": 44.7090948,
             "test": [
              0.01155931936
             ]
            },
            {
             "iteration": 522,
             "learn": [
              0.01291713393
             ],
             "passed_time": 48.90531774,
             "remaining_time": 44.603894,
             "test": [
              0.01156050429
             ]
            },
            {
             "iteration": 523,
             "learn": [
              0.01291342418
             ],
             "passed_time": 49.00018412,
             "remaining_time": 44.51161763,
             "test": [
              0.01155810128
             ]
            },
            {
             "iteration": 524,
             "learn": [
              0.01290449505
             ],
             "passed_time": 49.06771462,
             "remaining_time": 44.39459894,
             "test": [
              0.01156248647
             ]
            },
            {
             "iteration": 525,
             "learn": [
              0.01289694468
             ],
             "passed_time": 49.1855516,
             "remaining_time": 44.32310163,
             "test": [
              0.01155715866
             ]
            },
            {
             "iteration": 526,
             "learn": [
              0.01289460463
             ],
             "passed_time": 49.29188681,
             "remaining_time": 44.24110524,
             "test": [
              0.01155617712
             ]
            },
            {
             "iteration": 527,
             "learn": [
              0.01289292773
             ],
             "passed_time": 49.37914135,
             "remaining_time": 44.14195969,
             "test": [
              0.01155624812
             ]
            },
            {
             "iteration": 528,
             "learn": [
              0.01289046274
             ],
             "passed_time": 49.47777915,
             "remaining_time": 44.05299429,
             "test": [
              0.01155356292
             ]
            },
            {
             "iteration": 529,
             "learn": [
              0.01288392825
             ],
             "passed_time": 49.59593271,
             "remaining_time": 43.98129882,
             "test": [
              0.01154782392
             ]
            },
            {
             "iteration": 530,
             "learn": [
              0.01287303933
             ],
             "passed_time": 49.69973192,
             "remaining_time": 43.89675004,
             "test": [
              0.01153252495
             ]
            },
            {
             "iteration": 531,
             "learn": [
              0.0128621364
             ],
             "passed_time": 49.80852964,
             "remaining_time": 43.81652607,
             "test": [
              0.01152399296
             ]
            },
            {
             "iteration": 532,
             "learn": [
              0.01284875713
             ],
             "passed_time": 49.92347709,
             "remaining_time": 43.74158312,
             "test": [
              0.01150873312
             ]
            },
            {
             "iteration": 533,
             "learn": [
              0.01284665429
             ],
             "passed_time": 50.0696131,
             "remaining_time": 43.69370731,
             "test": [
              0.01150657384
             ]
            },
            {
             "iteration": 534,
             "learn": [
              0.01284232274
             ],
             "passed_time": 50.16857575,
             "remaining_time": 43.60446303,
             "test": [
              0.01150670294
             ]
            },
            {
             "iteration": 535,
             "learn": [
              0.01283334163
             ],
             "passed_time": 50.27728346,
             "remaining_time": 43.52361852,
             "test": [
              0.01150455981
             ]
            },
            {
             "iteration": 536,
             "learn": [
              0.01282904009
             ],
             "passed_time": 50.36316438,
             "remaining_time": 43.42298903,
             "test": [
              0.01150863268
             ]
            },
            {
             "iteration": 537,
             "learn": [
              0.01281606466
             ],
             "passed_time": 50.48425674,
             "remaining_time": 43.3526517,
             "test": [
              0.01149871732
             ]
            },
            {
             "iteration": 538,
             "learn": [
              0.01281457178
             ],
             "passed_time": 50.58466157,
             "remaining_time": 43.26443225,
             "test": [
              0.01149782257
             ]
            },
            {
             "iteration": 539,
             "learn": [
              0.01281215524
             ],
             "passed_time": 50.6851993,
             "remaining_time": 43.17628089,
             "test": [
              0.01149767857
             ]
            },
            {
             "iteration": 540,
             "learn": [
              0.01281134205
             ],
             "passed_time": 50.78430915,
             "remaining_time": 43.08687228,
             "test": [
              0.01149724617
             ]
            },
            {
             "iteration": 541,
             "learn": [
              0.0128100214
             ],
             "passed_time": 50.88172028,
             "remaining_time": 42.99599242,
             "test": [
              0.01149544862
             ]
            },
            {
             "iteration": 542,
             "learn": [
              0.01280128224
             ],
             "passed_time": 50.99572699,
             "remaining_time": 42.91905568,
             "test": [
              0.01147838606
             ]
            },
            {
             "iteration": 543,
             "learn": [
              0.0127904652
             ],
             "passed_time": 51.10031042,
             "remaining_time": 42.83408374,
             "test": [
              0.01146982417
             ]
            },
            {
             "iteration": 544,
             "learn": [
              0.01278616775
             ],
             "passed_time": 51.19423161,
             "remaining_time": 42.74013832,
             "test": [
              0.01147066717
             ]
            },
            {
             "iteration": 545,
             "learn": [
              0.01278196461
             ],
             "passed_time": 51.32324115,
             "remaining_time": 42.67536901,
             "test": [
              0.01146699291
             ]
            },
            {
             "iteration": 546,
             "learn": [
              0.01278017544
             ],
             "passed_time": 51.40138929,
             "remaining_time": 42.56824378,
             "test": [
              0.01146435233
             ]
            },
            {
             "iteration": 547,
             "learn": [
              0.01276088039
             ],
             "passed_time": 51.50530725,
             "remaining_time": 42.4824797,
             "test": [
              0.01143422604
             ]
            },
            {
             "iteration": 548,
             "learn": [
              0.01275362082
             ],
             "passed_time": 51.59574921,
             "remaining_time": 42.38557904,
             "test": [
              0.01143373408
             ]
            },
            {
             "iteration": 549,
             "learn": [
              0.01275110214
             ],
             "passed_time": 51.68975298,
             "remaining_time": 42.29161608,
             "test": [
              0.01143152404
             ]
            },
            {
             "iteration": 550,
             "learn": [
              0.01274954308
             ],
             "passed_time": 51.78102869,
             "remaining_time": 42.19542991,
             "test": [
              0.01142907557
             ]
            },
            {
             "iteration": 551,
             "learn": [
              0.0127468867
             ],
             "passed_time": 51.84654017,
             "remaining_time": 42.07835144,
             "test": [
              0.01142917895
             ]
            },
            {
             "iteration": 552,
             "learn": [
              0.01273702969
             ],
             "passed_time": 51.96651278,
             "remaining_time": 42.00548139,
             "test": [
              0.01142202653
             ]
            },
            {
             "iteration": 553,
             "learn": [
              0.01273122371
             ],
             "passed_time": 52.06433143,
             "remaining_time": 41.91460617,
             "test": [
              0.01141730746
             ]
            },
            {
             "iteration": 554,
             "learn": [
              0.0127214114
             ],
             "passed_time": 52.15173334,
             "remaining_time": 41.81535376,
             "test": [
              0.01142037328
             ]
            },
            {
             "iteration": 555,
             "learn": [
              0.01271110211
             ],
             "passed_time": 52.24028249,
             "remaining_time": 41.71706011,
             "test": [
              0.01140370366
             ]
            },
            {
             "iteration": 556,
             "learn": [
              0.01270458432
             ],
             "passed_time": 52.33216465,
             "remaining_time": 41.62145231,
             "test": [
              0.01139703651
             ]
            },
            {
             "iteration": 557,
             "learn": [
              0.01270336669
             ],
             "passed_time": 52.42192501,
             "remaining_time": 41.52417716,
             "test": [
              0.01139569616
             ]
            },
            {
             "iteration": 558,
             "learn": [
              0.01269539299
             ],
             "passed_time": 52.48518576,
             "remaining_time": 41.40602312,
             "test": [
              0.01139009087
             ]
            },
            {
             "iteration": 559,
             "learn": [
              0.01269514285
             ],
             "passed_time": 52.59059991,
             "remaining_time": 41.32118565,
             "test": [
              0.01138952931
             ]
            },
            {
             "iteration": 560,
             "learn": [
              0.01269126283
             ],
             "passed_time": 52.67410268,
             "remaining_time": 41.21912847,
             "test": [
              0.01138665178
             ]
            },
            {
             "iteration": 561,
             "learn": [
              0.01267646078
             ],
             "passed_time": 52.76545402,
             "remaining_time": 41.1232542,
             "test": [
              0.01137929059
             ]
            },
            {
             "iteration": 562,
             "learn": [
              0.01266922646
             ],
             "passed_time": 52.8658858,
             "remaining_time": 41.03444421,
             "test": [
              0.01137133236
             ]
            },
            {
             "iteration": 563,
             "learn": [
              0.01266153986
             ],
             "passed_time": 52.96533644,
             "remaining_time": 40.94483456,
             "test": [
              0.01136305543
             ]
            },
            {
             "iteration": 564,
             "learn": [
              0.01264985321
             ],
             "passed_time": 53.08489942,
             "remaining_time": 40.87067478,
             "test": [
              0.01135748538
             ]
            },
            {
             "iteration": 565,
             "learn": [
              0.01263493899
             ],
             "passed_time": 53.18846178,
             "remaining_time": 40.78408553,
             "test": [
              0.01133875816
             ]
            },
            {
             "iteration": 566,
             "learn": [
              0.01262392704
             ],
             "passed_time": 53.30716013,
             "remaining_time": 40.7089953,
             "test": [
              0.01133353964
             ]
            },
            {
             "iteration": 567,
             "learn": [
              0.01261425067
             ],
             "passed_time": 53.41971703,
             "remaining_time": 40.62908056,
             "test": [
              0.01131576219
             ]
            },
            {
             "iteration": 568,
             "learn": [
              0.01260905097
             ],
             "passed_time": 53.51180841,
             "remaining_time": 40.53354908,
             "test": [
              0.01131208223
             ]
            },
            {
             "iteration": 569,
             "learn": [
              0.0126034469
             ],
             "passed_time": 53.61161156,
             "remaining_time": 40.44384731,
             "test": [
              0.01131078786
             ]
            },
            {
             "iteration": 570,
             "learn": [
              0.01257960851
             ],
             "passed_time": 53.70428004,
             "remaining_time": 40.34874981,
             "test": [
              0.01129591608
             ]
            },
            {
             "iteration": 571,
             "learn": [
              0.01257573279
             ],
             "passed_time": 53.78536446,
             "remaining_time": 40.24499299,
             "test": [
              0.01129582734
             ]
            },
            {
             "iteration": 572,
             "learn": [
              0.01257425107
             ],
             "passed_time": 53.84538834,
             "remaining_time": 40.12562098,
             "test": [
              0.0112935311
             ]
            },
            {
             "iteration": 573,
             "learn": [
              0.01255848924
             ],
             "passed_time": 53.94336902,
             "remaining_time": 40.03462579,
             "test": [
              0.01129602542
             ]
            },
            {
             "iteration": 574,
             "learn": [
              0.01254401217
             ],
             "passed_time": 54.05456918,
             "remaining_time": 39.95337722,
             "test": [
              0.01128110803
             ]
            },
            {
             "iteration": 575,
             "learn": [
              0.01253952203
             ],
             "passed_time": 54.16780045,
             "remaining_time": 39.87351978,
             "test": [
              0.0112822149
             ]
            },
            {
             "iteration": 576,
             "learn": [
              0.01253636276
             ],
             "passed_time": 54.28230954,
             "remaining_time": 39.79448343,
             "test": [
              0.01128387274
             ]
            },
            {
             "iteration": 577,
             "learn": [
              0.01252846475
             ],
             "passed_time": 54.37353714,
             "remaining_time": 39.69832642,
             "test": [
              0.01128057623
             ]
            },
            {
             "iteration": 578,
             "learn": [
              0.01251823637
             ],
             "passed_time": 54.45710014,
             "remaining_time": 39.5966134,
             "test": [
              0.01127264678
             ]
            },
            {
             "iteration": 579,
             "learn": [
              0.01251127489
             ],
             "passed_time": 54.55349124,
             "remaining_time": 39.50425228,
             "test": [
              0.01126511396
             ]
            },
            {
             "iteration": 580,
             "learn": [
              0.01249633041
             ],
             "passed_time": 54.63868864,
             "remaining_time": 39.40380471,
             "test": [
              0.01125274595
             ]
            },
            {
             "iteration": 581,
             "learn": [
              0.01249470202
             ],
             "passed_time": 54.73581232,
             "remaining_time": 39.31197517,
             "test": [
              0.01125227103
             ]
            },
            {
             "iteration": 582,
             "learn": [
              0.01249007199
             ],
             "passed_time": 54.81177272,
             "remaining_time": 39.20499009,
             "test": [
              0.01125219084
             ]
            },
            {
             "iteration": 583,
             "learn": [
              0.01247645705
             ],
             "passed_time": 54.87388555,
             "remaining_time": 39.08824724,
             "test": [
              0.01124089738
             ]
            },
            {
             "iteration": 584,
             "learn": [
              0.01247371461
             ],
             "passed_time": 54.94498418,
             "remaining_time": 38.9780657,
             "test": [
              0.01124075786
             ]
            },
            {
             "iteration": 585,
             "learn": [
              0.0124685514
             ],
             "passed_time": 55.02893747,
             "remaining_time": 38.87709917,
             "test": [
              0.01123728893
             ]
            },
            {
             "iteration": 586,
             "learn": [
              0.01246652581
             ],
             "passed_time": 55.1367633,
             "remaining_time": 38.79298678,
             "test": [
              0.01123584212
             ]
            },
            {
             "iteration": 587,
             "learn": [
              0.01245724959
             ],
             "passed_time": 55.2472244,
             "remaining_time": 38.71064022,
             "test": [
              0.01122986566
             ]
            },
            {
             "iteration": 588,
             "learn": [
              0.01245325635
             ],
             "passed_time": 55.34924649,
             "remaining_time": 38.62230952,
             "test": [
              0.01122352808
             ]
            },
            {
             "iteration": 589,
             "learn": [
              0.01243686193
             ],
             "passed_time": 55.45956401,
             "remaining_time": 38.53969702,
             "test": [
              0.01120917315
             ]
            },
            {
             "iteration": 590,
             "learn": [
              0.01243331507
             ],
             "passed_time": 55.55502541,
             "remaining_time": 38.44670963,
             "test": [
              0.01120495353
             ]
            },
            {
             "iteration": 591,
             "learn": [
              0.0124291927
             ],
             "passed_time": 55.66158477,
             "remaining_time": 38.36136247,
             "test": [
              0.01120149002
             ]
            },
            {
             "iteration": 592,
             "learn": [
              0.01241357138
             ],
             "passed_time": 55.76070266,
             "remaining_time": 38.2708364,
             "test": [
              0.01119265466
             ]
            },
            {
             "iteration": 593,
             "learn": [
              0.01240470837
             ],
             "passed_time": 55.84654297,
             "remaining_time": 38.17120614,
             "test": [
              0.01119051136
             ]
            },
            {
             "iteration": 594,
             "learn": [
              0.01240259667
             ],
             "passed_time": 55.96224352,
             "remaining_time": 38.09194727,
             "test": [
              0.01118966498
             ]
            },
            {
             "iteration": 595,
             "learn": [
              0.01239289376
             ],
             "passed_time": 56.05201803,
             "remaining_time": 37.99499209,
             "test": [
              0.01118866321
             ]
            },
            {
             "iteration": 596,
             "learn": [
              0.01238312352
             ],
             "passed_time": 56.12903743,
             "remaining_time": 37.88945073,
             "test": [
              0.01117846125
             ]
            },
            {
             "iteration": 597,
             "learn": [
              0.01237645553
             ],
             "passed_time": 56.21532464,
             "remaining_time": 37.79023496,
             "test": [
              0.01117805256
             ]
            },
            {
             "iteration": 598,
             "learn": [
              0.01237322666
             ],
             "passed_time": 56.30076313,
             "remaining_time": 37.69049418,
             "test": [
              0.01117519327
             ]
            },
            {
             "iteration": 599,
             "learn": [
              0.01236844539
             ],
             "passed_time": 56.39626116,
             "remaining_time": 37.59750744,
             "test": [
              0.01117209186
             ]
            },
            {
             "iteration": 600,
             "learn": [
              0.01235734597
             ],
             "passed_time": 56.51419812,
             "remaining_time": 37.5194094,
             "test": [
              0.01116856017
             ]
            },
            {
             "iteration": 601,
             "learn": [
              0.01234672814
             ],
             "passed_time": 56.62155636,
             "remaining_time": 37.4341851,
             "test": [
              0.01116057138
             ]
            },
            {
             "iteration": 602,
             "learn": [
              0.01233773353
             ],
             "passed_time": 56.7415262,
             "remaining_time": 37.35719055,
             "test": [
              0.01115441861
             ]
            },
            {
             "iteration": 603,
             "learn": [
              0.0123365939
             ],
             "passed_time": 56.85627361,
             "remaining_time": 37.27662972,
             "test": [
              0.0111534485
             ]
            },
            {
             "iteration": 604,
             "learn": [
              0.01233601891
             ],
             "passed_time": 56.96476878,
             "remaining_time": 37.19187383,
             "test": [
              0.01115268544
             ]
            },
            {
             "iteration": 605,
             "learn": [
              0.01233252331
             ],
             "passed_time": 57.04898787,
             "remaining_time": 37.09125614,
             "test": [
              0.01115112109
             ]
            },
            {
             "iteration": 606,
             "learn": [
              0.01233040636
             ],
             "passed_time": 57.12947204,
             "remaining_time": 36.98827432,
             "test": [
              0.01115106639
             ]
            },
            {
             "iteration": 607,
             "learn": [
              0.01232905417
             ],
             "passed_time": 57.21362338,
             "remaining_time": 36.88773086,
             "test": [
              0.01115016266
             ]
            },
            {
             "iteration": 608,
             "learn": [
              0.01232041752
             ],
             "passed_time": 57.31740982,
             "remaining_time": 36.79984769,
             "test": [
              0.01114466784
             ]
            },
            {
             "iteration": 609,
             "learn": [
              0.01231764587
             ],
             "passed_time": 57.42603991,
             "remaining_time": 36.71500913,
             "test": [
              0.01114077077
             ]
            },
            {
             "iteration": 610,
             "learn": [
              0.01231576349
             ],
             "passed_time": 57.52798196,
             "remaining_time": 36.62583467,
             "test": [
              0.01114247004
             ]
            },
            {
             "iteration": 611,
             "learn": [
              0.0123098502
             ],
             "passed_time": 57.61287919,
             "remaining_time": 36.52581229,
             "test": [
              0.01114286059
             ]
            },
            {
             "iteration": 612,
             "learn": [
              0.01230789959
             ],
             "passed_time": 57.71417308,
             "remaining_time": 36.43619083,
             "test": [
              0.01114126588
             ]
            },
            {
             "iteration": 613,
             "learn": [
              0.01229882029
             ],
             "passed_time": 57.80971559,
             "remaining_time": 36.34291566,
             "test": [
              0.0111476024
             ]
            },
            {
             "iteration": 614,
             "learn": [
              0.01228679665
             ],
             "passed_time": 57.91564939,
             "remaining_time": 36.25613824,
             "test": [
              0.01113931995
             ]
            },
            {
             "iteration": 615,
             "learn": [
              0.01228191457
             ],
             "passed_time": 58.02284048,
             "remaining_time": 36.17008237,
             "test": [
              0.01113688883
             ]
            },
            {
             "iteration": 616,
             "learn": [
              0.01227126314
             ],
             "passed_time": 58.13432218,
             "remaining_time": 36.08662139,
             "test": [
              0.01112975879
             ]
            },
            {
             "iteration": 617,
             "learn": [
              0.01226442163
             ],
             "passed_time": 58.2421322,
             "remaining_time": 36.00080016,
             "test": [
              0.01112364869
             ]
            },
            {
             "iteration": 618,
             "learn": [
              0.01225987588
             ],
             "passed_time": 58.33184277,
             "remaining_time": 35.90376752,
             "test": [
              0.01111996354
             ]
            },
            {
             "iteration": 619,
             "learn": [
              0.01225641521
             ],
             "passed_time": 58.44424525,
             "remaining_time": 35.82066645,
             "test": [
              0.01112015306
             ]
            },
            {
             "iteration": 620,
             "learn": [
              0.01225405661
             ],
             "passed_time": 58.54011539,
             "remaining_time": 35.72738121,
             "test": [
              0.01112023569
             ]
            },
            {
             "iteration": 621,
             "learn": [
              0.01225062757
             ],
             "passed_time": 58.62480275,
             "remaining_time": 35.6272917,
             "test": [
              0.01112111803
             ]
            },
            {
             "iteration": 622,
             "learn": [
              0.01224413847
             ],
             "passed_time": 58.72784504,
             "remaining_time": 35.53835888,
             "test": [
              0.01111533096
             ]
            },
            {
             "iteration": 623,
             "learn": [
              0.0122341785
             ],
             "passed_time": 58.83434511,
             "remaining_time": 35.45146436,
             "test": [
              0.01110999278
             ]
            },
            {
             "iteration": 624,
             "learn": [
              0.01222268935
             ],
             "passed_time": 58.949309,
             "remaining_time": 35.3695854,
             "test": [
              0.01109985458
             ]
            },
            {
             "iteration": 625,
             "learn": [
              0.01221778877
             ],
             "passed_time": 59.04801562,
             "remaining_time": 35.27788793,
             "test": [
              0.01109394737
             ]
            },
            {
             "iteration": 626,
             "learn": [
              0.01221561194
             ],
             "passed_time": 59.1288518,
             "remaining_time": 35.17553704,
             "test": [
              0.01109522484
             ]
            },
            {
             "iteration": 627,
             "learn": [
              0.01221057727
             ],
             "passed_time": 59.23302708,
             "remaining_time": 35.08707974,
             "test": [
              0.01109711952
             ]
            },
            {
             "iteration": 628,
             "learn": [
              0.01220450338
             ],
             "passed_time": 59.30752337,
             "remaining_time": 34.98106704,
             "test": [
              0.01109681561
             ]
            },
            {
             "iteration": 629,
             "learn": [
              0.01219928611
             ],
             "passed_time": 59.40975203,
             "remaining_time": 34.89144167,
             "test": [
              0.01109659574
             ]
            },
            {
             "iteration": 630,
             "learn": [
              0.01219608056
             ],
             "passed_time": 59.52451087,
             "remaining_time": 34.80910382,
             "test": [
              0.01109404153
             ]
            },
            {
             "iteration": 631,
             "learn": [
              0.01217733245
             ],
             "passed_time": 59.63393857,
             "remaining_time": 34.72355917,
             "test": [
              0.01106629384
             ]
            },
            {
             "iteration": 632,
             "learn": [
              0.0121632281
             ],
             "passed_time": 59.7318921,
             "remaining_time": 34.63128657,
             "test": [
              0.01105433318
             ]
            },
            {
             "iteration": 633,
             "learn": [
              0.0121577606
             ],
             "passed_time": 59.82626222,
             "remaining_time": 34.5369274,
             "test": [
              0.01104567239
             ]
            },
            {
             "iteration": 634,
             "learn": [
              0.0121511492
             ],
             "passed_time": 59.91341557,
             "remaining_time": 34.43841997,
             "test": [
              0.01104251522
             ]
            },
            {
             "iteration": 635,
             "learn": [
              0.01214505845
             ],
             "passed_time": 60.04841877,
             "remaining_time": 34.36733401,
             "test": [
              0.011037718
             ]
            },
            {
             "iteration": 636,
             "learn": [
              0.01213834793
             ],
             "passed_time": 60.13142327,
             "remaining_time": 34.26641546,
             "test": [
              0.01104292033
             ]
            },
            {
             "iteration": 637,
             "learn": [
              0.01213743122
             ],
             "passed_time": 60.23935538,
             "remaining_time": 34.17969694,
             "test": [
              0.01104151762
             ]
            },
            {
             "iteration": 638,
             "learn": [
              0.012127595
             ],
             "passed_time": 60.34463081,
             "remaining_time": 34.09141115,
             "test": [
              0.01103379535
             ]
            },
            {
             "iteration": 639,
             "learn": [
              0.01212546604
             ],
             "passed_time": 60.44420646,
             "remaining_time": 33.99986614,
             "test": [
              0.0110340306
             ]
            },
            {
             "iteration": 640,
             "learn": [
              0.01212313283
             ],
             "passed_time": 60.53471198,
             "remaining_time": 33.90321622,
             "test": [
              0.01103481437
             ]
            },
            {
             "iteration": 641,
             "learn": [
              0.01212020228
             ],
             "passed_time": 60.62495988,
             "remaining_time": 33.8064418,
             "test": [
              0.01103632976
             ]
            },
            {
             "iteration": 642,
             "learn": [
              0.01210721901
             ],
             "passed_time": 60.72935976,
             "remaining_time": 33.717545,
             "test": [
              0.01103549236
             ]
            },
            {
             "iteration": 643,
             "learn": [
              0.01210646163
             ],
             "passed_time": 60.79037598,
             "remaining_time": 33.60461778,
             "test": [
              0.01103435452
             ]
            },
            {
             "iteration": 644,
             "learn": [
              0.01209341623
             ],
             "passed_time": 60.88350968,
             "remaining_time": 33.50952858,
             "test": [
              0.01103086689
             ]
            },
            {
             "iteration": 645,
             "learn": [
              0.01208718145
             ],
             "passed_time": 60.99864929,
             "remaining_time": 33.42650441,
             "test": [
              0.0110296505
             ]
            },
            {
             "iteration": 646,
             "learn": [
              0.01208556844
             ],
             "passed_time": 61.09248084,
             "remaining_time": 33.33175539,
             "test": [
              0.01102717463
             ]
            },
            {
             "iteration": 647,
             "learn": [
              0.01208396158
             ],
             "passed_time": 61.19406206,
             "remaining_time": 33.2412189,
             "test": [
              0.01102681642
             ]
            },
            {
             "iteration": 648,
             "learn": [
              0.01207603374
             ],
             "passed_time": 61.37507302,
             "remaining_time": 33.19360652,
             "test": [
              0.01102134435
             ]
            },
            {
             "iteration": 649,
             "learn": [
              0.01207051527
             ],
             "passed_time": 61.53378229,
             "remaining_time": 33.13357508,
             "test": [
              0.01102169276
             ]
            },
            {
             "iteration": 650,
             "learn": [
              0.01204201321
             ],
             "passed_time": 61.66750902,
             "remaining_time": 33.05984738,
             "test": [
              0.01104020324
             ]
            },
            {
             "iteration": 651,
             "learn": [
              0.01203897533
             ],
             "passed_time": 61.80260097,
             "remaining_time": 32.98666432,
             "test": [
              0.01103849413
             ]
            },
            {
             "iteration": 652,
             "learn": [
              0.01203601767
             ],
             "passed_time": 61.93343292,
             "remaining_time": 32.91102791,
             "test": [
              0.01103611734
             ]
            },
            {
             "iteration": 653,
             "learn": [
              0.012030757
             ],
             "passed_time": 62.08104625,
             "remaining_time": 32.84410092,
             "test": [
              0.01102843958
             ]
            },
            {
             "iteration": 654,
             "learn": [
              0.01202652284
             ],
             "passed_time": 62.21468104,
             "remaining_time": 32.76956482,
             "test": [
              0.01103037434
             ]
            },
            {
             "iteration": 655,
             "learn": [
              0.01200817245
             ],
             "passed_time": 62.34889459,
             "remaining_time": 32.69515204,
             "test": [
              0.01101533272
             ]
            },
            {
             "iteration": 656,
             "learn": [
              0.01200534749
             ],
             "passed_time": 62.51051305,
             "remaining_time": 32.6348645,
             "test": [
              0.01101329117
             ]
            },
            {
             "iteration": 657,
             "learn": [
              0.01200366718
             ],
             "passed_time": 62.62130986,
             "remaining_time": 32.54785406,
             "test": [
              0.01101274908
             ]
            },
            {
             "iteration": 658,
             "learn": [
              0.01200007954
             ],
             "passed_time": 62.73680085,
             "remaining_time": 32.46320044,
             "test": [
              0.01100970598
             ]
            },
            {
             "iteration": 659,
             "learn": [
              0.01199614635
             ],
             "passed_time": 62.80623981,
             "remaining_time": 32.3547296,
             "test": [
              0.01100730956
             ]
            },
            {
             "iteration": 660,
             "learn": [
              0.01199262378
             ],
             "passed_time": 62.86509019,
             "remaining_time": 32.24094641,
             "test": [
              0.01100144628
             ]
            },
            {
             "iteration": 661,
             "learn": [
              0.01198911398
             ],
             "passed_time": 62.96125871,
             "remaining_time": 32.14638285,
             "test": [
              0.01100063487
             ]
            },
            {
             "iteration": 662,
             "learn": [
              0.01198458339
             ],
             "passed_time": 63.04536123,
             "remaining_time": 32.04568135,
             "test": [
              0.01098992054
             ]
            },
            {
             "iteration": 663,
             "learn": [
              0.01198337364
             ],
             "passed_time": 63.13180206,
             "remaining_time": 31.94621309,
             "test": [
              0.01098854718
             ]
            },
            {
             "iteration": 664,
             "learn": [
              0.01197127275
             ],
             "passed_time": 63.22926014,
             "remaining_time": 31.85233405,
             "test": [
              0.01097718557
             ]
            },
            {
             "iteration": 665,
             "learn": [
              0.01197020784
             ],
             "passed_time": 63.28884836,
             "remaining_time": 31.73945248,
             "test": [
              0.01097598706
             ]
            },
            {
             "iteration": 666,
             "learn": [
              0.01196050651
             ],
             "passed_time": 63.39952827,
             "remaining_time": 31.65223825,
             "test": [
              0.01096612624
             ]
            },
            {
             "iteration": 667,
             "learn": [
              0.01195109541
             ],
             "passed_time": 63.51020303,
             "remaining_time": 31.56495121,
             "test": [
              0.01095642044
             ]
            },
            {
             "iteration": 668,
             "learn": [
              0.01194863665
             ],
             "passed_time": 63.59665247,
             "remaining_time": 31.46560832,
             "test": [
              0.01095155795
             ]
            },
            {
             "iteration": 669,
             "learn": [
              0.01192697899
             ],
             "passed_time": 63.69801722,
             "remaining_time": 31.37365027,
             "test": [
              0.01093277481
             ]
            },
            {
             "iteration": 670,
             "learn": [
              0.01192238737
             ],
             "passed_time": 63.79721403,
             "remaining_time": 31.28060122,
             "test": [
              0.01093083499
             ]
            },
            {
             "iteration": 671,
             "learn": [
              0.01192030912
             ],
             "passed_time": 63.8946042,
             "remaining_time": 31.18665205,
             "test": [
              0.010928166
             ]
            },
            {
             "iteration": 672,
             "learn": [
              0.01190473797
             ],
             "passed_time": 64.00953419,
             "remaining_time": 31.10121498,
             "test": [
              0.01091659838
             ]
            },
            {
             "iteration": 673,
             "learn": [
              0.01189474165
             ],
             "passed_time": 64.10823903,
             "remaining_time": 31.00784262,
             "test": [
              0.0109079038
             ]
            },
            {
             "iteration": 674,
             "learn": [
              0.01189355808
             ],
             "passed_time": 64.19792409,
             "remaining_time": 30.9101116,
             "test": [
              0.01090780121
             ]
            },
            {
             "iteration": 675,
             "learn": [
              0.01189187409
             ],
             "passed_time": 64.28477644,
             "remaining_time": 30.8110467,
             "test": [
              0.01090743189
             ]
            },
            {
             "iteration": 676,
             "learn": [
              0.01187968488
             ],
             "passed_time": 64.39857232,
             "remaining_time": 30.72487276,
             "test": [
              0.01089489244
             ]
            },
            {
             "iteration": 677,
             "learn": [
              0.01186859637
             ],
             "passed_time": 64.50966133,
             "remaining_time": 30.63733178,
             "test": [
              0.01089159112
             ]
            },
            {
             "iteration": 678,
             "learn": [
              0.01185601539
             ],
             "passed_time": 64.60451531,
             "remaining_time": 30.54204627,
             "test": [
              0.01088760326
             ]
            },
            {
             "iteration": 679,
             "learn": [
              0.01185327728
             ],
             "passed_time": 64.7197265,
             "remaining_time": 30.45634188,
             "test": [
              0.01088530619
             ]
            },
            {
             "iteration": 680,
             "learn": [
              0.01184569313
             ],
             "passed_time": 64.78567056,
             "remaining_time": 30.3474727,
             "test": [
              0.01088373993
             ]
            },
            {
             "iteration": 681,
             "learn": [
              0.01183920375
             ],
             "passed_time": 64.88649885,
             "remaining_time": 30.25499506,
             "test": [
              0.01088089249
             ]
            },
            {
             "iteration": 682,
             "learn": [
              0.01182794792
             ],
             "passed_time": 64.99146864,
             "remaining_time": 30.16441517,
             "test": [
              0.0108695179
             ]
            },
            {
             "iteration": 683,
             "learn": [
              0.01182684649
             ],
             "passed_time": 65.05515118,
             "remaining_time": 30.05471896,
             "test": [
              0.01086927438
             ]
            },
            {
             "iteration": 684,
             "learn": [
              0.01182531809
             ],
             "passed_time": 65.14652832,
             "remaining_time": 29.95789258,
             "test": [
              0.01086840002
             ]
            },
            {
             "iteration": 685,
             "learn": [
              0.01180656287
             ],
             "passed_time": 65.24640038,
             "remaining_time": 29.86497044,
             "test": [
              0.01085238563
             ]
            },
            {
             "iteration": 686,
             "learn": [
              0.01180428533
             ],
             "passed_time": 65.34691469,
             "remaining_time": 29.77232067,
             "test": [
              0.01085033939
             ]
            },
            {
             "iteration": 687,
             "learn": [
              0.01180198614
             ],
             "passed_time": 65.42194249,
             "remaining_time": 29.6680902,
             "test": [
              0.01084904048
             ]
            },
            {
             "iteration": 688,
             "learn": [
              0.01179616611
             ],
             "passed_time": 65.49862501,
             "remaining_time": 29.56469141,
             "test": [
              0.01084666856
             ]
            },
            {
             "iteration": 689,
             "learn": [
              0.01179327232
             ],
             "passed_time": 65.58509817,
             "remaining_time": 29.46576874,
             "test": [
              0.01084698107
             ]
            },
            {
             "iteration": 690,
             "learn": [
              0.01178448668
             ],
             "passed_time": 65.67868855,
             "remaining_time": 29.37006478,
             "test": [
              0.01084763802
             ]
            },
            {
             "iteration": 691,
             "learn": [
              0.01178307652
             ],
             "passed_time": 65.77370423,
             "remaining_time": 29.27500131,
             "test": [
              0.01084634187
             ]
            },
            {
             "iteration": 692,
             "learn": [
              0.01178080334
             ],
             "passed_time": 65.85151076,
             "remaining_time": 29.17231429,
             "test": [
              0.01084593479
             ]
            },
            {
             "iteration": 693,
             "learn": [
              0.01177162197
             ],
             "passed_time": 65.9453164,
             "remaining_time": 29.07675334,
             "test": [
              0.01084100551
             ]
            },
            {
             "iteration": 694,
             "learn": [
              0.01175001156
             ],
             "passed_time": 66.03648155,
             "remaining_time": 28.98003867,
             "test": [
              0.01080524899
             ]
            },
            {
             "iteration": 695,
             "learn": [
              0.01174623646
             ],
             "passed_time": 66.13285917,
             "remaining_time": 28.88561665,
             "test": [
              0.01080103996
             ]
            },
            {
             "iteration": 696,
             "learn": [
              0.01173745266
             ],
             "passed_time": 66.22934331,
             "remaining_time": 28.79123533,
             "test": [
              0.01080261234
             ]
            },
            {
             "iteration": 697,
             "learn": [
              0.01173590615
             ],
             "passed_time": 66.33255464,
             "remaining_time": 28.6997586,
             "test": [
              0.01080174613
             ]
            },
            {
             "iteration": 698,
             "learn": [
              0.01172814312
             ],
             "passed_time": 66.43413981,
             "remaining_time": 28.60754804,
             "test": [
              0.01079383748
             ]
            },
            {
             "iteration": 699,
             "learn": [
              0.01172380238
             ],
             "passed_time": 66.72155834,
             "remaining_time": 28.59495357,
             "test": [
              0.01079432881
             ]
            },
            {
             "iteration": 700,
             "learn": [
              0.0117231681
             ],
             "passed_time": 66.82276498,
             "remaining_time": 28.5021494,
             "test": [
              0.01079326402
             ]
            },
            {
             "iteration": 701,
             "learn": [
              0.01171830455
             ],
             "passed_time": 66.89726135,
             "remaining_time": 28.39798274,
             "test": [
              0.01079063061
             ]
            },
            {
             "iteration": 702,
             "learn": [
              0.01171471405
             ],
             "passed_time": 66.98488996,
             "remaining_time": 28.29944853,
             "test": [
              0.01078759442
             ]
            },
            {
             "iteration": 703,
             "learn": [
              0.01171048952
             ],
             "passed_time": 67.08482111,
             "remaining_time": 28.20611797,
             "test": [
              0.01078729848
             ]
            },
            {
             "iteration": 704,
             "learn": [
              0.01170234896
             ],
             "passed_time": 67.1752204,
             "remaining_time": 28.10878017,
             "test": [
              0.01078546375
             ]
            },
            {
             "iteration": 705,
             "learn": [
              0.01169061537
             ],
             "passed_time": 67.26967918,
             "remaining_time": 28.01315252,
             "test": [
              0.01077544753
             ]
            },
            {
             "iteration": 706,
             "learn": [
              0.01168748204
             ],
             "passed_time": 67.35587483,
             "remaining_time": 27.91410371,
             "test": [
              0.0107688803
             ]
            },
            {
             "iteration": 707,
             "learn": [
              0.01168406911
             ],
             "passed_time": 67.46641271,
             "remaining_time": 27.82513067,
             "test": [
              0.0107657553
             ]
            },
            {
             "iteration": 708,
             "learn": [
              0.01167956906
             ],
             "passed_time": 67.56775981,
             "remaining_time": 27.73232455,
             "test": [
              0.0107658744
             ]
            },
            {
             "iteration": 709,
             "learn": [
              0.01167330042
             ],
             "passed_time": 67.66130465,
             "remaining_time": 27.63630753,
             "test": [
              0.01076631926
             ]
            },
            {
             "iteration": 710,
             "learn": [
              0.01165598498
             ],
             "passed_time": 67.77328829,
             "remaining_time": 27.54779229,
             "test": [
              0.01076231554
             ]
            },
            {
             "iteration": 711,
             "learn": [
              0.01165321075
             ],
             "passed_time": 67.87490248,
             "remaining_time": 27.45501673,
             "test": [
              0.01076212766
             ]
            },
            {
             "iteration": 712,
             "learn": [
              0.01165133173
             ],
             "passed_time": 67.97880603,
             "remaining_time": 27.36313791,
             "test": [
              0.0107605294
             ]
            },
            {
             "iteration": 713,
             "learn": [
              0.01164374525
             ],
             "passed_time": 68.08096799,
             "remaining_time": 27.27052779,
             "test": [
              0.0107564513
             ]
            },
            {
             "iteration": 714,
             "learn": [
              0.01164132041
             ],
             "passed_time": 68.17334183,
             "remaining_time": 27.1739894,
             "test": [
              0.01075472701
             ]
            },
            {
             "iteration": 715,
             "learn": [
              0.01163910573
             ],
             "passed_time": 68.27615917,
             "remaining_time": 27.08160504,
             "test": [
              0.01075244926
             ]
            },
            {
             "iteration": 716,
             "learn": [
              0.01163582585
             ],
             "passed_time": 68.36455873,
             "remaining_time": 26.98350087,
             "test": [
              0.01074945412
             ]
            },
            {
             "iteration": 717,
             "learn": [
              0.01163434961
             ],
             "passed_time": 68.42724757,
             "remaining_time": 26.87532565,
             "test": [
              0.01074817982
             ]
            },
            {
             "iteration": 718,
             "learn": [
              0.01163166997
             ],
             "passed_time": 68.52437737,
             "remaining_time": 26.78073719,
             "test": [
              0.01074676636
             ]
            },
            {
             "iteration": 719,
             "learn": [
              0.01162973492
             ],
             "passed_time": 68.58682795,
             "remaining_time": 26.67265531,
             "test": [
              0.01074647497
             ]
            },
            {
             "iteration": 720,
             "learn": [
              0.01161349178
             ],
             "passed_time": 68.68873384,
             "remaining_time": 26.57996774,
             "test": [
              0.01074543865
             ]
            },
            {
             "iteration": 721,
             "learn": [
              0.01159889894
             ],
             "passed_time": 68.80459104,
             "remaining_time": 26.49262647,
             "test": [
              0.0107473853
             ]
            },
            {
             "iteration": 722,
             "learn": [
              0.01158161122
             ],
             "passed_time": 68.90555124,
             "remaining_time": 26.39949888,
             "test": [
              0.0107455246
             ]
            },
            {
             "iteration": 723,
             "learn": [
              0.01158067018
             ],
             "passed_time": 68.99204165,
             "remaining_time": 26.30083356,
             "test": [
              0.010744636
             ]
            },
            {
             "iteration": 724,
             "learn": [
              0.01157241661
             ],
             "passed_time": 69.09037112,
             "remaining_time": 26.20669249,
             "test": [
              0.01073617395
             ]
            },
            {
             "iteration": 725,
             "learn": [
              0.01155900978
             ],
             "passed_time": 69.19702385,
             "remaining_time": 26.11568118,
             "test": [
              0.01072396995
             ]
            },
            {
             "iteration": 726,
             "learn": [
              0.01155346362
             ],
             "passed_time": 69.31796009,
             "remaining_time": 26.02999051,
             "test": [
              0.01071924326
             ]
            },
            {
             "iteration": 727,
             "learn": [
              0.01155184823
             ],
             "passed_time": 69.39550553,
             "remaining_time": 25.92799108,
             "test": [
              0.0107192412
             ]
            },
            {
             "iteration": 728,
             "learn": [
              0.01154509363
             ],
             "passed_time": 69.47959652,
             "remaining_time": 25.82849199,
             "test": [
              0.01071761654
             ]
            },
            {
             "iteration": 729,
             "learn": [
              0.01154414999
             ],
             "passed_time": 69.57842724,
             "remaining_time": 25.73448679,
             "test": [
              0.01071647848
             ]
            },
            {
             "iteration": 730,
             "learn": [
              0.01153867284
             ],
             "passed_time": 69.68373763,
             "remaining_time": 25.64285284,
             "test": [
              0.01070972243
             ]
            },
            {
             "iteration": 731,
             "learn": [
              0.01153715571
             ],
             "passed_time": 69.81113477,
             "remaining_time": 25.55926792,
             "test": [
              0.01071024382
             ]
            },
            {
             "iteration": 732,
             "learn": [
              0.01153164154
             ],
             "passed_time": 69.9351396,
             "remaining_time": 25.47432779,
             "test": [
              0.01070849475
             ]
            },
            {
             "iteration": 733,
             "learn": [
              0.01152724011
             ],
             "passed_time": 70.06515371,
             "remaining_time": 25.39145897,
             "test": [
              0.01070858361
             ]
            },
            {
             "iteration": 734,
             "learn": [
              0.01152386114
             ],
             "passed_time": 70.17635645,
             "remaining_time": 25.30167953,
             "test": [
              0.01070676882
             ]
            },
            {
             "iteration": 735,
             "learn": [
              0.01151999313
             ],
             "passed_time": 70.28742613,
             "remaining_time": 25.21179416,
             "test": [
              0.01070474751
             ]
            },
            {
             "iteration": 736,
             "learn": [
              0.01151490926
             ],
             "passed_time": 70.39698416,
             "remaining_time": 25.12131185,
             "test": [
              0.01070468783
             ]
            },
            {
             "iteration": 737,
             "learn": [
              0.0115094311
             ],
             "passed_time": 70.47524708,
             "remaining_time": 25.01966766,
             "test": [
              0.01070077599
             ]
            },
            {
             "iteration": 738,
             "learn": [
              0.01149170346
             ],
             "passed_time": 70.57009942,
             "remaining_time": 24.9239458,
             "test": [
              0.01069546223
             ]
            },
            {
             "iteration": 739,
             "learn": [
              0.01148561306
             ],
             "passed_time": 70.66502297,
             "remaining_time": 24.82825131,
             "test": [
              0.01069036265
             ]
            },
            {
             "iteration": 740,
             "learn": [
              0.01148457454
             ],
             "passed_time": 70.74188652,
             "remaining_time": 24.72624644,
             "test": [
              0.01068953351
             ]
            },
            {
             "iteration": 741,
             "learn": [
              0.01148226856
             ],
             "passed_time": 70.85444648,
             "remaining_time": 24.63672128,
             "test": [
              0.0106891631
             ]
            },
            {
             "iteration": 742,
             "learn": [
              0.01146555907
             ],
             "passed_time": 70.95001132,
             "remaining_time": 24.5412556,
             "test": [
              0.01068371724
             ]
            },
            {
             "iteration": 743,
             "learn": [
              0.0114630091
             ],
             "passed_time": 71.0429868,
             "remaining_time": 24.44489868,
             "test": [
              0.01068109307
             ]
            },
            {
             "iteration": 744,
             "learn": [
              0.01145555948
             ],
             "passed_time": 71.15862596,
             "remaining_time": 24.35630821,
             "test": [
              0.01068020456
             ]
            },
            {
             "iteration": 745,
             "learn": [
              0.01145117158
             ],
             "passed_time": 71.25747013,
             "remaining_time": 24.26192683,
             "test": [
              0.01067886511
             ]
            },
            {
             "iteration": 746,
             "learn": [
              0.01143879939
             ],
             "passed_time": 71.35178634,
             "remaining_time": 24.16599992,
             "test": [
              0.01067922481
             ]
            },
            {
             "iteration": 747,
             "learn": [
              0.01142770093
             ],
             "passed_time": 71.43146744,
             "remaining_time": 24.06514679,
             "test": [
              0.01068278825
             ]
            },
            {
             "iteration": 748,
             "learn": [
              0.01141865759
             ],
             "passed_time": 71.51555978,
             "remaining_time": 23.96582844,
             "test": [
              0.01068196964
             ]
            },
            {
             "iteration": 749,
             "learn": [
              0.01141473345
             ],
             "passed_time": 71.6106795,
             "remaining_time": 23.8702265,
             "test": [
              0.01067842108
             ]
            },
            {
             "iteration": 750,
             "learn": [
              0.01140870538
             ],
             "passed_time": 71.7257154,
             "remaining_time": 23.78122921,
             "test": [
              0.01067684864
             ]
            },
            {
             "iteration": 751,
             "learn": [
              0.01139584865
             ],
             "passed_time": 71.85030752,
             "remaining_time": 23.69531418,
             "test": [
              0.01065810895
             ]
            },
            {
             "iteration": 752,
             "learn": [
              0.01138981306
             ],
             "passed_time": 71.96398776,
             "remaining_time": 23.6057171,
             "test": [
              0.01065406089
             ]
            },
            {
             "iteration": 753,
             "learn": [
              0.01138736497
             ],
             "passed_time": 72.0501078,
             "remaining_time": 23.50706435,
             "test": [
              0.01065191645
             ]
            },
            {
             "iteration": 754,
             "learn": [
              0.01138345218
             ],
             "passed_time": 72.15242396,
             "remaining_time": 23.41370049,
             "test": [
              0.01064749719
             ]
            },
            {
             "iteration": 755,
             "learn": [
              0.01137870482
             ],
             "passed_time": 72.26574749,
             "remaining_time": 23.32386559,
             "test": [
              0.01064472947
             ]
            },
            {
             "iteration": 756,
             "learn": [
              0.01137062296
             ],
             "passed_time": 72.36030946,
             "remaining_time": 23.2279461,
             "test": [
              0.01063636836
             ]
            },
            {
             "iteration": 757,
             "learn": [
              0.01135666647
             ],
             "passed_time": 72.47176218,
             "remaining_time": 23.13742275,
             "test": [
              0.01062563233
             ]
            },
            {
             "iteration": 758,
             "learn": [
              0.0113553545
             ],
             "passed_time": 72.55136309,
             "remaining_time": 23.03673057,
             "test": [
              0.01062742402
             ]
            },
            {
             "iteration": 759,
             "learn": [
              0.01135428157
             ],
             "passed_time": 72.61055514,
             "remaining_time": 22.92964899,
             "test": [
              0.01062932991
             ]
            },
            {
             "iteration": 760,
             "learn": [
              0.0113536918
             ],
             "passed_time": 72.70714158,
             "remaining_time": 22.83443737,
             "test": [
              0.01062901053
             ]
            },
            {
             "iteration": 761,
             "learn": [
              0.01134758955
             ],
             "passed_time": 72.82879689,
             "remaining_time": 22.74705205,
             "test": [
              0.01062951143
             ]
            },
            {
             "iteration": 762,
             "learn": [
              0.0113438789
             ],
             "passed_time": 72.90066198,
             "remaining_time": 22.64411126,
             "test": [
              0.01063220965
             ]
            },
            {
             "iteration": 763,
             "learn": [
              0.0113389999
             ],
             "passed_time": 72.98964281,
             "remaining_time": 22.54653888,
             "test": [
              0.01062949018
             ]
            },
            {
             "iteration": 764,
             "learn": [
              0.0113205136
             ],
             "passed_time": 73.08362461,
             "remaining_time": 22.45052521,
             "test": [
              0.01062153351
             ]
            },
            {
             "iteration": 765,
             "learn": [
              0.01131766014
             ],
             "passed_time": 73.19387808,
             "remaining_time": 22.35948756,
             "test": [
              0.01062008387
             ]
            },
            {
             "iteration": 766,
             "learn": [
              0.01130866609
             ],
             "passed_time": 73.30480533,
             "remaining_time": 22.26860449,
             "test": [
              0.01060864809
             ]
            },
            {
             "iteration": 767,
             "learn": [
              0.01130267073
             ],
             "passed_time": 73.41373478,
             "remaining_time": 22.17706572,
             "test": [
              0.01060739233
             ]
            },
            {
             "iteration": 768,
             "learn": [
              0.01129551201
             ],
             "passed_time": 73.51932799,
             "remaining_time": 22.08447954,
             "test": [
              0.01060226483
             ]
            },
            {
             "iteration": 769,
             "learn": [
              0.01128473687
             ],
             "passed_time": 73.60489197,
             "remaining_time": 21.98587682,
             "test": [
              0.01059763848
             ]
            },
            {
             "iteration": 770,
             "learn": [
              0.01128256074
             ],
             "passed_time": 73.70138226,
             "remaining_time": 21.89055323,
             "test": [
              0.0105958397
             ]
            },
            {
             "iteration": 771,
             "learn": [
              0.01127692354
             ],
             "passed_time": 73.80187788,
             "remaining_time": 21.79640953,
             "test": [
              0.01058950494
             ]
            },
            {
             "iteration": 772,
             "learn": [
              0.01127481961
             ],
             "passed_time": 73.9158866,
             "remaining_time": 21.70621767,
             "test": [
              0.01058842009
             ]
            },
            {
             "iteration": 773,
             "learn": [
              0.01127335551
             ],
             "passed_time": 74.01139342,
             "remaining_time": 21.6105619,
             "test": [
              0.01058952901
             ]
            },
            {
             "iteration": 774,
             "learn": [
              0.01126445459
             ],
             "passed_time": 74.12334018,
             "remaining_time": 21.51967941,
             "test": [
              0.01057890001
             ]
            },
            {
             "iteration": 775,
             "learn": [
              0.01126256075
             ],
             "passed_time": 74.18571981,
             "remaining_time": 21.41443458,
             "test": [
              0.0105780293
             ]
            },
            {
             "iteration": 776,
             "learn": [
              0.01125886942
             ],
             "passed_time": 74.3054565,
             "remaining_time": 21.32576165,
             "test": [
              0.01057696955
             ]
            },
            {
             "iteration": 777,
             "learn": [
              0.01125486204
             ],
             "passed_time": 74.41413795,
             "remaining_time": 21.23385427,
             "test": [
              0.01057562395
             ]
            },
            {
             "iteration": 778,
             "learn": [
              0.01125254489
             ],
             "passed_time": 74.51599037,
             "remaining_time": 21.13996646,
             "test": [
              0.01057222489
             ]
            },
            {
             "iteration": 779,
             "learn": [
              0.01124405223
             ],
             "passed_time": 74.60832526,
             "remaining_time": 21.04337379,
             "test": [
              0.01057125667
             ]
            },
            {
             "iteration": 780,
             "learn": [
              0.01123422387
             ],
             "passed_time": 74.70618061,
             "remaining_time": 20.94834002,
             "test": [
              0.0105684719
             ]
            },
            {
             "iteration": 781,
             "learn": [
              0.0112269163
             ],
             "passed_time": 74.77665499,
             "remaining_time": 20.84566597,
             "test": [
              0.01056367453
             ]
            },
            {
             "iteration": 782,
             "learn": [
              0.01122520564
             ],
             "passed_time": 74.89126945,
             "remaining_time": 20.75530711,
             "test": [
              0.01056277214
             ]
            },
            {
             "iteration": 783,
             "learn": [
              0.01121557047
             ],
             "passed_time": 74.99920711,
             "remaining_time": 20.66304686,
             "test": [
              0.01055502741
             ]
            },
            {
             "iteration": 784,
             "learn": [
              0.01121301651
             ],
             "passed_time": 75.09081785,
             "remaining_time": 20.56627495,
             "test": [
              0.01055260664
             ]
            },
            {
             "iteration": 785,
             "learn": [
              0.01121076877
             ],
             "passed_time": 75.18449867,
             "remaining_time": 20.47007979,
             "test": [
              0.01055213499
             ]
            },
            {
             "iteration": 786,
             "learn": [
              0.0112081128
             ],
             "passed_time": 75.28906009,
             "remaining_time": 20.37683583,
             "test": [
              0.01055235832
             ]
            },
            {
             "iteration": 787,
             "learn": [
              0.01120200019
             ],
             "passed_time": 75.3888033,
             "remaining_time": 20.28226688,
             "test": [
              0.01054914154
             ]
            },
            {
             "iteration": 788,
             "learn": [
              0.01120038575
             ],
             "passed_time": 75.47329144,
             "remaining_time": 20.18360519,
             "test": [
              0.01054728207
             ]
            },
            {
             "iteration": 789,
             "learn": [
              0.01118418149
             ],
             "passed_time": 75.5704572,
             "remaining_time": 20.08834938,
             "test": [
              0.01052135077
             ]
            },
            {
             "iteration": 790,
             "learn": [
              0.01118270496
             ],
             "passed_time": 75.66370445,
             "remaining_time": 19.99205339,
             "test": [
              0.01051933969
             ]
            },
            {
             "iteration": 791,
             "learn": [
              0.01117421129
             ],
             "passed_time": 75.7630672,
             "remaining_time": 19.89737118,
             "test": [
              0.01051916791
             ]
            },
            {
             "iteration": 792,
             "learn": [
              0.01116508905
             ],
             "passed_time": 75.88031975,
             "remaining_time": 19.80734702,
             "test": [
              0.01051078462
             ]
            },
            {
             "iteration": 793,
             "learn": [
              0.01116396575
             ],
             "passed_time": 75.96884701,
             "remaining_time": 19.70980162,
             "test": [
              0.0105110956
             ]
            },
            {
             "iteration": 794,
             "learn": [
              0.01116193735
             ],
             "passed_time": 76.07283274,
             "remaining_time": 19.61626505,
             "test": [
              0.01050812677
             ]
            },
            {
             "iteration": 795,
             "learn": [
              0.01115329128
             ],
             "passed_time": 76.18857145,
             "remaining_time": 19.52571429,
             "test": [
              0.01050651099
             ]
            },
            {
             "iteration": 796,
             "learn": [
              0.01114491368
             ],
             "passed_time": 76.27394116,
             "remaining_time": 19.42736519,
             "test": [
              0.01050223429
             ]
            },
            {
             "iteration": 797,
             "learn": [
              0.0111388691
             ],
             "passed_time": 76.39771838,
             "remaining_time": 19.33877082,
             "test": [
              0.0105011997
             ]
            },
            {
             "iteration": 798,
             "learn": [
              0.01113670557
             ],
             "passed_time": 76.45729621,
             "remaining_time": 19.2339381,
             "test": [
              0.01049746611
             ]
            },
            {
             "iteration": 799,
             "learn": [
              0.0111322393
             ],
             "passed_time": 76.53797993,
             "remaining_time": 19.13449498,
             "test": [
              0.0104964842
             ]
            },
            {
             "iteration": 800,
             "learn": [
              0.01113000239
             ],
             "passed_time": 76.63440853,
             "remaining_time": 19.03901036,
             "test": [
              0.01049404109
             ]
            },
            {
             "iteration": 801,
             "learn": [
              0.01112619317
             ],
             "passed_time": 76.74932152,
             "remaining_time": 18.94808686,
             "test": [
              0.01049150357
             ]
            },
            {
             "iteration": 802,
             "learn": [
              0.01111399776
             ],
             "passed_time": 76.8461127,
             "remaining_time": 18.85265779,
             "test": [
              0.01048583025
             ]
            },
            {
             "iteration": 803,
             "learn": [
              0.01110932832
             ],
             "passed_time": 76.98780698,
             "remaining_time": 18.76817185,
             "test": [
              0.01048318478
             ]
            },
            {
             "iteration": 804,
             "learn": [
              0.01110801971
             ],
             "passed_time": 77.09010954,
             "remaining_time": 18.67400169,
             "test": [
              0.01048368636
             ]
            },
            {
             "iteration": 805,
             "learn": [
              0.01109929569
             ],
             "passed_time": 77.18155008,
             "remaining_time": 18.57719692,
             "test": [
              0.01048359585
             ]
            },
            {
             "iteration": 806,
             "learn": [
              0.01109687712
             ],
             "passed_time": 77.28750422,
             "remaining_time": 18.48387647,
             "test": [
              0.01048207747
             ]
            },
            {
             "iteration": 807,
             "learn": [
              0.01109421803
             ],
             "passed_time": 77.37627654,
             "remaining_time": 18.38644195,
             "test": [
              0.01048159858
             ]
            },
            {
             "iteration": 808,
             "learn": [
              0.01109231577
             ],
             "passed_time": 77.45815137,
             "remaining_time": 18.28740038,
             "test": [
              0.01048088283
             ]
            },
            {
             "iteration": 809,
             "learn": [
              0.01108667802
             ],
             "passed_time": 77.56727432,
             "remaining_time": 18.19479274,
             "test": [
              0.01048314556
             ]
            },
            {
             "iteration": 810,
             "learn": [
              0.01108559459
             ],
             "passed_time": 77.66297849,
             "remaining_time": 18.09901718,
             "test": [
              0.01048271153
             ]
            },
            {
             "iteration": 811,
             "learn": [
              0.01108255409
             ],
             "passed_time": 77.78290152,
             "remaining_time": 18.00884912,
             "test": [
              0.01048420396
             ]
            },
            {
             "iteration": 812,
             "learn": [
              0.01108102456
             ],
             "passed_time": 77.88859943,
             "remaining_time": 17.91533591,
             "test": [
              0.01048395382
             ]
            },
            {
             "iteration": 813,
             "learn": [
              0.01107447645
             ],
             "passed_time": 77.98423464,
             "remaining_time": 17.81949342,
             "test": [
              0.0104791971
             ]
            },
            {
             "iteration": 814,
             "learn": [
              0.01106926655
             ],
             "passed_time": 78.08359351,
             "remaining_time": 17.72449669,
             "test": [
              0.01047551886
             ]
            },
            {
             "iteration": 815,
             "learn": [
              0.0110666584
             ],
             "passed_time": 78.17065756,
             "remaining_time": 17.6267169,
             "test": [
              0.01048052463
             ]
            },
            {
             "iteration": 816,
             "learn": [
              0.01106511462
             ],
             "passed_time": 78.25561212,
             "remaining_time": 17.52849084,
             "test": [
              0.01048021912
             ]
            },
            {
             "iteration": 817,
             "learn": [
              0.01106381759
             ],
             "passed_time": 78.31475654,
             "remaining_time": 17.42455463,
             "test": [
              0.01048005824
             ]
            },
            {
             "iteration": 818,
             "learn": [
              0.01106296498
             ],
             "passed_time": 78.40954044,
             "remaining_time": 17.32860418,
             "test": [
              0.01047918948
             ]
            },
            {
             "iteration": 819,
             "learn": [
              0.01106208997
             ],
             "passed_time": 78.49834511,
             "remaining_time": 17.23134405,
             "test": [
              0.01048028383
             ]
            },
            {
             "iteration": 820,
             "learn": [
              0.01105662702
             ],
             "passed_time": 78.59369242,
             "remaining_time": 17.13553099,
             "test": [
              0.01047731136
             ]
            },
            {
             "iteration": 821,
             "learn": [
              0.01105488057
             ],
             "passed_time": 78.69302248,
             "remaining_time": 17.04058151,
             "test": [
              0.01047632662
             ]
            },
            {
             "iteration": 822,
             "learn": [
              0.01105360439
             ],
             "passed_time": 78.75862698,
             "remaining_time": 16.93836814,
             "test": [
              0.0104796572
             ]
            },
            {
             "iteration": 823,
             "learn": [
              0.01105200622
             ],
             "passed_time": 78.85817381,
             "remaining_time": 16.84349344,
             "test": [
              0.01047721058
             ]
            },
            {
             "iteration": 824,
             "learn": [
              0.01104889746
             ],
             "passed_time": 78.95238372,
             "remaining_time": 16.74747534,
             "test": [
              0.01047918835
             ]
            },
            {
             "iteration": 825,
             "learn": [
              0.01104277573
             ],
             "passed_time": 79.06066664,
             "remaining_time": 16.65442615,
             "test": [
              0.01047762342
             ]
            },
            {
             "iteration": 826,
             "learn": [
              0.01104188718
             ],
             "passed_time": 79.15508166,
             "remaining_time": 16.55843909,
             "test": [
              0.01047731431
             ]
            },
            {
             "iteration": 827,
             "learn": [
              0.01104083005
             ],
             "passed_time": 79.21619059,
             "remaining_time": 16.45553718,
             "test": [
              0.01047662145
             ]
            },
            {
             "iteration": 828,
             "learn": [
              0.01103844389
             ],
             "passed_time": 79.32516208,
             "remaining_time": 16.36260882,
             "test": [
              0.01047763579
             ]
            },
            {
             "iteration": 829,
             "learn": [
              0.01103485253
             ],
             "passed_time": 79.43130231,
             "remaining_time": 16.26906192,
             "test": [
              0.01047603221
             ]
            },
            {
             "iteration": 830,
             "learn": [
              0.01102944489
             ],
             "passed_time": 79.5246371,
             "remaining_time": 16.17288047,
             "test": [
              0.01047287079
             ]
            },
            {
             "iteration": 831,
             "learn": [
              0.01102796981
             ],
             "passed_time": 79.62363665,
             "remaining_time": 16.07784971,
             "test": [
              0.01047079166
             ]
            },
            {
             "iteration": 832,
             "learn": [
              0.01102310018
             ],
             "passed_time": 79.74077382,
             "remaining_time": 15.98644565,
             "test": [
              0.01046951152
             ]
            },
            {
             "iteration": 833,
             "learn": [
              0.01102069002
             ],
             "passed_time": 79.8212375,
             "remaining_time": 15.88768037,
             "test": [
              0.01046941736
             ]
            },
            {
             "iteration": 834,
             "learn": [
              0.01101870083
             ],
             "passed_time": 79.88858026,
             "remaining_time": 15.78636616,
             "test": [
              0.01047038595
             ]
            },
            {
             "iteration": 835,
             "learn": [
              0.01101523674
             ],
             "passed_time": 80.04515148,
             "remaining_time": 15.70263737,
             "test": [
              0.01047068953
             ]
            },
            {
             "iteration": 836,
             "learn": [
              0.01100846109
             ],
             "passed_time": 80.11520224,
             "remaining_time": 15.60188526,
             "test": [
              0.01046667381
             ]
            },
            {
             "iteration": 837,
             "learn": [
              0.01099290229
             ],
             "passed_time": 80.21297257,
             "remaining_time": 15.5065651,
             "test": [
              0.01046378002
             ]
            },
            {
             "iteration": 838,
             "learn": [
              0.01099118687
             ],
             "passed_time": 80.31786989,
             "remaining_time": 15.41260674,
             "test": [
              0.01046309129
             ]
            },
            {
             "iteration": 839,
             "learn": [
              0.01098168871
             ],
             "passed_time": 80.40908614,
             "remaining_time": 15.31601641,
             "test": [
              0.01045563901
             ]
            },
            {
             "iteration": 840,
             "learn": [
              0.0109809368
             ],
             "passed_time": 80.51424767,
             "remaining_time": 15.22207536,
             "test": [
              0.01045604093
             ]
            },
            {
             "iteration": 841,
             "learn": [
              0.01096646862
             ],
             "passed_time": 80.60646346,
             "remaining_time": 15.12567842,
             "test": [
              0.01045930179
             ]
            },
            {
             "iteration": 842,
             "learn": [
              0.01095731886
             ],
             "passed_time": 80.68677299,
             "remaining_time": 15.02707397,
             "test": [
              0.01045743994
             ]
            },
            {
             "iteration": 843,
             "learn": [
              0.01094919195
             ],
             "passed_time": 80.77305511,
             "remaining_time": 14.92961682,
             "test": [
              0.01045349509
             ]
            },
            {
             "iteration": 844,
             "learn": [
              0.01094768314
             ],
             "passed_time": 80.87437793,
             "remaining_time": 14.83494506,
             "test": [
              0.01045216565
             ]
            },
            {
             "iteration": 845,
             "learn": [
              0.01093870985
             ],
             "passed_time": 81.00044063,
             "remaining_time": 14.74476106,
             "test": [
              0.0104497704
             ]
            },
            {
             "iteration": 846,
             "learn": [
              0.01093244496
             ],
             "passed_time": 81.09387615,
             "remaining_time": 14.64859864,
             "test": [
              0.01044562857
             ]
            },
            {
             "iteration": 847,
             "learn": [
              0.01093037525
             ],
             "passed_time": 81.18708162,
             "remaining_time": 14.55240142,
             "test": [
              0.01044480344
             ]
            },
            {
             "iteration": 848,
             "learn": [
              0.01092606808
             ],
             "passed_time": 81.27421405,
             "remaining_time": 14.45513112,
             "test": [
              0.01044572358
             ]
            },
            {
             "iteration": 849,
             "learn": [
              0.01092350455
             ],
             "passed_time": 81.37047129,
             "remaining_time": 14.35949493,
             "test": [
              0.01044561996
             ]
            },
            {
             "iteration": 850,
             "learn": [
              0.01091274566
             ],
             "passed_time": 81.47690975,
             "remaining_time": 14.2656399,
             "test": [
              0.01043597002
             ]
            },
            {
             "iteration": 851,
             "learn": [
              0.01090782556
             ],
             "passed_time": 81.5640108,
             "remaining_time": 14.16839624,
             "test": [
              0.01043102624
             ]
            },
            {
             "iteration": 852,
             "learn": [
              0.01090171812
             ],
             "passed_time": 81.67653188,
             "remaining_time": 14.07555708,
             "test": [
              0.0104304966
             ]
            },
            {
             "iteration": 853,
             "learn": [
              0.01090012387
             ],
             "passed_time": 81.77786716,
             "remaining_time": 13.98075949,
             "test": [
              0.01042925504
             ]
            },
            {
             "iteration": 854,
             "learn": [
              0.01089922653
             ],
             "passed_time": 81.87574929,
             "remaining_time": 13.88536099,
             "test": [
              0.01042906013
             ]
            },
            {
             "iteration": 855,
             "learn": [
              0.01088841932
             ],
             "passed_time": 81.97604055,
             "remaining_time": 13.79036196,
             "test": [
              0.01042282894
             ]
            },
            {
             "iteration": 856,
             "learn": [
              0.01088080506
             ],
             "passed_time": 82.0951132,
             "remaining_time": 13.69848447,
             "test": [
              0.01041557383
             ]
            },
            {
             "iteration": 857,
             "learn": [
              0.01088040026
             ],
             "passed_time": 82.1955919,
             "remaining_time": 13.60346626,
             "test": [
              0.01041512752
             ]
            },
            {
             "iteration": 858,
             "learn": [
              0.01087456542
             ],
             "passed_time": 82.31536127,
             "remaining_time": 13.51160179,
             "test": [
              0.01041240819
             ]
            },
            {
             "iteration": 859,
             "learn": [
              0.01087101262
             ],
             "passed_time": 82.40250168,
             "remaining_time": 13.41436074,
             "test": [
              0.01041304079
             ]
            },
            {
             "iteration": 860,
             "learn": [
              0.01086995922
             ],
             "passed_time": 82.47504933,
             "remaining_time": 13.31478729,
             "test": [
              0.01041420867
             ]
            },
            {
             "iteration": 861,
             "learn": [
              0.01086554869
             ],
             "passed_time": 82.5803093,
             "remaining_time": 13.22051355,
             "test": [
              0.0104102964
             ]
            },
            {
             "iteration": 862,
             "learn": [
              0.0108619774
             ],
             "passed_time": 82.67044987,
             "remaining_time": 13.12381417,
             "test": [
              0.01041377559
             ]
            },
            {
             "iteration": 863,
             "learn": [
              0.01085902579
             ],
             "passed_time": 82.78422951,
             "remaining_time": 13.03085094,
             "test": [
              0.01041181993
             ]
            },
            {
             "iteration": 864,
             "learn": [
              0.01084579137
             ],
             "passed_time": 82.88162935,
             "remaining_time": 12.93528319,
             "test": [
              0.01041016928
             ]
            },
            {
             "iteration": 865,
             "learn": [
              0.01084200505
             ],
             "passed_time": 82.977417,
             "remaining_time": 12.83946175,
             "test": [
              0.01040625435
             ]
            },
            {
             "iteration": 866,
             "learn": [
              0.01083526767
             ],
             "passed_time": 83.08794406,
             "remaining_time": 12.74590145,
             "test": [
              0.01040143944
             ]
            },
            {
             "iteration": 867,
             "learn": [
              0.01083357338
             ],
             "passed_time": 83.17669632,
             "remaining_time": 12.64899068,
             "test": [
              0.01040156075
             ]
            },
            {
             "iteration": 868,
             "learn": [
              0.01083070841
             ],
             "passed_time": 83.27620634,
             "remaining_time": 12.5537204,
             "test": [
              0.0104003539
             ]
            },
            {
             "iteration": 869,
             "learn": [
              0.01082715099
             ],
             "passed_time": 83.38700402,
             "remaining_time": 12.46012704,
             "test": [
              0.01039591827
             ]
            },
            {
             "iteration": 870,
             "learn": [
              0.01082123012
             ],
             "passed_time": 83.4886836,
             "remaining_time": 12.36514372,
             "test": [
              0.01038982637
             ]
            },
            {
             "iteration": 871,
             "learn": [
              0.0108123159
             ],
             "passed_time": 83.5850651,
             "remaining_time": 12.26936735,
             "test": [
              0.01039639405
             ]
            },
            {
             "iteration": 872,
             "learn": [
              0.01081205498
             ],
             "passed_time": 83.65802951,
             "remaining_time": 12.17018299,
             "test": [
              0.0103971371
             ]
            },
            {
             "iteration": 873,
             "learn": [
              0.01081028674
             ],
             "passed_time": 83.75770861,
             "remaining_time": 12.07490994,
             "test": [
              0.01039649501
             ]
            },
            {
             "iteration": 874,
             "learn": [
              0.01080417638
             ],
             "passed_time": 83.86186536,
             "remaining_time": 11.98026648,
             "test": [
              0.01039148089
             ]
            },
            {
             "iteration": 875,
             "learn": [
              0.01079793977
             ],
             "passed_time": 83.95676168,
             "remaining_time": 11.88429047,
             "test": [
              0.01038541903
             ]
            },
            {
             "iteration": 876,
             "learn": [
              0.01079757315
             ],
             "passed_time": 84.06762789,
             "remaining_time": 11.79055671,
             "test": [
              0.01038498572
             ]
            },
            {
             "iteration": 877,
             "learn": [
              0.01079496361
             ],
             "passed_time": 84.16338781,
             "remaining_time": 11.69468487,
             "test": [
              0.01038541054
             ]
            },
            {
             "iteration": 878,
             "learn": [
              0.01079071515
             ],
             "passed_time": 84.26502124,
             "remaining_time": 11.59962181,
             "test": [
              0.0103820941
             ]
            },
            {
             "iteration": 879,
             "learn": [
              0.01078325365
             ],
             "passed_time": 84.37101074,
             "remaining_time": 11.50513783,
             "test": [
              0.01038085966
             ]
            },
            {
             "iteration": 880,
             "learn": [
              0.0107782706
             ],
             "passed_time": 84.47062162,
             "remaining_time": 11.40976614,
             "test": [
              0.0103776068
             ]
            },
            {
             "iteration": 881,
             "learn": [
              0.01076757422
             ],
             "passed_time": 84.56155077,
             "remaining_time": 11.31322335,
             "test": [
              0.0103775262
             ]
            },
            {
             "iteration": 882,
             "learn": [
              0.01076377587
             ],
             "passed_time": 84.65647123,
             "remaining_time": 11.21722212,
             "test": [
              0.01037806899
             ]
            },
            {
             "iteration": 883,
             "learn": [
              0.01075955376
             ],
             "passed_time": 84.76023735,
             "remaining_time": 11.12238409,
             "test": [
              0.01037460668
             ]
            },
            {
             "iteration": 884,
             "learn": [
              0.01075891053
             ],
             "passed_time": 84.85651946,
             "remaining_time": 11.02655338,
             "test": [
              0.01037413584
             ]
            },
            {
             "iteration": 885,
             "learn": [
              0.01075735141
             ],
             "passed_time": 84.94113159,
             "remaining_time": 10.92922009,
             "test": [
              0.01037487758
             ]
            },
            {
             "iteration": 886,
             "learn": [
              0.01075652576
             ],
             "passed_time": 85.04561838,
             "remaining_time": 10.83444744,
             "test": [
              0.0103735397
             ]
            },
            {
             "iteration": 887,
             "learn": [
              0.01075463758
             ],
             "passed_time": 85.16452754,
             "remaining_time": 10.74147194,
             "test": [
              0.01037283097
             ]
            },
            {
             "iteration": 888,
             "learn": [
              0.01074922406
             ],
             "passed_time": 85.2547794,
             "remaining_time": 10.64485997,
             "test": [
              0.01036849997
             ]
            },
            {
             "iteration": 889,
             "learn": [
              0.01074891375
             ],
             "passed_time": 85.31420088,
             "remaining_time": 10.54445179,
             "test": [
              0.01036815322
             ]
            },
            {
             "iteration": 890,
             "learn": [
              0.01074439125
             ],
             "passed_time": 85.37646358,
             "remaining_time": 10.4444832,
             "test": [
              0.01036451429
             ]
            },
            {
             "iteration": 891,
             "learn": [
              0.01074228796
             ],
             "passed_time": 85.48396411,
             "remaining_time": 10.35007637,
             "test": [
              0.01036417092
             ]
            },
            {
             "iteration": 892,
             "learn": [
              0.01073344824
             ],
             "passed_time": 85.56567652,
             "remaining_time": 10.25255027,
             "test": [
              0.01035519649
             ]
            },
            {
             "iteration": 893,
             "learn": [
              0.01072123587
             ],
             "passed_time": 85.66477322,
             "remaining_time": 10.15712076,
             "test": [
              0.01035123112
             ]
            },
            {
             "iteration": 894,
             "learn": [
              0.01071580862
             ],
             "passed_time": 85.74329501,
             "remaining_time": 10.05926925,
             "test": [
              0.0103507779
             ]
            },
            {
             "iteration": 895,
             "learn": [
              0.01071416526
             ],
             "passed_time": 85.84258344,
             "remaining_time": 9.963871292,
             "test": [
              0.01035109822
             ]
            },
            {
             "iteration": 896,
             "learn": [
              0.01071166831
             ],
             "passed_time": 85.91319494,
             "remaining_time": 9.865171772,
             "test": [
              0.01034824078
             ]
            },
            {
             "iteration": 897,
             "learn": [
              0.01071061918
             ],
             "passed_time": 85.99602862,
             "remaining_time": 9.767923072,
             "test": [
              0.01034728111
             ]
            },
            {
             "iteration": 898,
             "learn": [
              0.01070402151
             ],
             "passed_time": 86.12129067,
             "remaining_time": 9.675473145,
             "test": [
              0.01034216734
             ]
            },
            {
             "iteration": 899,
             "learn": [
              0.0106975671
             ],
             "passed_time": 86.21722305,
             "remaining_time": 9.57969145,
             "test": [
              0.01034474041
             ]
            },
            {
             "iteration": 900,
             "learn": [
              0.01069574561
             ],
             "passed_time": 86.3009402,
             "remaining_time": 9.482567237,
             "test": [
              0.0103441663
             ]
            },
            {
             "iteration": 901,
             "learn": [
              0.01068345219
             ],
             "passed_time": 86.38882552,
             "remaining_time": 9.385925611,
             "test": [
              0.01035158023
             ]
            },
            {
             "iteration": 902,
             "learn": [
              0.01067398932
             ],
             "passed_time": 86.49371646,
             "remaining_time": 9.291130118,
             "test": [
              0.01035128566
             ]
            },
            {
             "iteration": 903,
             "learn": [
              0.01067192615
             ],
             "passed_time": 86.56638038,
             "remaining_time": 9.192889952,
             "test": [
              0.01035141149
             ]
            },
            {
             "iteration": 904,
             "learn": [
              0.01066115228
             ],
             "passed_time": 86.68758606,
             "remaining_time": 9.099801852,
             "test": [
              0.01034466378
             ]
            },
            {
             "iteration": 905,
             "learn": [
              0.01065936599
             ],
             "passed_time": 86.80059162,
             "remaining_time": 9.005800897,
             "test": [
              0.01034328181
             ]
            },
            {
             "iteration": 906,
             "learn": [
              0.01065567013
             ],
             "passed_time": 86.93101838,
             "remaining_time": 8.913544332,
             "test": [
              0.0103406991
             ]
            },
            {
             "iteration": 907,
             "learn": [
              0.01065424471
             ],
             "passed_time": 87.02682065,
             "remaining_time": 8.817695485,
             "test": [
              0.01034097494
             ]
            },
            {
             "iteration": 908,
             "learn": [
              0.01065126388
             ],
             "passed_time": 87.11140446,
             "remaining_time": 8.720723659,
             "test": [
              0.01034022352
             ]
            },
            {
             "iteration": 909,
             "learn": [
              0.0106461784
             ],
             "passed_time": 87.22795359,
             "remaining_time": 8.626940465,
             "test": [
              0.01033895303
             ]
            },
            {
             "iteration": 910,
             "learn": [
              0.01064295795
             ],
             "passed_time": 87.32479864,
             "remaining_time": 8.531182304,
             "test": [
              0.01033941972
             ]
            },
            {
             "iteration": 911,
             "learn": [
              0.01063449366
             ],
             "passed_time": 87.41155342,
             "remaining_time": 8.434448137,
             "test": [
              0.01034002211
             ]
            },
            {
             "iteration": 912,
             "learn": [
              0.01063354673
             ],
             "passed_time": 87.51094978,
             "remaining_time": 8.33894045,
             "test": [
              0.01033859173
             ]
            },
            {
             "iteration": 913,
             "learn": [
              0.01062395318
             ],
             "passed_time": 87.61092772,
             "remaining_time": 8.243478976,
             "test": [
              0.01033324048
             ]
            },
            {
             "iteration": 914,
             "learn": [
              0.01061072173
             ],
             "passed_time": 87.70112533,
             "remaining_time": 8.147099074,
             "test": [
              0.01033303293
             ]
            },
            {
             "iteration": 915,
             "learn": [
              0.0106018172
             ],
             "passed_time": 87.80675849,
             "remaining_time": 8.052148159,
             "test": [
              0.01033221563
             ]
            },
            {
             "iteration": 916,
             "learn": [
              0.01059555208
             ],
             "passed_time": 87.91676264,
             "remaining_time": 7.957569574,
             "test": [
              0.01033235457
             ]
            },
            {
             "iteration": 917,
             "learn": [
              0.01059326302
             ],
             "passed_time": 88.01804492,
             "remaining_time": 7.862178305,
             "test": [
              0.01032988563
             ]
            },
            {
             "iteration": 918,
             "learn": [
              0.01059207289
             ],
             "passed_time": 88.11699974,
             "remaining_time": 7.766569074,
             "test": [
              0.01032935703
             ]
            },
            {
             "iteration": 919,
             "learn": [
              0.01059096901
             ],
             "passed_time": 88.2296007,
             "remaining_time": 7.672139191,
             "test": [
              0.01032816016
             ]
            },
            {
             "iteration": 920,
             "learn": [
              0.01057976739
             ],
             "passed_time": 88.33663242,
             "remaining_time": 7.577192141,
             "test": [
              0.01032522252
             ]
            },
            {
             "iteration": 921,
             "learn": [
              0.0105747255
             ],
             "passed_time": 88.41268908,
             "remaining_time": 7.479598425,
             "test": [
              0.01032414281
             ]
            },
            {
             "iteration": 922,
             "learn": [
              0.01057086004
             ],
             "passed_time": 88.5074492,
             "remaining_time": 7.383611689,
             "test": [
              0.01032239378
             ]
            },
            {
             "iteration": 923,
             "learn": [
              0.01056763675
             ],
             "passed_time": 88.60125991,
             "remaining_time": 7.287549516,
             "test": [
              0.01032117137
             ]
            },
            {
             "iteration": 924,
             "learn": [
              0.01056163409
             ],
             "passed_time": 88.70839467,
             "remaining_time": 7.192572541,
             "test": [
              0.01031010026
             ]
            },
            {
             "iteration": 925,
             "learn": [
              0.01055955731
             ],
             "passed_time": 88.81996124,
             "remaining_time": 7.097923468,
             "test": [
              0.01030853907
             ]
            },
            {
             "iteration": 926,
             "learn": [
              0.01055300698
             ],
             "passed_time": 88.92440308,
             "remaining_time": 7.002676834,
             "test": [
              0.01030831503
             ]
            },
            {
             "iteration": 927,
             "learn": [
              0.01054715785
             ],
             "passed_time": 88.99520483,
             "remaining_time": 6.904800375,
             "test": [
              0.01030975582
             ]
            },
            {
             "iteration": 928,
             "learn": [
              0.01054650086
             ],
             "passed_time": 89.08658822,
             "remaining_time": 6.808555181,
             "test": [
              0.01030990406
             ]
            },
            {
             "iteration": 929,
             "learn": [
              0.01054295202
             ],
             "passed_time": 89.20895534,
             "remaining_time": 6.714652553,
             "test": [
              0.01030838434
             ]
            },
            {
             "iteration": 930,
             "learn": [
              0.0105394535
             ],
             "passed_time": 89.31698655,
             "remaining_time": 6.619626285,
             "test": [
              0.01029839727
             ]
            },
            {
             "iteration": 931,
             "learn": [
              0.01053399531
             ],
             "passed_time": 89.42790652,
             "remaining_time": 6.524782879,
             "test": [
              0.01029448856
             ]
            },
            {
             "iteration": 932,
             "learn": [
              0.01052219604
             ],
             "passed_time": 89.53217634,
             "remaining_time": 6.429427454,
             "test": [
              0.01029739848
             ]
            },
            {
             "iteration": 933,
             "learn": [
              0.01052074527
             ],
             "passed_time": 89.61054144,
             "remaining_time": 6.332222414,
             "test": [
              0.01030083684
             ]
            },
            {
             "iteration": 934,
             "learn": [
              0.01051682368
             ],
             "passed_time": 89.70292881,
             "remaining_time": 6.236032484,
             "test": [
              0.01029888857
             ]
            },
            {
             "iteration": 935,
             "learn": [
              0.01051068462
             ],
             "passed_time": 89.79658118,
             "remaining_time": 6.139937175,
             "test": [
              0.01029619102
             ]
            },
            {
             "iteration": 936,
             "learn": [
              0.01050844606
             ],
             "passed_time": 89.93372838,
             "remaining_time": 6.046771492,
             "test": [
              0.01029520989
             ]
            },
            {
             "iteration": 937,
             "learn": [
              0.01050561764
             ],
             "passed_time": 90.05592974,
             "remaining_time": 5.95252414,
             "test": [
              0.01029244459
             ]
            },
            {
             "iteration": 938,
             "learn": [
              0.01050380522
             ],
             "passed_time": 90.15879381,
             "remaining_time": 5.856961046,
             "test": [
              0.01029102353
             ]
            },
            {
             "iteration": 939,
             "learn": [
              0.01050022799
             ],
             "passed_time": 90.28208165,
             "remaining_time": 5.762686063,
             "test": [
              0.01029104755
             ]
            },
            {
             "iteration": 940,
             "learn": [
              0.01049950757
             ],
             "passed_time": 90.38034439,
             "remaining_time": 5.66678036,
             "test": [
              0.01029092093
             ]
            },
            {
             "iteration": 941,
             "learn": [
              0.01049887464
             ],
             "passed_time": 90.49075958,
             "remaining_time": 5.571617893,
             "test": [
              0.01028987901
             ]
            },
            {
             "iteration": 942,
             "learn": [
              0.01049298547
             ],
             "passed_time": 90.58864398,
             "remaining_time": 5.475665649,
             "test": [
              0.01028146164
             ]
            },
            {
             "iteration": 943,
             "learn": [
              0.01048554694
             ],
             "passed_time": 90.69075197,
             "remaining_time": 5.379959862,
             "test": [
              0.0102828772
             ]
            },
            {
             "iteration": 944,
             "learn": [
              0.01048371761
             ],
             "passed_time": 90.76321611,
             "remaining_time": 5.282515223,
             "test": [
              0.01028059883
             ]
            },
            {
             "iteration": 945,
             "learn": [
              0.01048099639
             ],
             "passed_time": 90.85051994,
             "remaining_time": 5.185970483,
             "test": [
              0.01027831768
             ]
            },
            {
             "iteration": 946,
             "learn": [
              0.01047001728
             ],
             "passed_time": 90.94037812,
             "remaining_time": 5.089588216,
             "test": [
              0.01027864518
             ]
            },
            {
             "iteration": 947,
             "learn": [
              0.0104679367
             ],
             "passed_time": 91.02515406,
             "remaining_time": 4.99294094,
             "test": [
              0.01027682624
             ]
            },
            {
             "iteration": 948,
             "learn": [
              0.0104634542
             ],
             "passed_time": 91.11773745,
             "remaining_time": 4.896738261,
             "test": [
              0.01027363571
             ]
            },
            {
             "iteration": 949,
             "learn": [
              0.01045945528
             ],
             "passed_time": 91.2240246,
             "remaining_time": 4.801264453,
             "test": [
              0.01027121864
             ]
            },
            {
             "iteration": 950,
             "learn": [
              0.01045042033
             ],
             "passed_time": 91.352553,
             "remaining_time": 4.706913877,
             "test": [
              0.01026207351
             ]
            },
            {
             "iteration": 951,
             "learn": [
              0.01044583118
             ],
             "passed_time": 91.43964825,
             "remaining_time": 4.610402433,
             "test": [
              0.01025810524
             ]
            },
            {
             "iteration": 952,
             "learn": [
              0.01044497878
             ],
             "passed_time": 91.52361629,
             "remaining_time": 4.513756522,
             "test": [
              0.01025960656
             ]
            },
            {
             "iteration": 953,
             "learn": [
              0.01044452583
             ],
             "passed_time": 91.62056023,
             "remaining_time": 4.417762862,
             "test": [
              0.01026015866
             ]
            },
            {
             "iteration": 954,
             "learn": [
              0.01044152853
             ],
             "passed_time": 91.71126712,
             "remaining_time": 4.32147332,
             "test": [
              0.0102598833
             ]
            },
            {
             "iteration": 955,
             "learn": [
              0.01043612805
             ],
             "passed_time": 91.79562926,
             "remaining_time": 4.224903439,
             "test": [
              0.01025977861
             ]
            },
            {
             "iteration": 956,
             "learn": [
              0.01042774591
             ],
             "passed_time": 91.88132402,
             "remaining_time": 4.128418948,
             "test": [
              0.01024218977
             ]
            },
            {
             "iteration": 957,
             "learn": [
              0.0104243255
             ],
             "passed_time": 91.9707526,
             "remaining_time": 4.032120678,
             "test": [
              0.01023940849
             ]
            },
            {
             "iteration": 958,
             "learn": [
              0.01041956828
             ],
             "passed_time": 92.05808855,
             "remaining_time": 3.935747269,
             "test": [
              0.01023504545
             ]
            },
            {
             "iteration": 959,
             "learn": [
              0.01041702162
             ],
             "passed_time": 92.1455532,
             "remaining_time": 3.83939805,
             "test": [
              0.01023364416
             ]
            },
            {
             "iteration": 960,
             "learn": [
              0.01041252447
             ],
             "passed_time": 92.21722542,
             "remaining_time": 3.742426422,
             "test": [
              0.01023132568
             ]
            },
            {
             "iteration": 961,
             "learn": [
              0.01040534712
             ],
             "passed_time": 92.34453165,
             "remaining_time": 3.647704992,
             "test": [
              0.010228648
             ]
            },
            {
             "iteration": 962,
             "learn": [
              0.01039786702
             ],
             "passed_time": 92.4411443,
             "remaining_time": 3.551736593,
             "test": [
              0.01021677831
             ]
            },
            {
             "iteration": 963,
             "learn": [
              0.01039657345
             ],
             "passed_time": 92.53596725,
             "remaining_time": 3.455700022,
             "test": [
              0.0102162162
             ]
            },
            {
             "iteration": 964,
             "learn": [
              0.01039430294
             ],
             "passed_time": 92.63320136,
             "remaining_time": 3.359753417,
             "test": [
              0.010212397
             ]
            },
            {
             "iteration": 965,
             "learn": [
              0.01038195983
             ],
             "passed_time": 92.72810889,
             "remaining_time": 3.263722259,
             "test": [
              0.01020733655
             ]
            },
            {
             "iteration": 966,
             "learn": [
              0.01038088021
             ],
             "passed_time": 92.85019418,
             "remaining_time": 3.168620897,
             "test": [
              0.01020732321
             ]
            },
            {
             "iteration": 967,
             "learn": [
              0.01037315052
             ],
             "passed_time": 92.99952283,
             "remaining_time": 3.074364391,
             "test": [
              0.01019970849
             ]
            },
            {
             "iteration": 968,
             "learn": [
              0.01036836747
             ],
             "passed_time": 93.12895962,
             "remaining_time": 2.979357841,
             "test": [
              0.01019655095
             ]
            },
            {
             "iteration": 969,
             "learn": [
              0.01036682523
             ],
             "passed_time": 93.26805806,
             "remaining_time": 2.884579115,
             "test": [
              0.01019739836
             ]
            },
            {
             "iteration": 970,
             "learn": [
              0.01036587305
             ],
             "passed_time": 93.38446066,
             "remaining_time": 2.789031266,
             "test": [
              0.01019729082
             ]
            },
            {
             "iteration": 971,
             "learn": [
              0.01036570904
             ],
             "passed_time": 93.52912152,
             "remaining_time": 2.694254529,
             "test": [
              0.01019710834
             ]
            },
            {
             "iteration": 972,
             "learn": [
              0.0103593891
             ],
             "passed_time": 93.63928896,
             "remaining_time": 2.59841809,
             "test": [
              0.01019101807
             ]
            },
            {
             "iteration": 973,
             "learn": [
              0.01034792439
             ],
             "passed_time": 93.7922835,
             "remaining_time": 2.503695453,
             "test": [
              0.01018836015
             ]
            },
            {
             "iteration": 974,
             "learn": [
              0.01034690732
             ],
             "passed_time": 93.94421035,
             "remaining_time": 2.408825906,
             "test": [
              0.01018725924
             ]
            },
            {
             "iteration": 975,
             "learn": [
              0.01034465668
             ],
             "passed_time": 94.07665936,
             "remaining_time": 2.313360476,
             "test": [
              0.01018570121
             ]
            },
            {
             "iteration": 976,
             "learn": [
              0.0103438938
             ],
             "passed_time": 94.16358114,
             "remaining_time": 2.21674756,
             "test": [
              0.01018577028
             ]
            },
            {
             "iteration": 977,
             "learn": [
              0.01034140478
             ],
             "passed_time": 94.26079119,
             "remaining_time": 2.120385896,
             "test": [
              0.01018709189
             ]
            },
            {
             "iteration": 978,
             "learn": [
              0.01033492127
             ],
             "passed_time": 94.36416837,
             "remaining_time": 2.024154786,
             "test": [
              0.01018819048
             ]
            },
            {
             "iteration": 979,
             "learn": [
              0.01031691699
             ],
             "passed_time": 94.47679073,
             "remaining_time": 1.92809777,
             "test": [
              0.01017745337
             ]
            },
            {
             "iteration": 980,
             "learn": [
              0.01031621574
             ],
             "passed_time": 94.57338873,
             "remaining_time": 1.831696622,
             "test": [
              0.0101760327
             ]
            },
            {
             "iteration": 981,
             "learn": [
              0.0103135678
             ],
             "passed_time": 94.66617409,
             "remaining_time": 1.735225187,
             "test": [
              0.01017375485
             ]
            },
            {
             "iteration": 982,
             "learn": [
              0.01030404681
             ],
             "passed_time": 94.76455121,
             "remaining_time": 1.638857956,
             "test": [
              0.01017205003
             ]
            },
            {
             "iteration": 983,
             "learn": [
              0.01029254555
             ],
             "passed_time": 94.85313031,
             "remaining_time": 1.542327322,
             "test": [
              0.01016093604
             ]
            },
            {
             "iteration": 984,
             "learn": [
              0.0102841407
             ],
             "passed_time": 94.95967877,
             "remaining_time": 1.446086479,
             "test": [
              0.01015507694
             ]
            },
            {
             "iteration": 985,
             "learn": [
              0.01028296868
             ],
             "passed_time": 95.0441584,
             "remaining_time": 1.349511377,
             "test": [
              0.01015389578
             ]
            },
            {
             "iteration": 986,
             "learn": [
              0.01027896601
             ],
             "passed_time": 95.14172023,
             "remaining_time": 1.253133093,
             "test": [
              0.01015215635
             ]
            },
            {
             "iteration": 987,
             "learn": [
              0.01027765007
             ],
             "passed_time": 95.23297209,
             "remaining_time": 1.156675774,
             "test": [
              0.01015121374
             ]
            },
            {
             "iteration": 988,
             "learn": [
              0.01027585228
             ],
             "passed_time": 95.32576484,
             "remaining_time": 1.060246121,
             "test": [
              0.01014937533
             ]
            },
            {
             "iteration": 989,
             "learn": [
              0.0102751902
             ],
             "passed_time": 95.44842204,
             "remaining_time": 0.9641254751,
             "test": [
              0.01014852019
             ]
            },
            {
             "iteration": 990,
             "learn": [
              0.01027220029
             ],
             "passed_time": 95.52111854,
             "remaining_time": 0.8674975448,
             "test": [
              0.01014618659
             ]
            },
            {
             "iteration": 991,
             "learn": [
              0.010270285
             ],
             "passed_time": 95.60379307,
             "remaining_time": 0.7709983312,
             "test": [
              0.01014449203
             ]
            },
            {
             "iteration": 992,
             "learn": [
              0.01026688627
             ],
             "passed_time": 95.66959943,
             "remaining_time": 0.6744080523,
             "test": [
              0.01014314973
             ]
            },
            {
             "iteration": 993,
             "learn": [
              0.01026313102
             ],
             "passed_time": 95.74880038,
             "remaining_time": 0.5779605657,
             "test": [
              0.01014555278
             ]
            },
            {
             "iteration": 994,
             "learn": [
              0.01025877413
             ],
             "passed_time": 95.84474384,
             "remaining_time": 0.4816318786,
             "test": [
              0.0101425844
             ]
            },
            {
             "iteration": 995,
             "learn": [
              0.01025488824
             ],
             "passed_time": 95.9520373,
             "remaining_time": 0.3853495474,
             "test": [
              0.01013863352
             ]
            },
            {
             "iteration": 996,
             "learn": [
              0.0102546642
             ],
             "passed_time": 96.03526007,
             "remaining_time": 0.2889726983,
             "test": [
              0.01013878319
             ]
            },
            {
             "iteration": 997,
             "learn": [
              0.01025171187
             ],
             "passed_time": 96.09672558,
             "remaining_time": 0.1925786084,
             "test": [
              0.01013767514
             ]
            },
            {
             "iteration": 998,
             "learn": [
              0.01025001656
             ],
             "passed_time": 96.19444477,
             "remaining_time": 0.09629073551,
             "test": [
              0.01013770939
             ]
            },
            {
             "iteration": 999,
             "learn": [
              0.01024034663
             ],
             "passed_time": 96.30083474,
             "remaining_time": 0,
             "test": [
              0.0101384461
             ]
            }
           ],
           "meta": {
            "iteration_count": 1000,
            "launch_mode": "Train",
            "learn_metrics": [
             {
              "best_value": "Min",
              "name": "Logloss"
             }
            ],
            "learn_sets": [
             "learn"
            ],
            "name": "experiment",
            "parameters": "",
            "test_metrics": [
             {
              "best_value": "Min",
              "name": "Logloss"
             }
            ],
            "test_sets": [
             "test"
            ]
           }
          },
          "passed_iterations": 999,
          "total_iterations": 1000
         },
         "name": "catboost_info",
         "path": "catboost_info"
        }
       },
       "layout": "IPY_MODEL_1aed7fa57081414f9e371e5beec02f94"
      }
     }
    },
    "version_major": 2,
    "version_minor": 0
   }
  }
 },
 "nbformat": 4,
 "nbformat_minor": 5
}

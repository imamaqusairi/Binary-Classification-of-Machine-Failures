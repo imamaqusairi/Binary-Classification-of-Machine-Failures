{
 "cells": [
  {
   "cell_type": "code",
   "execution_count": 1,
   "id": "73ce6aff-f002-4a66-b5ea-ddbe1533e6f4",
   "metadata": {
    "tags": []
   },
   "outputs": [
    {
     "name": "stderr",
     "output_type": "stream",
     "text": [
      "ERROR: unknown command \"jupyter\"\n",
      "\n"
     ]
    }
   ],
   "source": [
    "!pip jupyter lab --version"
   ]
  }
 ],
 "metadata": {
  "kernelspec": {
   "display_name": "my_venv",
   "language": "python",
   "name": "my_venv"
  },
  "language_info": {
   "codemirror_mode": {
    "name": "ipython",
    "version": 3
   },
   "file_extension": ".py",
   "mimetype": "text/x-python",
   "name": "python",
   "nbconvert_exporter": "python",
   "pygments_lexer": "ipython3",
   "version": "3.9.13"
  }
 },
 "nbformat": 4,
 "nbformat_minor": 5
}
